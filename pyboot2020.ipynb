{
  "nbformat": 4,
  "nbformat_minor": 0,
  "metadata": {
    "colab": {
      "name": "pyboot2020.ipynb",
      "provenance": [],
      "authorship_tag": "ABX9TyNc/GXjRHA5DasRDIZEmdSv",
      "include_colab_link": true
    },
    "kernelspec": {
      "name": "python3",
      "display_name": "Python 3"
    }
  },
  "cells": [
    {
      "cell_type": "markdown",
      "metadata": {
        "id": "view-in-github",
        "colab_type": "text"
      },
      "source": [
        "<a href=\"https://colab.research.google.com/github/fedhere/PyBOOT/blob/master/pyboot2020.ipynb\" target=\"_parent\"><img src=\"https://colab.research.google.com/assets/colab-badge.svg\" alt=\"Open In Colab\"/></a>"
      ]
    },
    {
      "cell_type": "code",
      "metadata": {
        "id": "mTR4RkuV6otj",
        "colab_type": "code",
        "colab": {}
      },
      "source": [
        "# this statement assures compatibility between different vesions of python\n",
        "from __future__ import print_function, division"
      ],
      "execution_count": null,
      "outputs": []
    },
    {
      "cell_type": "markdown",
      "metadata": {
        "id": "K0EbLgMRMWl1",
        "colab_type": "text"
      },
      "source": [
        "# THIS NOTEBOOK  IS AVAILABLE HERE http://bit.ly/pyboot2020\n"
      ]
    },
    {
      "cell_type": "markdown",
      "metadata": {
        "id": "rQ3hAwhUqWHP",
        "colab_type": "text"
      },
      "source": [
        "# native python variables"
      ]
    },
    {
      "cell_type": "markdown",
      "metadata": {
        "id": "eTVENKs6qfiA",
        "colab_type": "text"
      },
      "source": [
        "strings"
      ]
    },
    {
      "cell_type": "code",
      "metadata": {
        "id": "vqhooLiB6mBb",
        "colab_type": "code",
        "colab": {
          "base_uri": "https://localhost:8080/",
          "height": 34
        },
        "outputId": "9b4b6e9e-c788-4ac0-bd8b-922a3c700cf6"
      },
      "source": [
        "print(\"Hallo\")"
      ],
      "execution_count": null,
      "outputs": [
        {
          "output_type": "stream",
          "text": [
            "Hallo\n"
          ],
          "name": "stdout"
        }
      ]
    },
    {
      "cell_type": "code",
      "metadata": {
        "id": "us33GDly9INH",
        "colab_type": "code",
        "colab": {}
      },
      "source": [
        "stringVariable = \"Hallo\""
      ],
      "execution_count": null,
      "outputs": []
    },
    {
      "cell_type": "code",
      "metadata": {
        "id": "MZP3wXmp-Az2",
        "colab_type": "code",
        "colab": {
          "base_uri": "https://localhost:8080/",
          "height": 34
        },
        "outputId": "1b96ff92-07fa-4fea-bd47-93229e639fd3"
      },
      "source": [
        "print(stringVariable)"
      ],
      "execution_count": null,
      "outputs": [
        {
          "output_type": "stream",
          "text": [
            "Hallo\n"
          ],
          "name": "stdout"
        }
      ]
    },
    {
      "cell_type": "code",
      "metadata": {
        "id": "zqEPKYgJ-D1S",
        "colab_type": "code",
        "colab": {
          "base_uri": "https://localhost:8080/",
          "height": 34
        },
        "outputId": "f4107b2d-b6e0-4cd0-daf1-daf786684343"
      },
      "source": [
        "type(stringVariable)"
      ],
      "execution_count": null,
      "outputs": [
        {
          "output_type": "execute_result",
          "data": {
            "text/plain": [
              "str"
            ]
          },
          "metadata": {
            "tags": []
          },
          "execution_count": 5
        }
      ]
    },
    {
      "cell_type": "markdown",
      "metadata": {
        "id": "Uj0m8bC-qj-i",
        "colab_type": "text"
      },
      "source": [
        "integers and floating points"
      ]
    },
    {
      "cell_type": "code",
      "metadata": {
        "id": "eDWVRRNp-InE",
        "colab_type": "code",
        "colab": {}
      },
      "source": [
        "intVariable = 3"
      ],
      "execution_count": null,
      "outputs": []
    },
    {
      "cell_type": "code",
      "metadata": {
        "id": "IdgIaWPI-NwO",
        "colab_type": "code",
        "colab": {
          "base_uri": "https://localhost:8080/",
          "height": 34
        },
        "outputId": "8ca53691-5cbd-41a5-9423-2c57c79dbb3d"
      },
      "source": [
        "type(intVariable)"
      ],
      "execution_count": null,
      "outputs": [
        {
          "output_type": "execute_result",
          "data": {
            "text/plain": [
              "int"
            ]
          },
          "metadata": {
            "tags": []
          },
          "execution_count": 7
        }
      ]
    },
    {
      "cell_type": "code",
      "metadata": {
        "id": "JlOPFNKy-Pg7",
        "colab_type": "code",
        "colab": {}
      },
      "source": [
        "floatVariable = 3."
      ],
      "execution_count": null,
      "outputs": []
    },
    {
      "cell_type": "markdown",
      "metadata": {
        "id": "L2xV2fQyqsYG",
        "colab_type": "text"
      },
      "source": [
        "combining numerical variables or different types returns variables of the most complex type (higher number of bites to store it): \n",
        "\n",
        "int+float -> float"
      ]
    },
    {
      "cell_type": "code",
      "metadata": {
        "id": "Hq6KoKnu-VMh",
        "colab_type": "code",
        "colab": {
          "base_uri": "https://localhost:8080/",
          "height": 34
        },
        "outputId": "5e9c2af8-117f-466c-ad09-df19c13a1da3"
      },
      "source": [
        "3. + 5."
      ],
      "execution_count": null,
      "outputs": [
        {
          "output_type": "execute_result",
          "data": {
            "text/plain": [
              "8.0"
            ]
          },
          "metadata": {
            "tags": []
          },
          "execution_count": 9
        }
      ]
    },
    {
      "cell_type": "code",
      "metadata": {
        "id": "IOV3LXqr-xJN",
        "colab_type": "code",
        "colab": {
          "base_uri": "https://localhost:8080/",
          "height": 34
        },
        "outputId": "7dcf5c5f-7e50-4932-9f5d-2c3962e67976"
      },
      "source": [
        "3. + 5"
      ],
      "execution_count": null,
      "outputs": [
        {
          "output_type": "execute_result",
          "data": {
            "text/plain": [
              "8.0"
            ]
          },
          "metadata": {
            "tags": []
          },
          "execution_count": 10
        }
      ]
    },
    {
      "cell_type": "code",
      "metadata": {
        "id": "oijS2U9M-3qN",
        "colab_type": "code",
        "colab": {
          "base_uri": "https://localhost:8080/",
          "height": 162
        },
        "outputId": "003b55e2-b431-48e9-ea82-343aca5a6b8f"
      },
      "source": [
        "floatVariable + stringVariable"
      ],
      "execution_count": null,
      "outputs": [
        {
          "output_type": "error",
          "ename": "TypeError",
          "evalue": "ignored",
          "traceback": [
            "\u001b[0;31m---------------------------------------------------------------------------\u001b[0m",
            "\u001b[0;31mTypeError\u001b[0m                                 Traceback (most recent call last)",
            "\u001b[0;32m<ipython-input-11-635ee46400bf>\u001b[0m in \u001b[0;36m<module>\u001b[0;34m()\u001b[0m\n\u001b[0;32m----> 1\u001b[0;31m \u001b[0mfloatVariable\u001b[0m \u001b[0;34m+\u001b[0m \u001b[0mstringVariable\u001b[0m\u001b[0;34m\u001b[0m\u001b[0;34m\u001b[0m\u001b[0m\n\u001b[0m",
            "\u001b[0;31mTypeError\u001b[0m: unsupported operand type(s) for +: 'float' and 'str'"
          ]
        }
      ]
    },
    {
      "cell_type": "markdown",
      "metadata": {
        "id": "Wxcp8W38rDf-",
        "colab_type": "text"
      },
      "source": [
        "the + operator concatenates strings"
      ]
    },
    {
      "cell_type": "code",
      "metadata": {
        "id": "pKJOqxxc--yG",
        "colab_type": "code",
        "colab": {}
      },
      "source": [
        "stringVariable + stringVariable"
      ],
      "execution_count": null,
      "outputs": []
    },
    {
      "cell_type": "code",
      "metadata": {
        "id": "m-TPlc6f_CwV",
        "colab_type": "code",
        "colab": {}
      },
      "source": [
        "stringVariable2 = 'class'"
      ],
      "execution_count": null,
      "outputs": []
    },
    {
      "cell_type": "code",
      "metadata": {
        "id": "fapQPKjK_Oou",
        "colab_type": "code",
        "colab": {}
      },
      "source": [
        "stringVariable + \" \" + stringVariable2"
      ],
      "execution_count": null,
      "outputs": []
    },
    {
      "cell_type": "markdown",
      "metadata": {
        "id": "KPZR2kxgrPCm",
        "colab_type": "text"
      },
      "source": [
        "numerical type variables can easilty be converted"
      ]
    },
    {
      "cell_type": "code",
      "metadata": {
        "id": "UWvKzv9W_hL4",
        "colab_type": "code",
        "colab": {}
      },
      "source": [
        "float(intVariable)"
      ],
      "execution_count": null,
      "outputs": []
    },
    {
      "cell_type": "code",
      "metadata": {
        "id": "V7Ih8PNG_qA-",
        "colab_type": "code",
        "colab": {
          "base_uri": "https://localhost:8080/",
          "height": 162
        },
        "outputId": "7722073b-6e18-43a6-9630-57595ed0fb6d"
      },
      "source": [
        "float(stringVariable)"
      ],
      "execution_count": null,
      "outputs": [
        {
          "output_type": "error",
          "ename": "ValueError",
          "evalue": "ignored",
          "traceback": [
            "\u001b[0;31m---------------------------------------------------------------------------\u001b[0m",
            "\u001b[0;31mValueError\u001b[0m                                Traceback (most recent call last)",
            "\u001b[0;32m<ipython-input-12-6dbc5a4c2718>\u001b[0m in \u001b[0;36m<module>\u001b[0;34m()\u001b[0m\n\u001b[0;32m----> 1\u001b[0;31m \u001b[0mfloat\u001b[0m\u001b[0;34m(\u001b[0m\u001b[0mstringVariable\u001b[0m\u001b[0;34m)\u001b[0m\u001b[0;34m\u001b[0m\u001b[0;34m\u001b[0m\u001b[0m\n\u001b[0m",
            "\u001b[0;31mValueError\u001b[0m: could not convert string to float: 'Hallo'"
          ]
        }
      ]
    },
    {
      "cell_type": "code",
      "metadata": {
        "id": "VkOo8ywB_zgh",
        "colab_type": "code",
        "colab": {}
      },
      "source": [
        "intVariable\n",
        "floatVariable"
      ],
      "execution_count": null,
      "outputs": []
    },
    {
      "cell_type": "code",
      "metadata": {
        "id": "SDgaU2Tn_6yf",
        "colab_type": "code",
        "colab": {
          "base_uri": "https://localhost:8080/",
          "height": 34
        },
        "outputId": "d2d068ea-6ac3-4bec-8479-90dd8f254b02"
      },
      "source": [
        "print(floatVariable)\n",
        "intVariable;"
      ],
      "execution_count": null,
      "outputs": [
        {
          "output_type": "stream",
          "text": [
            "3.0\n"
          ],
          "name": "stdout"
        }
      ]
    },
    {
      "cell_type": "markdown",
      "metadata": {
        "id": "AQ7NEnplrbKF",
        "colab_type": "text"
      },
      "source": [
        "there are different printing syntaxes : "
      ]
    },
    {
      "cell_type": "code",
      "metadata": {
        "id": "DVfs8ZCvAW1x",
        "colab_type": "code",
        "colab": {
          "base_uri": "https://localhost:8080/",
          "height": 34
        },
        "outputId": "537d5b55-7569-466b-f9ae-878ab9f1833c"
      },
      "source": [
        "#the \"%\" syntax includes variables in strings in the order in which the are passed\n",
        "# %s -> string\n",
        "# %d -> integer\n",
        "# %f -> float\n",
        "# %.2f -> float with 2 decimal points\n",
        "print('A string %.2f'%(floatVariable))"
      ],
      "execution_count": null,
      "outputs": [
        {
          "output_type": "stream",
          "text": [
            "A string 3.00\n"
          ],
          "name": "stdout"
        }
      ]
    },
    {
      "cell_type": "code",
      "metadata": {
        "id": "U87j2ZZLC3zX",
        "colab_type": "code",
        "colab": {
          "base_uri": "https://localhost:8080/",
          "height": 50
        },
        "outputId": "25287dfc-fa5b-484d-8804-4aa9225fe999"
      },
      "source": [
        "# \\n -> new line\n",
        "# \\t -> tab\n",
        "print(\"A string %.2f\\n 'this is a' %s\\t and this is a float %d\"%(intVariable, 'test', 3.9))"
      ],
      "execution_count": null,
      "outputs": [
        {
          "output_type": "stream",
          "text": [
            "A string 3.00\n",
            " 'this is a' test\t and this is a float 3\n"
          ],
          "name": "stdout"
        }
      ]
    },
    {
      "cell_type": "code",
      "metadata": {
        "id": "5wqCZfI_DUAs",
        "colab_type": "code",
        "colab": {
          "base_uri": "https://localhost:8080/",
          "height": 50
        },
        "outputId": "291a5a8a-d634-47f5-f67c-7c95888a2414"
      },
      "source": [
        "# the .format printing syntax allows one to define variables instde of the print statement. \n",
        "# useful if an argument needs to be repeated in the string (like 3.0 below)\n",
        "\n",
        "print('A float: {myfloat} \\nthis is a \"{mystr}\" and this is a {myfloat}'.format(\n",
        "    myfloat=3., mystr='hi'))"
      ],
      "execution_count": null,
      "outputs": [
        {
          "output_type": "stream",
          "text": [
            "A float: 3.0 \n",
            "this is a \"hi\" and this is a 3.0\n"
          ],
          "name": "stdout"
        }
      ]
    },
    {
      "cell_type": "code",
      "metadata": {
        "id": "9ewfNtLpEQOV",
        "colab_type": "code",
        "colab": {
          "base_uri": "https://localhost:8080/",
          "height": 50
        },
        "outputId": "8a6fe419-baa7-48f7-fb57-1d4ee9a3d069"
      },
      "source": [
        "print('A string {0:.2f} \\nthis is a {1:s} and this is a {0:#}'.format(3., 'hi'))"
      ],
      "execution_count": null,
      "outputs": [
        {
          "output_type": "stream",
          "text": [
            "A string 3.00 \n",
            "this is a hi and this is a 3.0\n"
          ],
          "name": "stdout"
        }
      ]
    },
    {
      "cell_type": "markdown",
      "metadata": {
        "id": "KjeadASCGzyF",
        "colab_type": "text"
      },
      "source": [
        "# now we talk about boolean types"
      ]
    },
    {
      "cell_type": "code",
      "metadata": {
        "id": "pdJ-Y2s7Gvl_",
        "colab_type": "code",
        "colab": {}
      },
      "source": [
        "boolVar = True"
      ],
      "execution_count": null,
      "outputs": []
    },
    {
      "cell_type": "code",
      "metadata": {
        "id": "5yvhqAzqHBYc",
        "colab_type": "code",
        "colab": {}
      },
      "source": [
        "otherboolVar = False"
      ],
      "execution_count": null,
      "outputs": []
    },
    {
      "cell_type": "code",
      "metadata": {
        "id": "KAu3OzrVHPmo",
        "colab_type": "code",
        "colab": {
          "base_uri": "https://localhost:8080/",
          "height": 34
        },
        "outputId": "bfb07506-bed0-4cea-de57-ce6187510aa7"
      },
      "source": [
        "type(boolVar)"
      ],
      "execution_count": null,
      "outputs": [
        {
          "output_type": "execute_result",
          "data": {
            "text/plain": [
              "bool"
            ]
          },
          "metadata": {
            "tags": []
          },
          "execution_count": 20
        }
      ]
    },
    {
      "cell_type": "code",
      "metadata": {
        "id": "6jAfV44mITyM",
        "colab_type": "code",
        "colab": {
          "base_uri": "https://localhost:8080/",
          "height": 34
        },
        "outputId": "b5693c29-fa39-4576-f613-f0d8b9ea6109"
      },
      "source": [
        "type(intVariable)"
      ],
      "execution_count": null,
      "outputs": [
        {
          "output_type": "execute_result",
          "data": {
            "text/plain": [
              "int"
            ]
          },
          "metadata": {
            "tags": []
          },
          "execution_count": 21
        }
      ]
    },
    {
      "cell_type": "code",
      "metadata": {
        "id": "wolyP3_tIe7w",
        "colab_type": "code",
        "colab": {
          "base_uri": "https://localhost:8080/",
          "height": 34
        },
        "outputId": "a2dd2996-c4f3-407c-86b2-a3530b03d5f4"
      },
      "source": [
        "type(stringVariable) == int"
      ],
      "execution_count": null,
      "outputs": [
        {
          "output_type": "execute_result",
          "data": {
            "text/plain": [
              "False"
            ]
          },
          "metadata": {
            "tags": []
          },
          "execution_count": 22
        }
      ]
    },
    {
      "cell_type": "markdown",
      "metadata": {
        "id": "Yjf1CLXdswXE",
        "colab_type": "text"
      },
      "source": [
        "# if statement:\n",
        "if True -> do something.\n",
        "\n",
        "the boundaries of if (or for, or while...) statements are determined by the indentation"
      ]
    },
    {
      "cell_type": "code",
      "metadata": {
        "id": "xyKS-XTKHT6k",
        "colab_type": "code",
        "colab": {
          "base_uri": "https://localhost:8080/",
          "height": 34
        },
        "outputId": "ba2e5b71-a48f-4d9f-b129-0c012a0952f6"
      },
      "source": [
        "if (type(intVariable) == int):\n",
        "  print(\"that was an int\")\n",
        "    \n"
      ],
      "execution_count": null,
      "outputs": [
        {
          "output_type": "stream",
          "text": [
            "that was an int\n"
          ],
          "name": "stdout"
        }
      ]
    },
    {
      "cell_type": "code",
      "metadata": {
        "id": "qubwpKTbtFrJ",
        "colab_type": "code",
        "colab": {}
      },
      "source": [
        "if (type(floatVariable) == int):\n",
        "  print(\"that was an int\")\n"
      ],
      "execution_count": null,
      "outputs": []
    },
    {
      "cell_type": "code",
      "metadata": {
        "id": "I5JOxPJZHqFH",
        "colab_type": "code",
        "colab": {
          "base_uri": "https://localhost:8080/",
          "height": 34
        },
        "outputId": "2fec9672-ea28-4342-edd2-7c2e9239600e"
      },
      "source": [
        "if (type(intVariable) != int):\n",
        "  print(\"that was not int\")\n",
        "else:\n",
        "  print(\"that was indeed an int\")\n",
        "    "
      ],
      "execution_count": null,
      "outputs": [
        {
          "output_type": "stream",
          "text": [
            "that was indeed an int\n"
          ],
          "name": "stdout"
        }
      ]
    },
    {
      "cell_type": "code",
      "metadata": {
        "id": "bUp55TNytKOq",
        "colab_type": "code",
        "colab": {
          "base_uri": "https://localhost:8080/",
          "height": 34
        },
        "outputId": "5a20141f-3c33-43e8-c1d8-874cbcb42b33"
      },
      "source": [
        "if (type(floatVariable) != int):\n",
        "  print(\"that was not int\")\n",
        "else:\n",
        "  print(\"that was indeed an int\")\n"
      ],
      "execution_count": null,
      "outputs": [
        {
          "output_type": "stream",
          "text": [
            "that was not int\n"
          ],
          "name": "stdout"
        }
      ]
    },
    {
      "cell_type": "code",
      "metadata": {
        "id": "r04Pze_2IsnE",
        "colab_type": "code",
        "colab": {
          "base_uri": "https://localhost:8080/",
          "height": 34
        },
        "outputId": "53b72c65-f94a-4630-d959-d27f58811978"
      },
      "source": [
        "if 0:\n",
        "  print(\"yes\")\n",
        "else: \n",
        "  print(\"no\")"
      ],
      "execution_count": null,
      "outputs": [
        {
          "output_type": "stream",
          "text": [
            "no\n"
          ],
          "name": "stdout"
        }
      ]
    },
    {
      "cell_type": "code",
      "metadata": {
        "id": "bjGziJwKOfy7",
        "colab_type": "code",
        "colab": {}
      },
      "source": [
        "# note: boolean logic allows us to combine bool variables"
      ],
      "execution_count": null,
      "outputs": []
    },
    {
      "cell_type": "code",
      "metadata": {
        "id": "KChOmshofbmJ",
        "colab_type": "code",
        "colab": {
          "base_uri": "https://localhost:8080/",
          "height": 34
        },
        "outputId": "88eb7970-86ae-41ce-efbf-805f4050d8c6"
      },
      "source": [
        "True and False"
      ],
      "execution_count": null,
      "outputs": [
        {
          "output_type": "execute_result",
          "data": {
            "text/plain": [
              "False"
            ]
          },
          "metadata": {
            "tags": []
          },
          "execution_count": 233
        }
      ]
    },
    {
      "cell_type": "markdown",
      "metadata": {
        "id": "nJpGxzz7Ltp3",
        "colab_type": "text"
      },
      "source": [
        "a bit more advanced... arrays of bools and how to \"slice\" them. more on this next time"
      ]
    },
    {
      "cell_type": "code",
      "metadata": {
        "id": "CSnXATYYKCKk",
        "colab_type": "code",
        "colab": {
          "base_uri": "https://localhost:8080/",
          "height": 34
        },
        "outputId": "51bdd8fe-7bea-4758-fb58-57fc1b3ef043"
      },
      "source": [
        "import numpy as np\n",
        "(np.array([19, 15, 29, 99]) > 18)\n"
      ],
      "execution_count": null,
      "outputs": [
        {
          "output_type": "execute_result",
          "data": {
            "text/plain": [
              "array([ True, False,  True,  True])"
            ]
          },
          "metadata": {
            "tags": []
          },
          "execution_count": 28
        }
      ]
    },
    {
      "cell_type": "code",
      "metadata": {
        "id": "XoRk2vs_l67Q",
        "colab_type": "code",
        "colab": {
          "base_uri": "https://localhost:8080/",
          "height": 34
        },
        "outputId": "5d390ab5-a4ab-49e0-db4f-b2f7d6873d09"
      },
      "source": [
        "type(np.array([19, 15, 29, 99]))"
      ],
      "execution_count": null,
      "outputs": [
        {
          "output_type": "execute_result",
          "data": {
            "text/plain": [
              "numpy.ndarray"
            ]
          },
          "metadata": {
            "tags": []
          },
          "execution_count": 29
        }
      ]
    },
    {
      "cell_type": "code",
      "metadata": {
        "id": "D4qLgjA2KN2L",
        "colab_type": "code",
        "colab": {
          "base_uri": "https://localhost:8080/",
          "height": 34
        },
        "outputId": "049020fe-aa41-468f-b124-51f55c25fbc4"
      },
      "source": [
        "(np.array([19, 15, 29, 99]) > 18).sum() / len(np.array([19, 15, 29, 99]) > 18)"
      ],
      "execution_count": null,
      "outputs": [
        {
          "output_type": "execute_result",
          "data": {
            "text/plain": [
              "0.75"
            ]
          },
          "metadata": {
            "tags": []
          },
          "execution_count": 30
        }
      ]
    },
    {
      "cell_type": "markdown",
      "metadata": {
        "id": "htHRXK7QL-GD",
        "colab_type": "text"
      },
      "source": [
        "# data containers: lists\n",
        "lists are very useful because. the can  contain data of different types, but   ver y slow computationally in py  thon"
      ]
    },
    {
      "cell_type": "code",
      "metadata": {
        "id": "f846P_6sK_H2",
        "colab_type": "code",
        "colab": {}
      },
      "source": [
        "myList = [3, 4, 5, 7]"
      ],
      "execution_count": null,
      "outputs": []
    },
    {
      "cell_type": "code",
      "metadata": {
        "id": "-bViT-XuPRnS",
        "colab_type": "code",
        "colab": {
          "base_uri": "https://localhost:8080/",
          "height": 34
        },
        "outputId": "b3486952-c1eb-4f96-a8ab-05caee66b880"
      },
      "source": [
        "myList"
      ],
      "execution_count": null,
      "outputs": [
        {
          "output_type": "execute_result",
          "data": {
            "text/plain": [
              "[3, 4, 5, 7]"
            ]
          },
          "metadata": {
            "tags": []
          },
          "execution_count": 32
        }
      ]
    },
    {
      "cell_type": "code",
      "metadata": {
        "id": "40hkUmi_PU07",
        "colab_type": "code",
        "colab": {
          "base_uri": "https://localhost:8080/",
          "height": 34
        },
        "outputId": "148acb96-f4e2-49d3-9852-0ec3c2bccdc2"
      },
      "source": [
        "type(myList)"
      ],
      "execution_count": null,
      "outputs": [
        {
          "output_type": "execute_result",
          "data": {
            "text/plain": [
              "list"
            ]
          },
          "metadata": {
            "tags": []
          },
          "execution_count": 33
        }
      ]
    },
    {
      "cell_type": "code",
      "metadata": {
        "id": "SPnAaW1bPWsC",
        "colab_type": "code",
        "colab": {}
      },
      "source": [
        "myList2 = [3, 4, 5, 7, 3.0, \"hallo\"]"
      ],
      "execution_count": null,
      "outputs": []
    },
    {
      "cell_type": "code",
      "metadata": {
        "id": "y1AI_kNTPeyQ",
        "colab_type": "code",
        "colab": {
          "base_uri": "https://localhost:8080/",
          "height": 34
        },
        "outputId": "2aaf5e88-f69d-41a5-fa98-d95f6430ed6d"
      },
      "source": [
        "myList2"
      ],
      "execution_count": null,
      "outputs": [
        {
          "output_type": "execute_result",
          "data": {
            "text/plain": [
              "[3, 4, 5, 7, 3.0, 'hallo']"
            ]
          },
          "metadata": {
            "tags": []
          },
          "execution_count": 35
        }
      ]
    },
    {
      "cell_type": "code",
      "metadata": {
        "id": "IP36V3o5Pf7B",
        "colab_type": "code",
        "colab": {
          "base_uri": "https://localhost:8080/",
          "height": 34
        },
        "outputId": "1ae8f6fc-62df-400d-8431-52b0edbcb7cd"
      },
      "source": [
        "myList + myList2"
      ],
      "execution_count": null,
      "outputs": [
        {
          "output_type": "execute_result",
          "data": {
            "text/plain": [
              "[3, 4, 5, 7, 3, 4, 5, 7, 3.0, 'hallo']"
            ]
          },
          "metadata": {
            "tags": []
          },
          "execution_count": 36
        }
      ]
    },
    {
      "cell_type": "code",
      "metadata": {
        "id": "iEDHjrD0QRhw",
        "colab_type": "code",
        "colab": {}
      },
      "source": [
        "myList.append(3)"
      ],
      "execution_count": null,
      "outputs": []
    },
    {
      "cell_type": "code",
      "metadata": {
        "id": "PikJfNvgQksF",
        "colab_type": "code",
        "colab": {
          "base_uri": "https://localhost:8080/",
          "height": 34
        },
        "outputId": "1a405b9d-c0e5-4573-dafb-5cc8376602c0"
      },
      "source": [
        "myList"
      ],
      "execution_count": null,
      "outputs": [
        {
          "output_type": "execute_result",
          "data": {
            "text/plain": [
              "[3, 4, 5, 7, 3]"
            ]
          },
          "metadata": {
            "tags": []
          },
          "execution_count": 38
        }
      ]
    },
    {
      "cell_type": "code",
      "metadata": {
        "id": "z1072YcAQr2Z",
        "colab_type": "code",
        "colab": {}
      },
      "source": [
        "myList.sort()"
      ],
      "execution_count": null,
      "outputs": []
    },
    {
      "cell_type": "code",
      "metadata": {
        "id": "MKjxz0GuRX1K",
        "colab_type": "code",
        "colab": {
          "base_uri": "https://localhost:8080/",
          "height": 34
        },
        "outputId": "12134df8-b94d-40a6-d002-c19940a3fe5b"
      },
      "source": [
        "myList"
      ],
      "execution_count": null,
      "outputs": [
        {
          "output_type": "execute_result",
          "data": {
            "text/plain": [
              "[3, 3, 4, 5, 7]"
            ]
          },
          "metadata": {
            "tags": []
          },
          "execution_count": 40
        }
      ]
    },
    {
      "cell_type": "code",
      "metadata": {
        "id": "C5bU1-XjRc0b",
        "colab_type": "code",
        "colab": {
          "base_uri": "https://localhost:8080/",
          "height": 34
        },
        "outputId": "f5fb85fb-ddb8-4558-ed58-14031328004c"
      },
      "source": [
        "myList.copy()"
      ],
      "execution_count": null,
      "outputs": [
        {
          "output_type": "execute_result",
          "data": {
            "text/plain": [
              "[3, 3, 4, 5, 7]"
            ]
          },
          "metadata": {
            "tags": []
          },
          "execution_count": 41
        }
      ]
    },
    {
      "cell_type": "code",
      "metadata": {
        "id": "MK6rr1j0RiiK",
        "colab_type": "code",
        "colab": {}
      },
      "source": [
        "myList.append([6,7,8,'hi'])"
      ],
      "execution_count": null,
      "outputs": []
    },
    {
      "cell_type": "code",
      "metadata": {
        "id": "lR439os9Rv41",
        "colab_type": "code",
        "colab": {
          "base_uri": "https://localhost:8080/",
          "height": 34
        },
        "outputId": "28a0e849-a917-4664-ab6a-b0d14e474533"
      },
      "source": [
        "myList"
      ],
      "execution_count": null,
      "outputs": [
        {
          "output_type": "execute_result",
          "data": {
            "text/plain": [
              "[3, 3, 4, 5, 7, [6, 7, 8, 'hi']]"
            ]
          },
          "metadata": {
            "tags": []
          },
          "execution_count": 43
        }
      ]
    },
    {
      "cell_type": "code",
      "metadata": {
        "id": "oGiyQ8pwSMKx",
        "colab_type": "code",
        "colab": {
          "base_uri": "https://localhost:8080/",
          "height": 34
        },
        "outputId": "2efa46ce-d4d9-42c8-dbb2-2dabb0c5d52d"
      },
      "source": [
        "for i in [3,4,5,6,7,8]:\n",
        "  myList.append(i)\n",
        "myList"
      ],
      "execution_count": null,
      "outputs": [
        {
          "output_type": "execute_result",
          "data": {
            "text/plain": [
              "[3, 3, 4, 5, 7, [6, 7, 8, 'hi'], 3, 4, 5, 6, 7, 8]"
            ]
          },
          "metadata": {
            "tags": []
          },
          "execution_count": 44
        }
      ]
    },
    {
      "cell_type": "code",
      "metadata": {
        "id": "6OG921L_ShER",
        "colab_type": "code",
        "colab": {
          "base_uri": "https://localhost:8080/",
          "height": 118
        },
        "outputId": "0d8e73ee-516c-4b1f-951d-d57f04981ae6"
      },
      "source": [
        "for i in np.array([3,4,5,6,7,8]):\n",
        "  print(i)\n"
      ],
      "execution_count": null,
      "outputs": [
        {
          "output_type": "stream",
          "text": [
            "3\n",
            "4\n",
            "5\n",
            "6\n",
            "7\n",
            "8\n"
          ],
          "name": "stdout"
        }
      ]
    },
    {
      "cell_type": "code",
      "metadata": {
        "id": "5jBnFPd4TBkJ",
        "colab_type": "code",
        "colab": {
          "base_uri": "https://localhost:8080/",
          "height": 185
        },
        "outputId": "8ab7186f-53be-4725-b172-5a5803eb00b2"
      },
      "source": [
        "for i in range(10):\n",
        "  print(\"hallo\", i)"
      ],
      "execution_count": null,
      "outputs": [
        {
          "output_type": "stream",
          "text": [
            "hallo 0\n",
            "hallo 1\n",
            "hallo 2\n",
            "hallo 3\n",
            "hallo 4\n",
            "hallo 5\n",
            "hallo 6\n",
            "hallo 7\n",
            "hallo 8\n",
            "hallo 9\n"
          ],
          "name": "stdout"
        }
      ]
    },
    {
      "cell_type": "code",
      "metadata": {
        "id": "hUtZGMMlTPdx",
        "colab_type": "code",
        "colab": {
          "base_uri": "https://localhost:8080/",
          "height": 34
        },
        "outputId": "21405a59-e2d9-4713-d73a-f87edc0a2c22"
      },
      "source": [
        "list(range(10))"
      ],
      "execution_count": null,
      "outputs": [
        {
          "output_type": "execute_result",
          "data": {
            "text/plain": [
              "[0, 1, 2, 3, 4, 5, 6, 7, 8, 9]"
            ]
          },
          "metadata": {
            "tags": []
          },
          "execution_count": 47
        }
      ]
    },
    {
      "cell_type": "code",
      "metadata": {
        "id": "0Dqi1w3-TT1r",
        "colab_type": "code",
        "colab": {
          "base_uri": "https://localhost:8080/",
          "height": 34
        },
        "outputId": "e52fb5b4-e87e-498d-f382-d124d8e8e265"
      },
      "source": [
        "myList2"
      ],
      "execution_count": null,
      "outputs": [
        {
          "output_type": "execute_result",
          "data": {
            "text/plain": [
              "[3, 4, 5, 7, 3.0, 'hallo']"
            ]
          },
          "metadata": {
            "tags": []
          },
          "execution_count": 48
        }
      ]
    },
    {
      "cell_type": "markdown",
      "metadata": {
        "id": "fe1RperIMhds",
        "colab_type": "text"
      },
      "source": [
        "selecting elements of a list - works w numpy arrays and pandas series too!"
      ]
    },
    {
      "cell_type": "code",
      "metadata": {
        "id": "E0gMejQnTgxK",
        "colab_type": "code",
        "colab": {
          "base_uri": "https://localhost:8080/",
          "height": 34
        },
        "outputId": "5a3e1af8-8a19-488e-ba6c-7ae0ae0485dd"
      },
      "source": [
        "myList2[2]"
      ],
      "execution_count": null,
      "outputs": [
        {
          "output_type": "execute_result",
          "data": {
            "text/plain": [
              "5"
            ]
          },
          "metadata": {
            "tags": []
          },
          "execution_count": 49
        }
      ]
    },
    {
      "cell_type": "code",
      "metadata": {
        "id": "mB3iyAPFTtU-",
        "colab_type": "code",
        "colab": {
          "base_uri": "https://localhost:8080/",
          "height": 34
        },
        "outputId": "e28deb65-09fc-41ec-bfdf-0e4b1b11497a"
      },
      "source": [
        "myList2[2:5]"
      ],
      "execution_count": null,
      "outputs": [
        {
          "output_type": "execute_result",
          "data": {
            "text/plain": [
              "[5, 7, 3.0]"
            ]
          },
          "metadata": {
            "tags": []
          },
          "execution_count": 50
        }
      ]
    },
    {
      "cell_type": "code",
      "metadata": {
        "id": "_Pn7OjMeT0s0",
        "colab_type": "code",
        "colab": {
          "base_uri": "https://localhost:8080/",
          "height": 35
        },
        "outputId": "d0418f2c-07c8-45bb-8815-e1f995827fe1"
      },
      "source": [
        "myList2[5]"
      ],
      "execution_count": null,
      "outputs": [
        {
          "output_type": "execute_result",
          "data": {
            "application/vnd.google.colaboratory.intrinsic+json": {
              "type": "string"
            },
            "text/plain": [
              "'hallo'"
            ]
          },
          "metadata": {
            "tags": []
          },
          "execution_count": 51
        }
      ]
    },
    {
      "cell_type": "code",
      "metadata": {
        "id": "fU69Uf4DUGGW",
        "colab_type": "code",
        "colab": {
          "base_uri": "https://localhost:8080/",
          "height": 34
        },
        "outputId": "67978043-bfe3-433d-efea-71bdf31870a9"
      },
      "source": [
        "myList2[1:3]"
      ],
      "execution_count": null,
      "outputs": [
        {
          "output_type": "execute_result",
          "data": {
            "text/plain": [
              "[4, 5]"
            ]
          },
          "metadata": {
            "tags": []
          },
          "execution_count": 178
        }
      ]
    },
    {
      "cell_type": "code",
      "metadata": {
        "id": "2lgYUAFKUXlB",
        "colab_type": "code",
        "colab": {
          "base_uri": "https://localhost:8080/",
          "height": 162
        },
        "outputId": "2eb594b2-6fe4-4d80-9c47-a52f0c956445"
      },
      "source": [
        "myList2[6]"
      ],
      "execution_count": null,
      "outputs": [
        {
          "output_type": "error",
          "ename": "IndexError",
          "evalue": "ignored",
          "traceback": [
            "\u001b[0;31m---------------------------------------------------------------------------\u001b[0m",
            "\u001b[0;31mIndexError\u001b[0m                                Traceback (most recent call last)",
            "\u001b[0;32m<ipython-input-179-191277b5ac0f>\u001b[0m in \u001b[0;36m<module>\u001b[0;34m()\u001b[0m\n\u001b[0;32m----> 1\u001b[0;31m \u001b[0mmyList2\u001b[0m\u001b[0;34m[\u001b[0m\u001b[0;36m6\u001b[0m\u001b[0;34m]\u001b[0m\u001b[0;34m\u001b[0m\u001b[0;34m\u001b[0m\u001b[0m\n\u001b[0m",
            "\u001b[0;31mIndexError\u001b[0m: list index out of range"
          ]
        }
      ]
    },
    {
      "cell_type": "code",
      "metadata": {
        "id": "31hgio8aU4ks",
        "colab_type": "code",
        "colab": {
          "base_uri": "https://localhost:8080/",
          "height": 34
        },
        "outputId": "4896b44a-11b4-4381-99de-54803480b571"
      },
      "source": [
        "len(myList2)"
      ],
      "execution_count": null,
      "outputs": [
        {
          "output_type": "execute_result",
          "data": {
            "text/plain": [
              "6"
            ]
          },
          "metadata": {
            "tags": []
          },
          "execution_count": 180
        }
      ]
    },
    {
      "cell_type": "code",
      "metadata": {
        "id": "zkD_51pYU7nj",
        "colab_type": "code",
        "colab": {
          "base_uri": "https://localhost:8080/",
          "height": 34
        },
        "outputId": "ce1247a3-9ba3-425e-dbf3-59e5c9ad17fa"
      },
      "source": [
        "myList2\n"
      ],
      "execution_count": null,
      "outputs": [
        {
          "output_type": "execute_result",
          "data": {
            "text/plain": [
              "[3, 4, 5, 7, 3.0, 'hallo']"
            ]
          },
          "metadata": {
            "tags": []
          },
          "execution_count": 182
        }
      ]
    },
    {
      "cell_type": "code",
      "metadata": {
        "id": "2Do_78vtVCe1",
        "colab_type": "code",
        "colab": {
          "base_uri": "https://localhost:8080/",
          "height": 35
        },
        "outputId": "8eb8c4a2-7c29-4093-c202-9b36e9c2cfbf"
      },
      "source": [
        "myList2[-1]"
      ],
      "execution_count": null,
      "outputs": [
        {
          "output_type": "execute_result",
          "data": {
            "application/vnd.google.colaboratory.intrinsic+json": {
              "type": "string"
            },
            "text/plain": [
              "'hallo'"
            ]
          },
          "metadata": {
            "tags": []
          },
          "execution_count": 183
        }
      ]
    },
    {
      "cell_type": "code",
      "metadata": {
        "id": "sYj5cbMsVO3a",
        "colab_type": "code",
        "colab": {
          "base_uri": "https://localhost:8080/",
          "height": 34
        },
        "outputId": "4d58b65d-d17a-4ca5-96e9-78fa75c7e236"
      },
      "source": [
        "myList2[-2:]"
      ],
      "execution_count": null,
      "outputs": [
        {
          "output_type": "execute_result",
          "data": {
            "text/plain": [
              "[3.0, 'hallo']"
            ]
          },
          "metadata": {
            "tags": []
          },
          "execution_count": 184
        }
      ]
    },
    {
      "cell_type": "code",
      "metadata": {
        "id": "f446m-Y2VbQ5",
        "colab_type": "code",
        "colab": {}
      },
      "source": [
        ""
      ],
      "execution_count": null,
      "outputs": []
    },
    {
      "cell_type": "markdown",
      "metadata": {
        "id": "J-ZQnpDXVbqO",
        "colab_type": "text"
      },
      "source": [
        "#exercise!"
      ]
    },
    {
      "cell_type": "markdown",
      "metadata": {
        "id": "xQSIE-4AVecV",
        "colab_type": "text"
      },
      "source": [
        "extract element of myList in reverse, from the last one... to the first one EXCLUDED!"
      ]
    },
    {
      "cell_type": "code",
      "metadata": {
        "id": "ZVVeX-uoVTu0",
        "colab_type": "code",
        "colab": {
          "base_uri": "https://localhost:8080/",
          "height": 34
        },
        "outputId": "9133dba3-9b97-4b28-f356-5cb206af8eb9"
      },
      "source": [
        "#extract all but the first element\n",
        "myList2[1:]"
      ],
      "execution_count": null,
      "outputs": [
        {
          "output_type": "execute_result",
          "data": {
            "text/plain": [
              "[4, 5, 7, 3.0, 'hallo']"
            ]
          },
          "metadata": {
            "tags": []
          },
          "execution_count": 185
        }
      ]
    },
    {
      "cell_type": "code",
      "metadata": {
        "id": "TCHL7kIuNP87",
        "colab_type": "code",
        "colab": {
          "base_uri": "https://localhost:8080/",
          "height": 34
        },
        "outputId": "7645db26-f416-4263-fd65-9ec8c3f5930b"
      },
      "source": [
        "#extract all elements in reverse \n",
        "myList2[-1::-1]"
      ],
      "execution_count": null,
      "outputs": [
        {
          "output_type": "execute_result",
          "data": {
            "text/plain": [
              "['hallo', 3.0, 7, 5, 4, 3]"
            ]
          },
          "metadata": {
            "tags": []
          },
          "execution_count": 52
        }
      ]
    },
    {
      "cell_type": "code",
      "metadata": {
        "id": "4zIx_FQOWs_H",
        "colab_type": "code",
        "colab": {
          "base_uri": "https://localhost:8080/",
          "height": 34
        },
        "outputId": "7ff7dd76-afb4-428f-a65b-2c624625bddc"
      },
      "source": [
        "#extract all elements in reverse excluding the first one\n",
        "myList2[-1:0:-1]"
      ],
      "execution_count": null,
      "outputs": [
        {
          "output_type": "execute_result",
          "data": {
            "text/plain": [
              "['hallo', 3.0, 7, 5, 4]"
            ]
          },
          "metadata": {
            "tags": []
          },
          "execution_count": 190
        }
      ]
    },
    {
      "cell_type": "code",
      "metadata": {
        "id": "IlafafE-XKvJ",
        "colab_type": "code",
        "colab": {
          "base_uri": "https://localhost:8080/",
          "height": 35
        },
        "outputId": "4f22dfd5-fb61-491d-83a6-c49a75e37523"
      },
      "source": [
        "# works w lists too by the way\n",
        "stringVariable[1:]"
      ],
      "execution_count": null,
      "outputs": [
        {
          "output_type": "execute_result",
          "data": {
            "application/vnd.google.colaboratory.intrinsic+json": {
              "type": "string"
            },
            "text/plain": [
              "'allo'"
            ]
          },
          "metadata": {
            "tags": []
          },
          "execution_count": 193
        }
      ]
    },
    {
      "cell_type": "code",
      "metadata": {
        "id": "rtHfW1-OXQOW",
        "colab_type": "code",
        "colab": {
          "base_uri": "https://localhost:8080/",
          "height": 35
        },
        "outputId": "b4ca3fbb-2f77-4d7a-e5e4-0d5219d48768"
      },
      "source": [
        "stringVariable[-1:0:-1]"
      ],
      "execution_count": null,
      "outputs": [
        {
          "output_type": "execute_result",
          "data": {
            "application/vnd.google.colaboratory.intrinsic+json": {
              "type": "string"
            },
            "text/plain": [
              "'olla'"
            ]
          },
          "metadata": {
            "tags": []
          },
          "execution_count": 194
        }
      ]
    },
    {
      "cell_type": "markdown",
      "metadata": {
        "id": "EzHiWABcXlIL",
        "colab_type": "text"
      },
      "source": [
        "# Exercise\n",
        "\n",
        "verify if 'hannah' is a palyndrom"
      ]
    },
    {
      "cell_type": "code",
      "metadata": {
        "id": "fN9xhJKTXts3",
        "colab_type": "code",
        "colab": {}
      },
      "source": [
        "theword = 'hannah'"
      ],
      "execution_count": null,
      "outputs": []
    },
    {
      "cell_type": "code",
      "metadata": {
        "id": "zBRCLiTiZ8x5",
        "colab_type": "code",
        "colab": {
          "base_uri": "https://localhost:8080/",
          "height": 35
        },
        "outputId": "0af187ae-1785-4a0d-c41c-879898a8ecc0"
      },
      "source": [
        "theword[0::1]"
      ],
      "execution_count": null,
      "outputs": [
        {
          "output_type": "execute_result",
          "data": {
            "application/vnd.google.colaboratory.intrinsic+json": {
              "type": "string"
            },
            "text/plain": [
              "'hannah'"
            ]
          },
          "metadata": {
            "tags": []
          },
          "execution_count": 198
        }
      ]
    },
    {
      "cell_type": "code",
      "metadata": {
        "id": "kF1c0OZVZ_pK",
        "colab_type": "code",
        "colab": {
          "base_uri": "https://localhost:8080/",
          "height": 35
        },
        "outputId": "b2382ac0-5639-4688-bc79-fdb03cb976eb"
      },
      "source": [
        "#this is the string in reverse\n",
        "theword[-1::-1]"
      ],
      "execution_count": null,
      "outputs": [
        {
          "output_type": "execute_result",
          "data": {
            "application/vnd.google.colaboratory.intrinsic+json": {
              "type": "string"
            },
            "text/plain": [
              "'hannah'"
            ]
          },
          "metadata": {
            "tags": []
          },
          "execution_count": 197
        }
      ]
    },
    {
      "cell_type": "code",
      "metadata": {
        "id": "m3CrqAqCaCCj",
        "colab_type": "code",
        "colab": {
          "base_uri": "https://localhost:8080/",
          "height": 34
        },
        "outputId": "1bd5349a-bcc6-45c6-d344-88f91e962ef9"
      },
      "source": [
        "theword[0::1] == theword[-1::-1]"
      ],
      "execution_count": null,
      "outputs": [
        {
          "output_type": "execute_result",
          "data": {
            "text/plain": [
              "True"
            ]
          },
          "metadata": {
            "tags": []
          },
          "execution_count": 199
        }
      ]
    },
    {
      "cell_type": "code",
      "metadata": {
        "id": "44S6NUZyaJPT",
        "colab_type": "code",
        "colab": {
          "base_uri": "https://localhost:8080/",
          "height": 34
        },
        "outputId": "7705cfae-8492-4003-9aca-26e124bace7f"
      },
      "source": [
        "'hanna'[0::1] == 'hanna'[1::-1]"
      ],
      "execution_count": null,
      "outputs": [
        {
          "output_type": "execute_result",
          "data": {
            "text/plain": [
              "False"
            ]
          },
          "metadata": {
            "tags": []
          },
          "execution_count": 200
        }
      ]
    },
    {
      "cell_type": "code",
      "metadata": {
        "id": "CPvEHanFbC61",
        "colab_type": "code",
        "colab": {
          "base_uri": "https://localhost:8080/",
          "height": 34
        },
        "outputId": "43457590-d450-4ae2-d703-5ae51ff8fe4c"
      },
      "source": [
        "type(theword)"
      ],
      "execution_count": null,
      "outputs": [
        {
          "output_type": "execute_result",
          "data": {
            "text/plain": [
              "str"
            ]
          },
          "metadata": {
            "tags": []
          },
          "execution_count": 201
        }
      ]
    },
    {
      "cell_type": "code",
      "metadata": {
        "id": "0YRj1HdhaQ9Z",
        "colab_type": "code",
        "colab": {}
      },
      "source": [
        "# a function to do that\n",
        "# note the function \"docstring\"\n",
        "def ispal(astring, verbose=False):\n",
        "  '''checks if is a string a palindrom\n",
        "  input:\n",
        "    astring: a str object\n",
        "  output:\n",
        "    bool variable: True if astring is palindrome, \n",
        "                   False otherwise\n",
        "  '''\n",
        "  # added an optional statement to show the argument passed\n",
        "  if verbose:\n",
        "    print(astring)\n",
        "  # added a statement to check that the argument is the right type\n",
        "  # without this the code would return an error if something other than a string is passed\n",
        "  if not type(astring) == str:\n",
        "    print(\"this function only accepts strings as arguments.\" +\n",
        "    \"check the docstring!\")\n",
        "    return \n",
        "  # here is where the code answers the question is the string is a palindrme\n",
        "  return astring[0::1] == astring[-1::-1]\n",
        "    "
      ],
      "execution_count": null,
      "outputs": []
    },
    {
      "cell_type": "code",
      "metadata": {
        "id": "IvSkc66Db4Of",
        "colab_type": "code",
        "colab": {
          "base_uri": "https://localhost:8080/",
          "height": 34
        },
        "outputId": "bb144881-fbd5-4f16-ac68-f54a0abe80d2"
      },
      "source": [
        "# calling the function with the correct argument type, \n",
        "# and with the argument being a palindrome\n",
        "ispal(theword)"
      ],
      "execution_count": null,
      "outputs": [
        {
          "output_type": "execute_result",
          "data": {
            "text/plain": [
              "True"
            ]
          },
          "metadata": {
            "tags": []
          },
          "execution_count": 224
        }
      ]
    },
    {
      "cell_type": "code",
      "metadata": {
        "id": "bW_n_bDvbucw",
        "colab_type": "code",
        "colab": {
          "base_uri": "https://localhost:8080/",
          "height": 50
        },
        "outputId": "d17271e8-9068-4c1f-88fd-f6ed937fd24c"
      },
      "source": [
        "# calling the function with the wrong argument\n",
        "ispal(3, verbose=True)"
      ],
      "execution_count": null,
      "outputs": [
        {
          "output_type": "stream",
          "text": [
            "3\n",
            "this function only accepts strings as arguments.check the docstring!\n"
          ],
          "name": "stdout"
        }
      ]
    },
    {
      "cell_type": "code",
      "metadata": {
        "id": "gcwFslHwbyon",
        "colab_type": "code",
        "colab": {}
      },
      "source": [
        "# showing the function docstring that we wrote\n",
        "ispal?"
      ],
      "execution_count": null,
      "outputs": []
    },
    {
      "cell_type": "code",
      "metadata": {
        "id": "LH89zWCNfAlH",
        "colab_type": "code",
        "colab": {
          "base_uri": "https://localhost:8080/",
          "height": 34
        },
        "outputId": "074de592-a8a0-4fba-9a56-1992d4c999b6"
      },
      "source": [
        "# calling the function with the correct argument type, \n",
        "# but with the argument not a palindrome\n",
        "ispal('something')"
      ],
      "execution_count": null,
      "outputs": [
        {
          "output_type": "execute_result",
          "data": {
            "text/plain": [
              "False"
            ]
          },
          "metadata": {
            "tags": []
          },
          "execution_count": 225
        }
      ]
    },
    {
      "cell_type": "markdown",
      "metadata": {
        "id": "RKdwgsRPOYwe",
        "colab_type": "text"
      },
      "source": [
        "running the funtion in a loop (a while loop)"
      ]
    },
    {
      "cell_type": "code",
      "metadata": {
        "id": "TxWXyB4HfCdn",
        "colab_type": "code",
        "colab": {
          "base_uri": "https://localhost:8080/",
          "height": 34
        },
        "outputId": "cac30e36-2265-48f9-8808-8143f317c77c"
      },
      "source": [
        "myList"
      ],
      "execution_count": null,
      "outputs": [
        {
          "output_type": "execute_result",
          "data": {
            "text/plain": [
              "[3, 3, 4, 5, 7, [6, 7, 8, 'hi'], 3, 3, 3, 3, 3, 3, 3, 4, 5, 6, 7, 8]"
            ]
          },
          "metadata": {
            "tags": []
          },
          "execution_count": 226
        }
      ]
    },
    {
      "cell_type": "code",
      "metadata": {
        "id": "uikXRV87fl3V",
        "colab_type": "code",
        "colab": {
          "base_uri": "https://localhost:8080/",
          "height": 34
        },
        "outputId": "5e7c0189-5f68-4f58-fbf6-732c4cc30787"
      },
      "source": [
        "not ispal(theword)"
      ],
      "execution_count": null,
      "outputs": [
        {
          "output_type": "execute_result",
          "data": {
            "text/plain": [
              "False"
            ]
          },
          "metadata": {
            "tags": []
          },
          "execution_count": 229
        }
      ]
    },
    {
      "cell_type": "code",
      "metadata": {
        "id": "zoJq_QG5heLR",
        "colab_type": "code",
        "colab": {
          "base_uri": "https://localhost:8080/",
          "height": 34
        },
        "outputId": "9095e90d-ab75-4414-ffe2-0298260458a0"
      },
      "source": [
        "myList2.append('hannah')\n",
        "myList2.append('hallo')\n",
        "myList2"
      ],
      "execution_count": null,
      "outputs": [
        {
          "output_type": "execute_result",
          "data": {
            "text/plain": [
              "[3, 4, 5, 7, 3.0, 'hallo', 'hannah', 'hallo']"
            ]
          },
          "metadata": {
            "tags": []
          },
          "execution_count": 241
        }
      ]
    },
    {
      "cell_type": "code",
      "metadata": {
        "id": "xzxAn7YcfOOE",
        "colab_type": "code",
        "colab": {
          "base_uri": "https://localhost:8080/",
          "height": 218
        },
        "outputId": "8c4cb0fe-6ab0-4f92-9f9b-733b0e16f26e"
      },
      "source": [
        "i = 0\n",
        "while not ispal(myList2[i], verbose=True) and i < len(myList2)-1:\n",
        "  i+=1"
      ],
      "execution_count": null,
      "outputs": [
        {
          "output_type": "stream",
          "text": [
            "3\n",
            "this function only accepts strings as arguments.check the docstring!\n",
            "4\n",
            "this function only accepts strings as arguments.check the docstring!\n",
            "5\n",
            "this function only accepts strings as arguments.check the docstring!\n",
            "7\n",
            "this function only accepts strings as arguments.check the docstring!\n",
            "3.0\n",
            "this function only accepts strings as arguments.check the docstring!\n",
            "hallo\n",
            "hannah\n"
          ],
          "name": "stdout"
        }
      ]
    },
    {
      "cell_type": "markdown",
      "metadata": {
        "id": "NRC0k8MzO2Cf",
        "colab_type": "text"
      },
      "source": [
        "# Exercises with a python package that adds to the native python environment."
      ]
    },
    {
      "cell_type": "code",
      "metadata": {
        "id": "f_2d0hfFgO1I",
        "colab_type": "code",
        "colab": {}
      },
      "source": [
        "import pandas as pd"
      ],
      "execution_count": null,
      "outputs": []
    },
    {
      "cell_type": "markdown",
      "metadata": {
        "id": "n1AqT6zaO_Q-",
        "colab_type": "text"
      },
      "source": [
        "reading in data from a url with pandas. we can also read in local files with the same syntax"
      ]
    },
    {
      "cell_type": "code",
      "metadata": {
        "id": "LqFtFz2-mXG5",
        "colab_type": "code",
        "colab": {}
      },
      "source": [
        "pd.read_csv?"
      ],
      "execution_count": null,
      "outputs": []
    },
    {
      "cell_type": "code",
      "metadata": {
        "id": "EYOYK2SRjYBl",
        "colab_type": "code",
        "colab": {}
      },
      "source": [
        "arrests = pd.read_csv(\"https://media.githubusercontent.com/media/phillydao/phillydao-public-data/master/docs/data/arrest_data_daily_by_zip.csv\")"
      ],
      "execution_count": null,
      "outputs": []
    },
    {
      "cell_type": "code",
      "metadata": {
        "id": "3YBjXQDNj00i",
        "colab_type": "code",
        "colab": {
          "base_uri": "https://localhost:8080/",
          "height": 34
        },
        "outputId": "c99c0110-abe4-4452-950e-82f6467352f3"
      },
      "source": [
        "type(intVariable)"
      ],
      "execution_count": null,
      "outputs": [
        {
          "output_type": "execute_result",
          "data": {
            "text/plain": [
              "int"
            ]
          },
          "metadata": {
            "tags": []
          },
          "execution_count": 258
        }
      ]
    },
    {
      "cell_type": "code",
      "metadata": {
        "id": "pUS5wKv8kHTy",
        "colab_type": "code",
        "colab": {
          "base_uri": "https://localhost:8080/",
          "height": 34
        },
        "outputId": "c078aec8-dcd3-4074-af8d-7d9766965a1f"
      },
      "source": [
        "type(arrests)"
      ],
      "execution_count": null,
      "outputs": [
        {
          "output_type": "execute_result",
          "data": {
            "text/plain": [
              "pandas.core.frame.DataFrame"
            ]
          },
          "metadata": {
            "tags": []
          },
          "execution_count": 249
        }
      ]
    },
    {
      "cell_type": "markdown",
      "metadata": {
        "id": "HYFI_XyTPJkQ",
        "colab_type": "text"
      },
      "source": [
        "exploring the data"
      ]
    },
    {
      "cell_type": "code",
      "metadata": {
        "id": "SE3vExsPkMd-",
        "colab_type": "code",
        "colab": {
          "base_uri": "https://localhost:8080/",
          "height": 34
        },
        "outputId": "35552a91-8bfa-4183-9fcf-e4a08b3fb1d9"
      },
      "source": [
        "arrests.shape"
      ],
      "execution_count": null,
      "outputs": [
        {
          "output_type": "execute_result",
          "data": {
            "text/plain": [
              "(119413, 28)"
            ]
          },
          "metadata": {
            "tags": []
          },
          "execution_count": 252
        }
      ]
    },
    {
      "cell_type": "code",
      "metadata": {
        "id": "ocQHpGZZkkb7",
        "colab_type": "code",
        "colab": {
          "base_uri": "https://localhost:8080/",
          "height": 202
        },
        "outputId": "a198e14a-8b4e-4459-ff85-10e306066975"
      },
      "source": [
        "arrests.columns"
      ],
      "execution_count": null,
      "outputs": [
        {
          "output_type": "execute_result",
          "data": {
            "text/plain": [
              "Index(['date_value', 'ZCTA_GEOID', 'Homicide', 'Rape', 'Robbery/Gun',\n",
              "       'Robbery/Other', 'Aggravated Assault/Gun', 'Aggravated Assault/Other',\n",
              "       'Other Assaults', 'Sexual Assault and Other Sex Offenses',\n",
              "       'Burglary/Residential', 'Burglary/Commercial',\n",
              "       'Theft of Motor Vehicle Tag', 'Theft from Person', 'Theft from Auto',\n",
              "       'Retail Theft', 'Theft', 'Auto Theft', 'Fraud/Theft of Services',\n",
              "       'Embezzlement', 'Drug Possession', 'Drug Sales', 'DUI',\n",
              "       'Possession of Firearms', 'Prostitution/Sex Work',\n",
              "       'Patronizing Prostitutes', 'Threats of Violence',\n",
              "       'Uncategorized Offenses'],\n",
              "      dtype='object')"
            ]
          },
          "metadata": {
            "tags": []
          },
          "execution_count": 253
        }
      ]
    },
    {
      "cell_type": "code",
      "metadata": {
        "id": "8mgZMZtYkrwk",
        "colab_type": "code",
        "colab": {
          "base_uri": "https://localhost:8080/",
          "height": 34
        },
        "outputId": "4256925c-c797-4e59-b4e1-cac765532b3b"
      },
      "source": [
        "arrests.index"
      ],
      "execution_count": null,
      "outputs": [
        {
          "output_type": "execute_result",
          "data": {
            "text/plain": [
              "RangeIndex(start=0, stop=119413, step=1)"
            ]
          },
          "metadata": {
            "tags": []
          },
          "execution_count": 254
        }
      ]
    },
    {
      "cell_type": "code",
      "metadata": {
        "id": "aiMsnnAHk3EI",
        "colab_type": "code",
        "colab": {
          "base_uri": "https://localhost:8080/",
          "height": 299
        },
        "outputId": "b0e118a5-02dc-4490-f0e7-1dc694b42f18"
      },
      "source": [
        "arrests.head()"
      ],
      "execution_count": null,
      "outputs": [
        {
          "output_type": "execute_result",
          "data": {
            "text/html": [
              "<div>\n",
              "<style scoped>\n",
              "    .dataframe tbody tr th:only-of-type {\n",
              "        vertical-align: middle;\n",
              "    }\n",
              "\n",
              "    .dataframe tbody tr th {\n",
              "        vertical-align: top;\n",
              "    }\n",
              "\n",
              "    .dataframe thead th {\n",
              "        text-align: right;\n",
              "    }\n",
              "</style>\n",
              "<table border=\"1\" class=\"dataframe\">\n",
              "  <thead>\n",
              "    <tr style=\"text-align: right;\">\n",
              "      <th></th>\n",
              "      <th>date_value</th>\n",
              "      <th>ZCTA_GEOID</th>\n",
              "      <th>Homicide</th>\n",
              "      <th>Rape</th>\n",
              "      <th>Robbery/Gun</th>\n",
              "      <th>Robbery/Other</th>\n",
              "      <th>Aggravated Assault/Gun</th>\n",
              "      <th>Aggravated Assault/Other</th>\n",
              "      <th>Other Assaults</th>\n",
              "      <th>Sexual Assault and Other Sex Offenses</th>\n",
              "      <th>Burglary/Residential</th>\n",
              "      <th>Burglary/Commercial</th>\n",
              "      <th>Theft of Motor Vehicle Tag</th>\n",
              "      <th>Theft from Person</th>\n",
              "      <th>Theft from Auto</th>\n",
              "      <th>Retail Theft</th>\n",
              "      <th>Theft</th>\n",
              "      <th>Auto Theft</th>\n",
              "      <th>Fraud/Theft of Services</th>\n",
              "      <th>Embezzlement</th>\n",
              "      <th>Drug Possession</th>\n",
              "      <th>Drug Sales</th>\n",
              "      <th>DUI</th>\n",
              "      <th>Possession of Firearms</th>\n",
              "      <th>Prostitution/Sex Work</th>\n",
              "      <th>Patronizing Prostitutes</th>\n",
              "      <th>Threats of Violence</th>\n",
              "      <th>Uncategorized Offenses</th>\n",
              "    </tr>\n",
              "  </thead>\n",
              "  <tbody>\n",
              "    <tr>\n",
              "      <th>0</th>\n",
              "      <td>2014-01-01</td>\n",
              "      <td>19102</td>\n",
              "      <td>0</td>\n",
              "      <td>0</td>\n",
              "      <td>0</td>\n",
              "      <td>0</td>\n",
              "      <td>0</td>\n",
              "      <td>0</td>\n",
              "      <td>0</td>\n",
              "      <td>0</td>\n",
              "      <td>0</td>\n",
              "      <td>0</td>\n",
              "      <td>0</td>\n",
              "      <td>0</td>\n",
              "      <td>1</td>\n",
              "      <td>0</td>\n",
              "      <td>0</td>\n",
              "      <td>0</td>\n",
              "      <td>0</td>\n",
              "      <td>0</td>\n",
              "      <td>0</td>\n",
              "      <td>0</td>\n",
              "      <td>0</td>\n",
              "      <td>0</td>\n",
              "      <td>0</td>\n",
              "      <td>0</td>\n",
              "      <td>0</td>\n",
              "      <td>0</td>\n",
              "    </tr>\n",
              "    <tr>\n",
              "      <th>1</th>\n",
              "      <td>2014-01-01</td>\n",
              "      <td>19103</td>\n",
              "      <td>0</td>\n",
              "      <td>0</td>\n",
              "      <td>0</td>\n",
              "      <td>0</td>\n",
              "      <td>0</td>\n",
              "      <td>1</td>\n",
              "      <td>0</td>\n",
              "      <td>0</td>\n",
              "      <td>0</td>\n",
              "      <td>0</td>\n",
              "      <td>0</td>\n",
              "      <td>0</td>\n",
              "      <td>0</td>\n",
              "      <td>0</td>\n",
              "      <td>0</td>\n",
              "      <td>0</td>\n",
              "      <td>0</td>\n",
              "      <td>0</td>\n",
              "      <td>0</td>\n",
              "      <td>0</td>\n",
              "      <td>0</td>\n",
              "      <td>0</td>\n",
              "      <td>0</td>\n",
              "      <td>0</td>\n",
              "      <td>0</td>\n",
              "      <td>0</td>\n",
              "    </tr>\n",
              "    <tr>\n",
              "      <th>2</th>\n",
              "      <td>2014-01-01</td>\n",
              "      <td>19104</td>\n",
              "      <td>0</td>\n",
              "      <td>0</td>\n",
              "      <td>0</td>\n",
              "      <td>0</td>\n",
              "      <td>0</td>\n",
              "      <td>0</td>\n",
              "      <td>0</td>\n",
              "      <td>0</td>\n",
              "      <td>0</td>\n",
              "      <td>0</td>\n",
              "      <td>0</td>\n",
              "      <td>0</td>\n",
              "      <td>1</td>\n",
              "      <td>0</td>\n",
              "      <td>0</td>\n",
              "      <td>0</td>\n",
              "      <td>0</td>\n",
              "      <td>0</td>\n",
              "      <td>1</td>\n",
              "      <td>0</td>\n",
              "      <td>1</td>\n",
              "      <td>0</td>\n",
              "      <td>0</td>\n",
              "      <td>0</td>\n",
              "      <td>0</td>\n",
              "      <td>0</td>\n",
              "    </tr>\n",
              "    <tr>\n",
              "      <th>3</th>\n",
              "      <td>2014-01-01</td>\n",
              "      <td>19106</td>\n",
              "      <td>0</td>\n",
              "      <td>0</td>\n",
              "      <td>0</td>\n",
              "      <td>0</td>\n",
              "      <td>0</td>\n",
              "      <td>0</td>\n",
              "      <td>0</td>\n",
              "      <td>0</td>\n",
              "      <td>0</td>\n",
              "      <td>0</td>\n",
              "      <td>0</td>\n",
              "      <td>0</td>\n",
              "      <td>0</td>\n",
              "      <td>0</td>\n",
              "      <td>0</td>\n",
              "      <td>0</td>\n",
              "      <td>0</td>\n",
              "      <td>0</td>\n",
              "      <td>1</td>\n",
              "      <td>0</td>\n",
              "      <td>0</td>\n",
              "      <td>0</td>\n",
              "      <td>0</td>\n",
              "      <td>0</td>\n",
              "      <td>0</td>\n",
              "      <td>0</td>\n",
              "    </tr>\n",
              "    <tr>\n",
              "      <th>4</th>\n",
              "      <td>2014-01-01</td>\n",
              "      <td>19107</td>\n",
              "      <td>0</td>\n",
              "      <td>0</td>\n",
              "      <td>0</td>\n",
              "      <td>0</td>\n",
              "      <td>0</td>\n",
              "      <td>0</td>\n",
              "      <td>0</td>\n",
              "      <td>0</td>\n",
              "      <td>0</td>\n",
              "      <td>0</td>\n",
              "      <td>0</td>\n",
              "      <td>0</td>\n",
              "      <td>0</td>\n",
              "      <td>0</td>\n",
              "      <td>0</td>\n",
              "      <td>0</td>\n",
              "      <td>0</td>\n",
              "      <td>0</td>\n",
              "      <td>0</td>\n",
              "      <td>0</td>\n",
              "      <td>0</td>\n",
              "      <td>0</td>\n",
              "      <td>0</td>\n",
              "      <td>0</td>\n",
              "      <td>0</td>\n",
              "      <td>0</td>\n",
              "    </tr>\n",
              "  </tbody>\n",
              "</table>\n",
              "</div>"
            ],
            "text/plain": [
              "   date_value ZCTA_GEOID  ...  Threats of Violence  Uncategorized Offenses\n",
              "0  2014-01-01      19102  ...                    0                       0\n",
              "1  2014-01-01      19103  ...                    0                       0\n",
              "2  2014-01-01      19104  ...                    0                       0\n",
              "3  2014-01-01      19106  ...                    0                       0\n",
              "4  2014-01-01      19107  ...                    0                       0\n",
              "\n",
              "[5 rows x 28 columns]"
            ]
          },
          "metadata": {
            "tags": []
          },
          "execution_count": 255
        }
      ]
    },
    {
      "cell_type": "code",
      "metadata": {
        "id": "tCSFMVVYlDrL",
        "colab_type": "code",
        "colab": {
          "base_uri": "https://localhost:8080/",
          "height": 299
        },
        "outputId": "e8cdd86c-80cc-40f5-fb10-4a89dca47196"
      },
      "source": [
        "arrests.tail()"
      ],
      "execution_count": null,
      "outputs": [
        {
          "output_type": "execute_result",
          "data": {
            "text/html": [
              "<div>\n",
              "<style scoped>\n",
              "    .dataframe tbody tr th:only-of-type {\n",
              "        vertical-align: middle;\n",
              "    }\n",
              "\n",
              "    .dataframe tbody tr th {\n",
              "        vertical-align: top;\n",
              "    }\n",
              "\n",
              "    .dataframe thead th {\n",
              "        text-align: right;\n",
              "    }\n",
              "</style>\n",
              "<table border=\"1\" class=\"dataframe\">\n",
              "  <thead>\n",
              "    <tr style=\"text-align: right;\">\n",
              "      <th></th>\n",
              "      <th>date_value</th>\n",
              "      <th>ZCTA_GEOID</th>\n",
              "      <th>Homicide</th>\n",
              "      <th>Rape</th>\n",
              "      <th>Robbery/Gun</th>\n",
              "      <th>Robbery/Other</th>\n",
              "      <th>Aggravated Assault/Gun</th>\n",
              "      <th>Aggravated Assault/Other</th>\n",
              "      <th>Other Assaults</th>\n",
              "      <th>Sexual Assault and Other Sex Offenses</th>\n",
              "      <th>Burglary/Residential</th>\n",
              "      <th>Burglary/Commercial</th>\n",
              "      <th>Theft of Motor Vehicle Tag</th>\n",
              "      <th>Theft from Person</th>\n",
              "      <th>Theft from Auto</th>\n",
              "      <th>Retail Theft</th>\n",
              "      <th>Theft</th>\n",
              "      <th>Auto Theft</th>\n",
              "      <th>Fraud/Theft of Services</th>\n",
              "      <th>Embezzlement</th>\n",
              "      <th>Drug Possession</th>\n",
              "      <th>Drug Sales</th>\n",
              "      <th>DUI</th>\n",
              "      <th>Possession of Firearms</th>\n",
              "      <th>Prostitution/Sex Work</th>\n",
              "      <th>Patronizing Prostitutes</th>\n",
              "      <th>Threats of Violence</th>\n",
              "      <th>Uncategorized Offenses</th>\n",
              "    </tr>\n",
              "  </thead>\n",
              "  <tbody>\n",
              "    <tr>\n",
              "      <th>119408</th>\n",
              "      <td>2020-09-02</td>\n",
              "      <td>19151</td>\n",
              "      <td>0</td>\n",
              "      <td>0</td>\n",
              "      <td>0</td>\n",
              "      <td>0</td>\n",
              "      <td>0</td>\n",
              "      <td>0</td>\n",
              "      <td>0</td>\n",
              "      <td>0</td>\n",
              "      <td>0</td>\n",
              "      <td>0</td>\n",
              "      <td>0</td>\n",
              "      <td>0</td>\n",
              "      <td>0</td>\n",
              "      <td>0</td>\n",
              "      <td>0</td>\n",
              "      <td>0</td>\n",
              "      <td>0</td>\n",
              "      <td>0</td>\n",
              "      <td>0</td>\n",
              "      <td>0</td>\n",
              "      <td>1</td>\n",
              "      <td>1</td>\n",
              "      <td>0</td>\n",
              "      <td>0</td>\n",
              "      <td>0</td>\n",
              "      <td>0</td>\n",
              "    </tr>\n",
              "    <tr>\n",
              "      <th>119409</th>\n",
              "      <td>2020-09-02</td>\n",
              "      <td>19152</td>\n",
              "      <td>0</td>\n",
              "      <td>0</td>\n",
              "      <td>0</td>\n",
              "      <td>0</td>\n",
              "      <td>0</td>\n",
              "      <td>0</td>\n",
              "      <td>0</td>\n",
              "      <td>0</td>\n",
              "      <td>0</td>\n",
              "      <td>0</td>\n",
              "      <td>0</td>\n",
              "      <td>0</td>\n",
              "      <td>0</td>\n",
              "      <td>0</td>\n",
              "      <td>0</td>\n",
              "      <td>0</td>\n",
              "      <td>0</td>\n",
              "      <td>0</td>\n",
              "      <td>0</td>\n",
              "      <td>0</td>\n",
              "      <td>0</td>\n",
              "      <td>0</td>\n",
              "      <td>0</td>\n",
              "      <td>0</td>\n",
              "      <td>0</td>\n",
              "      <td>0</td>\n",
              "    </tr>\n",
              "    <tr>\n",
              "      <th>119410</th>\n",
              "      <td>2020-09-02</td>\n",
              "      <td>19153</td>\n",
              "      <td>0</td>\n",
              "      <td>0</td>\n",
              "      <td>0</td>\n",
              "      <td>0</td>\n",
              "      <td>0</td>\n",
              "      <td>0</td>\n",
              "      <td>0</td>\n",
              "      <td>0</td>\n",
              "      <td>0</td>\n",
              "      <td>0</td>\n",
              "      <td>0</td>\n",
              "      <td>0</td>\n",
              "      <td>0</td>\n",
              "      <td>0</td>\n",
              "      <td>0</td>\n",
              "      <td>0</td>\n",
              "      <td>0</td>\n",
              "      <td>0</td>\n",
              "      <td>0</td>\n",
              "      <td>0</td>\n",
              "      <td>0</td>\n",
              "      <td>0</td>\n",
              "      <td>0</td>\n",
              "      <td>0</td>\n",
              "      <td>0</td>\n",
              "      <td>0</td>\n",
              "    </tr>\n",
              "    <tr>\n",
              "      <th>119411</th>\n",
              "      <td>2020-09-02</td>\n",
              "      <td>19154</td>\n",
              "      <td>0</td>\n",
              "      <td>0</td>\n",
              "      <td>0</td>\n",
              "      <td>0</td>\n",
              "      <td>0</td>\n",
              "      <td>0</td>\n",
              "      <td>0</td>\n",
              "      <td>0</td>\n",
              "      <td>0</td>\n",
              "      <td>0</td>\n",
              "      <td>0</td>\n",
              "      <td>0</td>\n",
              "      <td>0</td>\n",
              "      <td>0</td>\n",
              "      <td>0</td>\n",
              "      <td>0</td>\n",
              "      <td>0</td>\n",
              "      <td>0</td>\n",
              "      <td>0</td>\n",
              "      <td>0</td>\n",
              "      <td>0</td>\n",
              "      <td>0</td>\n",
              "      <td>0</td>\n",
              "      <td>0</td>\n",
              "      <td>0</td>\n",
              "      <td>0</td>\n",
              "    </tr>\n",
              "    <tr>\n",
              "      <th>119412</th>\n",
              "      <td>2020-09-02</td>\n",
              "      <td>Unknown</td>\n",
              "      <td>0</td>\n",
              "      <td>0</td>\n",
              "      <td>0</td>\n",
              "      <td>0</td>\n",
              "      <td>0</td>\n",
              "      <td>0</td>\n",
              "      <td>0</td>\n",
              "      <td>0</td>\n",
              "      <td>0</td>\n",
              "      <td>0</td>\n",
              "      <td>0</td>\n",
              "      <td>0</td>\n",
              "      <td>0</td>\n",
              "      <td>0</td>\n",
              "      <td>0</td>\n",
              "      <td>0</td>\n",
              "      <td>0</td>\n",
              "      <td>0</td>\n",
              "      <td>0</td>\n",
              "      <td>9</td>\n",
              "      <td>0</td>\n",
              "      <td>3</td>\n",
              "      <td>0</td>\n",
              "      <td>0</td>\n",
              "      <td>1</td>\n",
              "      <td>6</td>\n",
              "    </tr>\n",
              "  </tbody>\n",
              "</table>\n",
              "</div>"
            ],
            "text/plain": [
              "        date_value ZCTA_GEOID  ...  Threats of Violence  Uncategorized Offenses\n",
              "119408  2020-09-02      19151  ...                    0                       0\n",
              "119409  2020-09-02      19152  ...                    0                       0\n",
              "119410  2020-09-02      19153  ...                    0                       0\n",
              "119411  2020-09-02      19154  ...                    0                       0\n",
              "119412  2020-09-02    Unknown  ...                    1                       6\n",
              "\n",
              "[5 rows x 28 columns]"
            ]
          },
          "metadata": {
            "tags": []
          },
          "execution_count": 256
        }
      ]
    },
    {
      "cell_type": "code",
      "metadata": {
        "id": "4eD9I3cylFja",
        "colab_type": "code",
        "colab": {
          "base_uri": "https://localhost:8080/",
          "height": 354
        },
        "outputId": "c059a15c-6b92-466d-c36e-a3a99c0a6095"
      },
      "source": [
        "arrests.describe()"
      ],
      "execution_count": null,
      "outputs": [
        {
          "output_type": "execute_result",
          "data": {
            "text/html": [
              "<div>\n",
              "<style scoped>\n",
              "    .dataframe tbody tr th:only-of-type {\n",
              "        vertical-align: middle;\n",
              "    }\n",
              "\n",
              "    .dataframe tbody tr th {\n",
              "        vertical-align: top;\n",
              "    }\n",
              "\n",
              "    .dataframe thead th {\n",
              "        text-align: right;\n",
              "    }\n",
              "</style>\n",
              "<table border=\"1\" class=\"dataframe\">\n",
              "  <thead>\n",
              "    <tr style=\"text-align: right;\">\n",
              "      <th></th>\n",
              "      <th>Homicide</th>\n",
              "      <th>Rape</th>\n",
              "      <th>Robbery/Gun</th>\n",
              "      <th>Robbery/Other</th>\n",
              "      <th>Aggravated Assault/Gun</th>\n",
              "      <th>Aggravated Assault/Other</th>\n",
              "      <th>Other Assaults</th>\n",
              "      <th>Sexual Assault and Other Sex Offenses</th>\n",
              "      <th>Burglary/Residential</th>\n",
              "      <th>Burglary/Commercial</th>\n",
              "      <th>Theft of Motor Vehicle Tag</th>\n",
              "      <th>Theft from Person</th>\n",
              "      <th>Theft from Auto</th>\n",
              "      <th>Retail Theft</th>\n",
              "      <th>Theft</th>\n",
              "      <th>Auto Theft</th>\n",
              "      <th>Fraud/Theft of Services</th>\n",
              "      <th>Embezzlement</th>\n",
              "      <th>Drug Possession</th>\n",
              "      <th>Drug Sales</th>\n",
              "      <th>DUI</th>\n",
              "      <th>Possession of Firearms</th>\n",
              "      <th>Prostitution/Sex Work</th>\n",
              "      <th>Patronizing Prostitutes</th>\n",
              "      <th>Threats of Violence</th>\n",
              "      <th>Uncategorized Offenses</th>\n",
              "    </tr>\n",
              "  </thead>\n",
              "  <tbody>\n",
              "    <tr>\n",
              "      <th>count</th>\n",
              "      <td>119413.000000</td>\n",
              "      <td>119413.000000</td>\n",
              "      <td>119413.000000</td>\n",
              "      <td>119413.000000</td>\n",
              "      <td>119413.000000</td>\n",
              "      <td>119413.000000</td>\n",
              "      <td>119413.000000</td>\n",
              "      <td>119413.000000</td>\n",
              "      <td>119413.000000</td>\n",
              "      <td>119413.000000</td>\n",
              "      <td>119413.000000</td>\n",
              "      <td>119413.000000</td>\n",
              "      <td>119413.000000</td>\n",
              "      <td>119413.000000</td>\n",
              "      <td>119413.000000</td>\n",
              "      <td>119413.000000</td>\n",
              "      <td>119413.000000</td>\n",
              "      <td>119413.000000</td>\n",
              "      <td>119413.000000</td>\n",
              "      <td>119413.000000</td>\n",
              "      <td>119413.000000</td>\n",
              "      <td>119413.000000</td>\n",
              "      <td>119413.000000</td>\n",
              "      <td>119413.000000</td>\n",
              "      <td>119413.000000</td>\n",
              "      <td>119413.000000</td>\n",
              "    </tr>\n",
              "    <tr>\n",
              "      <th>mean</th>\n",
              "      <td>0.010493</td>\n",
              "      <td>0.018256</td>\n",
              "      <td>0.038497</td>\n",
              "      <td>0.062330</td>\n",
              "      <td>0.053436</td>\n",
              "      <td>0.155762</td>\n",
              "      <td>0.153752</td>\n",
              "      <td>0.012478</td>\n",
              "      <td>0.049902</td>\n",
              "      <td>0.023733</td>\n",
              "      <td>0.000427</td>\n",
              "      <td>0.002052</td>\n",
              "      <td>0.030918</td>\n",
              "      <td>0.084622</td>\n",
              "      <td>0.045481</td>\n",
              "      <td>0.046017</td>\n",
              "      <td>0.030415</td>\n",
              "      <td>0.008198</td>\n",
              "      <td>0.283227</td>\n",
              "      <td>0.334729</td>\n",
              "      <td>0.180843</td>\n",
              "      <td>0.073309</td>\n",
              "      <td>0.040105</td>\n",
              "      <td>0.010208</td>\n",
              "      <td>0.019236</td>\n",
              "      <td>0.486354</td>\n",
              "    </tr>\n",
              "    <tr>\n",
              "      <th>std</th>\n",
              "      <td>0.117828</td>\n",
              "      <td>0.145564</td>\n",
              "      <td>0.262688</td>\n",
              "      <td>0.292709</td>\n",
              "      <td>0.361117</td>\n",
              "      <td>0.479444</td>\n",
              "      <td>0.452766</td>\n",
              "      <td>0.124247</td>\n",
              "      <td>0.297429</td>\n",
              "      <td>0.329781</td>\n",
              "      <td>0.021844</td>\n",
              "      <td>0.049153</td>\n",
              "      <td>0.250479</td>\n",
              "      <td>0.340294</td>\n",
              "      <td>0.264657</td>\n",
              "      <td>0.446405</td>\n",
              "      <td>0.228844</td>\n",
              "      <td>0.097148</td>\n",
              "      <td>1.171391</td>\n",
              "      <td>1.382199</td>\n",
              "      <td>0.556746</td>\n",
              "      <td>0.319089</td>\n",
              "      <td>0.335574</td>\n",
              "      <td>0.223831</td>\n",
              "      <td>0.147751</td>\n",
              "      <td>1.159344</td>\n",
              "    </tr>\n",
              "    <tr>\n",
              "      <th>min</th>\n",
              "      <td>0.000000</td>\n",
              "      <td>0.000000</td>\n",
              "      <td>0.000000</td>\n",
              "      <td>0.000000</td>\n",
              "      <td>0.000000</td>\n",
              "      <td>0.000000</td>\n",
              "      <td>0.000000</td>\n",
              "      <td>0.000000</td>\n",
              "      <td>0.000000</td>\n",
              "      <td>0.000000</td>\n",
              "      <td>0.000000</td>\n",
              "      <td>0.000000</td>\n",
              "      <td>0.000000</td>\n",
              "      <td>0.000000</td>\n",
              "      <td>0.000000</td>\n",
              "      <td>0.000000</td>\n",
              "      <td>0.000000</td>\n",
              "      <td>0.000000</td>\n",
              "      <td>0.000000</td>\n",
              "      <td>0.000000</td>\n",
              "      <td>0.000000</td>\n",
              "      <td>0.000000</td>\n",
              "      <td>0.000000</td>\n",
              "      <td>0.000000</td>\n",
              "      <td>0.000000</td>\n",
              "      <td>0.000000</td>\n",
              "    </tr>\n",
              "    <tr>\n",
              "      <th>25%</th>\n",
              "      <td>0.000000</td>\n",
              "      <td>0.000000</td>\n",
              "      <td>0.000000</td>\n",
              "      <td>0.000000</td>\n",
              "      <td>0.000000</td>\n",
              "      <td>0.000000</td>\n",
              "      <td>0.000000</td>\n",
              "      <td>0.000000</td>\n",
              "      <td>0.000000</td>\n",
              "      <td>0.000000</td>\n",
              "      <td>0.000000</td>\n",
              "      <td>0.000000</td>\n",
              "      <td>0.000000</td>\n",
              "      <td>0.000000</td>\n",
              "      <td>0.000000</td>\n",
              "      <td>0.000000</td>\n",
              "      <td>0.000000</td>\n",
              "      <td>0.000000</td>\n",
              "      <td>0.000000</td>\n",
              "      <td>0.000000</td>\n",
              "      <td>0.000000</td>\n",
              "      <td>0.000000</td>\n",
              "      <td>0.000000</td>\n",
              "      <td>0.000000</td>\n",
              "      <td>0.000000</td>\n",
              "      <td>0.000000</td>\n",
              "    </tr>\n",
              "    <tr>\n",
              "      <th>50%</th>\n",
              "      <td>0.000000</td>\n",
              "      <td>0.000000</td>\n",
              "      <td>0.000000</td>\n",
              "      <td>0.000000</td>\n",
              "      <td>0.000000</td>\n",
              "      <td>0.000000</td>\n",
              "      <td>0.000000</td>\n",
              "      <td>0.000000</td>\n",
              "      <td>0.000000</td>\n",
              "      <td>0.000000</td>\n",
              "      <td>0.000000</td>\n",
              "      <td>0.000000</td>\n",
              "      <td>0.000000</td>\n",
              "      <td>0.000000</td>\n",
              "      <td>0.000000</td>\n",
              "      <td>0.000000</td>\n",
              "      <td>0.000000</td>\n",
              "      <td>0.000000</td>\n",
              "      <td>0.000000</td>\n",
              "      <td>0.000000</td>\n",
              "      <td>0.000000</td>\n",
              "      <td>0.000000</td>\n",
              "      <td>0.000000</td>\n",
              "      <td>0.000000</td>\n",
              "      <td>0.000000</td>\n",
              "      <td>0.000000</td>\n",
              "    </tr>\n",
              "    <tr>\n",
              "      <th>75%</th>\n",
              "      <td>0.000000</td>\n",
              "      <td>0.000000</td>\n",
              "      <td>0.000000</td>\n",
              "      <td>0.000000</td>\n",
              "      <td>0.000000</td>\n",
              "      <td>0.000000</td>\n",
              "      <td>0.000000</td>\n",
              "      <td>0.000000</td>\n",
              "      <td>0.000000</td>\n",
              "      <td>0.000000</td>\n",
              "      <td>0.000000</td>\n",
              "      <td>0.000000</td>\n",
              "      <td>0.000000</td>\n",
              "      <td>0.000000</td>\n",
              "      <td>0.000000</td>\n",
              "      <td>0.000000</td>\n",
              "      <td>0.000000</td>\n",
              "      <td>0.000000</td>\n",
              "      <td>0.000000</td>\n",
              "      <td>0.000000</td>\n",
              "      <td>0.000000</td>\n",
              "      <td>0.000000</td>\n",
              "      <td>0.000000</td>\n",
              "      <td>0.000000</td>\n",
              "      <td>0.000000</td>\n",
              "      <td>1.000000</td>\n",
              "    </tr>\n",
              "    <tr>\n",
              "      <th>max</th>\n",
              "      <td>6.000000</td>\n",
              "      <td>4.000000</td>\n",
              "      <td>9.000000</td>\n",
              "      <td>10.000000</td>\n",
              "      <td>62.000000</td>\n",
              "      <td>14.000000</td>\n",
              "      <td>11.000000</td>\n",
              "      <td>6.000000</td>\n",
              "      <td>18.000000</td>\n",
              "      <td>44.000000</td>\n",
              "      <td>2.000000</td>\n",
              "      <td>3.000000</td>\n",
              "      <td>26.000000</td>\n",
              "      <td>10.000000</td>\n",
              "      <td>18.000000</td>\n",
              "      <td>41.000000</td>\n",
              "      <td>23.000000</td>\n",
              "      <td>5.000000</td>\n",
              "      <td>52.000000</td>\n",
              "      <td>38.000000</td>\n",
              "      <td>21.000000</td>\n",
              "      <td>16.000000</td>\n",
              "      <td>13.000000</td>\n",
              "      <td>12.000000</td>\n",
              "      <td>8.000000</td>\n",
              "      <td>24.000000</td>\n",
              "    </tr>\n",
              "  </tbody>\n",
              "</table>\n",
              "</div>"
            ],
            "text/plain": [
              "            Homicide  ...  Uncategorized Offenses\n",
              "count  119413.000000  ...           119413.000000\n",
              "mean        0.010493  ...                0.486354\n",
              "std         0.117828  ...                1.159344\n",
              "min         0.000000  ...                0.000000\n",
              "25%         0.000000  ...                0.000000\n",
              "50%         0.000000  ...                0.000000\n",
              "75%         0.000000  ...                1.000000\n",
              "max         6.000000  ...               24.000000\n",
              "\n",
              "[8 rows x 26 columns]"
            ]
          },
          "metadata": {
            "tags": []
          },
          "execution_count": 257
        }
      ]
    },
    {
      "cell_type": "code",
      "metadata": {
        "id": "hHfJTbEzlJcL",
        "colab_type": "code",
        "colab": {
          "base_uri": "https://localhost:8080/",
          "height": 34
        },
        "outputId": "8904d900-e795-4293-f58e-b5e5c86e3931"
      },
      "source": [
        "type(arrests['DUI'])"
      ],
      "execution_count": null,
      "outputs": [
        {
          "output_type": "execute_result",
          "data": {
            "text/plain": [
              "pandas.core.series.Series"
            ]
          },
          "metadata": {
            "tags": []
          },
          "execution_count": 263
        }
      ]
    },
    {
      "cell_type": "markdown",
      "metadata": {
        "id": "jCgxiLOMPPII",
        "colab_type": "text"
      },
      "source": [
        "making some plots"
      ]
    },
    {
      "cell_type": "code",
      "metadata": {
        "id": "y0-T6TvFm9pe",
        "colab_type": "code",
        "colab": {
          "base_uri": "https://localhost:8080/",
          "height": 314
        },
        "outputId": "6e9e5a02-0437-44ac-f2a8-45f6642c15b3"
      },
      "source": [
        "arrests.hist(column='DUI', bins=100)"
      ],
      "execution_count": null,
      "outputs": [
        {
          "output_type": "execute_result",
          "data": {
            "text/plain": [
              "array([[<matplotlib.axes._subplots.AxesSubplot object at 0x7f4a010974a8>]],\n",
              "      dtype=object)"
            ]
          },
          "metadata": {
            "tags": []
          },
          "execution_count": 266
        },
        {
          "output_type": "display_data",
          "data": {
            "image/png": "[encoded data removed]",
            "text/plain": [
              "<Figure size 432x288 with 1 Axes>"
            ]
          },
          "metadata": {
            "tags": [],
            "needs_background": "light"
          }
        }
      ]
    },
    {
      "cell_type": "code",
      "metadata": {
        "id": "BqTtFkHDnPeX",
        "colab_type": "code",
        "colab": {
          "base_uri": "https://localhost:8080/",
          "height": 296
        },
        "outputId": "a10208d5-7728-4878-a58c-61bf49ab288b"
      },
      "source": [
        "arrests.plot(x='DUI', y='Drug Possession', kind='scatter')"
      ],
      "execution_count": null,
      "outputs": [
        {
          "output_type": "execute_result",
          "data": {
            "text/plain": [
              "<matplotlib.axes._subplots.AxesSubplot at 0x7f4a248aa048>"
            ]
          },
          "metadata": {
            "tags": []
          },
          "execution_count": 268
        },
        {
          "output_type": "display_data",
          "data": {
            "image/png": "[encoded data removed]",
            "text/plain": [
              "<Figure size 432x288 with 1 Axes>"
            ]
          },
          "metadata": {
            "tags": [],
            "needs_background": "light"
          }
        }
      ]
    },
    {
      "cell_type": "code",
      "metadata": {
        "id": "JfbwPeVHoSbD",
        "colab_type": "code",
        "colab": {
          "base_uri": "https://localhost:8080/",
          "height": 34
        },
        "outputId": "b85dc005-8ea0-4891-8d73-b62803516a6d"
      },
      "source": [
        "arrests['DUI'].sum()"
      ],
      "execution_count": null,
      "outputs": [
        {
          "output_type": "execute_result",
          "data": {
            "text/plain": [
              "21595"
            ]
          },
          "metadata": {
            "tags": []
          },
          "execution_count": 269
        }
      ]
    },
    {
      "cell_type": "code",
      "metadata": {
        "id": "JnjtKghRov4n",
        "colab_type": "code",
        "colab": {
          "base_uri": "https://localhost:8080/",
          "height": 34
        },
        "outputId": "b84693c5-be2c-4818-8e27-fc75e228ce4c"
      },
      "source": [
        "(arrests['DUI'] > 0).sum()"
      ],
      "execution_count": null,
      "outputs": [
        {
          "output_type": "execute_result",
          "data": {
            "text/plain": [
              "17367"
            ]
          },
          "metadata": {
            "tags": []
          },
          "execution_count": 271
        }
      ]
    },
    {
      "cell_type": "code",
      "metadata": {
        "id": "ucBYR6mgo-7k",
        "colab_type": "code",
        "colab": {
          "base_uri": "https://localhost:8080/",
          "height": 34
        },
        "outputId": "ddd30216-3c12-4b73-8c1a-21c8d574b1ad"
      },
      "source": [
        "(arrests['DUI'] > 0).sum() / len(arrests['DUI']) "
      ],
      "execution_count": null,
      "outputs": [
        {
          "output_type": "execute_result",
          "data": {
            "text/plain": [
              "0.14543642651972566"
            ]
          },
          "metadata": {
            "tags": []
          },
          "execution_count": 273
        }
      ]
    },
    {
      "cell_type": "code",
      "metadata": {
        "id": "UytShI2ipLNQ",
        "colab_type": "code",
        "colab": {
          "base_uri": "https://localhost:8080/",
          "height": 502
        },
        "outputId": "d0ec9202-5a79-40aa-ff26-6709fc48a419"
      },
      "source": [
        "pd.read_csv(\"https://media.githubusercontent.com/media/phillydao/phillydao-public-data/master/docs/data/arrest_data_daily_by_zip.csv\",\n",
        "            sep='\\t')"
      ],
      "execution_count": null,
      "outputs": [
        {
          "output_type": "execute_result",
          "data": {
            "text/html": [
              "<div>\n",
              "<style scoped>\n",
              "    .dataframe tbody tr th:only-of-type {\n",
              "        vertical-align: middle;\n",
              "    }\n",
              "\n",
              "    .dataframe tbody tr th {\n",
              "        vertical-align: top;\n",
              "    }\n",
              "\n",
              "    .dataframe thead th {\n",
              "        text-align: right;\n",
              "    }\n",
              "</style>\n",
              "<table border=\"1\" class=\"dataframe\">\n",
              "  <thead>\n",
              "    <tr style=\"text-align: right;\">\n",
              "      <th></th>\n",
              "      <th>date_value,\"ZCTA_GEOID\",\"Homicide\",\"Rape\",\"Robbery/Gun\",\"Robbery/Other\",\"Aggravated Assault/Gun\",\"Aggravated Assault/Other\",\"Other Assaults\",\"Sexual Assault and Other Sex Offenses\",\"Burglary/Residential\",\"Burglary/Commercial\",\"Theft of Motor Vehicle Tag\",\"Theft from Person\",\"Theft from Auto\",\"Retail Theft\",\"Theft\",\"Auto Theft\",\"Fraud/Theft of Services\",\"Embezzlement\",\"Drug Possession\",\"Drug Sales\",\"DUI\",\"Possession of Firearms\",\"Prostitution/Sex Work\",\"Patronizing Prostitutes\",\"Threats of Violence\",\"Uncategorized Offenses\"</th>\n",
              "    </tr>\n",
              "  </thead>\n",
              "  <tbody>\n",
              "    <tr>\n",
              "      <th>0</th>\n",
              "      <td>2014-01-01,\"19102\",0,0,0,0,0,0,0,0,0,0,0,0,1,0...</td>\n",
              "    </tr>\n",
              "    <tr>\n",
              "      <th>1</th>\n",
              "      <td>2014-01-01,\"19103\",0,0,0,0,0,1,0,0,0,0,0,0,0,0...</td>\n",
              "    </tr>\n",
              "    <tr>\n",
              "      <th>2</th>\n",
              "      <td>2014-01-01,\"19104\",0,0,0,0,0,0,0,0,0,0,0,0,1,0...</td>\n",
              "    </tr>\n",
              "    <tr>\n",
              "      <th>3</th>\n",
              "      <td>2014-01-01,\"19106\",0,0,0,0,0,0,0,0,0,0,0,0,0,0...</td>\n",
              "    </tr>\n",
              "    <tr>\n",
              "      <th>4</th>\n",
              "      <td>2014-01-01,\"19107\",0,0,0,0,0,0,0,0,0,0,0,0,0,0...</td>\n",
              "    </tr>\n",
              "    <tr>\n",
              "      <th>...</th>\n",
              "      <td>...</td>\n",
              "    </tr>\n",
              "    <tr>\n",
              "      <th>119408</th>\n",
              "      <td>2020-09-02,\"19151\",0,0,0,0,0,0,0,0,0,0,0,0,0,0...</td>\n",
              "    </tr>\n",
              "    <tr>\n",
              "      <th>119409</th>\n",
              "      <td>2020-09-02,\"19152\",0,0,0,0,0,0,0,0,0,0,0,0,0,0...</td>\n",
              "    </tr>\n",
              "    <tr>\n",
              "      <th>119410</th>\n",
              "      <td>2020-09-02,\"19153\",0,0,0,0,0,0,0,0,0,0,0,0,0,0...</td>\n",
              "    </tr>\n",
              "    <tr>\n",
              "      <th>119411</th>\n",
              "      <td>2020-09-02,\"19154\",0,0,0,0,0,0,0,0,0,0,0,0,0,0...</td>\n",
              "    </tr>\n",
              "    <tr>\n",
              "      <th>119412</th>\n",
              "      <td>2020-09-02,\"Unknown\",0,0,0,0,0,0,0,0,0,0,0,0,0...</td>\n",
              "    </tr>\n",
              "  </tbody>\n",
              "</table>\n",
              "<p>119413 rows × 1 columns</p>\n",
              "</div>"
            ],
            "text/plain": [
              "       date_value,\"ZCTA_GEOID\",\"Homicide\",\"Rape\",\"Robbery/Gun\",\"Robbery/Other\",\"Aggravated Assault/Gun\",\"Aggravated Assault/Other\",\"Other Assaults\",\"Sexual Assault and Other Sex Offenses\",\"Burglary/Residential\",\"Burglary/Commercial\",\"Theft of Motor Vehicle Tag\",\"Theft from Person\",\"Theft from Auto\",\"Retail Theft\",\"Theft\",\"Auto Theft\",\"Fraud/Theft of Services\",\"Embezzlement\",\"Drug Possession\",\"Drug Sales\",\"DUI\",\"Possession of Firearms\",\"Prostitution/Sex Work\",\"Patronizing Prostitutes\",\"Threats of Violence\",\"Uncategorized Offenses\"\n",
              "0       2014-01-01,\"19102\",0,0,0,0,0,0,0,0,0,0,0,0,1,0...                                                                                                                                                                                                                                                                                                                                                                                                                                                                                              \n",
              "1       2014-01-01,\"19103\",0,0,0,0,0,1,0,0,0,0,0,0,0,0...                                                                                                                                                                                                                                                                                                                                                                                                                                                                                              \n",
              "2       2014-01-01,\"19104\",0,0,0,0,0,0,0,0,0,0,0,0,1,0...                                                                                                                                                                                                                                                                                                                                                                                                                                                                                              \n",
              "3       2014-01-01,\"19106\",0,0,0,0,0,0,0,0,0,0,0,0,0,0...                                                                                                                                                                                                                                                                                                                                                                                                                                                                                              \n",
              "4       2014-01-01,\"19107\",0,0,0,0,0,0,0,0,0,0,0,0,0,0...                                                                                                                                                                                                                                                                                                                                                                                                                                                                                              \n",
              "...                                                   ...                                                                                                                                                                                                                                                                                                                                                                                                                                                                                              \n",
              "119408  2020-09-02,\"19151\",0,0,0,0,0,0,0,0,0,0,0,0,0,0...                                                                                                                                                                                                                                                                                                                                                                                                                                                                                              \n",
              "119409  2020-09-02,\"19152\",0,0,0,0,0,0,0,0,0,0,0,0,0,0...                                                                                                                                                                                                                                                                                                                                                                                                                                                                                              \n",
              "119410  2020-09-02,\"19153\",0,0,0,0,0,0,0,0,0,0,0,0,0,0...                                                                                                                                                                                                                                                                                                                                                                                                                                                                                              \n",
              "119411  2020-09-02,\"19154\",0,0,0,0,0,0,0,0,0,0,0,0,0,0...                                                                                                                                                                                                                                                                                                                                                                                                                                                                                              \n",
              "119412  2020-09-02,\"Unknown\",0,0,0,0,0,0,0,0,0,0,0,0,0...                                                                                                                                                                                                                                                                                                                                                                                                                                                                                              \n",
              "\n",
              "[119413 rows x 1 columns]"
            ]
          },
          "metadata": {
            "tags": []
          },
          "execution_count": 275
        }
      ]
    },
    {
      "cell_type": "code",
      "metadata": {
        "id": "1kuwRihqqHQ6",
        "colab_type": "code",
        "colab": {}
      },
      "source": [
        ""
      ],
      "execution_count": null,
      "outputs": []
    }
  ]
}