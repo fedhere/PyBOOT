{
  "nbformat": 4,
  "nbformat_minor": 0,
  "metadata": {
    "colab": {
      "name": "pyBootParma.ipynb",
      "provenance": [],
      "authorship_tag": "ABX9TyPw0kawmThTSGiU5NOT7vvq",
      "include_colab_link": true
    },
    "kernelspec": {
      "name": "python3",
      "display_name": "Python 3"
    }
  },
  "cells": [
    {
      "cell_type": "markdown",
      "metadata": {
        "id": "view-in-github",
        "colab_type": "text"
      },
      "source": [
        "<a href=\"https://colab.research.google.com/github/fedhere/PyBOOT/blob/master/pyBootParma.ipynb\" target=\"_parent\"><img src=\"https://colab.research.google.com/assets/colab-badge.svg\" alt=\"Open In Colab\"/></a>"
      ]
    },
    {
      "cell_type": "markdown",
      "metadata": {
        "id": "tweC1ara_H0S"
      },
      "source": [
        "Notebooks are integrated environments that host code and code outputs in the same place. They are ideal for prototyping, pedagogical coding, demonstrative coding (e.g. as documentation to accompany software releases)"
      ]
    },
    {
      "cell_type": "code",
      "metadata": {
        "colab": {
          "base_uri": "https://localhost:8080/"
        },
        "id": "WX5kfV3sdECg",
        "outputId": "01ad717d-6e48-4ee4-afa0-2ffb424022f1"
      },
      "source": [
        "print(\"hello\")"
      ],
      "execution_count": 50,
      "outputs": [
        {
          "output_type": "stream",
          "text": [
            "hello\n"
          ],
          "name": "stdout"
        }
      ]
    },
    {
      "cell_type": "code",
      "metadata": {
        "id": "OtpYDItE_CVY"
      },
      "source": [
        "# comments in python start with \"#\""
      ],
      "execution_count": 51,
      "outputs": []
    },
    {
      "cell_type": "code",
      "metadata": {
        "id": "lXq_KGMydhN8"
      },
      "source": [
        "#importing a module\n",
        "from __future__ import print_function, division"
      ],
      "execution_count": 52,
      "outputs": []
    },
    {
      "cell_type": "markdown",
      "metadata": {
        "id": "9iahpHaA-wus"
      },
      "source": [
        "# native python variables"
      ]
    },
    {
      "cell_type": "code",
      "metadata": {
        "id": "aPGkhmcQeiAy"
      },
      "source": [
        "stringVariable = \"hello!\""
      ],
      "execution_count": 53,
      "outputs": []
    },
    {
      "cell_type": "code",
      "metadata": {
        "colab": {
          "base_uri": "https://localhost:8080/"
        },
        "id": "iN0IQ7IRf9os",
        "outputId": "c03a60f9-8a5e-465a-ad95-99ba02682fd5"
      },
      "source": [
        "print(\"hello!\")"
      ],
      "execution_count": 54,
      "outputs": [
        {
          "output_type": "stream",
          "text": [
            "hello!\n"
          ],
          "name": "stdout"
        }
      ]
    },
    {
      "cell_type": "code",
      "metadata": {
        "colab": {
          "base_uri": "https://localhost:8080/"
        },
        "id": "3o2BakvvgAXQ",
        "outputId": "d03768e4-213d-4bee-ca95-38cef16f87e8"
      },
      "source": [
        "print(stringVariable)"
      ],
      "execution_count": 55,
      "outputs": [
        {
          "output_type": "stream",
          "text": [
            "hello!\n"
          ],
          "name": "stdout"
        }
      ]
    },
    {
      "cell_type": "code",
      "metadata": {
        "id": "YLIy-3x3gcBt"
      },
      "source": [
        "intVariable = 3"
      ],
      "execution_count": 56,
      "outputs": []
    },
    {
      "cell_type": "code",
      "metadata": {
        "colab": {
          "base_uri": "https://localhost:8080/"
        },
        "id": "QEmLhl5Dg7_4",
        "outputId": "bc76942a-93ad-46c9-c493-bd7b0f1fda44"
      },
      "source": [
        "type(intVariable)"
      ],
      "execution_count": 57,
      "outputs": [
        {
          "output_type": "execute_result",
          "data": {
            "text/plain": [
              "int"
            ]
          },
          "metadata": {
            "tags": []
          },
          "execution_count": 57
        }
      ]
    },
    {
      "cell_type": "code",
      "metadata": {
        "colab": {
          "base_uri": "https://localhost:8080/"
        },
        "id": "JaaNfGdhg_dA",
        "outputId": "68c0a5b5-fc7e-42a2-e63a-5875fee5c729"
      },
      "source": [
        "type(stringVariable)"
      ],
      "execution_count": 58,
      "outputs": [
        {
          "output_type": "execute_result",
          "data": {
            "text/plain": [
              "str"
            ]
          },
          "metadata": {
            "tags": []
          },
          "execution_count": 58
        }
      ]
    },
    {
      "cell_type": "code",
      "metadata": {
        "id": "p3Wa0aOMhBNd"
      },
      "source": [
        "floatVariable = 3."
      ],
      "execution_count": 59,
      "outputs": []
    },
    {
      "cell_type": "code",
      "metadata": {
        "colab": {
          "base_uri": "https://localhost:8080/"
        },
        "id": "8a2OUBfzhHPI",
        "outputId": "0d1d7c0e-96c3-4abe-db6a-348de65b4305"
      },
      "source": [
        "type(floatVariable)"
      ],
      "execution_count": 60,
      "outputs": [
        {
          "output_type": "execute_result",
          "data": {
            "text/plain": [
              "float"
            ]
          },
          "metadata": {
            "tags": []
          },
          "execution_count": 60
        }
      ]
    },
    {
      "cell_type": "code",
      "metadata": {
        "colab": {
          "base_uri": "https://localhost:8080/"
        },
        "id": "fKcKRQZphJqO",
        "outputId": "64918a57-c798-488b-faf6-e97fd1ba4080"
      },
      "source": [
        "5 * 2"
      ],
      "execution_count": 61,
      "outputs": [
        {
          "output_type": "execute_result",
          "data": {
            "text/plain": [
              "10"
            ]
          },
          "metadata": {
            "tags": []
          },
          "execution_count": 61
        }
      ]
    },
    {
      "cell_type": "code",
      "metadata": {
        "colab": {
          "base_uri": "https://localhost:8080/"
        },
        "id": "-5UpUtD5hOmI",
        "outputId": "59ffe47b-9475-4fe7-e146-7b02f111fc0d"
      },
      "source": [
        "intVariable * floatVariable"
      ],
      "execution_count": 62,
      "outputs": [
        {
          "output_type": "execute_result",
          "data": {
            "text/plain": [
              "9.0"
            ]
          },
          "metadata": {
            "tags": []
          },
          "execution_count": 62
        }
      ]
    },
    {
      "cell_type": "code",
      "metadata": {
        "colab": {
          "base_uri": "https://localhost:8080/"
        },
        "id": "1m7eLocdhgoc",
        "outputId": "b2f1ac4c-2669-49b5-9edd-f9faca6dc460"
      },
      "source": [
        "#only the return of the last row of a notebook cell is rendered\n",
        "5 * 2\n",
        "intVariable * floatVariable"
      ],
      "execution_count": 63,
      "outputs": [
        {
          "output_type": "execute_result",
          "data": {
            "text/plain": [
              "9.0"
            ]
          },
          "metadata": {
            "tags": []
          },
          "execution_count": 63
        }
      ]
    },
    {
      "cell_type": "code",
      "metadata": {
        "colab": {
          "base_uri": "https://localhost:8080/"
        },
        "id": "KlauEOGuhizG",
        "outputId": "13e9410e-fbb9-49a8-a136-2a4016a346b3"
      },
      "source": [
        "# you can cast variable into different types\n",
        "int(intVariable * floatVariable)"
      ],
      "execution_count": 64,
      "outputs": [
        {
          "output_type": "execute_result",
          "data": {
            "text/plain": [
              "9"
            ]
          },
          "metadata": {
            "tags": []
          },
          "execution_count": 64
        }
      ]
    },
    {
      "cell_type": "code",
      "metadata": {
        "colab": {
          "base_uri": "https://localhost:8080/",
          "height": 35
        },
        "id": "OForwkNGhyn0",
        "outputId": "12d4364f-a9f3-4559-dbf0-3ff359e8abc0"
      },
      "source": [
        "str(intVariable * floatVariable)"
      ],
      "execution_count": 65,
      "outputs": [
        {
          "output_type": "execute_result",
          "data": {
            "application/vnd.google.colaboratory.intrinsic+json": {
              "type": "string"
            },
            "text/plain": [
              "'9.0'"
            ]
          },
          "metadata": {
            "tags": []
          },
          "execution_count": 65
        }
      ]
    },
    {
      "cell_type": "markdown",
      "metadata": {
        "id": "rq138V-7_clN"
      },
      "source": [
        "\"Boolean\" variables: True/False enable conditions in coding.\n",
        "\n"
      ]
    },
    {
      "cell_type": "code",
      "metadata": {
        "id": "xTZmjycjh2fX"
      },
      "source": [
        "boolVar = True"
      ],
      "execution_count": 66,
      "outputs": []
    },
    {
      "cell_type": "code",
      "metadata": {
        "colab": {
          "base_uri": "https://localhost:8080/"
        },
        "id": "y0AS2u9ih-Pz",
        "outputId": "ce160092-7cef-452e-f5a0-802ba9e63e71"
      },
      "source": [
        "boolVar"
      ],
      "execution_count": 67,
      "outputs": [
        {
          "output_type": "execute_result",
          "data": {
            "text/plain": [
              "True"
            ]
          },
          "metadata": {
            "tags": []
          },
          "execution_count": 67
        }
      ]
    },
    {
      "cell_type": "code",
      "metadata": {
        "colab": {
          "base_uri": "https://localhost:8080/"
        },
        "id": "qQf2PJB2iD4e",
        "outputId": "ac5d3c94-9c5a-44f6-d204-3ab7fbbb5d34"
      },
      "source": [
        "(type(floatVariable) == float)"
      ],
      "execution_count": 68,
      "outputs": [
        {
          "output_type": "execute_result",
          "data": {
            "text/plain": [
              "True"
            ]
          },
          "metadata": {
            "tags": []
          },
          "execution_count": 68
        }
      ]
    },
    {
      "cell_type": "markdown",
      "metadata": {
        "id": "axPkxYX6A3hM"
      },
      "source": [
        "# loops and conditions"
      ]
    },
    {
      "cell_type": "markdown",
      "metadata": {
        "id": "qFRJL0xKA-CR"
      },
      "source": [
        "## conditional statements\n",
        "the end of the condition is indicated by \":\"\n",
        "\n",
        "the content of the condition is indented"
      ]
    },
    {
      "cell_type": "code",
      "metadata": {
        "colab": {
          "base_uri": "https://localhost:8080/"
        },
        "id": "OONjxwJyiXf7",
        "outputId": "889f5bd6-9daa-473f-d204-c34f58a082c8"
      },
      "source": [
        "if type(floatVariable) == float:\n",
        "  print (\"yes its a float\")"
      ],
      "execution_count": 69,
      "outputs": [
        {
          "output_type": "stream",
          "text": [
            "yes its a float\n"
          ],
          "name": "stdout"
        }
      ]
    },
    {
      "cell_type": "markdown",
      "metadata": {
        "id": "yVkxVc58AbhL"
      },
      "source": [
        "Python syntax is implemented by indentation: sections of code with the same indentation belong to the same condition/loop/function"
      ]
    },
    {
      "cell_type": "code",
      "metadata": {
        "colab": {
          "base_uri": "https://localhost:8080/"
        },
        "id": "gLWZmXZqir8Q",
        "outputId": "c8316cac-5a75-4adb-a74e-50815864ccd2"
      },
      "source": [
        "if not type(floatVariable) == float:\n",
        "  print (\"yes its a not float\")\n",
        "else :\n",
        "  print (\"yes\")"
      ],
      "execution_count": 70,
      "outputs": [
        {
          "output_type": "stream",
          "text": [
            "yes\n"
          ],
          "name": "stdout"
        }
      ]
    },
    {
      "cell_type": "code",
      "metadata": {
        "colab": {
          "base_uri": "https://localhost:8080/"
        },
        "id": "UFT7j8RuiuJl",
        "outputId": "8834f897-5d5f-445e-db59-fdede9eff96a"
      },
      "source": [
        "if 0:\n",
        "  print (\"no\")\n",
        "else :\n",
        "  print (\"yes\")"
      ],
      "execution_count": 71,
      "outputs": [
        {
          "output_type": "stream",
          "text": [
            "yes\n"
          ],
          "name": "stdout"
        }
      ]
    },
    {
      "cell_type": "code",
      "metadata": {
        "colab": {
          "base_uri": "https://localhost:8080/"
        },
        "id": "9EAfqrQQi7T5",
        "outputId": "dfe2d88a-0b48-45c7-afa9-74dfffc68aa5"
      },
      "source": [
        "if -1: \n",
        "  print (\"yes\")\n",
        "else :\n",
        "  print (\"no\")"
      ],
      "execution_count": 72,
      "outputs": [
        {
          "output_type": "stream",
          "text": [
            "yes\n"
          ],
          "name": "stdout"
        }
      ]
    },
    {
      "cell_type": "code",
      "metadata": {
        "colab": {
          "base_uri": "https://localhost:8080/"
        },
        "id": "fvGzubNVjT54",
        "outputId": "f374b6f8-6378-4be1-ea46-fbbeceb09184"
      },
      "source": [
        "if (type(floatVariable) == float) + (floatVariable < 0):\n",
        "  print (\"yes its a float > 1\")"
      ],
      "execution_count": 73,
      "outputs": [
        {
          "output_type": "stream",
          "text": [
            "yes its a float > 1\n"
          ],
          "name": "stdout"
        }
      ]
    },
    {
      "cell_type": "code",
      "metadata": {
        "id": "Q1LwY7W0AtYC"
      },
      "source": [
        ""
      ],
      "execution_count": 73,
      "outputs": []
    },
    {
      "cell_type": "markdown",
      "metadata": {
        "id": "FYeT_hCaArBg"
      },
      "source": [
        "## loops in python: \n",
        "the end of the loop definition is indicated by \":\"\n",
        "\n",
        "the actions to be looped are indented\n"
      ]
    },
    {
      "cell_type": "code",
      "metadata": {
        "id": "omdqpKJUZRBl"
      },
      "source": [
        "amax = 10"
      ],
      "execution_count": 74,
      "outputs": []
    },
    {
      "cell_type": "code",
      "metadata": {
        "colab": {
          "base_uri": "https://localhost:8080/"
        },
        "id": "xsZPbEU4AVt6",
        "outputId": "c8c4433f-bb58-4df2-c420-73fbfab064a4"
      },
      "source": [
        "for a in range(amax):\n",
        "  print(a)"
      ],
      "execution_count": 75,
      "outputs": [
        {
          "output_type": "stream",
          "text": [
            "0\n",
            "1\n",
            "2\n",
            "3\n",
            "4\n",
            "5\n",
            "6\n",
            "7\n",
            "8\n",
            "9\n"
          ],
          "name": "stdout"
        }
      ]
    },
    {
      "cell_type": "code",
      "metadata": {
        "colab": {
          "base_uri": "https://localhost:8080/"
        },
        "id": "AQsn-roHjeLE",
        "outputId": "bc1178f6-15d7-48f2-d584-c1da4914b00f"
      },
      "source": [
        "a =0 \n",
        "while a is not 10:\n",
        "  a = a+1\n",
        "  print(a)"
      ],
      "execution_count": 76,
      "outputs": [
        {
          "output_type": "stream",
          "text": [
            "1\n",
            "2\n",
            "3\n",
            "4\n",
            "5\n",
            "6\n",
            "7\n",
            "8\n",
            "9\n",
            "10\n"
          ],
          "name": "stdout"
        }
      ]
    },
    {
      "cell_type": "markdown",
      "metadata": {
        "id": "qWYFjuwEaJAT"
      },
      "source": [
        "# variable containers"
      ]
    },
    {
      "cell_type": "code",
      "metadata": {
        "id": "jS4OHkk7j8uM",
        "colab": {
          "base_uri": "https://localhost:8080/"
        },
        "outputId": "f480c127-e8d9-4426-cbbf-cb80a3095f40"
      },
      "source": [
        "myList = [0, 1, 3, \"hello\", 3.3]\n",
        "myList"
      ],
      "execution_count": 83,
      "outputs": [
        {
          "output_type": "execute_result",
          "data": {
            "text/plain": [
              "[0, 1, 3, 'hello', 3.3]"
            ]
          },
          "metadata": {
            "tags": []
          },
          "execution_count": 83
        }
      ]
    },
    {
      "cell_type": "code",
      "metadata": {
        "colab": {
          "base_uri": "https://localhost:8080/"
        },
        "id": "oQjvcbXOaIKK",
        "outputId": "b37fd6b0-2ce0-450a-9ece-9c3ca1838cfc"
      },
      "source": [
        "myList = [0, 1, 3, \"hello\", 3.3, [0 , 2, 3.3]]\n",
        "myList"
      ],
      "execution_count": 85,
      "outputs": [
        {
          "output_type": "execute_result",
          "data": {
            "text/plain": [
              "[0, 1, 3, 'hello', 3.3, [0, 2, 3.3]]"
            ]
          },
          "metadata": {
            "tags": []
          },
          "execution_count": 85
        }
      ]
    },
    {
      "cell_type": "code",
      "metadata": {
        "colab": {
          "base_uri": "https://localhost:8080/"
        },
        "id": "fDSIJMt8aVbC",
        "outputId": "fbd6ff30-f448-4c33-ec1a-b7e8d5402873"
      },
      "source": [
        "myList[-1]"
      ],
      "execution_count": 88,
      "outputs": [
        {
          "output_type": "execute_result",
          "data": {
            "text/plain": [
              "[0, 2, 3.3]"
            ]
          },
          "metadata": {
            "tags": []
          },
          "execution_count": 88
        }
      ]
    },
    {
      "cell_type": "code",
      "metadata": {
        "colab": {
          "base_uri": "https://localhost:8080/",
          "height": 35
        },
        "id": "w9TfQIyXa48L",
        "outputId": "6c246d1a-4825-490c-9ece-bf952f0f01cd"
      },
      "source": [
        "(stringVariable \n",
        " + stringVariable)"
      ],
      "execution_count": 97,
      "outputs": [
        {
          "output_type": "execute_result",
          "data": {
            "application/vnd.google.colaboratory.intrinsic+json": {
              "type": "string"
            },
            "text/plain": [
              "'hello!hello!'"
            ]
          },
          "metadata": {
            "tags": []
          },
          "execution_count": 97
        }
      ]
    },
    {
      "cell_type": "code",
      "metadata": {
        "colab": {
          "base_uri": "https://localhost:8080/"
        },
        "id": "m8hmBjgQbCNO",
        "outputId": "22016b29-84bc-4da6-89dd-9e5fec1fd47c"
      },
      "source": [
        "myList + myList"
      ],
      "execution_count": 95,
      "outputs": [
        {
          "output_type": "execute_result",
          "data": {
            "text/plain": [
              "[0, 1, 3, 'hello', 3.3, [0, 2, 3.3], 0, 1, 3, 'hello', 3.3, [0, 2, 3.3]]"
            ]
          },
          "metadata": {
            "tags": []
          },
          "execution_count": 95
        }
      ]
    },
    {
      "cell_type": "code",
      "metadata": {
        "colab": {
          "base_uri": "https://localhost:8080/"
        },
        "id": "KS8UygRTbT8C",
        "outputId": "adfe72a9-9ce5-4d44-ee13-e88e8939f1c4"
      },
      "source": [
        "print(\"here I am in Parma but I am stuck in an appartment due to the lockdown\" + \n",
        "      \" and I dont like it\")"
      ],
      "execution_count": 99,
      "outputs": [
        {
          "output_type": "stream",
          "text": [
            "here I am in Parma but I am stuck in an appartment due to the lockdown and I dont like it\n"
          ],
          "name": "stdout"
        }
      ]
    },
    {
      "cell_type": "code",
      "metadata": {
        "colab": {
          "base_uri": "https://localhost:8080/"
        },
        "id": "YkIfLOwybxO7",
        "outputId": "51093c2c-6e4d-49e0-cd37-9814c9e4fd35"
      },
      "source": [
        "print(myList + \n",
        "      myList)"
      ],
      "execution_count": 100,
      "outputs": [
        {
          "output_type": "stream",
          "text": [
            "[0, 1, 3, 'hello', 3.3, [0, 2, 3.3], 0, 1, 3, 'hello', 3.3, [0, 2, 3.3]]\n"
          ],
          "name": "stdout"
        }
      ]
    },
    {
      "cell_type": "code",
      "metadata": {
        "colab": {
          "base_uri": "https://localhost:8080/"
        },
        "id": "Ag1u8yCFb3NE",
        "outputId": "9fe2eb20-983c-4d90-9976-d4061b9ab712"
      },
      "source": [
        "tmplist = []\n",
        "a = 0\n",
        "while a**2 < 300:\n",
        "  a = a+1\n",
        "  tmplist.append(a**2)\n",
        "tmplist"
      ],
      "execution_count": 105,
      "outputs": [
        {
          "output_type": "execute_result",
          "data": {
            "text/plain": [
              "[1, 4, 9, 16, 25, 36, 49, 64, 81, 100, 121, 144, 169, 196, 225, 256, 289, 324]"
            ]
          },
          "metadata": {
            "tags": []
          },
          "execution_count": 105
        }
      ]
    },
    {
      "cell_type": "markdown",
      "metadata": {
        "id": "RmvBhqLkcGs5"
      },
      "source": [
        "list are really useful cause they can contain hybrid types an because they do not need to be allocated memory before they are filled so I can append things on the fly"
      ]
    },
    {
      "cell_type": "markdown",
      "metadata": {
        "id": "ivmQsNcycoRH"
      },
      "source": [
        "list are also extremely computationally inefficient"
      ]
    },
    {
      "cell_type": "code",
      "metadata": {
        "id": "lQ3pDhAadGTl"
      },
      "source": [
        "dictVariable = {\"keyInt\": 0,\n",
        "                \"keyFloat\": 0.3,\n",
        "                \"keyString\": \"Im a string\",\n",
        "                \"keyDict\": {} }"
      ],
      "execution_count": 112,
      "outputs": []
    },
    {
      "cell_type": "code",
      "metadata": {
        "colab": {
          "base_uri": "https://localhost:8080/"
        },
        "id": "oagm0lv4d6hy",
        "outputId": "37dd257e-87aa-4c85-f250-357fc5d8a59f"
      },
      "source": [
        "dictVariable"
      ],
      "execution_count": 113,
      "outputs": [
        {
          "output_type": "execute_result",
          "data": {
            "text/plain": [
              "{'keyDict': {}, 'keyFloat': 0.3, 'keyInt': 0, 'keyString': 'Im a string'}"
            ]
          },
          "metadata": {
            "tags": []
          },
          "execution_count": 113
        }
      ]
    },
    {
      "cell_type": "code",
      "metadata": {
        "id": "dfaWWH6Qd7ae"
      },
      "source": [
        "dictVariable[\"keyList\"] = []"
      ],
      "execution_count": 114,
      "outputs": []
    },
    {
      "cell_type": "code",
      "metadata": {
        "colab": {
          "base_uri": "https://localhost:8080/"
        },
        "id": "vPqJjw3GeFbA",
        "outputId": "c89469b9-fb80-4654-c445-b4bb5bd76e8a"
      },
      "source": [
        "dictVariable"
      ],
      "execution_count": 115,
      "outputs": [
        {
          "output_type": "execute_result",
          "data": {
            "text/plain": [
              "{'keyDict': {},\n",
              " 'keyFloat': 0.3,\n",
              " 'keyInt': 0,\n",
              " 'keyList': [],\n",
              " 'keyString': 'Im a string'}"
            ]
          },
          "metadata": {
            "tags": []
          },
          "execution_count": 115
        }
      ]
    },
    {
      "cell_type": "code",
      "metadata": {
        "id": "oj47KMr8eNDp"
      },
      "source": [
        "dictVariable[\"keyList\"].append(0)"
      ],
      "execution_count": 116,
      "outputs": []
    },
    {
      "cell_type": "code",
      "metadata": {
        "colab": {
          "base_uri": "https://localhost:8080/"
        },
        "id": "GGekjn1NeS3T",
        "outputId": "a3c64743-5cb2-4dbc-c0b9-6c1a4c62f6cc"
      },
      "source": [
        "dictVariable"
      ],
      "execution_count": 117,
      "outputs": [
        {
          "output_type": "execute_result",
          "data": {
            "text/plain": [
              "{'keyDict': {},\n",
              " 'keyFloat': 0.3,\n",
              " 'keyInt': 0,\n",
              " 'keyList': [0],\n",
              " 'keyString': 'Im a string'}"
            ]
          },
          "metadata": {
            "tags": []
          },
          "execution_count": 117
        }
      ]
    },
    {
      "cell_type": "code",
      "metadata": {
        "id": "ATCwGI4oeUKz"
      },
      "source": [
        "dictVariable[\"keyDict\"]['nested1'] = 0.1\n"
      ],
      "execution_count": 118,
      "outputs": []
    },
    {
      "cell_type": "code",
      "metadata": {
        "id": "hXSXvgs_ecJf"
      },
      "source": [
        "dictVariable[\"keyDict\"]['nested2'] = {}"
      ],
      "execution_count": 119,
      "outputs": []
    },
    {
      "cell_type": "code",
      "metadata": {
        "colab": {
          "base_uri": "https://localhost:8080/"
        },
        "id": "WxluGyY5eeF0",
        "outputId": "d13bafd1-068c-435f-d8e7-1590b851a477"
      },
      "source": [
        "dictVariable"
      ],
      "execution_count": 120,
      "outputs": [
        {
          "output_type": "execute_result",
          "data": {
            "text/plain": [
              "{'keyDict': {'nested1': 0.1, 'nested2': {}},\n",
              " 'keyFloat': 0.3,\n",
              " 'keyInt': 0,\n",
              " 'keyList': [0],\n",
              " 'keyString': 'Im a string'}"
            ]
          },
          "metadata": {
            "tags": []
          },
          "execution_count": 120
        }
      ]
    },
    {
      "cell_type": "code",
      "metadata": {
        "colab": {
          "base_uri": "https://localhost:8080/",
          "height": 35
        },
        "id": "fmOhbEOmefyQ",
        "outputId": "8c3b1979-5d5e-4eec-9e44-227c2e0279e5"
      },
      "source": [
        "stringVariable.replace(\"!\", '')"
      ],
      "execution_count": 125,
      "outputs": [
        {
          "output_type": "execute_result",
          "data": {
            "application/vnd.google.colaboratory.intrinsic+json": {
              "type": "string"
            },
            "text/plain": [
              "'hello'"
            ]
          },
          "metadata": {
            "tags": []
          },
          "execution_count": 125
        }
      ]
    },
    {
      "cell_type": "code",
      "metadata": {
        "colab": {
          "base_uri": "https://localhost:8080/"
        },
        "id": "YFUFD-JtfZri",
        "outputId": "9b888d6a-df1d-4f50-ae81-1d592c318b9e"
      },
      "source": [
        "print(\"Hello 'you' \")"
      ],
      "execution_count": 127,
      "outputs": [
        {
          "output_type": "stream",
          "text": [
            "Hello 'you' \n"
          ],
          "name": "stdout"
        }
      ]
    },
    {
      "cell_type": "code",
      "metadata": {
        "id": "6xVHqT8xgAvq"
      },
      "source": [
        ""
      ],
      "execution_count": null,
      "outputs": []
    }
  ]
}