{
 "cells": [
  {
   "cell_type": "code",
   "execution_count": 1,
   "metadata": {
    "collapsed": false,
    "run_control": {
     "frozen": false,
     "read_only": false
    }
   },
   "outputs": [
    {
     "name": "stdout",
     "output_type": "stream",
     "text": [
      "Jan        1     M      2     T      3     W      4    Th      5     F      6     S      7   Sun\n",
      "Jan        8     M      9     T     10     W     11    Th     12     F     13     S     14   Sun\n",
      "Jan       15     M     16     T     17     W     18    Th     19     F     20     S     21   Sun\n",
      "Jan       22     M     23     T     24     W     25    Th     26     F     27     S     28   Sun\n",
      "Jan       29     M     30     T     31     W      1    Th      2     F      3     S      4   Sun\n",
      "Feb        5     M      6     T      7     W      8    Th      9     F     10     S     11   Sun\n",
      "Feb       12     M     13     T     14     W     15    Th     16     F     17     S     18   Sun\n",
      "Feb       19     M     20     T     21     W     22    Th     23     F     24     S     25   Sun\n",
      "Feb       26     M     27     T     28     W     29    Th      1     F      2     S      3   Sun\n",
      "Mar        4     M      5     T      6     W      7    Th      8     F      9     S     10   Sun\n",
      "Mar       11     M     12     T     13     W     14    Th     15     F     16     S     17   Sun\n",
      "Mar       18     M     19     T     20     W     21    Th     22     F     23     S     24   Sun\n",
      "Mar       25     M     26     T     27     W     28    Th     29     F     30     S     31   Sun\n",
      "Apr        1     M      2     T      3     W      4    Th      5     F      6     S      7   Sun\n",
      "Apr        8     M      9     T     10     W     11    Th     12     F     13     S     14   Sun\n",
      "Apr       15     M     16     T     17     W     18    Th     19     F     20     S     21   Sun\n",
      "Apr       22     M     23     T     24     W     25    Th     26     F     27     S     28   Sun\n",
      "Apr       29     M     30     T      1     W      2    Th      3     F      4     S      5   Sun\n",
      "May        6     M      7     T      8     W      9    Th     10     F     11     S     12   Sun\n",
      "May       13     M     14     T     15     W     16    Th     17     F     18     S     19   Sun\n",
      "May       20     M     21     T     22     W     23    Th     24     F     25     S     26   Sun\n",
      "May       27     M     28     T     29     W     30    Th     31     F      1     S      2   Sun\n",
      "Jun        3     M      4     T      5     W      6    Th      7     F      8     S      9   Sun\n",
      "Jun       10     M     11     T     12     W     13    Th     14     F     15     S     16   Sun\n",
      "Jun       17     M     18     T     19     W     20    Th     21     F     22     S     23   Sun\n",
      "Jun       24     M     25     T     26     W     27    Th     28     F     29     S     30   Sun\n",
      "Jul        1     M      2     T      3     W      4    Th      5     F      6     S      7   Sun\n",
      "Jul        8     M      9     T     10     W     11    Th     12     F     13     S     14   Sun\n",
      "Jul       15     M     16     T     17     W     18    Th     19     F     20     S     21   Sun\n",
      "Jul       22     M     23     T     24     W     25    Th     26     F     27     S     28   Sun\n",
      "Jul       29     M     30     T     31     W      1    Th      2     F      3     S      4   Sun\n",
      "Aug        5     M      6     T      7     W      8    Th      9     F     10     S     11   Sun\n",
      "Aug       12     M     13     T     14     W     15    Th     16     F     17     S     18   Sun\n",
      "Aug       19     M     20     T     21     W     22    Th     23     F     24     S     25   Sun\n",
      "Aug       26     M     27     T     28     W     29    Th     30     F     31     S      1   Sun\n",
      "Sep        2     M      3     T      4     W      5    Th      6     F      7     S      8   Sun\n",
      "Sep        9     M     10     T     11     W     12    Th     13     F     14     S     15   Sun\n",
      "Sep       16     M     17     T     18     W     19    Th     20     F     21     S     22   Sun\n",
      "Sep       23     M     24     T     25     W     26    Th     27     F     28     S     29   Sun\n",
      "Sep       30     M      1     T      2     W      3    Th      4     F      5     S      6   Sun\n",
      "Oct        7     M      8     T      9     W     10    Th     11     F     12     S     13   Sun\n",
      "Oct       14     M     15     T     16     W     17    Th     18     F     19     S     20   Sun\n",
      "Oct       21     M     22     T     23     W     24    Th     25     F     26     S     27   Sun\n",
      "Oct       28     M     29     T     30     W     31    Th      1     F      2     S      3   Sun\n",
      "Nov        4     M      5     T      6     W      7    Th      8     F      9     S     10   Sun\n",
      "Nov       11     M     12     T     13     W     14    Th     15     F     16     S     17   Sun\n",
      "Nov       18     M     19     T     20     W     21    Th     22     F     23     S     24   Sun\n",
      "Nov       25     M     26     T     27     W     28    Th     29     F     30     S      1   Sun\n",
      "Dec        2     M      3     T      4     W      5    Th      6     F      7     S      8   Sun\n",
      "Dec        9     M     10     T     11     W     12    Th     13     F     14     S     15   Sun\n",
      "Dec       16     M     17     T     18     W     19    Th     20     F     21     S     22   Sun\n",
      "Dec       23     M     24     T     25     W     26    Th     27     F     28     S     29   Sun\n",
      "Dec       30     M     31     T"
     ]
    }
   ],
   "source": [
    "from __future__ import print_function\n",
    "\n",
    "days = ['M','T','W','Th','F','S','Sun']\n",
    "months = ['Jan','Feb','Mar','Apr','May','Jun','Jul','Aug','Sep','Oct','Nov','Dec']\n",
    "feb = 29\n",
    "dom = [31, feb, 31, 30, 31, 30, 31, 31, 30, 31, 30, 31]\n",
    "\n",
    "jj=-1\n",
    "\n",
    "for i,m in enumerate(months):\n",
    "    j0 = jj + 1\n",
    "    for j in range(dom[i]):\n",
    "        if jj == -1 or jj == 6: print (m, \" \", end=\"\")\n",
    "        jj = (j + j0) % 7\n",
    "        \n",
    "        print ('{:>7} {:>5}'.format(j+1, days[(j+j0)%7]), end=\"\")\n",
    "        if (j + j0)%7 == 6:\n",
    "            print (\"\")\n",
    "            \n"
   ]
  },
  {
   "cell_type": "code",
   "execution_count": null,
   "metadata": {
    "collapsed": true,
    "run_control": {
     "frozen": false,
     "read_only": false
    }
   },
   "outputs": [],
   "source": []
  }
 ],
 "metadata": {
  "kernelspec": {
   "display_name": "Python [default]",
   "language": "python",
   "name": "python2"
  },
  "language_info": {
   "codemirror_mode": {
    "name": "ipython",
    "version": 2
   },
   "file_extension": ".py",
   "mimetype": "text/x-python",
   "name": "python",
   "nbconvert_exporter": "python",
   "pygments_lexer": "ipython2",
   "version": "2.7.12"
  },
  "latex_envs": {
   "LaTeX_envs_menu_present": true,
   "bibliofile": "biblio.bib",
   "cite_by": "apalike",
   "current_citInitial": 1,
   "eqLabelWithNumbers": true,
   "eqNumInitial": 1,
   "hotkeys": {
    "equation": "Ctrl-E",
    "itemize": "Ctrl-I"
   },
   "labels_anchors": false,
   "latex_user_defs": false,
   "report_style_numbering": false,
   "user_envs_cfg": false
  },
  "toc": {
   "colors": {
    "hover_highlight": "#DAA520",
    "running_highlight": "#FF0000",
    "selected_highlight": "#FFD700"
   },
   "moveMenuLeft": true,
   "nav_menu": {
    "height": "12px",
    "width": "252px"
   },
   "navigate_menu": true,
   "number_sections": true,
   "sideBar": true,
   "threshold": 4,
   "toc_cell": false,
   "toc_section_display": "block",
   "toc_window_display": false
  }
 },
 "nbformat": 4,
 "nbformat_minor": 0
}
