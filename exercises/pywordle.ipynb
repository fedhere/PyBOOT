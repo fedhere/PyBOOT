{
  "nbformat": 4,
  "nbformat_minor": 0,
  "metadata": {
    "colab": {
      "name": "pywordle.ipynb",
      "provenance": [],
      "authorship_tag": "ABX9TyPgjiZJk3+0NurJ7TgE+Tky",
      "include_colab_link": true
    },
    "kernelspec": {
      "name": "python3",
      "display_name": "Python 3"
    },
    "language_info": {
      "name": "python"
    }
  },
  "cells": [
    {
      "cell_type": "markdown",
      "metadata": {
        "id": "view-in-github",
        "colab_type": "text"
      },
      "source": [
        "<a href=\"https://colab.research.google.com/github/fedhere/PyBOOT/blob/master/exercises/pywordle.ipynb\" target=\"_parent\"><img src=\"https://colab.research.google.com/assets/colab-badge.svg\" alt=\"Open In Colab\"/></a>"
      ]
    },
    {
      "cell_type": "markdown",
      "source": [
        "\n",
        "python version of the Wordle game\n",
        "\n",
        "simple string manipulation exercise\n",
        "\n",
        "Written by FBB April 2022 for PyBOOT"
      ],
      "metadata": {
        "id": "WCWzM5LAYHR7"
      }
    },
    {
      "cell_type": "code",
      "execution_count": 1,
      "metadata": {
        "id": "utUeuLBLVglu"
      },
      "outputs": [],
      "source": [
        "word = \"acres\""
      ]
    },
    {
      "cell_type": "code",
      "source": [
        "guess = \"tests\""
      ],
      "metadata": {
        "id": "KRV5HzVrVnav"
      },
      "execution_count": 2,
      "outputs": []
    },
    {
      "cell_type": "code",
      "source": [
        "def comparestrings(word, guess):\n",
        "  result = ['x', 'x', 'x', 'x', 'x']\n",
        "  if not len(guess) == len(word):\n",
        "    print(\"word must be 5 characters\")\n",
        "    return\n",
        "  for i in range(len(word)):\n",
        "    if guess[i] == word[i]:\n",
        "      result[i] = \"v\"\n",
        "    elif guess[i] in word[i]:\n",
        "      result[i] = '.'\n",
        "  #print(list(word))\n",
        "  print(list(guess))\n",
        "  print(result)\n",
        "  if not 'x' in result and not '.' in result:\n",
        "    print (\"GENIUS!! you did it!!\")\n",
        "  else :\n",
        "    print (\"try again...\")\n"
      ],
      "metadata": {
        "id": "qpojpkx1Vt_i"
      },
      "execution_count": 16,
      "outputs": []
    },
    {
      "cell_type": "code",
      "source": [
        "comparestrings(word, guess)"
      ],
      "metadata": {
        "colab": {
          "base_uri": "https://localhost:8080/"
        },
        "id": "EHZrNNZoWqDd",
        "outputId": "79b93b54-a256-4d2a-ba33-9e1acbe58b45"
      },
      "execution_count": 11,
      "outputs": [
        {
          "output_type": "stream",
          "name": "stdout",
          "text": [
            "['t', 'e', 's', 't', 's']\n",
            "['x', 'x', 'x', 'x', 'v']\n",
            "try again...\n"
          ]
        }
      ]
    },
    {
      "cell_type": "code",
      "source": [
        "comparestrings(word, \"words\")"
      ],
      "metadata": {
        "colab": {
          "base_uri": "https://localhost:8080/"
        },
        "id": "Y0lbURQVWt-X",
        "outputId": "30998feb-6906-4a60-ba32-6a6be41dac85"
      },
      "execution_count": 12,
      "outputs": [
        {
          "output_type": "stream",
          "name": "stdout",
          "text": [
            "['w', 'o', 'r', 'd', 's']\n",
            "['x', 'x', 'v', 'x', 'v']\n",
            "try again...\n"
          ]
        }
      ]
    },
    {
      "cell_type": "code",
      "source": [
        "comparestrings(word, \"ares\")"
      ],
      "metadata": {
        "colab": {
          "base_uri": "https://localhost:8080/"
        },
        "id": "29YcaPnaYmBS",
        "outputId": "bfbe5b08-9e1d-4340-95dd-6b5cc7345e00"
      },
      "execution_count": 13,
      "outputs": [
        {
          "output_type": "stream",
          "name": "stdout",
          "text": [
            "word must be 5 characters\n"
          ]
        }
      ]
    },
    {
      "cell_type": "code",
      "source": [
        "comparestrings(word, \"aires\")"
      ],
      "metadata": {
        "colab": {
          "base_uri": "https://localhost:8080/"
        },
        "id": "0nZFMBmyXzS3",
        "outputId": "bca9af98-319c-49e7-f7d4-b95b0efb12bc"
      },
      "execution_count": 14,
      "outputs": [
        {
          "output_type": "stream",
          "name": "stdout",
          "text": [
            "['a', 'i', 'r', 'e', 's']\n",
            "['v', 'x', 'v', 'v', 'v']\n",
            "try again...\n"
          ]
        }
      ]
    },
    {
      "cell_type": "code",
      "source": [
        "comparestrings(word, \"acres\")"
      ],
      "metadata": {
        "colab": {
          "base_uri": "https://localhost:8080/"
        },
        "id": "5hpZVkziX8He",
        "outputId": "dc5bbff6-dbff-4676-9da8-e39c47724d9b"
      },
      "execution_count": 15,
      "outputs": [
        {
          "output_type": "stream",
          "name": "stdout",
          "text": [
            "['a', 'c', 'r', 'e', 's']\n",
            "['v', 'v', 'v', 'v', 'v']\n",
            "you did it!!\n"
          ]
        }
      ]
    },
    {
      "cell_type": "code",
      "source": [
        ""
      ],
      "metadata": {
        "id": "Va-uP1elX_V3"
      },
      "execution_count": 7,
      "outputs": []
    }
  ]
}