{
  "nbformat": 4,
  "nbformat_minor": 0,
  "metadata": {
    "colab": {
      "name": "pyBoot2020_2.ipynb",
      "provenance": [],
      "authorship_tag": "ABX9TyNp+43GCz7Eimb04xYx/gzf",
      "include_colab_link": true
    },
    "kernelspec": {
      "name": "python3",
      "display_name": "Python 3"
    }
  },
  "cells": [
    {
      "cell_type": "markdown",
      "metadata": {
        "id": "view-in-github",
        "colab_type": "text"
      },
      "source": [
        "<a href=\"https://colab.research.google.com/github/fedhere/PyBOOT/blob/master/pyboot2020_2.ipynb\" target=\"_parent\"><img src=\"https://colab.research.google.com/assets/colab-badge.svg\" alt=\"Open In Colab\"/></a>"
      ]
    },
    {
      "cell_type": "code",
      "metadata": {
        "id": "Yd6SutlgOShD",
        "colab_type": "code",
        "colab": {}
      },
      "source": [
        ""
      ],
      "execution_count": null,
      "outputs": []
    },
    {
      "cell_type": "code",
      "metadata": {
        "id": "i90wXB08XQbV",
        "colab_type": "code",
        "colab": {}
      },
      "source": [
        "import pandas  #for tabular data manipulation includes excellent dates package"
      ],
      "execution_count": 10,
      "outputs": []
    },
    {
      "cell_type": "code",
      "metadata": {
        "id": "GoAs4cXJX-R5",
        "colab_type": "code",
        "colab": {
          "base_uri": "https://localhost:8080/",
          "height": 35
        },
        "outputId": "e6c33717-3b4e-4557-e154-44bfbd24d038"
      },
      "source": [
        "pandas.__version__"
      ],
      "execution_count": 11,
      "outputs": [
        {
          "output_type": "execute_result",
          "data": {
            "application/vnd.google.colaboratory.intrinsic+json": {
              "type": "string"
            },
            "text/plain": [
              "'1.0.5'"
            ]
          },
          "metadata": {
            "tags": []
          },
          "execution_count": 11
        }
      ]
    },
    {
      "cell_type": "code",
      "metadata": {
        "id": "q2oaGYAEYCbL",
        "colab_type": "code",
        "colab": {}
      },
      "source": [
        "import numpy #for numerical computations"
      ],
      "execution_count": 12,
      "outputs": []
    },
    {
      "cell_type": "code",
      "metadata": {
        "id": "-cRCkucaYIBw",
        "colab_type": "code",
        "colab": {}
      },
      "source": [
        "import sklearn #for machine lerning"
      ],
      "execution_count": 13,
      "outputs": []
    },
    {
      "cell_type": "code",
      "metadata": {
        "id": "UsDJH9JBZZM-",
        "colab_type": "code",
        "colab": {}
      },
      "source": [
        "import matplotlib"
      ],
      "execution_count": 17,
      "outputs": []
    },
    {
      "cell_type": "code",
      "metadata": {
        "id": "vgKpFUTXZiam",
        "colab_type": "code",
        "colab": {
          "base_uri": "https://localhost:8080/",
          "height": 35
        },
        "outputId": "0457098a-6858-499f-fafe-8a922618d497"
      },
      "source": [
        "matplotlib.__version__"
      ],
      "execution_count": 18,
      "outputs": [
        {
          "output_type": "execute_result",
          "data": {
            "application/vnd.google.colaboratory.intrinsic+json": {
              "type": "string"
            },
            "text/plain": [
              "'3.2.2'"
            ]
          },
          "metadata": {
            "tags": []
          },
          "execution_count": 18
        }
      ]
    },
    {
      "cell_type": "code",
      "metadata": {
        "id": "mCH1OJdgYolC",
        "colab_type": "code",
        "colab": {}
      },
      "source": [
        "import matplotlib.pyplot as plt # for plotting"
      ],
      "execution_count": 14,
      "outputs": []
    },
    {
      "cell_type": "code",
      "metadata": {
        "id": "VBIkkbHxZWvS",
        "colab_type": "code",
        "colab": {
          "base_uri": "https://localhost:8080/",
          "height": 69
        },
        "outputId": "afa3b72a-6348-41c4-cd9e-fdd2a98f0666"
      },
      "source": [
        "plt.__doc__"
      ],
      "execution_count": 16,
      "outputs": [
        {
          "output_type": "execute_result",
          "data": {
            "application/vnd.google.colaboratory.intrinsic+json": {
              "type": "string"
            },
            "text/plain": [
              "'\\n`matplotlib.pyplot` is a state-based interface to matplotlib. It provides\\na MATLAB-like way of plotting.\\n\\npyplot is mainly intended for interactive plots and simple cases of\\nprogrammatic plot generation::\\n\\n    import numpy as np\\n    import matplotlib.pyplot as plt\\n\\n    x = np.arange(0, 5, 0.1)\\n    y = np.sin(x)\\n    plt.plot(x, y)\\n\\nThe object-oriented API is recommended for more complex plots.\\n'"
            ]
          },
          "metadata": {
            "tags": []
          },
          "execution_count": 16
        }
      ]
    },
    {
      "cell_type": "code",
      "metadata": {
        "id": "zeSOzpYCZm09",
        "colab_type": "code",
        "colab": {}
      },
      "source": [
        "from statsmodels.formula.api import ols # for  simple statistical models with powerful diagnostics"
      ],
      "execution_count": 20,
      "outputs": []
    },
    {
      "cell_type": "code",
      "metadata": {
        "id": "Ewi-RhNWaBoS",
        "colab_type": "code",
        "colab": {}
      },
      "source": [
        "ols?"
      ],
      "execution_count": 21,
      "outputs": []
    },
    {
      "cell_type": "code",
      "metadata": {
        "id": "aPU68eNfa3nc",
        "colab_type": "code",
        "colab": {
          "base_uri": "https://localhost:8080/",
          "height": 300
        },
        "outputId": "1b2a2bdd-ad62-49de-87ab-740a390b16c1"
      },
      "source": [
        "# importgina a package that is not installed\n",
        "import emcee"
      ],
      "execution_count": 25,
      "outputs": [
        {
          "output_type": "error",
          "ename": "ModuleNotFoundError",
          "evalue": "ignored",
          "traceback": [
            "\u001b[0;31m---------------------------------------------------------------------------\u001b[0m",
            "\u001b[0;31mModuleNotFoundError\u001b[0m                       Traceback (most recent call last)",
            "\u001b[0;32m<ipython-input-25-a63d8ea2908e>\u001b[0m in \u001b[0;36m<module>\u001b[0;34m()\u001b[0m\n\u001b[0;32m----> 1\u001b[0;31m \u001b[0;32mimport\u001b[0m \u001b[0memcee\u001b[0m\u001b[0;34m\u001b[0m\u001b[0;34m\u001b[0m\u001b[0m\n\u001b[0m",
            "\u001b[0;31mModuleNotFoundError\u001b[0m: No module named 'emcee'",
            "",
            "\u001b[0;31m---------------------------------------------------------------------------\u001b[0;32m\nNOTE: If your import is failing due to a missing package, you can\nmanually install dependencies using either !pip or !apt.\n\nTo view examples of installing some common dependencies, click the\n\"Open Examples\" button below.\n\u001b[0;31m---------------------------------------------------------------------------\u001b[0m\n"
          ]
        }
      ]
    },
    {
      "cell_type": "code",
      "metadata": {
        "id": "hrcCrgiKagRq",
        "colab_type": "code",
        "colab": {
          "base_uri": "https://localhost:8080/",
          "height": 139
        },
        "outputId": "b02d9879-2339-4218-80d9-b98a1f6a979e"
      },
      "source": [
        "!pip install emcee"
      ],
      "execution_count": 26,
      "outputs": [
        {
          "output_type": "stream",
          "text": [
            "Collecting emcee\n",
            "\u001b[?25l  Downloading https://files.pythonhosted.org/packages/97/f4/00151f5f843088337c6a53edd6cbb2df340f1044d23080c662f95219cc3f/emcee-3.0.2-py2.py3-none-any.whl (41kB)\n",
            "\r\u001b[K     |███████▉                        | 10kB 17.1MB/s eta 0:00:01\r\u001b[K     |███████████████▋                | 20kB 3.2MB/s eta 0:00:01\r\u001b[K     |███████████████████████▌        | 30kB 4.1MB/s eta 0:00:01\r\u001b[K     |███████████████████████████████▎| 40kB 4.4MB/s eta 0:00:01\r\u001b[K     |████████████████████████████████| 51kB 2.4MB/s \n",
            "\u001b[?25hRequirement already satisfied: numpy in /usr/local/lib/python3.6/dist-packages (from emcee) (1.18.5)\n",
            "Installing collected packages: emcee\n",
            "Successfully installed emcee-3.0.2\n"
          ],
          "name": "stdout"
        }
      ]
    },
    {
      "cell_type": "code",
      "metadata": {
        "id": "bQWEmG10aDiF",
        "colab_type": "code",
        "colab": {}
      },
      "source": [
        "#############################"
      ],
      "execution_count": 22,
      "outputs": []
    },
    {
      "cell_type": "code",
      "metadata": {
        "id": "reDBYdU5MPk-",
        "colab_type": "code",
        "colab": {}
      },
      "source": [
        "import pandas as pd"
      ],
      "execution_count": null,
      "outputs": []
    },
    {
      "cell_type": "code",
      "metadata": {
        "id": "aj3Rw_InbJT4",
        "colab_type": "code",
        "colab": {
          "base_uri": "https://localhost:8080/",
          "height": 1000
        },
        "outputId": "7d24bde5-0faa-4868-b491-c983df81ac7f"
      },
      "source": [
        "# reading in data from a url\n",
        "pd.read_csv(\"https://data.delaware.gov/api/views/jumg-zbb3/rows.csv?accessType=DOWNLOAD\")"
      ],
      "execution_count": 36,
      "outputs": [
        {
          "output_type": "execute_result",
          "data": {
            "text/html": [
              "<div>\n",
              "<style scoped>\n",
              "    .dataframe tbody tr th:only-of-type {\n",
              "        vertical-align: middle;\n",
              "    }\n",
              "\n",
              "    .dataframe tbody tr th {\n",
              "        vertical-align: top;\n",
              "    }\n",
              "\n",
              "    .dataframe thead th {\n",
              "        text-align: right;\n",
              "    }\n",
              "</style>\n",
              "<table border=\"1\" class=\"dataframe\">\n",
              "  <thead>\n",
              "    <tr style=\"text-align: right;\">\n",
              "      <th></th>\n",
              "      <th>County</th>\n",
              "      <th>Location Lat-Long</th>\n",
              "      <th>Cleanup Type</th>\n",
              "      <th>Cleanup Date</th>\n",
              "      <th>Cleanup Site</th>\n",
              "      <th>Adults</th>\n",
              "      <th>Children</th>\n",
              "      <th>People</th>\n",
              "      <th>Pounds</th>\n",
              "      <th>Miles</th>\n",
              "      <th>Bags</th>\n",
              "      <th>Cigarette Butts</th>\n",
              "      <th>Food Wrappers</th>\n",
              "      <th>Take Out/Away Containers (Plastic)</th>\n",
              "      <th>Take Out/Away Containers (Foam)</th>\n",
              "      <th>Bottle Caps (Plastic)</th>\n",
              "      <th>Bottle Caps (Metal)</th>\n",
              "      <th>Lids (Plastic)</th>\n",
              "      <th>Straws, Stirrers</th>\n",
              "      <th>Forks, Knives, Spoons</th>\n",
              "      <th>Beverage Bottles (Plastic)</th>\n",
              "      <th>Beverage Bottles (Glass)</th>\n",
              "      <th>Beverage Cans</th>\n",
              "      <th>Grocery Bags (Plastic)</th>\n",
              "      <th>Other Plastic Bags</th>\n",
              "      <th>Paper Bags</th>\n",
              "      <th>Cups, Plates (Paper)</th>\n",
              "      <th>Cups, Plates (Plastic)</th>\n",
              "      <th>Cups, Plates (Foam)</th>\n",
              "      <th>Fishing Buoys, Pots &amp; Traps</th>\n",
              "      <th>Fishing Net &amp; Pieces</th>\n",
              "      <th>Fishing Line</th>\n",
              "      <th>Rope</th>\n",
              "      <th>6-Pack Holders</th>\n",
              "      <th>Other Plastic/Foam Packaging</th>\n",
              "      <th>Other Plastic Bottles</th>\n",
              "      <th>Strapping Bands</th>\n",
              "      <th>Tobacco Packaging/Wrap</th>\n",
              "      <th>Appliances</th>\n",
              "      <th>Balloons</th>\n",
              "      <th>Cigar Tips</th>\n",
              "      <th>Cigarette Lighters</th>\n",
              "      <th>Construction Materials</th>\n",
              "      <th>Fireworks</th>\n",
              "      <th>Tires</th>\n",
              "      <th>Toys</th>\n",
              "      <th>Condoms</th>\n",
              "      <th>Diapers</th>\n",
              "      <th>Syringes</th>\n",
              "      <th>Tampons/Tampon Applicators</th>\n",
              "      <th>Foam Pieces</th>\n",
              "      <th>Glass Pieces</th>\n",
              "      <th>Plastic Pieces</th>\n",
              "      <th>Clothing, Shoes</th>\n",
              "      <th>Shotgun Shells/Wadding</th>\n",
              "      <th>Light Bulbs/Tubes</th>\n",
              "      <th>Batteries</th>\n",
              "      <th>Cars/Car Parts</th>\n",
              "      <th>55-Gallon Drums</th>\n",
              "    </tr>\n",
              "  </thead>\n",
              "  <tbody>\n",
              "    <tr>\n",
              "      <th>0</th>\n",
              "      <td>Kent</td>\n",
              "      <td>(39.102739, -75.402356)</td>\n",
              "      <td>Beach</td>\n",
              "      <td>09/20/2008</td>\n",
              "      <td>Kitts Hummock</td>\n",
              "      <td>NaN</td>\n",
              "      <td>NaN</td>\n",
              "      <td>45</td>\n",
              "      <td>1500.0</td>\n",
              "      <td>1.00</td>\n",
              "      <td>21</td>\n",
              "      <td>8.0</td>\n",
              "      <td>64.0</td>\n",
              "      <td>NaN</td>\n",
              "      <td>NaN</td>\n",
              "      <td>141.0</td>\n",
              "      <td>73.0</td>\n",
              "      <td>NaN</td>\n",
              "      <td>52.0</td>\n",
              "      <td>31.0</td>\n",
              "      <td>111.0</td>\n",
              "      <td>40.0</td>\n",
              "      <td>123.0</td>\n",
              "      <td>81.0</td>\n",
              "      <td>NaN</td>\n",
              "      <td>19.0</td>\n",
              "      <td>NaN</td>\n",
              "      <td>NaN</td>\n",
              "      <td>NaN</td>\n",
              "      <td>20</td>\n",
              "      <td>1.0</td>\n",
              "      <td>28.0</td>\n",
              "      <td>12.0</td>\n",
              "      <td>4.0</td>\n",
              "      <td>6.0</td>\n",
              "      <td>15.0</td>\n",
              "      <td>4.0</td>\n",
              "      <td>4.0</td>\n",
              "      <td>NaN</td>\n",
              "      <td>26.0</td>\n",
              "      <td>16.0</td>\n",
              "      <td>27.0</td>\n",
              "      <td>219</td>\n",
              "      <td>NaN</td>\n",
              "      <td>4.0</td>\n",
              "      <td>11.0</td>\n",
              "      <td>NaN</td>\n",
              "      <td>NaN</td>\n",
              "      <td>3.0</td>\n",
              "      <td>15.0</td>\n",
              "      <td>NaN</td>\n",
              "      <td>NaN</td>\n",
              "      <td>NaN</td>\n",
              "      <td>11.0</td>\n",
              "      <td>70.0</td>\n",
              "      <td>1.0</td>\n",
              "      <td>NaN</td>\n",
              "      <td>4.0</td>\n",
              "      <td>3.0</td>\n",
              "    </tr>\n",
              "    <tr>\n",
              "      <th>1</th>\n",
              "      <td>Kent</td>\n",
              "      <td>(39.085748, -75.421875)</td>\n",
              "      <td>Beach</td>\n",
              "      <td>09/20/2008</td>\n",
              "      <td>Ted Harvey WLA/ Ted Harvey Wildlife Area</td>\n",
              "      <td>NaN</td>\n",
              "      <td>NaN</td>\n",
              "      <td>45</td>\n",
              "      <td>165.0</td>\n",
              "      <td>2.00</td>\n",
              "      <td>13</td>\n",
              "      <td>4.0</td>\n",
              "      <td>12.0</td>\n",
              "      <td>NaN</td>\n",
              "      <td>NaN</td>\n",
              "      <td>18.0</td>\n",
              "      <td>NaN</td>\n",
              "      <td>NaN</td>\n",
              "      <td>21.0</td>\n",
              "      <td>23.0</td>\n",
              "      <td>62.0</td>\n",
              "      <td>18.0</td>\n",
              "      <td>46.0</td>\n",
              "      <td>28.0</td>\n",
              "      <td>NaN</td>\n",
              "      <td>NaN</td>\n",
              "      <td>NaN</td>\n",
              "      <td>NaN</td>\n",
              "      <td>NaN</td>\n",
              "      <td>5</td>\n",
              "      <td>NaN</td>\n",
              "      <td>3.0</td>\n",
              "      <td>10.0</td>\n",
              "      <td>2.0</td>\n",
              "      <td>5.0</td>\n",
              "      <td>14.0</td>\n",
              "      <td>NaN</td>\n",
              "      <td>NaN</td>\n",
              "      <td>NaN</td>\n",
              "      <td>10.0</td>\n",
              "      <td>NaN</td>\n",
              "      <td>5.0</td>\n",
              "      <td>0</td>\n",
              "      <td>NaN</td>\n",
              "      <td>4.0</td>\n",
              "      <td>3.0</td>\n",
              "      <td>NaN</td>\n",
              "      <td>NaN</td>\n",
              "      <td>NaN</td>\n",
              "      <td>NaN</td>\n",
              "      <td>NaN</td>\n",
              "      <td>NaN</td>\n",
              "      <td>NaN</td>\n",
              "      <td>4.0</td>\n",
              "      <td>33.0</td>\n",
              "      <td>2.0</td>\n",
              "      <td>NaN</td>\n",
              "      <td>NaN</td>\n",
              "      <td>NaN</td>\n",
              "    </tr>\n",
              "    <tr>\n",
              "      <th>2</th>\n",
              "      <td>New Castle</td>\n",
              "      <td>(39.738765, -75.53939)</td>\n",
              "      <td>Beach</td>\n",
              "      <td>09/20/2008</td>\n",
              "      <td>E. 7th Street - Barbiarz Park</td>\n",
              "      <td>NaN</td>\n",
              "      <td>NaN</td>\n",
              "      <td>18</td>\n",
              "      <td>180.0</td>\n",
              "      <td>1.00</td>\n",
              "      <td>18</td>\n",
              "      <td>172.0</td>\n",
              "      <td>100.0</td>\n",
              "      <td>NaN</td>\n",
              "      <td>NaN</td>\n",
              "      <td>68.0</td>\n",
              "      <td>7.0</td>\n",
              "      <td>NaN</td>\n",
              "      <td>43.0</td>\n",
              "      <td>35.0</td>\n",
              "      <td>68.0</td>\n",
              "      <td>41.0</td>\n",
              "      <td>70.0</td>\n",
              "      <td>133.0</td>\n",
              "      <td>NaN</td>\n",
              "      <td>44.0</td>\n",
              "      <td>NaN</td>\n",
              "      <td>NaN</td>\n",
              "      <td>NaN</td>\n",
              "      <td>21</td>\n",
              "      <td>NaN</td>\n",
              "      <td>32.0</td>\n",
              "      <td>7.0</td>\n",
              "      <td>NaN</td>\n",
              "      <td>2.0</td>\n",
              "      <td>2.0</td>\n",
              "      <td>NaN</td>\n",
              "      <td>11.0</td>\n",
              "      <td>1.0</td>\n",
              "      <td>0.0</td>\n",
              "      <td>4.0</td>\n",
              "      <td>8.0</td>\n",
              "      <td>7</td>\n",
              "      <td>NaN</td>\n",
              "      <td>NaN</td>\n",
              "      <td>11.0</td>\n",
              "      <td>40.0</td>\n",
              "      <td>NaN</td>\n",
              "      <td>NaN</td>\n",
              "      <td>NaN</td>\n",
              "      <td>NaN</td>\n",
              "      <td>NaN</td>\n",
              "      <td>NaN</td>\n",
              "      <td>20.0</td>\n",
              "      <td>NaN</td>\n",
              "      <td>2.0</td>\n",
              "      <td>4.0</td>\n",
              "      <td>3.0</td>\n",
              "      <td>NaN</td>\n",
              "    </tr>\n",
              "    <tr>\n",
              "      <th>3</th>\n",
              "      <td>New Castle</td>\n",
              "      <td>(39.664715, -75.557785)</td>\n",
              "      <td>Beach</td>\n",
              "      <td>09/20/2008</td>\n",
              "      <td>Battery Park</td>\n",
              "      <td>NaN</td>\n",
              "      <td>NaN</td>\n",
              "      <td>51</td>\n",
              "      <td>892.0</td>\n",
              "      <td>0.50</td>\n",
              "      <td>52</td>\n",
              "      <td>541.0</td>\n",
              "      <td>871.0</td>\n",
              "      <td>NaN</td>\n",
              "      <td>NaN</td>\n",
              "      <td>1446.0</td>\n",
              "      <td>112.0</td>\n",
              "      <td>NaN</td>\n",
              "      <td>598.0</td>\n",
              "      <td>303.0</td>\n",
              "      <td>759.0</td>\n",
              "      <td>206.0</td>\n",
              "      <td>111.0</td>\n",
              "      <td>290.0</td>\n",
              "      <td>NaN</td>\n",
              "      <td>52.0</td>\n",
              "      <td>NaN</td>\n",
              "      <td>NaN</td>\n",
              "      <td>NaN</td>\n",
              "      <td>13</td>\n",
              "      <td>2.0</td>\n",
              "      <td>8.0</td>\n",
              "      <td>33.0</td>\n",
              "      <td>18.0</td>\n",
              "      <td>23.0</td>\n",
              "      <td>30.0</td>\n",
              "      <td>25.0</td>\n",
              "      <td>25.0</td>\n",
              "      <td>0.0</td>\n",
              "      <td>20.0</td>\n",
              "      <td>163.0</td>\n",
              "      <td>43.0</td>\n",
              "      <td>104</td>\n",
              "      <td>NaN</td>\n",
              "      <td>10.0</td>\n",
              "      <td>122.0</td>\n",
              "      <td>3.0</td>\n",
              "      <td>NaN</td>\n",
              "      <td>26.0</td>\n",
              "      <td>48.0</td>\n",
              "      <td>NaN</td>\n",
              "      <td>NaN</td>\n",
              "      <td>NaN</td>\n",
              "      <td>37.0</td>\n",
              "      <td>12.0</td>\n",
              "      <td>2.0</td>\n",
              "      <td>0.0</td>\n",
              "      <td>19.0</td>\n",
              "      <td>0.0</td>\n",
              "    </tr>\n",
              "    <tr>\n",
              "      <th>4</th>\n",
              "      <td>New Castle</td>\n",
              "      <td>(39.504724, -75.580976)</td>\n",
              "      <td>Beach</td>\n",
              "      <td>09/20/2008</td>\n",
              "      <td>Augustine Beach Boat Ramp</td>\n",
              "      <td>NaN</td>\n",
              "      <td>NaN</td>\n",
              "      <td>70</td>\n",
              "      <td>2200.0</td>\n",
              "      <td>1.00</td>\n",
              "      <td>0</td>\n",
              "      <td>75.0</td>\n",
              "      <td>7.0</td>\n",
              "      <td>NaN</td>\n",
              "      <td>NaN</td>\n",
              "      <td>110.0</td>\n",
              "      <td>2.0</td>\n",
              "      <td>NaN</td>\n",
              "      <td>80.0</td>\n",
              "      <td>25.0</td>\n",
              "      <td>200.0</td>\n",
              "      <td>40.0</td>\n",
              "      <td>20.0</td>\n",
              "      <td>60.0</td>\n",
              "      <td>NaN</td>\n",
              "      <td>20.0</td>\n",
              "      <td>NaN</td>\n",
              "      <td>NaN</td>\n",
              "      <td>NaN</td>\n",
              "      <td>3</td>\n",
              "      <td>2.0</td>\n",
              "      <td>4.0</td>\n",
              "      <td>2.0</td>\n",
              "      <td>7.0</td>\n",
              "      <td>11.0</td>\n",
              "      <td>2.0</td>\n",
              "      <td>1.0</td>\n",
              "      <td>5.0</td>\n",
              "      <td>1.0</td>\n",
              "      <td>1.0</td>\n",
              "      <td>9.0</td>\n",
              "      <td>7.0</td>\n",
              "      <td>10</td>\n",
              "      <td>NaN</td>\n",
              "      <td>NaN</td>\n",
              "      <td>3.0</td>\n",
              "      <td>NaN</td>\n",
              "      <td>5.0</td>\n",
              "      <td>NaN</td>\n",
              "      <td>5.0</td>\n",
              "      <td>NaN</td>\n",
              "      <td>NaN</td>\n",
              "      <td>NaN</td>\n",
              "      <td>14.0</td>\n",
              "      <td>NaN</td>\n",
              "      <td>NaN</td>\n",
              "      <td>NaN</td>\n",
              "      <td>2.0</td>\n",
              "      <td>NaN</td>\n",
              "    </tr>\n",
              "    <tr>\n",
              "      <th>...</th>\n",
              "      <td>...</td>\n",
              "      <td>...</td>\n",
              "      <td>...</td>\n",
              "      <td>...</td>\n",
              "      <td>...</td>\n",
              "      <td>...</td>\n",
              "      <td>...</td>\n",
              "      <td>...</td>\n",
              "      <td>...</td>\n",
              "      <td>...</td>\n",
              "      <td>...</td>\n",
              "      <td>...</td>\n",
              "      <td>...</td>\n",
              "      <td>...</td>\n",
              "      <td>...</td>\n",
              "      <td>...</td>\n",
              "      <td>...</td>\n",
              "      <td>...</td>\n",
              "      <td>...</td>\n",
              "      <td>...</td>\n",
              "      <td>...</td>\n",
              "      <td>...</td>\n",
              "      <td>...</td>\n",
              "      <td>...</td>\n",
              "      <td>...</td>\n",
              "      <td>...</td>\n",
              "      <td>...</td>\n",
              "      <td>...</td>\n",
              "      <td>...</td>\n",
              "      <td>...</td>\n",
              "      <td>...</td>\n",
              "      <td>...</td>\n",
              "      <td>...</td>\n",
              "      <td>...</td>\n",
              "      <td>...</td>\n",
              "      <td>...</td>\n",
              "      <td>...</td>\n",
              "      <td>...</td>\n",
              "      <td>...</td>\n",
              "      <td>...</td>\n",
              "      <td>...</td>\n",
              "      <td>...</td>\n",
              "      <td>...</td>\n",
              "      <td>...</td>\n",
              "      <td>...</td>\n",
              "      <td>...</td>\n",
              "      <td>...</td>\n",
              "      <td>...</td>\n",
              "      <td>...</td>\n",
              "      <td>...</td>\n",
              "      <td>...</td>\n",
              "      <td>...</td>\n",
              "      <td>...</td>\n",
              "      <td>...</td>\n",
              "      <td>...</td>\n",
              "      <td>...</td>\n",
              "      <td>...</td>\n",
              "      <td>...</td>\n",
              "      <td>...</td>\n",
              "    </tr>\n",
              "    <tr>\n",
              "      <th>444</th>\n",
              "      <td>Kent</td>\n",
              "      <td>(39.330540817256, -75.470104303979)</td>\n",
              "      <td>Land (beach, shoreline and inland)</td>\n",
              "      <td>09/22/2018</td>\n",
              "      <td>Woodland Beach Pier</td>\n",
              "      <td>6.0</td>\n",
              "      <td>4.0</td>\n",
              "      <td>10</td>\n",
              "      <td>95.0</td>\n",
              "      <td>0.75</td>\n",
              "      <td>6</td>\n",
              "      <td>135.0</td>\n",
              "      <td>16.0</td>\n",
              "      <td>1.0</td>\n",
              "      <td>0.0</td>\n",
              "      <td>36.0</td>\n",
              "      <td>17.0</td>\n",
              "      <td>4.0</td>\n",
              "      <td>12.0</td>\n",
              "      <td>3.0</td>\n",
              "      <td>31.0</td>\n",
              "      <td>16.0</td>\n",
              "      <td>20.0</td>\n",
              "      <td>2.0</td>\n",
              "      <td>2.0</td>\n",
              "      <td>3.0</td>\n",
              "      <td>2.0</td>\n",
              "      <td>2.0</td>\n",
              "      <td>2.0</td>\n",
              "      <td>0</td>\n",
              "      <td>1.0</td>\n",
              "      <td>10.0</td>\n",
              "      <td>4.0</td>\n",
              "      <td>1.0</td>\n",
              "      <td>0.0</td>\n",
              "      <td>3.0</td>\n",
              "      <td>1.0</td>\n",
              "      <td>8.0</td>\n",
              "      <td>0.0</td>\n",
              "      <td>1.0</td>\n",
              "      <td>10.0</td>\n",
              "      <td>4.0</td>\n",
              "      <td>0</td>\n",
              "      <td>0.0</td>\n",
              "      <td>0.0</td>\n",
              "      <td>0.0</td>\n",
              "      <td>2.0</td>\n",
              "      <td>2.0</td>\n",
              "      <td>2.0</td>\n",
              "      <td>1.0</td>\n",
              "      <td>20.0</td>\n",
              "      <td>43.0</td>\n",
              "      <td>15.0</td>\n",
              "      <td>NaN</td>\n",
              "      <td>NaN</td>\n",
              "      <td>NaN</td>\n",
              "      <td>NaN</td>\n",
              "      <td>NaN</td>\n",
              "      <td>NaN</td>\n",
              "    </tr>\n",
              "    <tr>\n",
              "      <th>445</th>\n",
              "      <td>Kent</td>\n",
              "      <td>(39.340537155394, -75.487814336855)</td>\n",
              "      <td>Land (beach, shoreline and inland)</td>\n",
              "      <td>09/22/2018</td>\n",
              "      <td>Woodland Beach-Taylor's Gut</td>\n",
              "      <td>12.0</td>\n",
              "      <td>3.0</td>\n",
              "      <td>15</td>\n",
              "      <td>95.0</td>\n",
              "      <td>1.00</td>\n",
              "      <td>6</td>\n",
              "      <td>130.0</td>\n",
              "      <td>46.0</td>\n",
              "      <td>15.0</td>\n",
              "      <td>3.0</td>\n",
              "      <td>7.0</td>\n",
              "      <td>1.0</td>\n",
              "      <td>3.0</td>\n",
              "      <td>10.0</td>\n",
              "      <td>0.0</td>\n",
              "      <td>70.0</td>\n",
              "      <td>34.0</td>\n",
              "      <td>90.0</td>\n",
              "      <td>12.0</td>\n",
              "      <td>9.0</td>\n",
              "      <td>12.0</td>\n",
              "      <td>16.0</td>\n",
              "      <td>2.0</td>\n",
              "      <td>0.0</td>\n",
              "      <td>0</td>\n",
              "      <td>0.0</td>\n",
              "      <td>0.0</td>\n",
              "      <td>1.0</td>\n",
              "      <td>1.0</td>\n",
              "      <td>14.0</td>\n",
              "      <td>1.0</td>\n",
              "      <td>1.0</td>\n",
              "      <td>12.0</td>\n",
              "      <td>0.0</td>\n",
              "      <td>1.0</td>\n",
              "      <td>1.0</td>\n",
              "      <td>2.0</td>\n",
              "      <td>1</td>\n",
              "      <td>0.0</td>\n",
              "      <td>1.0</td>\n",
              "      <td>0.0</td>\n",
              "      <td>1.0</td>\n",
              "      <td>0.0</td>\n",
              "      <td>0.0</td>\n",
              "      <td>0.0</td>\n",
              "      <td>4.0</td>\n",
              "      <td>1.0</td>\n",
              "      <td>21.0</td>\n",
              "      <td>NaN</td>\n",
              "      <td>NaN</td>\n",
              "      <td>NaN</td>\n",
              "      <td>NaN</td>\n",
              "      <td>NaN</td>\n",
              "      <td>NaN</td>\n",
              "    </tr>\n",
              "    <tr>\n",
              "      <th>446</th>\n",
              "      <td>Sussex</td>\n",
              "      <td>(38.789097986218, -75.157007597219)</td>\n",
              "      <td>Land (beach, shoreline and inland)</td>\n",
              "      <td>09/22/2018</td>\n",
              "      <td>Lewes Boat Ramp</td>\n",
              "      <td>7.0</td>\n",
              "      <td>2.0</td>\n",
              "      <td>9</td>\n",
              "      <td>150.0</td>\n",
              "      <td>0.50</td>\n",
              "      <td>6</td>\n",
              "      <td>118.0</td>\n",
              "      <td>40.0</td>\n",
              "      <td>16.0</td>\n",
              "      <td>6.0</td>\n",
              "      <td>21.0</td>\n",
              "      <td>29.0</td>\n",
              "      <td>15.0</td>\n",
              "      <td>16.0</td>\n",
              "      <td>6.0</td>\n",
              "      <td>31.0</td>\n",
              "      <td>22.0</td>\n",
              "      <td>26.0</td>\n",
              "      <td>20.0</td>\n",
              "      <td>22.0</td>\n",
              "      <td>4.0</td>\n",
              "      <td>12.0</td>\n",
              "      <td>8.0</td>\n",
              "      <td>9.0</td>\n",
              "      <td>2</td>\n",
              "      <td>6.0</td>\n",
              "      <td>8.0</td>\n",
              "      <td>11.0</td>\n",
              "      <td>3.0</td>\n",
              "      <td>20.0</td>\n",
              "      <td>2.0</td>\n",
              "      <td>7.0</td>\n",
              "      <td>2.0</td>\n",
              "      <td>0.0</td>\n",
              "      <td>2.0</td>\n",
              "      <td>8.0</td>\n",
              "      <td>0.0</td>\n",
              "      <td>5</td>\n",
              "      <td>0.0</td>\n",
              "      <td>0.0</td>\n",
              "      <td>0.0</td>\n",
              "      <td>0.0</td>\n",
              "      <td>0.0</td>\n",
              "      <td>0.0</td>\n",
              "      <td>0.0</td>\n",
              "      <td>46.0</td>\n",
              "      <td>9.0</td>\n",
              "      <td>94.0</td>\n",
              "      <td>NaN</td>\n",
              "      <td>NaN</td>\n",
              "      <td>NaN</td>\n",
              "      <td>NaN</td>\n",
              "      <td>NaN</td>\n",
              "      <td>NaN</td>\n",
              "    </tr>\n",
              "    <tr>\n",
              "      <th>447</th>\n",
              "      <td>Sussex</td>\n",
              "      <td>(38.645629073549, -75.6005945823)</td>\n",
              "      <td>Land (beach, shoreline and inland)</td>\n",
              "      <td>09/22/2018</td>\n",
              "      <td>Williams Pond - Seaford</td>\n",
              "      <td>20.0</td>\n",
              "      <td>4.0</td>\n",
              "      <td>24</td>\n",
              "      <td>211.0</td>\n",
              "      <td>5.00</td>\n",
              "      <td>21</td>\n",
              "      <td>374.0</td>\n",
              "      <td>682.0</td>\n",
              "      <td>415.0</td>\n",
              "      <td>198.0</td>\n",
              "      <td>227.0</td>\n",
              "      <td>230.0</td>\n",
              "      <td>68.0</td>\n",
              "      <td>141.0</td>\n",
              "      <td>59.0</td>\n",
              "      <td>349.0</td>\n",
              "      <td>132.0</td>\n",
              "      <td>148.0</td>\n",
              "      <td>97.0</td>\n",
              "      <td>22.0</td>\n",
              "      <td>34.0</td>\n",
              "      <td>63.0</td>\n",
              "      <td>66.0</td>\n",
              "      <td>20.0</td>\n",
              "      <td>3</td>\n",
              "      <td>42.0</td>\n",
              "      <td>29.0</td>\n",
              "      <td>0.0</td>\n",
              "      <td>0.0</td>\n",
              "      <td>36.0</td>\n",
              "      <td>3.0</td>\n",
              "      <td>18.0</td>\n",
              "      <td>14.0</td>\n",
              "      <td>0.0</td>\n",
              "      <td>8.0</td>\n",
              "      <td>37.0</td>\n",
              "      <td>9.0</td>\n",
              "      <td>9</td>\n",
              "      <td>0.0</td>\n",
              "      <td>0.0</td>\n",
              "      <td>0.0</td>\n",
              "      <td>4.0</td>\n",
              "      <td>0.0</td>\n",
              "      <td>0.0</td>\n",
              "      <td>0.0</td>\n",
              "      <td>79.0</td>\n",
              "      <td>52.0</td>\n",
              "      <td>174.0</td>\n",
              "      <td>NaN</td>\n",
              "      <td>NaN</td>\n",
              "      <td>NaN</td>\n",
              "      <td>NaN</td>\n",
              "      <td>NaN</td>\n",
              "      <td>NaN</td>\n",
              "    </tr>\n",
              "    <tr>\n",
              "      <th>448</th>\n",
              "      <td>Kent</td>\n",
              "      <td>(39.177991300009, -75.407235415161)</td>\n",
              "      <td>Land (beach, shoreline and inland)</td>\n",
              "      <td>09/22/2018</td>\n",
              "      <td>Little Creek Wildlife Area/Port Mahon Road</td>\n",
              "      <td>2.0</td>\n",
              "      <td>0.0</td>\n",
              "      <td>2</td>\n",
              "      <td>6.0</td>\n",
              "      <td>1.00</td>\n",
              "      <td>3</td>\n",
              "      <td>0.0</td>\n",
              "      <td>5.0</td>\n",
              "      <td>4.0</td>\n",
              "      <td>0.0</td>\n",
              "      <td>8.0</td>\n",
              "      <td>0.0</td>\n",
              "      <td>1.0</td>\n",
              "      <td>0.0</td>\n",
              "      <td>1.0</td>\n",
              "      <td>49.0</td>\n",
              "      <td>9.0</td>\n",
              "      <td>15.0</td>\n",
              "      <td>4.0</td>\n",
              "      <td>2.0</td>\n",
              "      <td>0.0</td>\n",
              "      <td>0.0</td>\n",
              "      <td>2.0</td>\n",
              "      <td>4.0</td>\n",
              "      <td>4</td>\n",
              "      <td>0.0</td>\n",
              "      <td>3.0</td>\n",
              "      <td>1.0</td>\n",
              "      <td>0.0</td>\n",
              "      <td>0.0</td>\n",
              "      <td>2.0</td>\n",
              "      <td>1.0</td>\n",
              "      <td>2.0</td>\n",
              "      <td>0.0</td>\n",
              "      <td>8.0</td>\n",
              "      <td>0.0</td>\n",
              "      <td>0.0</td>\n",
              "      <td>0</td>\n",
              "      <td>0.0</td>\n",
              "      <td>0.0</td>\n",
              "      <td>0.0</td>\n",
              "      <td>0.0</td>\n",
              "      <td>0.0</td>\n",
              "      <td>0.0</td>\n",
              "      <td>0.0</td>\n",
              "      <td>8.0</td>\n",
              "      <td>0.0</td>\n",
              "      <td>6.0</td>\n",
              "      <td>NaN</td>\n",
              "      <td>NaN</td>\n",
              "      <td>NaN</td>\n",
              "      <td>NaN</td>\n",
              "      <td>NaN</td>\n",
              "      <td>NaN</td>\n",
              "    </tr>\n",
              "  </tbody>\n",
              "</table>\n",
              "<p>449 rows × 59 columns</p>\n",
              "</div>"
            ],
            "text/plain": [
              "         County  ... 55-Gallon Drums\n",
              "0          Kent  ...             3.0\n",
              "1          Kent  ...             NaN\n",
              "2    New Castle  ...             NaN\n",
              "3    New Castle  ...             0.0\n",
              "4    New Castle  ...             NaN\n",
              "..          ...  ...             ...\n",
              "444        Kent  ...             NaN\n",
              "445        Kent  ...             NaN\n",
              "446      Sussex  ...             NaN\n",
              "447      Sussex  ...             NaN\n",
              "448        Kent  ...             NaN\n",
              "\n",
              "[449 rows x 59 columns]"
            ]
          },
          "metadata": {
            "tags": []
          },
          "execution_count": 36
        }
      ]
    },
    {
      "cell_type": "code",
      "metadata": {
        "id": "5ycKQNhBbwGk",
        "colab_type": "code",
        "colab": {}
      },
      "source": [
        "pd.read_csv?"
      ],
      "execution_count": 30,
      "outputs": []
    },
    {
      "cell_type": "code",
      "metadata": {
        "id": "uaEKSepicJL-",
        "colab_type": "code",
        "colab": {}
      },
      "source": [
        "pd.DataFrame?"
      ],
      "execution_count": 31,
      "outputs": []
    },
    {
      "cell_type": "markdown",
      "metadata": {
        "id": "-pytdSgjNbCD",
        "colab_type": "text"
      },
      "source": [
        "# reading in data from costal cleanup in Delaware from 2008 to 2018"
      ]
    },
    {
      "cell_type": "code",
      "metadata": {
        "id": "REUFsCnBcjC1",
        "colab_type": "code",
        "colab": {}
      },
      "source": [
        "cleanupdf = pd.read_csv(\"https://data.delaware.gov/api/views/jumg-zbb3/rows.csv?accessType=DOWNLOAD\")"
      ],
      "execution_count": 37,
      "outputs": []
    },
    {
      "cell_type": "code",
      "metadata": {
        "id": "7tcRosxjc13M",
        "colab_type": "code",
        "colab": {
          "base_uri": "https://localhost:8080/",
          "height": 1000
        },
        "outputId": "fd194c6d-3308-4f21-f146-1febd8b7dd00"
      },
      "source": [
        "cleanupdf"
      ],
      "execution_count": 38,
      "outputs": [
        {
          "output_type": "execute_result",
          "data": {
            "text/html": [
              "<div>\n",
              "<style scoped>\n",
              "    .dataframe tbody tr th:only-of-type {\n",
              "        vertical-align: middle;\n",
              "    }\n",
              "\n",
              "    .dataframe tbody tr th {\n",
              "        vertical-align: top;\n",
              "    }\n",
              "\n",
              "    .dataframe thead th {\n",
              "        text-align: right;\n",
              "    }\n",
              "</style>\n",
              "<table border=\"1\" class=\"dataframe\">\n",
              "  <thead>\n",
              "    <tr style=\"text-align: right;\">\n",
              "      <th></th>\n",
              "      <th>County</th>\n",
              "      <th>Location Lat-Long</th>\n",
              "      <th>Cleanup Type</th>\n",
              "      <th>Cleanup Date</th>\n",
              "      <th>Cleanup Site</th>\n",
              "      <th>Adults</th>\n",
              "      <th>Children</th>\n",
              "      <th>People</th>\n",
              "      <th>Pounds</th>\n",
              "      <th>Miles</th>\n",
              "      <th>Bags</th>\n",
              "      <th>Cigarette Butts</th>\n",
              "      <th>Food Wrappers</th>\n",
              "      <th>Take Out/Away Containers (Plastic)</th>\n",
              "      <th>Take Out/Away Containers (Foam)</th>\n",
              "      <th>Bottle Caps (Plastic)</th>\n",
              "      <th>Bottle Caps (Metal)</th>\n",
              "      <th>Lids (Plastic)</th>\n",
              "      <th>Straws, Stirrers</th>\n",
              "      <th>Forks, Knives, Spoons</th>\n",
              "      <th>Beverage Bottles (Plastic)</th>\n",
              "      <th>Beverage Bottles (Glass)</th>\n",
              "      <th>Beverage Cans</th>\n",
              "      <th>Grocery Bags (Plastic)</th>\n",
              "      <th>Other Plastic Bags</th>\n",
              "      <th>Paper Bags</th>\n",
              "      <th>Cups, Plates (Paper)</th>\n",
              "      <th>Cups, Plates (Plastic)</th>\n",
              "      <th>Cups, Plates (Foam)</th>\n",
              "      <th>Fishing Buoys, Pots &amp; Traps</th>\n",
              "      <th>Fishing Net &amp; Pieces</th>\n",
              "      <th>Fishing Line</th>\n",
              "      <th>Rope</th>\n",
              "      <th>6-Pack Holders</th>\n",
              "      <th>Other Plastic/Foam Packaging</th>\n",
              "      <th>Other Plastic Bottles</th>\n",
              "      <th>Strapping Bands</th>\n",
              "      <th>Tobacco Packaging/Wrap</th>\n",
              "      <th>Appliances</th>\n",
              "      <th>Balloons</th>\n",
              "      <th>Cigar Tips</th>\n",
              "      <th>Cigarette Lighters</th>\n",
              "      <th>Construction Materials</th>\n",
              "      <th>Fireworks</th>\n",
              "      <th>Tires</th>\n",
              "      <th>Toys</th>\n",
              "      <th>Condoms</th>\n",
              "      <th>Diapers</th>\n",
              "      <th>Syringes</th>\n",
              "      <th>Tampons/Tampon Applicators</th>\n",
              "      <th>Foam Pieces</th>\n",
              "      <th>Glass Pieces</th>\n",
              "      <th>Plastic Pieces</th>\n",
              "      <th>Clothing, Shoes</th>\n",
              "      <th>Shotgun Shells/Wadding</th>\n",
              "      <th>Light Bulbs/Tubes</th>\n",
              "      <th>Batteries</th>\n",
              "      <th>Cars/Car Parts</th>\n",
              "      <th>55-Gallon Drums</th>\n",
              "    </tr>\n",
              "  </thead>\n",
              "  <tbody>\n",
              "    <tr>\n",
              "      <th>0</th>\n",
              "      <td>Kent</td>\n",
              "      <td>(39.102739, -75.402356)</td>\n",
              "      <td>Beach</td>\n",
              "      <td>09/20/2008</td>\n",
              "      <td>Kitts Hummock</td>\n",
              "      <td>NaN</td>\n",
              "      <td>NaN</td>\n",
              "      <td>45</td>\n",
              "      <td>1500.0</td>\n",
              "      <td>1.00</td>\n",
              "      <td>21</td>\n",
              "      <td>8.0</td>\n",
              "      <td>64.0</td>\n",
              "      <td>NaN</td>\n",
              "      <td>NaN</td>\n",
              "      <td>141.0</td>\n",
              "      <td>73.0</td>\n",
              "      <td>NaN</td>\n",
              "      <td>52.0</td>\n",
              "      <td>31.0</td>\n",
              "      <td>111.0</td>\n",
              "      <td>40.0</td>\n",
              "      <td>123.0</td>\n",
              "      <td>81.0</td>\n",
              "      <td>NaN</td>\n",
              "      <td>19.0</td>\n",
              "      <td>NaN</td>\n",
              "      <td>NaN</td>\n",
              "      <td>NaN</td>\n",
              "      <td>20</td>\n",
              "      <td>1.0</td>\n",
              "      <td>28.0</td>\n",
              "      <td>12.0</td>\n",
              "      <td>4.0</td>\n",
              "      <td>6.0</td>\n",
              "      <td>15.0</td>\n",
              "      <td>4.0</td>\n",
              "      <td>4.0</td>\n",
              "      <td>NaN</td>\n",
              "      <td>26.0</td>\n",
              "      <td>16.0</td>\n",
              "      <td>27.0</td>\n",
              "      <td>219</td>\n",
              "      <td>NaN</td>\n",
              "      <td>4.0</td>\n",
              "      <td>11.0</td>\n",
              "      <td>NaN</td>\n",
              "      <td>NaN</td>\n",
              "      <td>3.0</td>\n",
              "      <td>15.0</td>\n",
              "      <td>NaN</td>\n",
              "      <td>NaN</td>\n",
              "      <td>NaN</td>\n",
              "      <td>11.0</td>\n",
              "      <td>70.0</td>\n",
              "      <td>1.0</td>\n",
              "      <td>NaN</td>\n",
              "      <td>4.0</td>\n",
              "      <td>3.0</td>\n",
              "    </tr>\n",
              "    <tr>\n",
              "      <th>1</th>\n",
              "      <td>Kent</td>\n",
              "      <td>(39.085748, -75.421875)</td>\n",
              "      <td>Beach</td>\n",
              "      <td>09/20/2008</td>\n",
              "      <td>Ted Harvey WLA/ Ted Harvey Wildlife Area</td>\n",
              "      <td>NaN</td>\n",
              "      <td>NaN</td>\n",
              "      <td>45</td>\n",
              "      <td>165.0</td>\n",
              "      <td>2.00</td>\n",
              "      <td>13</td>\n",
              "      <td>4.0</td>\n",
              "      <td>12.0</td>\n",
              "      <td>NaN</td>\n",
              "      <td>NaN</td>\n",
              "      <td>18.0</td>\n",
              "      <td>NaN</td>\n",
              "      <td>NaN</td>\n",
              "      <td>21.0</td>\n",
              "      <td>23.0</td>\n",
              "      <td>62.0</td>\n",
              "      <td>18.0</td>\n",
              "      <td>46.0</td>\n",
              "      <td>28.0</td>\n",
              "      <td>NaN</td>\n",
              "      <td>NaN</td>\n",
              "      <td>NaN</td>\n",
              "      <td>NaN</td>\n",
              "      <td>NaN</td>\n",
              "      <td>5</td>\n",
              "      <td>NaN</td>\n",
              "      <td>3.0</td>\n",
              "      <td>10.0</td>\n",
              "      <td>2.0</td>\n",
              "      <td>5.0</td>\n",
              "      <td>14.0</td>\n",
              "      <td>NaN</td>\n",
              "      <td>NaN</td>\n",
              "      <td>NaN</td>\n",
              "      <td>10.0</td>\n",
              "      <td>NaN</td>\n",
              "      <td>5.0</td>\n",
              "      <td>0</td>\n",
              "      <td>NaN</td>\n",
              "      <td>4.0</td>\n",
              "      <td>3.0</td>\n",
              "      <td>NaN</td>\n",
              "      <td>NaN</td>\n",
              "      <td>NaN</td>\n",
              "      <td>NaN</td>\n",
              "      <td>NaN</td>\n",
              "      <td>NaN</td>\n",
              "      <td>NaN</td>\n",
              "      <td>4.0</td>\n",
              "      <td>33.0</td>\n",
              "      <td>2.0</td>\n",
              "      <td>NaN</td>\n",
              "      <td>NaN</td>\n",
              "      <td>NaN</td>\n",
              "    </tr>\n",
              "    <tr>\n",
              "      <th>2</th>\n",
              "      <td>New Castle</td>\n",
              "      <td>(39.738765, -75.53939)</td>\n",
              "      <td>Beach</td>\n",
              "      <td>09/20/2008</td>\n",
              "      <td>E. 7th Street - Barbiarz Park</td>\n",
              "      <td>NaN</td>\n",
              "      <td>NaN</td>\n",
              "      <td>18</td>\n",
              "      <td>180.0</td>\n",
              "      <td>1.00</td>\n",
              "      <td>18</td>\n",
              "      <td>172.0</td>\n",
              "      <td>100.0</td>\n",
              "      <td>NaN</td>\n",
              "      <td>NaN</td>\n",
              "      <td>68.0</td>\n",
              "      <td>7.0</td>\n",
              "      <td>NaN</td>\n",
              "      <td>43.0</td>\n",
              "      <td>35.0</td>\n",
              "      <td>68.0</td>\n",
              "      <td>41.0</td>\n",
              "      <td>70.0</td>\n",
              "      <td>133.0</td>\n",
              "      <td>NaN</td>\n",
              "      <td>44.0</td>\n",
              "      <td>NaN</td>\n",
              "      <td>NaN</td>\n",
              "      <td>NaN</td>\n",
              "      <td>21</td>\n",
              "      <td>NaN</td>\n",
              "      <td>32.0</td>\n",
              "      <td>7.0</td>\n",
              "      <td>NaN</td>\n",
              "      <td>2.0</td>\n",
              "      <td>2.0</td>\n",
              "      <td>NaN</td>\n",
              "      <td>11.0</td>\n",
              "      <td>1.0</td>\n",
              "      <td>0.0</td>\n",
              "      <td>4.0</td>\n",
              "      <td>8.0</td>\n",
              "      <td>7</td>\n",
              "      <td>NaN</td>\n",
              "      <td>NaN</td>\n",
              "      <td>11.0</td>\n",
              "      <td>40.0</td>\n",
              "      <td>NaN</td>\n",
              "      <td>NaN</td>\n",
              "      <td>NaN</td>\n",
              "      <td>NaN</td>\n",
              "      <td>NaN</td>\n",
              "      <td>NaN</td>\n",
              "      <td>20.0</td>\n",
              "      <td>NaN</td>\n",
              "      <td>2.0</td>\n",
              "      <td>4.0</td>\n",
              "      <td>3.0</td>\n",
              "      <td>NaN</td>\n",
              "    </tr>\n",
              "    <tr>\n",
              "      <th>3</th>\n",
              "      <td>New Castle</td>\n",
              "      <td>(39.664715, -75.557785)</td>\n",
              "      <td>Beach</td>\n",
              "      <td>09/20/2008</td>\n",
              "      <td>Battery Park</td>\n",
              "      <td>NaN</td>\n",
              "      <td>NaN</td>\n",
              "      <td>51</td>\n",
              "      <td>892.0</td>\n",
              "      <td>0.50</td>\n",
              "      <td>52</td>\n",
              "      <td>541.0</td>\n",
              "      <td>871.0</td>\n",
              "      <td>NaN</td>\n",
              "      <td>NaN</td>\n",
              "      <td>1446.0</td>\n",
              "      <td>112.0</td>\n",
              "      <td>NaN</td>\n",
              "      <td>598.0</td>\n",
              "      <td>303.0</td>\n",
              "      <td>759.0</td>\n",
              "      <td>206.0</td>\n",
              "      <td>111.0</td>\n",
              "      <td>290.0</td>\n",
              "      <td>NaN</td>\n",
              "      <td>52.0</td>\n",
              "      <td>NaN</td>\n",
              "      <td>NaN</td>\n",
              "      <td>NaN</td>\n",
              "      <td>13</td>\n",
              "      <td>2.0</td>\n",
              "      <td>8.0</td>\n",
              "      <td>33.0</td>\n",
              "      <td>18.0</td>\n",
              "      <td>23.0</td>\n",
              "      <td>30.0</td>\n",
              "      <td>25.0</td>\n",
              "      <td>25.0</td>\n",
              "      <td>0.0</td>\n",
              "      <td>20.0</td>\n",
              "      <td>163.0</td>\n",
              "      <td>43.0</td>\n",
              "      <td>104</td>\n",
              "      <td>NaN</td>\n",
              "      <td>10.0</td>\n",
              "      <td>122.0</td>\n",
              "      <td>3.0</td>\n",
              "      <td>NaN</td>\n",
              "      <td>26.0</td>\n",
              "      <td>48.0</td>\n",
              "      <td>NaN</td>\n",
              "      <td>NaN</td>\n",
              "      <td>NaN</td>\n",
              "      <td>37.0</td>\n",
              "      <td>12.0</td>\n",
              "      <td>2.0</td>\n",
              "      <td>0.0</td>\n",
              "      <td>19.0</td>\n",
              "      <td>0.0</td>\n",
              "    </tr>\n",
              "    <tr>\n",
              "      <th>4</th>\n",
              "      <td>New Castle</td>\n",
              "      <td>(39.504724, -75.580976)</td>\n",
              "      <td>Beach</td>\n",
              "      <td>09/20/2008</td>\n",
              "      <td>Augustine Beach Boat Ramp</td>\n",
              "      <td>NaN</td>\n",
              "      <td>NaN</td>\n",
              "      <td>70</td>\n",
              "      <td>2200.0</td>\n",
              "      <td>1.00</td>\n",
              "      <td>0</td>\n",
              "      <td>75.0</td>\n",
              "      <td>7.0</td>\n",
              "      <td>NaN</td>\n",
              "      <td>NaN</td>\n",
              "      <td>110.0</td>\n",
              "      <td>2.0</td>\n",
              "      <td>NaN</td>\n",
              "      <td>80.0</td>\n",
              "      <td>25.0</td>\n",
              "      <td>200.0</td>\n",
              "      <td>40.0</td>\n",
              "      <td>20.0</td>\n",
              "      <td>60.0</td>\n",
              "      <td>NaN</td>\n",
              "      <td>20.0</td>\n",
              "      <td>NaN</td>\n",
              "      <td>NaN</td>\n",
              "      <td>NaN</td>\n",
              "      <td>3</td>\n",
              "      <td>2.0</td>\n",
              "      <td>4.0</td>\n",
              "      <td>2.0</td>\n",
              "      <td>7.0</td>\n",
              "      <td>11.0</td>\n",
              "      <td>2.0</td>\n",
              "      <td>1.0</td>\n",
              "      <td>5.0</td>\n",
              "      <td>1.0</td>\n",
              "      <td>1.0</td>\n",
              "      <td>9.0</td>\n",
              "      <td>7.0</td>\n",
              "      <td>10</td>\n",
              "      <td>NaN</td>\n",
              "      <td>NaN</td>\n",
              "      <td>3.0</td>\n",
              "      <td>NaN</td>\n",
              "      <td>5.0</td>\n",
              "      <td>NaN</td>\n",
              "      <td>5.0</td>\n",
              "      <td>NaN</td>\n",
              "      <td>NaN</td>\n",
              "      <td>NaN</td>\n",
              "      <td>14.0</td>\n",
              "      <td>NaN</td>\n",
              "      <td>NaN</td>\n",
              "      <td>NaN</td>\n",
              "      <td>2.0</td>\n",
              "      <td>NaN</td>\n",
              "    </tr>\n",
              "    <tr>\n",
              "      <th>...</th>\n",
              "      <td>...</td>\n",
              "      <td>...</td>\n",
              "      <td>...</td>\n",
              "      <td>...</td>\n",
              "      <td>...</td>\n",
              "      <td>...</td>\n",
              "      <td>...</td>\n",
              "      <td>...</td>\n",
              "      <td>...</td>\n",
              "      <td>...</td>\n",
              "      <td>...</td>\n",
              "      <td>...</td>\n",
              "      <td>...</td>\n",
              "      <td>...</td>\n",
              "      <td>...</td>\n",
              "      <td>...</td>\n",
              "      <td>...</td>\n",
              "      <td>...</td>\n",
              "      <td>...</td>\n",
              "      <td>...</td>\n",
              "      <td>...</td>\n",
              "      <td>...</td>\n",
              "      <td>...</td>\n",
              "      <td>...</td>\n",
              "      <td>...</td>\n",
              "      <td>...</td>\n",
              "      <td>...</td>\n",
              "      <td>...</td>\n",
              "      <td>...</td>\n",
              "      <td>...</td>\n",
              "      <td>...</td>\n",
              "      <td>...</td>\n",
              "      <td>...</td>\n",
              "      <td>...</td>\n",
              "      <td>...</td>\n",
              "      <td>...</td>\n",
              "      <td>...</td>\n",
              "      <td>...</td>\n",
              "      <td>...</td>\n",
              "      <td>...</td>\n",
              "      <td>...</td>\n",
              "      <td>...</td>\n",
              "      <td>...</td>\n",
              "      <td>...</td>\n",
              "      <td>...</td>\n",
              "      <td>...</td>\n",
              "      <td>...</td>\n",
              "      <td>...</td>\n",
              "      <td>...</td>\n",
              "      <td>...</td>\n",
              "      <td>...</td>\n",
              "      <td>...</td>\n",
              "      <td>...</td>\n",
              "      <td>...</td>\n",
              "      <td>...</td>\n",
              "      <td>...</td>\n",
              "      <td>...</td>\n",
              "      <td>...</td>\n",
              "      <td>...</td>\n",
              "    </tr>\n",
              "    <tr>\n",
              "      <th>444</th>\n",
              "      <td>Kent</td>\n",
              "      <td>(39.330540817256, -75.470104303979)</td>\n",
              "      <td>Land (beach, shoreline and inland)</td>\n",
              "      <td>09/22/2018</td>\n",
              "      <td>Woodland Beach Pier</td>\n",
              "      <td>6.0</td>\n",
              "      <td>4.0</td>\n",
              "      <td>10</td>\n",
              "      <td>95.0</td>\n",
              "      <td>0.75</td>\n",
              "      <td>6</td>\n",
              "      <td>135.0</td>\n",
              "      <td>16.0</td>\n",
              "      <td>1.0</td>\n",
              "      <td>0.0</td>\n",
              "      <td>36.0</td>\n",
              "      <td>17.0</td>\n",
              "      <td>4.0</td>\n",
              "      <td>12.0</td>\n",
              "      <td>3.0</td>\n",
              "      <td>31.0</td>\n",
              "      <td>16.0</td>\n",
              "      <td>20.0</td>\n",
              "      <td>2.0</td>\n",
              "      <td>2.0</td>\n",
              "      <td>3.0</td>\n",
              "      <td>2.0</td>\n",
              "      <td>2.0</td>\n",
              "      <td>2.0</td>\n",
              "      <td>0</td>\n",
              "      <td>1.0</td>\n",
              "      <td>10.0</td>\n",
              "      <td>4.0</td>\n",
              "      <td>1.0</td>\n",
              "      <td>0.0</td>\n",
              "      <td>3.0</td>\n",
              "      <td>1.0</td>\n",
              "      <td>8.0</td>\n",
              "      <td>0.0</td>\n",
              "      <td>1.0</td>\n",
              "      <td>10.0</td>\n",
              "      <td>4.0</td>\n",
              "      <td>0</td>\n",
              "      <td>0.0</td>\n",
              "      <td>0.0</td>\n",
              "      <td>0.0</td>\n",
              "      <td>2.0</td>\n",
              "      <td>2.0</td>\n",
              "      <td>2.0</td>\n",
              "      <td>1.0</td>\n",
              "      <td>20.0</td>\n",
              "      <td>43.0</td>\n",
              "      <td>15.0</td>\n",
              "      <td>NaN</td>\n",
              "      <td>NaN</td>\n",
              "      <td>NaN</td>\n",
              "      <td>NaN</td>\n",
              "      <td>NaN</td>\n",
              "      <td>NaN</td>\n",
              "    </tr>\n",
              "    <tr>\n",
              "      <th>445</th>\n",
              "      <td>Kent</td>\n",
              "      <td>(39.340537155394, -75.487814336855)</td>\n",
              "      <td>Land (beach, shoreline and inland)</td>\n",
              "      <td>09/22/2018</td>\n",
              "      <td>Woodland Beach-Taylor's Gut</td>\n",
              "      <td>12.0</td>\n",
              "      <td>3.0</td>\n",
              "      <td>15</td>\n",
              "      <td>95.0</td>\n",
              "      <td>1.00</td>\n",
              "      <td>6</td>\n",
              "      <td>130.0</td>\n",
              "      <td>46.0</td>\n",
              "      <td>15.0</td>\n",
              "      <td>3.0</td>\n",
              "      <td>7.0</td>\n",
              "      <td>1.0</td>\n",
              "      <td>3.0</td>\n",
              "      <td>10.0</td>\n",
              "      <td>0.0</td>\n",
              "      <td>70.0</td>\n",
              "      <td>34.0</td>\n",
              "      <td>90.0</td>\n",
              "      <td>12.0</td>\n",
              "      <td>9.0</td>\n",
              "      <td>12.0</td>\n",
              "      <td>16.0</td>\n",
              "      <td>2.0</td>\n",
              "      <td>0.0</td>\n",
              "      <td>0</td>\n",
              "      <td>0.0</td>\n",
              "      <td>0.0</td>\n",
              "      <td>1.0</td>\n",
              "      <td>1.0</td>\n",
              "      <td>14.0</td>\n",
              "      <td>1.0</td>\n",
              "      <td>1.0</td>\n",
              "      <td>12.0</td>\n",
              "      <td>0.0</td>\n",
              "      <td>1.0</td>\n",
              "      <td>1.0</td>\n",
              "      <td>2.0</td>\n",
              "      <td>1</td>\n",
              "      <td>0.0</td>\n",
              "      <td>1.0</td>\n",
              "      <td>0.0</td>\n",
              "      <td>1.0</td>\n",
              "      <td>0.0</td>\n",
              "      <td>0.0</td>\n",
              "      <td>0.0</td>\n",
              "      <td>4.0</td>\n",
              "      <td>1.0</td>\n",
              "      <td>21.0</td>\n",
              "      <td>NaN</td>\n",
              "      <td>NaN</td>\n",
              "      <td>NaN</td>\n",
              "      <td>NaN</td>\n",
              "      <td>NaN</td>\n",
              "      <td>NaN</td>\n",
              "    </tr>\n",
              "    <tr>\n",
              "      <th>446</th>\n",
              "      <td>Sussex</td>\n",
              "      <td>(38.789097986218, -75.157007597219)</td>\n",
              "      <td>Land (beach, shoreline and inland)</td>\n",
              "      <td>09/22/2018</td>\n",
              "      <td>Lewes Boat Ramp</td>\n",
              "      <td>7.0</td>\n",
              "      <td>2.0</td>\n",
              "      <td>9</td>\n",
              "      <td>150.0</td>\n",
              "      <td>0.50</td>\n",
              "      <td>6</td>\n",
              "      <td>118.0</td>\n",
              "      <td>40.0</td>\n",
              "      <td>16.0</td>\n",
              "      <td>6.0</td>\n",
              "      <td>21.0</td>\n",
              "      <td>29.0</td>\n",
              "      <td>15.0</td>\n",
              "      <td>16.0</td>\n",
              "      <td>6.0</td>\n",
              "      <td>31.0</td>\n",
              "      <td>22.0</td>\n",
              "      <td>26.0</td>\n",
              "      <td>20.0</td>\n",
              "      <td>22.0</td>\n",
              "      <td>4.0</td>\n",
              "      <td>12.0</td>\n",
              "      <td>8.0</td>\n",
              "      <td>9.0</td>\n",
              "      <td>2</td>\n",
              "      <td>6.0</td>\n",
              "      <td>8.0</td>\n",
              "      <td>11.0</td>\n",
              "      <td>3.0</td>\n",
              "      <td>20.0</td>\n",
              "      <td>2.0</td>\n",
              "      <td>7.0</td>\n",
              "      <td>2.0</td>\n",
              "      <td>0.0</td>\n",
              "      <td>2.0</td>\n",
              "      <td>8.0</td>\n",
              "      <td>0.0</td>\n",
              "      <td>5</td>\n",
              "      <td>0.0</td>\n",
              "      <td>0.0</td>\n",
              "      <td>0.0</td>\n",
              "      <td>0.0</td>\n",
              "      <td>0.0</td>\n",
              "      <td>0.0</td>\n",
              "      <td>0.0</td>\n",
              "      <td>46.0</td>\n",
              "      <td>9.0</td>\n",
              "      <td>94.0</td>\n",
              "      <td>NaN</td>\n",
              "      <td>NaN</td>\n",
              "      <td>NaN</td>\n",
              "      <td>NaN</td>\n",
              "      <td>NaN</td>\n",
              "      <td>NaN</td>\n",
              "    </tr>\n",
              "    <tr>\n",
              "      <th>447</th>\n",
              "      <td>Sussex</td>\n",
              "      <td>(38.645629073549, -75.6005945823)</td>\n",
              "      <td>Land (beach, shoreline and inland)</td>\n",
              "      <td>09/22/2018</td>\n",
              "      <td>Williams Pond - Seaford</td>\n",
              "      <td>20.0</td>\n",
              "      <td>4.0</td>\n",
              "      <td>24</td>\n",
              "      <td>211.0</td>\n",
              "      <td>5.00</td>\n",
              "      <td>21</td>\n",
              "      <td>374.0</td>\n",
              "      <td>682.0</td>\n",
              "      <td>415.0</td>\n",
              "      <td>198.0</td>\n",
              "      <td>227.0</td>\n",
              "      <td>230.0</td>\n",
              "      <td>68.0</td>\n",
              "      <td>141.0</td>\n",
              "      <td>59.0</td>\n",
              "      <td>349.0</td>\n",
              "      <td>132.0</td>\n",
              "      <td>148.0</td>\n",
              "      <td>97.0</td>\n",
              "      <td>22.0</td>\n",
              "      <td>34.0</td>\n",
              "      <td>63.0</td>\n",
              "      <td>66.0</td>\n",
              "      <td>20.0</td>\n",
              "      <td>3</td>\n",
              "      <td>42.0</td>\n",
              "      <td>29.0</td>\n",
              "      <td>0.0</td>\n",
              "      <td>0.0</td>\n",
              "      <td>36.0</td>\n",
              "      <td>3.0</td>\n",
              "      <td>18.0</td>\n",
              "      <td>14.0</td>\n",
              "      <td>0.0</td>\n",
              "      <td>8.0</td>\n",
              "      <td>37.0</td>\n",
              "      <td>9.0</td>\n",
              "      <td>9</td>\n",
              "      <td>0.0</td>\n",
              "      <td>0.0</td>\n",
              "      <td>0.0</td>\n",
              "      <td>4.0</td>\n",
              "      <td>0.0</td>\n",
              "      <td>0.0</td>\n",
              "      <td>0.0</td>\n",
              "      <td>79.0</td>\n",
              "      <td>52.0</td>\n",
              "      <td>174.0</td>\n",
              "      <td>NaN</td>\n",
              "      <td>NaN</td>\n",
              "      <td>NaN</td>\n",
              "      <td>NaN</td>\n",
              "      <td>NaN</td>\n",
              "      <td>NaN</td>\n",
              "    </tr>\n",
              "    <tr>\n",
              "      <th>448</th>\n",
              "      <td>Kent</td>\n",
              "      <td>(39.177991300009, -75.407235415161)</td>\n",
              "      <td>Land (beach, shoreline and inland)</td>\n",
              "      <td>09/22/2018</td>\n",
              "      <td>Little Creek Wildlife Area/Port Mahon Road</td>\n",
              "      <td>2.0</td>\n",
              "      <td>0.0</td>\n",
              "      <td>2</td>\n",
              "      <td>6.0</td>\n",
              "      <td>1.00</td>\n",
              "      <td>3</td>\n",
              "      <td>0.0</td>\n",
              "      <td>5.0</td>\n",
              "      <td>4.0</td>\n",
              "      <td>0.0</td>\n",
              "      <td>8.0</td>\n",
              "      <td>0.0</td>\n",
              "      <td>1.0</td>\n",
              "      <td>0.0</td>\n",
              "      <td>1.0</td>\n",
              "      <td>49.0</td>\n",
              "      <td>9.0</td>\n",
              "      <td>15.0</td>\n",
              "      <td>4.0</td>\n",
              "      <td>2.0</td>\n",
              "      <td>0.0</td>\n",
              "      <td>0.0</td>\n",
              "      <td>2.0</td>\n",
              "      <td>4.0</td>\n",
              "      <td>4</td>\n",
              "      <td>0.0</td>\n",
              "      <td>3.0</td>\n",
              "      <td>1.0</td>\n",
              "      <td>0.0</td>\n",
              "      <td>0.0</td>\n",
              "      <td>2.0</td>\n",
              "      <td>1.0</td>\n",
              "      <td>2.0</td>\n",
              "      <td>0.0</td>\n",
              "      <td>8.0</td>\n",
              "      <td>0.0</td>\n",
              "      <td>0.0</td>\n",
              "      <td>0</td>\n",
              "      <td>0.0</td>\n",
              "      <td>0.0</td>\n",
              "      <td>0.0</td>\n",
              "      <td>0.0</td>\n",
              "      <td>0.0</td>\n",
              "      <td>0.0</td>\n",
              "      <td>0.0</td>\n",
              "      <td>8.0</td>\n",
              "      <td>0.0</td>\n",
              "      <td>6.0</td>\n",
              "      <td>NaN</td>\n",
              "      <td>NaN</td>\n",
              "      <td>NaN</td>\n",
              "      <td>NaN</td>\n",
              "      <td>NaN</td>\n",
              "      <td>NaN</td>\n",
              "    </tr>\n",
              "  </tbody>\n",
              "</table>\n",
              "<p>449 rows × 59 columns</p>\n",
              "</div>"
            ],
            "text/plain": [
              "         County  ... 55-Gallon Drums\n",
              "0          Kent  ...             3.0\n",
              "1          Kent  ...             NaN\n",
              "2    New Castle  ...             NaN\n",
              "3    New Castle  ...             0.0\n",
              "4    New Castle  ...             NaN\n",
              "..          ...  ...             ...\n",
              "444        Kent  ...             NaN\n",
              "445        Kent  ...             NaN\n",
              "446      Sussex  ...             NaN\n",
              "447      Sussex  ...             NaN\n",
              "448        Kent  ...             NaN\n",
              "\n",
              "[449 rows x 59 columns]"
            ]
          },
          "metadata": {
            "tags": []
          },
          "execution_count": 38
        }
      ]
    },
    {
      "cell_type": "code",
      "metadata": {
        "id": "Fz42NH8Xc4Q0",
        "colab_type": "code",
        "colab": {
          "base_uri": "https://localhost:8080/",
          "height": 340
        },
        "outputId": "62d835f3-65a3-43d4-f57c-6f88e93e1068"
      },
      "source": [
        "cleanupdf.columns"
      ],
      "execution_count": 34,
      "outputs": [
        {
          "output_type": "execute_result",
          "data": {
            "text/plain": [
              "Index(['County', 'Location Lat-Long', 'Cleanup Type', 'Cleanup Date',\n",
              "       'Cleanup Site', 'Adults', 'Children', 'People', 'Pounds', 'Miles',\n",
              "       'Bags', 'Cigarette Butts', 'Food Wrappers',\n",
              "       'Take Out/Away Containers (Plastic)', 'Take Out/Away Containers (Foam)',\n",
              "       'Bottle Caps (Plastic)', 'Bottle Caps (Metal)', 'Lids (Plastic)',\n",
              "       'Straws, Stirrers', 'Forks, Knives, Spoons',\n",
              "       'Beverage Bottles (Plastic)', 'Beverage Bottles (Glass)',\n",
              "       'Beverage Cans', 'Grocery Bags (Plastic)', 'Other Plastic Bags',\n",
              "       'Paper Bags', 'Cups, Plates (Paper)', 'Cups, Plates (Plastic)',\n",
              "       'Cups, Plates (Foam)', 'Fishing Buoys, Pots & Traps',\n",
              "       'Fishing Net & Pieces', 'Fishing Line', 'Rope', '6-Pack Holders',\n",
              "       'Other Plastic/Foam Packaging', 'Other Plastic Bottles',\n",
              "       'Strapping Bands', 'Tobacco Packaging/Wrap', 'Appliances', 'Balloons',\n",
              "       'Cigar Tips', 'Cigarette Lighters', 'Construction Materials',\n",
              "       'Fireworks', 'Tires', 'Toys', 'Condoms', 'Diapers', 'Syringes',\n",
              "       'Tampons/Tampon Applicators', 'Foam Pieces', 'Glass Pieces',\n",
              "       'Plastic Pieces', 'Clothing, Shoes', 'Shotgun Shells/Wadding',\n",
              "       'Light Bulbs/Tubes', 'Batteries', 'Cars/Car Parts', '55-Gallon Drums'],\n",
              "      dtype='object')"
            ]
          },
          "metadata": {
            "tags": []
          },
          "execution_count": 34
        }
      ]
    },
    {
      "cell_type": "code",
      "metadata": {
        "id": "jYvyuxAXdCTk",
        "colab_type": "code",
        "colab": {
          "base_uri": "https://localhost:8080/",
          "height": 368
        },
        "outputId": "64f6b07f-bac4-4c82-e290-9533b3d7a2fd"
      },
      "source": [
        "cleanupdf.describe() #summary statistics for all numerical columns"
      ],
      "execution_count": 229,
      "outputs": [
        {
          "output_type": "execute_result",
          "data": {
            "text/html": [
              "<div>\n",
              "<style scoped>\n",
              "    .dataframe tbody tr th:only-of-type {\n",
              "        vertical-align: middle;\n",
              "    }\n",
              "\n",
              "    .dataframe tbody tr th {\n",
              "        vertical-align: top;\n",
              "    }\n",
              "\n",
              "    .dataframe thead th {\n",
              "        text-align: right;\n",
              "    }\n",
              "</style>\n",
              "<table border=\"1\" class=\"dataframe\">\n",
              "  <thead>\n",
              "    <tr style=\"text-align: right;\">\n",
              "      <th></th>\n",
              "      <th>Adults</th>\n",
              "      <th>Children</th>\n",
              "      <th>People</th>\n",
              "      <th>Pounds</th>\n",
              "      <th>Miles</th>\n",
              "      <th>Bags</th>\n",
              "      <th>Cigarette Butts</th>\n",
              "      <th>Food Wrappers</th>\n",
              "      <th>Take Out/Away Containers (Plastic)</th>\n",
              "      <th>Take Out/Away Containers (Foam)</th>\n",
              "      <th>Bottle Caps (Plastic)</th>\n",
              "      <th>Bottle Caps (Metal)</th>\n",
              "      <th>Lids (Plastic)</th>\n",
              "      <th>Straws, Stirrers</th>\n",
              "      <th>Forks, Knives, Spoons</th>\n",
              "      <th>Beverage Bottles (Plastic)</th>\n",
              "      <th>Beverage Bottles (Glass)</th>\n",
              "      <th>Beverage Cans</th>\n",
              "      <th>Grocery Bags (Plastic)</th>\n",
              "      <th>Other Plastic Bags</th>\n",
              "      <th>Paper Bags</th>\n",
              "      <th>Cups, Plates (Paper)</th>\n",
              "      <th>Cups, Plates (Plastic)</th>\n",
              "      <th>Cups, Plates (Foam)</th>\n",
              "      <th>Fishing Buoys, Pots &amp; Traps</th>\n",
              "      <th>Fishing Net &amp; Pieces</th>\n",
              "      <th>Fishing Line</th>\n",
              "      <th>Rope</th>\n",
              "      <th>6-Pack Holders</th>\n",
              "      <th>Other Plastic/Foam Packaging</th>\n",
              "      <th>Other Plastic Bottles</th>\n",
              "      <th>Strapping Bands</th>\n",
              "      <th>Tobacco Packaging/Wrap</th>\n",
              "      <th>Appliances</th>\n",
              "      <th>Balloons</th>\n",
              "      <th>Cigar Tips</th>\n",
              "      <th>Cigarette Lighters</th>\n",
              "      <th>Construction Materials</th>\n",
              "      <th>Fireworks</th>\n",
              "      <th>Tires</th>\n",
              "      <th>Toys</th>\n",
              "      <th>Condoms</th>\n",
              "      <th>Diapers</th>\n",
              "      <th>Syringes</th>\n",
              "      <th>Tampons/Tampon Applicators</th>\n",
              "      <th>Foam Pieces</th>\n",
              "      <th>Glass Pieces</th>\n",
              "      <th>Plastic Pieces</th>\n",
              "      <th>Clothing, Shoes</th>\n",
              "      <th>Shotgun Shells/Wadding</th>\n",
              "      <th>Light Bulbs/Tubes</th>\n",
              "      <th>Batteries</th>\n",
              "      <th>Cars/Car Parts</th>\n",
              "      <th>55-Gallon Drums</th>\n",
              "      <th>doweek</th>\n",
              "    </tr>\n",
              "  </thead>\n",
              "  <tbody>\n",
              "    <tr>\n",
              "      <th>count</th>\n",
              "      <td>270.000000</td>\n",
              "      <td>270.000000</td>\n",
              "      <td>449.000000</td>\n",
              "      <td>449.000000</td>\n",
              "      <td>449.000000</td>\n",
              "      <td>449.000000</td>\n",
              "      <td>415.000000</td>\n",
              "      <td>423.000000</td>\n",
              "      <td>259.000000</td>\n",
              "      <td>252.000000</td>\n",
              "      <td>424.000000</td>\n",
              "      <td>390.000000</td>\n",
              "      <td>267.000000</td>\n",
              "      <td>417.000000</td>\n",
              "      <td>417.000000</td>\n",
              "      <td>427.000000</td>\n",
              "      <td>421.000000</td>\n",
              "      <td>425.000000</td>\n",
              "      <td>422.000000</td>\n",
              "      <td>265.000000</td>\n",
              "      <td>397.000000</td>\n",
              "      <td>262.000000</td>\n",
              "      <td>261.000000</td>\n",
              "      <td>257.000000</td>\n",
              "      <td>449.000000</td>\n",
              "      <td>339.000000</td>\n",
              "      <td>385.000000</td>\n",
              "      <td>395.000000</td>\n",
              "      <td>338.000000</td>\n",
              "      <td>440.000000</td>\n",
              "      <td>426.000000</td>\n",
              "      <td>372.000000</td>\n",
              "      <td>398.000000</td>\n",
              "      <td>230.000000</td>\n",
              "      <td>392.000000</td>\n",
              "      <td>385.000000</td>\n",
              "      <td>371.000000</td>\n",
              "      <td>449.000000</td>\n",
              "      <td>235.000000</td>\n",
              "      <td>312.000000</td>\n",
              "      <td>279.000000</td>\n",
              "      <td>310.000000</td>\n",
              "      <td>306.000000</td>\n",
              "      <td>256.000000</td>\n",
              "      <td>359.000000</td>\n",
              "      <td>258.000000</td>\n",
              "      <td>253.000000</td>\n",
              "      <td>260.000000</td>\n",
              "      <td>157.000000</td>\n",
              "      <td>142.000000</td>\n",
              "      <td>91.000000</td>\n",
              "      <td>70.000000</td>\n",
              "      <td>97.000000</td>\n",
              "      <td>33.000000</td>\n",
              "      <td>449.000000</td>\n",
              "    </tr>\n",
              "    <tr>\n",
              "      <th>mean</th>\n",
              "      <td>25.196296</td>\n",
              "      <td>10.274074</td>\n",
              "      <td>42.204900</td>\n",
              "      <td>288.428174</td>\n",
              "      <td>1.638092</td>\n",
              "      <td>16.207127</td>\n",
              "      <td>418.532530</td>\n",
              "      <td>124.463357</td>\n",
              "      <td>16.656371</td>\n",
              "      <td>8.492063</td>\n",
              "      <td>155.106132</td>\n",
              "      <td>16.379487</td>\n",
              "      <td>25.164794</td>\n",
              "      <td>60.251799</td>\n",
              "      <td>34.347722</td>\n",
              "      <td>95.819672</td>\n",
              "      <td>39.902613</td>\n",
              "      <td>55.155294</td>\n",
              "      <td>47.080569</td>\n",
              "      <td>33.973585</td>\n",
              "      <td>15.292191</td>\n",
              "      <td>12.847328</td>\n",
              "      <td>16.923372</td>\n",
              "      <td>8.863813</td>\n",
              "      <td>7.699332</td>\n",
              "      <td>6.000000</td>\n",
              "      <td>14.293506</td>\n",
              "      <td>13.215190</td>\n",
              "      <td>4.059172</td>\n",
              "      <td>24.068182</td>\n",
              "      <td>6.622066</td>\n",
              "      <td>8.666667</td>\n",
              "      <td>13.479899</td>\n",
              "      <td>0.508696</td>\n",
              "      <td>19.928571</td>\n",
              "      <td>27.509091</td>\n",
              "      <td>7.382749</td>\n",
              "      <td>20.278396</td>\n",
              "      <td>11.234043</td>\n",
              "      <td>2.653846</td>\n",
              "      <td>20.605735</td>\n",
              "      <td>4.535484</td>\n",
              "      <td>1.705882</td>\n",
              "      <td>1.625000</td>\n",
              "      <td>9.016713</td>\n",
              "      <td>50.038760</td>\n",
              "      <td>52.588933</td>\n",
              "      <td>164.900000</td>\n",
              "      <td>17.917197</td>\n",
              "      <td>28.697183</td>\n",
              "      <td>2.901099</td>\n",
              "      <td>2.014286</td>\n",
              "      <td>5.164948</td>\n",
              "      <td>0.969697</td>\n",
              "      <td>4.984410</td>\n",
              "    </tr>\n",
              "    <tr>\n",
              "      <th>std</th>\n",
              "      <td>22.565279</td>\n",
              "      <td>12.594582</td>\n",
              "      <td>37.405212</td>\n",
              "      <td>501.374768</td>\n",
              "      <td>1.260311</td>\n",
              "      <td>16.610140</td>\n",
              "      <td>666.326227</td>\n",
              "      <td>157.603056</td>\n",
              "      <td>35.847460</td>\n",
              "      <td>19.841502</td>\n",
              "      <td>210.083267</td>\n",
              "      <td>22.110719</td>\n",
              "      <td>32.686294</td>\n",
              "      <td>102.270810</td>\n",
              "      <td>53.318405</td>\n",
              "      <td>184.550482</td>\n",
              "      <td>67.660128</td>\n",
              "      <td>68.480540</td>\n",
              "      <td>62.935726</td>\n",
              "      <td>37.081034</td>\n",
              "      <td>21.133062</td>\n",
              "      <td>15.338067</td>\n",
              "      <td>19.693074</td>\n",
              "      <td>9.792821</td>\n",
              "      <td>16.362141</td>\n",
              "      <td>9.134757</td>\n",
              "      <td>34.184770</td>\n",
              "      <td>16.848437</td>\n",
              "      <td>8.689981</td>\n",
              "      <td>53.516096</td>\n",
              "      <td>11.941638</td>\n",
              "      <td>10.463989</td>\n",
              "      <td>42.981612</td>\n",
              "      <td>1.923746</td>\n",
              "      <td>29.042609</td>\n",
              "      <td>50.102661</td>\n",
              "      <td>14.130440</td>\n",
              "      <td>35.115632</td>\n",
              "      <td>53.570392</td>\n",
              "      <td>5.099844</td>\n",
              "      <td>43.415619</td>\n",
              "      <td>39.927244</td>\n",
              "      <td>2.776677</td>\n",
              "      <td>4.539154</td>\n",
              "      <td>39.205229</td>\n",
              "      <td>85.537795</td>\n",
              "      <td>186.455272</td>\n",
              "      <td>204.427512</td>\n",
              "      <td>17.275654</td>\n",
              "      <td>52.830787</td>\n",
              "      <td>4.144756</td>\n",
              "      <td>2.475930</td>\n",
              "      <td>6.598106</td>\n",
              "      <td>1.334280</td>\n",
              "      <td>0.226044</td>\n",
              "    </tr>\n",
              "    <tr>\n",
              "      <th>min</th>\n",
              "      <td>1.000000</td>\n",
              "      <td>0.000000</td>\n",
              "      <td>1.000000</td>\n",
              "      <td>0.000000</td>\n",
              "      <td>0.000000</td>\n",
              "      <td>0.000000</td>\n",
              "      <td>0.000000</td>\n",
              "      <td>0.000000</td>\n",
              "      <td>0.000000</td>\n",
              "      <td>0.000000</td>\n",
              "      <td>0.000000</td>\n",
              "      <td>0.000000</td>\n",
              "      <td>0.000000</td>\n",
              "      <td>0.000000</td>\n",
              "      <td>0.000000</td>\n",
              "      <td>0.000000</td>\n",
              "      <td>0.000000</td>\n",
              "      <td>0.000000</td>\n",
              "      <td>0.000000</td>\n",
              "      <td>0.000000</td>\n",
              "      <td>0.000000</td>\n",
              "      <td>0.000000</td>\n",
              "      <td>0.000000</td>\n",
              "      <td>0.000000</td>\n",
              "      <td>0.000000</td>\n",
              "      <td>0.000000</td>\n",
              "      <td>0.000000</td>\n",
              "      <td>0.000000</td>\n",
              "      <td>0.000000</td>\n",
              "      <td>0.000000</td>\n",
              "      <td>0.000000</td>\n",
              "      <td>0.000000</td>\n",
              "      <td>0.000000</td>\n",
              "      <td>0.000000</td>\n",
              "      <td>0.000000</td>\n",
              "      <td>0.000000</td>\n",
              "      <td>0.000000</td>\n",
              "      <td>0.000000</td>\n",
              "      <td>0.000000</td>\n",
              "      <td>0.000000</td>\n",
              "      <td>0.000000</td>\n",
              "      <td>0.000000</td>\n",
              "      <td>0.000000</td>\n",
              "      <td>0.000000</td>\n",
              "      <td>0.000000</td>\n",
              "      <td>0.000000</td>\n",
              "      <td>0.000000</td>\n",
              "      <td>0.000000</td>\n",
              "      <td>1.000000</td>\n",
              "      <td>0.000000</td>\n",
              "      <td>0.000000</td>\n",
              "      <td>0.000000</td>\n",
              "      <td>0.000000</td>\n",
              "      <td>0.000000</td>\n",
              "      <td>2.000000</td>\n",
              "    </tr>\n",
              "    <tr>\n",
              "      <th>25%</th>\n",
              "      <td>10.000000</td>\n",
              "      <td>1.000000</td>\n",
              "      <td>16.000000</td>\n",
              "      <td>68.000000</td>\n",
              "      <td>1.000000</td>\n",
              "      <td>6.000000</td>\n",
              "      <td>45.500000</td>\n",
              "      <td>35.000000</td>\n",
              "      <td>3.000000</td>\n",
              "      <td>1.000000</td>\n",
              "      <td>33.750000</td>\n",
              "      <td>3.000000</td>\n",
              "      <td>8.000000</td>\n",
              "      <td>11.000000</td>\n",
              "      <td>5.000000</td>\n",
              "      <td>20.000000</td>\n",
              "      <td>6.000000</td>\n",
              "      <td>12.000000</td>\n",
              "      <td>11.250000</td>\n",
              "      <td>12.000000</td>\n",
              "      <td>3.000000</td>\n",
              "      <td>3.000000</td>\n",
              "      <td>5.000000</td>\n",
              "      <td>2.000000</td>\n",
              "      <td>0.000000</td>\n",
              "      <td>1.000000</td>\n",
              "      <td>2.000000</td>\n",
              "      <td>3.000000</td>\n",
              "      <td>0.000000</td>\n",
              "      <td>3.000000</td>\n",
              "      <td>0.000000</td>\n",
              "      <td>2.000000</td>\n",
              "      <td>3.000000</td>\n",
              "      <td>0.000000</td>\n",
              "      <td>3.000000</td>\n",
              "      <td>3.000000</td>\n",
              "      <td>1.000000</td>\n",
              "      <td>2.000000</td>\n",
              "      <td>0.000000</td>\n",
              "      <td>0.000000</td>\n",
              "      <td>0.000000</td>\n",
              "      <td>0.000000</td>\n",
              "      <td>0.000000</td>\n",
              "      <td>0.000000</td>\n",
              "      <td>1.000000</td>\n",
              "      <td>9.000000</td>\n",
              "      <td>2.000000</td>\n",
              "      <td>46.000000</td>\n",
              "      <td>6.000000</td>\n",
              "      <td>6.000000</td>\n",
              "      <td>1.000000</td>\n",
              "      <td>1.000000</td>\n",
              "      <td>1.000000</td>\n",
              "      <td>0.000000</td>\n",
              "      <td>5.000000</td>\n",
              "    </tr>\n",
              "    <tr>\n",
              "      <th>50%</th>\n",
              "      <td>18.000000</td>\n",
              "      <td>5.000000</td>\n",
              "      <td>30.000000</td>\n",
              "      <td>143.000000</td>\n",
              "      <td>1.000000</td>\n",
              "      <td>11.000000</td>\n",
              "      <td>186.000000</td>\n",
              "      <td>69.000000</td>\n",
              "      <td>8.000000</td>\n",
              "      <td>3.000000</td>\n",
              "      <td>75.000000</td>\n",
              "      <td>9.000000</td>\n",
              "      <td>16.000000</td>\n",
              "      <td>28.000000</td>\n",
              "      <td>12.000000</td>\n",
              "      <td>50.000000</td>\n",
              "      <td>18.000000</td>\n",
              "      <td>34.000000</td>\n",
              "      <td>25.000000</td>\n",
              "      <td>24.000000</td>\n",
              "      <td>9.000000</td>\n",
              "      <td>7.500000</td>\n",
              "      <td>11.000000</td>\n",
              "      <td>6.000000</td>\n",
              "      <td>3.000000</td>\n",
              "      <td>3.000000</td>\n",
              "      <td>7.000000</td>\n",
              "      <td>8.000000</td>\n",
              "      <td>1.000000</td>\n",
              "      <td>11.500000</td>\n",
              "      <td>2.000000</td>\n",
              "      <td>5.000000</td>\n",
              "      <td>7.000000</td>\n",
              "      <td>0.000000</td>\n",
              "      <td>9.000000</td>\n",
              "      <td>11.000000</td>\n",
              "      <td>3.000000</td>\n",
              "      <td>10.000000</td>\n",
              "      <td>2.000000</td>\n",
              "      <td>1.000000</td>\n",
              "      <td>2.000000</td>\n",
              "      <td>1.000000</td>\n",
              "      <td>1.000000</td>\n",
              "      <td>0.000000</td>\n",
              "      <td>3.000000</td>\n",
              "      <td>20.000000</td>\n",
              "      <td>12.000000</td>\n",
              "      <td>107.000000</td>\n",
              "      <td>12.000000</td>\n",
              "      <td>15.000000</td>\n",
              "      <td>2.000000</td>\n",
              "      <td>1.000000</td>\n",
              "      <td>3.000000</td>\n",
              "      <td>0.000000</td>\n",
              "      <td>5.000000</td>\n",
              "    </tr>\n",
              "    <tr>\n",
              "      <th>75%</th>\n",
              "      <td>33.000000</td>\n",
              "      <td>16.000000</td>\n",
              "      <td>60.000000</td>\n",
              "      <td>300.000000</td>\n",
              "      <td>2.000000</td>\n",
              "      <td>21.000000</td>\n",
              "      <td>470.500000</td>\n",
              "      <td>149.000000</td>\n",
              "      <td>19.000000</td>\n",
              "      <td>9.000000</td>\n",
              "      <td>189.000000</td>\n",
              "      <td>19.750000</td>\n",
              "      <td>27.000000</td>\n",
              "      <td>71.000000</td>\n",
              "      <td>39.000000</td>\n",
              "      <td>107.000000</td>\n",
              "      <td>40.000000</td>\n",
              "      <td>72.000000</td>\n",
              "      <td>51.750000</td>\n",
              "      <td>46.000000</td>\n",
              "      <td>19.000000</td>\n",
              "      <td>16.000000</td>\n",
              "      <td>21.000000</td>\n",
              "      <td>12.000000</td>\n",
              "      <td>9.000000</td>\n",
              "      <td>7.000000</td>\n",
              "      <td>17.000000</td>\n",
              "      <td>17.500000</td>\n",
              "      <td>5.000000</td>\n",
              "      <td>26.250000</td>\n",
              "      <td>8.000000</td>\n",
              "      <td>11.000000</td>\n",
              "      <td>14.000000</td>\n",
              "      <td>0.000000</td>\n",
              "      <td>23.250000</td>\n",
              "      <td>32.000000</td>\n",
              "      <td>8.000000</td>\n",
              "      <td>25.000000</td>\n",
              "      <td>10.000000</td>\n",
              "      <td>3.000000</td>\n",
              "      <td>21.000000</td>\n",
              "      <td>3.000000</td>\n",
              "      <td>2.000000</td>\n",
              "      <td>1.000000</td>\n",
              "      <td>8.000000</td>\n",
              "      <td>53.750000</td>\n",
              "      <td>40.000000</td>\n",
              "      <td>182.000000</td>\n",
              "      <td>25.000000</td>\n",
              "      <td>31.750000</td>\n",
              "      <td>3.000000</td>\n",
              "      <td>2.000000</td>\n",
              "      <td>6.000000</td>\n",
              "      <td>1.000000</td>\n",
              "      <td>5.000000</td>\n",
              "    </tr>\n",
              "    <tr>\n",
              "      <th>max</th>\n",
              "      <td>127.000000</td>\n",
              "      <td>60.000000</td>\n",
              "      <td>313.000000</td>\n",
              "      <td>5000.000000</td>\n",
              "      <td>8.000000</td>\n",
              "      <td>125.000000</td>\n",
              "      <td>5070.000000</td>\n",
              "      <td>1002.000000</td>\n",
              "      <td>415.000000</td>\n",
              "      <td>198.000000</td>\n",
              "      <td>1446.000000</td>\n",
              "      <td>230.000000</td>\n",
              "      <td>308.000000</td>\n",
              "      <td>1137.000000</td>\n",
              "      <td>352.000000</td>\n",
              "      <td>2834.000000</td>\n",
              "      <td>679.000000</td>\n",
              "      <td>597.000000</td>\n",
              "      <td>456.000000</td>\n",
              "      <td>366.000000</td>\n",
              "      <td>170.000000</td>\n",
              "      <td>116.000000</td>\n",
              "      <td>150.000000</td>\n",
              "      <td>72.000000</td>\n",
              "      <td>204.000000</td>\n",
              "      <td>99.000000</td>\n",
              "      <td>561.000000</td>\n",
              "      <td>139.000000</td>\n",
              "      <td>111.000000</td>\n",
              "      <td>923.000000</td>\n",
              "      <td>139.000000</td>\n",
              "      <td>81.000000</td>\n",
              "      <td>758.000000</td>\n",
              "      <td>24.000000</td>\n",
              "      <td>184.000000</td>\n",
              "      <td>549.000000</td>\n",
              "      <td>138.000000</td>\n",
              "      <td>333.000000</td>\n",
              "      <td>800.000000</td>\n",
              "      <td>49.000000</td>\n",
              "      <td>359.000000</td>\n",
              "      <td>701.000000</td>\n",
              "      <td>20.000000</td>\n",
              "      <td>36.000000</td>\n",
              "      <td>712.000000</td>\n",
              "      <td>629.000000</td>\n",
              "      <td>2349.000000</td>\n",
              "      <td>1407.000000</td>\n",
              "      <td>87.000000</td>\n",
              "      <td>518.000000</td>\n",
              "      <td>25.000000</td>\n",
              "      <td>13.000000</td>\n",
              "      <td>42.000000</td>\n",
              "      <td>5.000000</td>\n",
              "      <td>6.000000</td>\n",
              "    </tr>\n",
              "  </tbody>\n",
              "</table>\n",
              "</div>"
            ],
            "text/plain": [
              "           Adults    Children  ...  55-Gallon Drums      doweek\n",
              "count  270.000000  270.000000  ...        33.000000  449.000000\n",
              "mean    25.196296   10.274074  ...         0.969697    4.984410\n",
              "std     22.565279   12.594582  ...         1.334280    0.226044\n",
              "min      1.000000    0.000000  ...         0.000000    2.000000\n",
              "25%     10.000000    1.000000  ...         0.000000    5.000000\n",
              "50%     18.000000    5.000000  ...         0.000000    5.000000\n",
              "75%     33.000000   16.000000  ...         1.000000    5.000000\n",
              "max    127.000000   60.000000  ...         5.000000    6.000000\n",
              "\n",
              "[8 rows x 55 columns]"
            ]
          },
          "metadata": {
            "tags": []
          },
          "execution_count": 229
        }
      ]
    },
    {
      "cell_type": "code",
      "metadata": {
        "id": "6sKBDEO_dh3H",
        "colab_type": "code",
        "colab": {
          "base_uri": "https://localhost:8080/",
          "height": 221
        },
        "outputId": "3cf6a6df-5f2e-40b0-8dea-2fcfb6bf5bf3"
      },
      "source": [
        "cleanupdf[\"Cleanup Date\"] # dates are read in as strings but we can convert them to date objects"
      ],
      "execution_count": 40,
      "outputs": [
        {
          "output_type": "execute_result",
          "data": {
            "text/plain": [
              "0      09/20/2008\n",
              "1      09/20/2008\n",
              "2      09/20/2008\n",
              "3      09/20/2008\n",
              "4      09/20/2008\n",
              "          ...    \n",
              "444    09/22/2018\n",
              "445    09/22/2018\n",
              "446    09/22/2018\n",
              "447    09/22/2018\n",
              "448    09/22/2018\n",
              "Name: Cleanup Date, Length: 449, dtype: object"
            ]
          },
          "metadata": {
            "tags": []
          },
          "execution_count": 40
        }
      ]
    },
    {
      "cell_type": "code",
      "metadata": {
        "id": "hyKqnVH1dyP9",
        "colab_type": "code",
        "colab": {}
      },
      "source": [
        "cleanupdf = pd.read_csv(\"https://data.delaware.gov/api/views/jumg-zbb3/rows.csv?accessType=DOWNLOAD\",\n",
        "                        date_parser=[\"Cleanup Date\"]) "
      ],
      "execution_count": 72,
      "outputs": []
    },
    {
      "cell_type": "code",
      "metadata": {
        "id": "4WkxxuQDeDxY",
        "colab_type": "code",
        "colab": {
          "base_uri": "https://localhost:8080/",
          "height": 221
        },
        "outputId": "8a42618b-0ab7-4406-9dfe-2b195090da61"
      },
      "source": [
        "#not sure why the line of code above did not work. it was supposed to read in the column \"Cleanup Date\" as dates instead of strings\n",
        "# it should in principle but some formatting issues in teh data may cause it to fail\n",
        "cleanupdf[\"Cleanup Date\"]"
      ],
      "execution_count": 73,
      "outputs": [
        {
          "output_type": "execute_result",
          "data": {
            "text/plain": [
              "0      09/20/2008\n",
              "1      09/20/2008\n",
              "2      09/20/2008\n",
              "3      09/20/2008\n",
              "4      09/20/2008\n",
              "          ...    \n",
              "444    09/22/2018\n",
              "445    09/22/2018\n",
              "446    09/22/2018\n",
              "447    09/22/2018\n",
              "448    09/22/2018\n",
              "Name: Cleanup Date, Length: 449, dtype: object"
            ]
          },
          "metadata": {
            "tags": []
          },
          "execution_count": 73
        }
      ]
    },
    {
      "cell_type": "markdown",
      "metadata": {
        "id": "NSzGpWM6OUnH",
        "colab_type": "text"
      },
      "source": [
        "i knwo it did not work because it still says it is an \"object\" as dtype, which stands for \"data type\""
      ]
    },
    {
      "cell_type": "code",
      "metadata": {
        "id": "tOopc4ppeFAL",
        "colab_type": "code",
        "colab": {}
      },
      "source": [
        "cleanupdf[\"Cleanup Date\"] = pd.to_datetime(cleanupdf[\"Cleanup Date\"])"
      ],
      "execution_count": 74,
      "outputs": []
    },
    {
      "cell_type": "code",
      "metadata": {
        "id": "gIJ3N_7JeG1E",
        "colab_type": "code",
        "colab": {
          "base_uri": "https://localhost:8080/",
          "height": 221
        },
        "outputId": "54167468-7664-4b0b-a685-d84d7605f613"
      },
      "source": [
        "cleanupdf[\"Cleanup Date\"]"
      ],
      "execution_count": 75,
      "outputs": [
        {
          "output_type": "execute_result",
          "data": {
            "text/plain": [
              "0     2008-09-20\n",
              "1     2008-09-20\n",
              "2     2008-09-20\n",
              "3     2008-09-20\n",
              "4     2008-09-20\n",
              "         ...    \n",
              "444   2018-09-22\n",
              "445   2018-09-22\n",
              "446   2018-09-22\n",
              "447   2018-09-22\n",
              "448   2018-09-22\n",
              "Name: Cleanup Date, Length: 449, dtype: datetime64[ns]"
            ]
          },
          "metadata": {
            "tags": []
          },
          "execution_count": 75
        }
      ]
    },
    {
      "cell_type": "markdown",
      "metadata": {
        "id": "GOWBd-5FOv1O",
        "colab_type": "text"
      },
      "source": [
        "now it is a datetime object. Pandas has amazing date-time functionalities https://www.analyticsvidhya.com/blog/2020/05/datetime-variables-python-pandas/. for example you can get the day of the week (you can do much more amazing things than this)"
      ]
    },
    {
      "cell_type": "code",
      "metadata": {
        "id": "CBq9rgvveiuj",
        "colab_type": "code",
        "colab": {
          "base_uri": "https://localhost:8080/",
          "height": 34
        },
        "outputId": "116b0129-6f6b-4664-abcf-f5bd7e41d22f"
      },
      "source": [
        "cleanupdf[\"Cleanup Date\"].dt.weekday.unique()"
      ],
      "execution_count": 76,
      "outputs": [
        {
          "output_type": "execute_result",
          "data": {
            "text/plain": [
              "array([5, 2, 4, 6])"
            ]
          },
          "metadata": {
            "tags": []
          },
          "execution_count": 76
        }
      ]
    },
    {
      "cell_type": "code",
      "metadata": {
        "id": "LKbA_3_Aeqj6",
        "colab_type": "code",
        "colab": {}
      },
      "source": [
        "cleanupdf[\"doweek\"] = cleanupdf[\"Cleanup Date\"].dt.weekday"
      ],
      "execution_count": 77,
      "outputs": []
    },
    {
      "cell_type": "code",
      "metadata": {
        "id": "ecI2XTAhfT_i",
        "colab_type": "code",
        "colab": {
          "base_uri": "https://localhost:8080/",
          "height": 496
        },
        "outputId": "382a6b6a-b321-4cfa-b4e2-33c23af58d37"
      },
      "source": [
        "cleanupdf.head()"
      ],
      "execution_count": 78,
      "outputs": [
        {
          "output_type": "execute_result",
          "data": {
            "text/html": [
              "<div>\n",
              "<style scoped>\n",
              "    .dataframe tbody tr th:only-of-type {\n",
              "        vertical-align: middle;\n",
              "    }\n",
              "\n",
              "    .dataframe tbody tr th {\n",
              "        vertical-align: top;\n",
              "    }\n",
              "\n",
              "    .dataframe thead th {\n",
              "        text-align: right;\n",
              "    }\n",
              "</style>\n",
              "<table border=\"1\" class=\"dataframe\">\n",
              "  <thead>\n",
              "    <tr style=\"text-align: right;\">\n",
              "      <th></th>\n",
              "      <th>County</th>\n",
              "      <th>Location Lat-Long</th>\n",
              "      <th>Cleanup Type</th>\n",
              "      <th>Cleanup Date</th>\n",
              "      <th>Cleanup Site</th>\n",
              "      <th>Adults</th>\n",
              "      <th>Children</th>\n",
              "      <th>People</th>\n",
              "      <th>Pounds</th>\n",
              "      <th>Miles</th>\n",
              "      <th>Bags</th>\n",
              "      <th>Cigarette Butts</th>\n",
              "      <th>Food Wrappers</th>\n",
              "      <th>Take Out/Away Containers (Plastic)</th>\n",
              "      <th>Take Out/Away Containers (Foam)</th>\n",
              "      <th>Bottle Caps (Plastic)</th>\n",
              "      <th>Bottle Caps (Metal)</th>\n",
              "      <th>Lids (Plastic)</th>\n",
              "      <th>Straws, Stirrers</th>\n",
              "      <th>Forks, Knives, Spoons</th>\n",
              "      <th>Beverage Bottles (Plastic)</th>\n",
              "      <th>Beverage Bottles (Glass)</th>\n",
              "      <th>Beverage Cans</th>\n",
              "      <th>Grocery Bags (Plastic)</th>\n",
              "      <th>Other Plastic Bags</th>\n",
              "      <th>Paper Bags</th>\n",
              "      <th>Cups, Plates (Paper)</th>\n",
              "      <th>Cups, Plates (Plastic)</th>\n",
              "      <th>Cups, Plates (Foam)</th>\n",
              "      <th>Fishing Buoys, Pots &amp; Traps</th>\n",
              "      <th>Fishing Net &amp; Pieces</th>\n",
              "      <th>Fishing Line</th>\n",
              "      <th>Rope</th>\n",
              "      <th>6-Pack Holders</th>\n",
              "      <th>Other Plastic/Foam Packaging</th>\n",
              "      <th>Other Plastic Bottles</th>\n",
              "      <th>Strapping Bands</th>\n",
              "      <th>Tobacco Packaging/Wrap</th>\n",
              "      <th>Appliances</th>\n",
              "      <th>Balloons</th>\n",
              "      <th>Cigar Tips</th>\n",
              "      <th>Cigarette Lighters</th>\n",
              "      <th>Construction Materials</th>\n",
              "      <th>Fireworks</th>\n",
              "      <th>Tires</th>\n",
              "      <th>Toys</th>\n",
              "      <th>Condoms</th>\n",
              "      <th>Diapers</th>\n",
              "      <th>Syringes</th>\n",
              "      <th>Tampons/Tampon Applicators</th>\n",
              "      <th>Foam Pieces</th>\n",
              "      <th>Glass Pieces</th>\n",
              "      <th>Plastic Pieces</th>\n",
              "      <th>Clothing, Shoes</th>\n",
              "      <th>Shotgun Shells/Wadding</th>\n",
              "      <th>Light Bulbs/Tubes</th>\n",
              "      <th>Batteries</th>\n",
              "      <th>Cars/Car Parts</th>\n",
              "      <th>55-Gallon Drums</th>\n",
              "      <th>doweek</th>\n",
              "    </tr>\n",
              "  </thead>\n",
              "  <tbody>\n",
              "    <tr>\n",
              "      <th>0</th>\n",
              "      <td>Kent</td>\n",
              "      <td>(39.102739, -75.402356)</td>\n",
              "      <td>Beach</td>\n",
              "      <td>2008-09-20</td>\n",
              "      <td>Kitts Hummock</td>\n",
              "      <td>NaN</td>\n",
              "      <td>NaN</td>\n",
              "      <td>45</td>\n",
              "      <td>1500.0</td>\n",
              "      <td>1.0</td>\n",
              "      <td>21</td>\n",
              "      <td>8.0</td>\n",
              "      <td>64.0</td>\n",
              "      <td>NaN</td>\n",
              "      <td>NaN</td>\n",
              "      <td>141.0</td>\n",
              "      <td>73.0</td>\n",
              "      <td>NaN</td>\n",
              "      <td>52.0</td>\n",
              "      <td>31.0</td>\n",
              "      <td>111.0</td>\n",
              "      <td>40.0</td>\n",
              "      <td>123.0</td>\n",
              "      <td>81.0</td>\n",
              "      <td>NaN</td>\n",
              "      <td>19.0</td>\n",
              "      <td>NaN</td>\n",
              "      <td>NaN</td>\n",
              "      <td>NaN</td>\n",
              "      <td>20</td>\n",
              "      <td>1.0</td>\n",
              "      <td>28.0</td>\n",
              "      <td>12.0</td>\n",
              "      <td>4.0</td>\n",
              "      <td>6.0</td>\n",
              "      <td>15.0</td>\n",
              "      <td>4.0</td>\n",
              "      <td>4.0</td>\n",
              "      <td>NaN</td>\n",
              "      <td>26.0</td>\n",
              "      <td>16.0</td>\n",
              "      <td>27.0</td>\n",
              "      <td>219</td>\n",
              "      <td>NaN</td>\n",
              "      <td>4.0</td>\n",
              "      <td>11.0</td>\n",
              "      <td>NaN</td>\n",
              "      <td>NaN</td>\n",
              "      <td>3.0</td>\n",
              "      <td>15.0</td>\n",
              "      <td>NaN</td>\n",
              "      <td>NaN</td>\n",
              "      <td>NaN</td>\n",
              "      <td>11.0</td>\n",
              "      <td>70.0</td>\n",
              "      <td>1.0</td>\n",
              "      <td>NaN</td>\n",
              "      <td>4.0</td>\n",
              "      <td>3.0</td>\n",
              "      <td>5</td>\n",
              "    </tr>\n",
              "    <tr>\n",
              "      <th>1</th>\n",
              "      <td>Kent</td>\n",
              "      <td>(39.085748, -75.421875)</td>\n",
              "      <td>Beach</td>\n",
              "      <td>2008-09-20</td>\n",
              "      <td>Ted Harvey WLA/ Ted Harvey Wildlife Area</td>\n",
              "      <td>NaN</td>\n",
              "      <td>NaN</td>\n",
              "      <td>45</td>\n",
              "      <td>165.0</td>\n",
              "      <td>2.0</td>\n",
              "      <td>13</td>\n",
              "      <td>4.0</td>\n",
              "      <td>12.0</td>\n",
              "      <td>NaN</td>\n",
              "      <td>NaN</td>\n",
              "      <td>18.0</td>\n",
              "      <td>NaN</td>\n",
              "      <td>NaN</td>\n",
              "      <td>21.0</td>\n",
              "      <td>23.0</td>\n",
              "      <td>62.0</td>\n",
              "      <td>18.0</td>\n",
              "      <td>46.0</td>\n",
              "      <td>28.0</td>\n",
              "      <td>NaN</td>\n",
              "      <td>NaN</td>\n",
              "      <td>NaN</td>\n",
              "      <td>NaN</td>\n",
              "      <td>NaN</td>\n",
              "      <td>5</td>\n",
              "      <td>NaN</td>\n",
              "      <td>3.0</td>\n",
              "      <td>10.0</td>\n",
              "      <td>2.0</td>\n",
              "      <td>5.0</td>\n",
              "      <td>14.0</td>\n",
              "      <td>NaN</td>\n",
              "      <td>NaN</td>\n",
              "      <td>NaN</td>\n",
              "      <td>10.0</td>\n",
              "      <td>NaN</td>\n",
              "      <td>5.0</td>\n",
              "      <td>0</td>\n",
              "      <td>NaN</td>\n",
              "      <td>4.0</td>\n",
              "      <td>3.0</td>\n",
              "      <td>NaN</td>\n",
              "      <td>NaN</td>\n",
              "      <td>NaN</td>\n",
              "      <td>NaN</td>\n",
              "      <td>NaN</td>\n",
              "      <td>NaN</td>\n",
              "      <td>NaN</td>\n",
              "      <td>4.0</td>\n",
              "      <td>33.0</td>\n",
              "      <td>2.0</td>\n",
              "      <td>NaN</td>\n",
              "      <td>NaN</td>\n",
              "      <td>NaN</td>\n",
              "      <td>5</td>\n",
              "    </tr>\n",
              "    <tr>\n",
              "      <th>2</th>\n",
              "      <td>New Castle</td>\n",
              "      <td>(39.738765, -75.53939)</td>\n",
              "      <td>Beach</td>\n",
              "      <td>2008-09-20</td>\n",
              "      <td>E. 7th Street - Barbiarz Park</td>\n",
              "      <td>NaN</td>\n",
              "      <td>NaN</td>\n",
              "      <td>18</td>\n",
              "      <td>180.0</td>\n",
              "      <td>1.0</td>\n",
              "      <td>18</td>\n",
              "      <td>172.0</td>\n",
              "      <td>100.0</td>\n",
              "      <td>NaN</td>\n",
              "      <td>NaN</td>\n",
              "      <td>68.0</td>\n",
              "      <td>7.0</td>\n",
              "      <td>NaN</td>\n",
              "      <td>43.0</td>\n",
              "      <td>35.0</td>\n",
              "      <td>68.0</td>\n",
              "      <td>41.0</td>\n",
              "      <td>70.0</td>\n",
              "      <td>133.0</td>\n",
              "      <td>NaN</td>\n",
              "      <td>44.0</td>\n",
              "      <td>NaN</td>\n",
              "      <td>NaN</td>\n",
              "      <td>NaN</td>\n",
              "      <td>21</td>\n",
              "      <td>NaN</td>\n",
              "      <td>32.0</td>\n",
              "      <td>7.0</td>\n",
              "      <td>NaN</td>\n",
              "      <td>2.0</td>\n",
              "      <td>2.0</td>\n",
              "      <td>NaN</td>\n",
              "      <td>11.0</td>\n",
              "      <td>1.0</td>\n",
              "      <td>0.0</td>\n",
              "      <td>4.0</td>\n",
              "      <td>8.0</td>\n",
              "      <td>7</td>\n",
              "      <td>NaN</td>\n",
              "      <td>NaN</td>\n",
              "      <td>11.0</td>\n",
              "      <td>40.0</td>\n",
              "      <td>NaN</td>\n",
              "      <td>NaN</td>\n",
              "      <td>NaN</td>\n",
              "      <td>NaN</td>\n",
              "      <td>NaN</td>\n",
              "      <td>NaN</td>\n",
              "      <td>20.0</td>\n",
              "      <td>NaN</td>\n",
              "      <td>2.0</td>\n",
              "      <td>4.0</td>\n",
              "      <td>3.0</td>\n",
              "      <td>NaN</td>\n",
              "      <td>5</td>\n",
              "    </tr>\n",
              "    <tr>\n",
              "      <th>3</th>\n",
              "      <td>New Castle</td>\n",
              "      <td>(39.664715, -75.557785)</td>\n",
              "      <td>Beach</td>\n",
              "      <td>2008-09-20</td>\n",
              "      <td>Battery Park</td>\n",
              "      <td>NaN</td>\n",
              "      <td>NaN</td>\n",
              "      <td>51</td>\n",
              "      <td>892.0</td>\n",
              "      <td>0.5</td>\n",
              "      <td>52</td>\n",
              "      <td>541.0</td>\n",
              "      <td>871.0</td>\n",
              "      <td>NaN</td>\n",
              "      <td>NaN</td>\n",
              "      <td>1446.0</td>\n",
              "      <td>112.0</td>\n",
              "      <td>NaN</td>\n",
              "      <td>598.0</td>\n",
              "      <td>303.0</td>\n",
              "      <td>759.0</td>\n",
              "      <td>206.0</td>\n",
              "      <td>111.0</td>\n",
              "      <td>290.0</td>\n",
              "      <td>NaN</td>\n",
              "      <td>52.0</td>\n",
              "      <td>NaN</td>\n",
              "      <td>NaN</td>\n",
              "      <td>NaN</td>\n",
              "      <td>13</td>\n",
              "      <td>2.0</td>\n",
              "      <td>8.0</td>\n",
              "      <td>33.0</td>\n",
              "      <td>18.0</td>\n",
              "      <td>23.0</td>\n",
              "      <td>30.0</td>\n",
              "      <td>25.0</td>\n",
              "      <td>25.0</td>\n",
              "      <td>0.0</td>\n",
              "      <td>20.0</td>\n",
              "      <td>163.0</td>\n",
              "      <td>43.0</td>\n",
              "      <td>104</td>\n",
              "      <td>NaN</td>\n",
              "      <td>10.0</td>\n",
              "      <td>122.0</td>\n",
              "      <td>3.0</td>\n",
              "      <td>NaN</td>\n",
              "      <td>26.0</td>\n",
              "      <td>48.0</td>\n",
              "      <td>NaN</td>\n",
              "      <td>NaN</td>\n",
              "      <td>NaN</td>\n",
              "      <td>37.0</td>\n",
              "      <td>12.0</td>\n",
              "      <td>2.0</td>\n",
              "      <td>0.0</td>\n",
              "      <td>19.0</td>\n",
              "      <td>0.0</td>\n",
              "      <td>5</td>\n",
              "    </tr>\n",
              "    <tr>\n",
              "      <th>4</th>\n",
              "      <td>New Castle</td>\n",
              "      <td>(39.504724, -75.580976)</td>\n",
              "      <td>Beach</td>\n",
              "      <td>2008-09-20</td>\n",
              "      <td>Augustine Beach Boat Ramp</td>\n",
              "      <td>NaN</td>\n",
              "      <td>NaN</td>\n",
              "      <td>70</td>\n",
              "      <td>2200.0</td>\n",
              "      <td>1.0</td>\n",
              "      <td>0</td>\n",
              "      <td>75.0</td>\n",
              "      <td>7.0</td>\n",
              "      <td>NaN</td>\n",
              "      <td>NaN</td>\n",
              "      <td>110.0</td>\n",
              "      <td>2.0</td>\n",
              "      <td>NaN</td>\n",
              "      <td>80.0</td>\n",
              "      <td>25.0</td>\n",
              "      <td>200.0</td>\n",
              "      <td>40.0</td>\n",
              "      <td>20.0</td>\n",
              "      <td>60.0</td>\n",
              "      <td>NaN</td>\n",
              "      <td>20.0</td>\n",
              "      <td>NaN</td>\n",
              "      <td>NaN</td>\n",
              "      <td>NaN</td>\n",
              "      <td>3</td>\n",
              "      <td>2.0</td>\n",
              "      <td>4.0</td>\n",
              "      <td>2.0</td>\n",
              "      <td>7.0</td>\n",
              "      <td>11.0</td>\n",
              "      <td>2.0</td>\n",
              "      <td>1.0</td>\n",
              "      <td>5.0</td>\n",
              "      <td>1.0</td>\n",
              "      <td>1.0</td>\n",
              "      <td>9.0</td>\n",
              "      <td>7.0</td>\n",
              "      <td>10</td>\n",
              "      <td>NaN</td>\n",
              "      <td>NaN</td>\n",
              "      <td>3.0</td>\n",
              "      <td>NaN</td>\n",
              "      <td>5.0</td>\n",
              "      <td>NaN</td>\n",
              "      <td>5.0</td>\n",
              "      <td>NaN</td>\n",
              "      <td>NaN</td>\n",
              "      <td>NaN</td>\n",
              "      <td>14.0</td>\n",
              "      <td>NaN</td>\n",
              "      <td>NaN</td>\n",
              "      <td>NaN</td>\n",
              "      <td>2.0</td>\n",
              "      <td>NaN</td>\n",
              "      <td>5</td>\n",
              "    </tr>\n",
              "  </tbody>\n",
              "</table>\n",
              "</div>"
            ],
            "text/plain": [
              "       County        Location Lat-Long  ... 55-Gallon Drums doweek\n",
              "0        Kent  (39.102739, -75.402356)  ...             3.0      5\n",
              "1        Kent  (39.085748, -75.421875)  ...             NaN      5\n",
              "2  New Castle   (39.738765, -75.53939)  ...             NaN      5\n",
              "3  New Castle  (39.664715, -75.557785)  ...             0.0      5\n",
              "4  New Castle  (39.504724, -75.580976)  ...             NaN      5\n",
              "\n",
              "[5 rows x 60 columns]"
            ]
          },
          "metadata": {
            "tags": []
          },
          "execution_count": 78
        }
      ]
    },
    {
      "cell_type": "markdown",
      "metadata": {
        "id": "HVNfvJBCPTdM",
        "colab_type": "text"
      },
      "source": [
        "groupby may be the single most useful function in dataframes: you can group objects based on having the same value of a specific feature"
      ]
    },
    {
      "cell_type": "code",
      "metadata": {
        "id": "q6OmO581fWSg",
        "colab_type": "code",
        "colab": {
          "base_uri": "https://localhost:8080/",
          "height": 275
        },
        "outputId": "b27c5705-a285-4980-c602-3902f38e65d2"
      },
      "source": [
        "cleanupdf.groupby(\"doweek\").count()"
      ],
      "execution_count": 79,
      "outputs": [
        {
          "output_type": "execute_result",
          "data": {
            "text/html": [
              "<div>\n",
              "<style scoped>\n",
              "    .dataframe tbody tr th:only-of-type {\n",
              "        vertical-align: middle;\n",
              "    }\n",
              "\n",
              "    .dataframe tbody tr th {\n",
              "        vertical-align: top;\n",
              "    }\n",
              "\n",
              "    .dataframe thead th {\n",
              "        text-align: right;\n",
              "    }\n",
              "</style>\n",
              "<table border=\"1\" class=\"dataframe\">\n",
              "  <thead>\n",
              "    <tr style=\"text-align: right;\">\n",
              "      <th></th>\n",
              "      <th>County</th>\n",
              "      <th>Location Lat-Long</th>\n",
              "      <th>Cleanup Type</th>\n",
              "      <th>Cleanup Date</th>\n",
              "      <th>Cleanup Site</th>\n",
              "      <th>Adults</th>\n",
              "      <th>Children</th>\n",
              "      <th>People</th>\n",
              "      <th>Pounds</th>\n",
              "      <th>Miles</th>\n",
              "      <th>Bags</th>\n",
              "      <th>Cigarette Butts</th>\n",
              "      <th>Food Wrappers</th>\n",
              "      <th>Take Out/Away Containers (Plastic)</th>\n",
              "      <th>Take Out/Away Containers (Foam)</th>\n",
              "      <th>Bottle Caps (Plastic)</th>\n",
              "      <th>Bottle Caps (Metal)</th>\n",
              "      <th>Lids (Plastic)</th>\n",
              "      <th>Straws, Stirrers</th>\n",
              "      <th>Forks, Knives, Spoons</th>\n",
              "      <th>Beverage Bottles (Plastic)</th>\n",
              "      <th>Beverage Bottles (Glass)</th>\n",
              "      <th>Beverage Cans</th>\n",
              "      <th>Grocery Bags (Plastic)</th>\n",
              "      <th>Other Plastic Bags</th>\n",
              "      <th>Paper Bags</th>\n",
              "      <th>Cups, Plates (Paper)</th>\n",
              "      <th>Cups, Plates (Plastic)</th>\n",
              "      <th>Cups, Plates (Foam)</th>\n",
              "      <th>Fishing Buoys, Pots &amp; Traps</th>\n",
              "      <th>Fishing Net &amp; Pieces</th>\n",
              "      <th>Fishing Line</th>\n",
              "      <th>Rope</th>\n",
              "      <th>6-Pack Holders</th>\n",
              "      <th>Other Plastic/Foam Packaging</th>\n",
              "      <th>Other Plastic Bottles</th>\n",
              "      <th>Strapping Bands</th>\n",
              "      <th>Tobacco Packaging/Wrap</th>\n",
              "      <th>Appliances</th>\n",
              "      <th>Balloons</th>\n",
              "      <th>Cigar Tips</th>\n",
              "      <th>Cigarette Lighters</th>\n",
              "      <th>Construction Materials</th>\n",
              "      <th>Fireworks</th>\n",
              "      <th>Tires</th>\n",
              "      <th>Toys</th>\n",
              "      <th>Condoms</th>\n",
              "      <th>Diapers</th>\n",
              "      <th>Syringes</th>\n",
              "      <th>Tampons/Tampon Applicators</th>\n",
              "      <th>Foam Pieces</th>\n",
              "      <th>Glass Pieces</th>\n",
              "      <th>Plastic Pieces</th>\n",
              "      <th>Clothing, Shoes</th>\n",
              "      <th>Shotgun Shells/Wadding</th>\n",
              "      <th>Light Bulbs/Tubes</th>\n",
              "      <th>Batteries</th>\n",
              "      <th>Cars/Car Parts</th>\n",
              "      <th>55-Gallon Drums</th>\n",
              "    </tr>\n",
              "    <tr>\n",
              "      <th>doweek</th>\n",
              "      <th></th>\n",
              "      <th></th>\n",
              "      <th></th>\n",
              "      <th></th>\n",
              "      <th></th>\n",
              "      <th></th>\n",
              "      <th></th>\n",
              "      <th></th>\n",
              "      <th></th>\n",
              "      <th></th>\n",
              "      <th></th>\n",
              "      <th></th>\n",
              "      <th></th>\n",
              "      <th></th>\n",
              "      <th></th>\n",
              "      <th></th>\n",
              "      <th></th>\n",
              "      <th></th>\n",
              "      <th></th>\n",
              "      <th></th>\n",
              "      <th></th>\n",
              "      <th></th>\n",
              "      <th></th>\n",
              "      <th></th>\n",
              "      <th></th>\n",
              "      <th></th>\n",
              "      <th></th>\n",
              "      <th></th>\n",
              "      <th></th>\n",
              "      <th></th>\n",
              "      <th></th>\n",
              "      <th></th>\n",
              "      <th></th>\n",
              "      <th></th>\n",
              "      <th></th>\n",
              "      <th></th>\n",
              "      <th></th>\n",
              "      <th></th>\n",
              "      <th></th>\n",
              "      <th></th>\n",
              "      <th></th>\n",
              "      <th></th>\n",
              "      <th></th>\n",
              "      <th></th>\n",
              "      <th></th>\n",
              "      <th></th>\n",
              "      <th></th>\n",
              "      <th></th>\n",
              "      <th></th>\n",
              "      <th></th>\n",
              "      <th></th>\n",
              "      <th></th>\n",
              "      <th></th>\n",
              "      <th></th>\n",
              "      <th></th>\n",
              "      <th></th>\n",
              "      <th></th>\n",
              "      <th></th>\n",
              "      <th></th>\n",
              "    </tr>\n",
              "  </thead>\n",
              "  <tbody>\n",
              "    <tr>\n",
              "      <th>2</th>\n",
              "      <td>2</td>\n",
              "      <td>2</td>\n",
              "      <td>2</td>\n",
              "      <td>2</td>\n",
              "      <td>2</td>\n",
              "      <td>0</td>\n",
              "      <td>0</td>\n",
              "      <td>2</td>\n",
              "      <td>2</td>\n",
              "      <td>2</td>\n",
              "      <td>2</td>\n",
              "      <td>2</td>\n",
              "      <td>2</td>\n",
              "      <td>0</td>\n",
              "      <td>0</td>\n",
              "      <td>2</td>\n",
              "      <td>2</td>\n",
              "      <td>0</td>\n",
              "      <td>2</td>\n",
              "      <td>2</td>\n",
              "      <td>2</td>\n",
              "      <td>2</td>\n",
              "      <td>2</td>\n",
              "      <td>2</td>\n",
              "      <td>0</td>\n",
              "      <td>1</td>\n",
              "      <td>0</td>\n",
              "      <td>0</td>\n",
              "      <td>0</td>\n",
              "      <td>2</td>\n",
              "      <td>1</td>\n",
              "      <td>2</td>\n",
              "      <td>2</td>\n",
              "      <td>2</td>\n",
              "      <td>2</td>\n",
              "      <td>2</td>\n",
              "      <td>2</td>\n",
              "      <td>2</td>\n",
              "      <td>0</td>\n",
              "      <td>1</td>\n",
              "      <td>2</td>\n",
              "      <td>2</td>\n",
              "      <td>2</td>\n",
              "      <td>0</td>\n",
              "      <td>0</td>\n",
              "      <td>2</td>\n",
              "      <td>2</td>\n",
              "      <td>1</td>\n",
              "      <td>0</td>\n",
              "      <td>2</td>\n",
              "      <td>0</td>\n",
              "      <td>0</td>\n",
              "      <td>0</td>\n",
              "      <td>2</td>\n",
              "      <td>1</td>\n",
              "      <td>1</td>\n",
              "      <td>1</td>\n",
              "      <td>2</td>\n",
              "      <td>0</td>\n",
              "    </tr>\n",
              "    <tr>\n",
              "      <th>4</th>\n",
              "      <td>3</td>\n",
              "      <td>3</td>\n",
              "      <td>3</td>\n",
              "      <td>3</td>\n",
              "      <td>3</td>\n",
              "      <td>2</td>\n",
              "      <td>2</td>\n",
              "      <td>3</td>\n",
              "      <td>3</td>\n",
              "      <td>3</td>\n",
              "      <td>3</td>\n",
              "      <td>3</td>\n",
              "      <td>3</td>\n",
              "      <td>2</td>\n",
              "      <td>2</td>\n",
              "      <td>3</td>\n",
              "      <td>3</td>\n",
              "      <td>2</td>\n",
              "      <td>3</td>\n",
              "      <td>3</td>\n",
              "      <td>3</td>\n",
              "      <td>3</td>\n",
              "      <td>3</td>\n",
              "      <td>3</td>\n",
              "      <td>2</td>\n",
              "      <td>3</td>\n",
              "      <td>2</td>\n",
              "      <td>2</td>\n",
              "      <td>2</td>\n",
              "      <td>3</td>\n",
              "      <td>3</td>\n",
              "      <td>3</td>\n",
              "      <td>3</td>\n",
              "      <td>3</td>\n",
              "      <td>3</td>\n",
              "      <td>3</td>\n",
              "      <td>3</td>\n",
              "      <td>3</td>\n",
              "      <td>3</td>\n",
              "      <td>3</td>\n",
              "      <td>3</td>\n",
              "      <td>3</td>\n",
              "      <td>3</td>\n",
              "      <td>2</td>\n",
              "      <td>3</td>\n",
              "      <td>3</td>\n",
              "      <td>3</td>\n",
              "      <td>3</td>\n",
              "      <td>3</td>\n",
              "      <td>3</td>\n",
              "      <td>2</td>\n",
              "      <td>2</td>\n",
              "      <td>2</td>\n",
              "      <td>1</td>\n",
              "      <td>1</td>\n",
              "      <td>1</td>\n",
              "      <td>1</td>\n",
              "      <td>1</td>\n",
              "      <td>1</td>\n",
              "    </tr>\n",
              "    <tr>\n",
              "      <th>5</th>\n",
              "      <td>442</td>\n",
              "      <td>428</td>\n",
              "      <td>442</td>\n",
              "      <td>442</td>\n",
              "      <td>439</td>\n",
              "      <td>267</td>\n",
              "      <td>267</td>\n",
              "      <td>442</td>\n",
              "      <td>442</td>\n",
              "      <td>442</td>\n",
              "      <td>442</td>\n",
              "      <td>409</td>\n",
              "      <td>417</td>\n",
              "      <td>256</td>\n",
              "      <td>249</td>\n",
              "      <td>418</td>\n",
              "      <td>384</td>\n",
              "      <td>264</td>\n",
              "      <td>411</td>\n",
              "      <td>411</td>\n",
              "      <td>421</td>\n",
              "      <td>415</td>\n",
              "      <td>419</td>\n",
              "      <td>416</td>\n",
              "      <td>262</td>\n",
              "      <td>392</td>\n",
              "      <td>259</td>\n",
              "      <td>258</td>\n",
              "      <td>254</td>\n",
              "      <td>442</td>\n",
              "      <td>334</td>\n",
              "      <td>379</td>\n",
              "      <td>389</td>\n",
              "      <td>333</td>\n",
              "      <td>433</td>\n",
              "      <td>419</td>\n",
              "      <td>366</td>\n",
              "      <td>393</td>\n",
              "      <td>227</td>\n",
              "      <td>387</td>\n",
              "      <td>379</td>\n",
              "      <td>365</td>\n",
              "      <td>442</td>\n",
              "      <td>232</td>\n",
              "      <td>309</td>\n",
              "      <td>274</td>\n",
              "      <td>305</td>\n",
              "      <td>302</td>\n",
              "      <td>253</td>\n",
              "      <td>353</td>\n",
              "      <td>255</td>\n",
              "      <td>251</td>\n",
              "      <td>257</td>\n",
              "      <td>154</td>\n",
              "      <td>140</td>\n",
              "      <td>89</td>\n",
              "      <td>68</td>\n",
              "      <td>94</td>\n",
              "      <td>32</td>\n",
              "    </tr>\n",
              "    <tr>\n",
              "      <th>6</th>\n",
              "      <td>2</td>\n",
              "      <td>0</td>\n",
              "      <td>2</td>\n",
              "      <td>2</td>\n",
              "      <td>2</td>\n",
              "      <td>1</td>\n",
              "      <td>1</td>\n",
              "      <td>2</td>\n",
              "      <td>2</td>\n",
              "      <td>2</td>\n",
              "      <td>2</td>\n",
              "      <td>1</td>\n",
              "      <td>1</td>\n",
              "      <td>1</td>\n",
              "      <td>1</td>\n",
              "      <td>1</td>\n",
              "      <td>1</td>\n",
              "      <td>1</td>\n",
              "      <td>1</td>\n",
              "      <td>1</td>\n",
              "      <td>1</td>\n",
              "      <td>1</td>\n",
              "      <td>1</td>\n",
              "      <td>1</td>\n",
              "      <td>1</td>\n",
              "      <td>1</td>\n",
              "      <td>1</td>\n",
              "      <td>1</td>\n",
              "      <td>1</td>\n",
              "      <td>2</td>\n",
              "      <td>1</td>\n",
              "      <td>1</td>\n",
              "      <td>1</td>\n",
              "      <td>0</td>\n",
              "      <td>2</td>\n",
              "      <td>2</td>\n",
              "      <td>1</td>\n",
              "      <td>0</td>\n",
              "      <td>0</td>\n",
              "      <td>1</td>\n",
              "      <td>1</td>\n",
              "      <td>1</td>\n",
              "      <td>2</td>\n",
              "      <td>1</td>\n",
              "      <td>0</td>\n",
              "      <td>0</td>\n",
              "      <td>0</td>\n",
              "      <td>0</td>\n",
              "      <td>0</td>\n",
              "      <td>1</td>\n",
              "      <td>1</td>\n",
              "      <td>0</td>\n",
              "      <td>1</td>\n",
              "      <td>0</td>\n",
              "      <td>0</td>\n",
              "      <td>0</td>\n",
              "      <td>0</td>\n",
              "      <td>0</td>\n",
              "      <td>0</td>\n",
              "    </tr>\n",
              "  </tbody>\n",
              "</table>\n",
              "</div>"
            ],
            "text/plain": [
              "        County  Location Lat-Long  ...  Cars/Car Parts  55-Gallon Drums\n",
              "doweek                             ...                                 \n",
              "2            2                  2  ...               2                0\n",
              "4            3                  3  ...               1                1\n",
              "5          442                428  ...              94               32\n",
              "6            2                  0  ...               0                0\n",
              "\n",
              "[4 rows x 59 columns]"
            ]
          },
          "metadata": {
            "tags": []
          },
          "execution_count": 79
        }
      ]
    },
    {
      "cell_type": "markdown",
      "metadata": {
        "id": "NXVZ_WznUSMM",
        "colab_type": "text"
      },
      "source": [
        "groupby has to be associated to a function, for example .count() which is a method of the group object, to act on the grouped object and return a dataframe. ```.count()``` counts the valid entries in the column for each group, ```.sum()``` sums the entries in the column by group, etc ,etc. Note: only the valid entries are counted in ```.count()`` where valid means not NaN. I can inspect and find out how many NaN are in a column as follows:"
      ]
    },
    {
      "cell_type": "code",
      "metadata": {
        "id": "PTrdAlk8fhFZ",
        "colab_type": "code",
        "colab": {
          "base_uri": "https://localhost:8080/",
          "height": 34
        },
        "outputId": "275f7adc-5713-4eec-dd6a-2199c0cb3f9c"
      },
      "source": [
        "cleanupdf.County.isna().sum()"
      ],
      "execution_count": 80,
      "outputs": [
        {
          "output_type": "execute_result",
          "data": {
            "text/plain": [
              "0"
            ]
          },
          "metadata": {
            "tags": []
          },
          "execution_count": 80
        }
      ]
    },
    {
      "cell_type": "code",
      "metadata": {
        "id": "ov68_C02gKPC",
        "colab_type": "code",
        "colab": {
          "base_uri": "https://localhost:8080/",
          "height": 325
        },
        "outputId": "aa72ac05-7d1b-41f4-8f34-d4a7e56e1071"
      },
      "source": [
        "#visualizing counts\n",
        "cleanupdf.groupby(\"County\").County.count().plot(kind=\"bar\", color=\"Steelblue\");\n",
        "plt.ylabel(\"number of events\");"
      ],
      "execution_count": 81,
      "outputs": [
        {
          "output_type": "display_data",
          "data": {
            "image/png": "[encoded data removed]",
            "text/plain": [
              "<Figure size 432x288 with 1 Axes>"
            ]
          },
          "metadata": {
            "tags": [],
            "needs_background": "light"
          }
        }
      ]
    },
    {
      "cell_type": "markdown",
      "metadata": {
        "id": "VCzNsgY4U9do",
        "colab_type": "text"
      },
      "source": [
        "# creating bins to group objects"
      ]
    },
    {
      "cell_type": "code",
      "metadata": {
        "id": "rPzEe4ltkPxS",
        "colab_type": "code",
        "colab": {
          "base_uri": "https://localhost:8080/",
          "height": 34
        },
        "outputId": "35bf47ed-b961-406f-c381-39aabf696134"
      },
      "source": [
        "cleanupdf[\"Pounds\"].min()"
      ],
      "execution_count": 84,
      "outputs": [
        {
          "output_type": "execute_result",
          "data": {
            "text/plain": [
              "0.0"
            ]
          },
          "metadata": {
            "tags": []
          },
          "execution_count": 84
        }
      ]
    },
    {
      "cell_type": "code",
      "metadata": {
        "id": "dOvHwpdJkUPm",
        "colab_type": "code",
        "colab": {
          "base_uri": "https://localhost:8080/",
          "height": 34
        },
        "outputId": "8f28fa34-6e03-4023-bf25-ba59dd1d7983"
      },
      "source": [
        "cleanupdf[\"Pounds\"].max()"
      ],
      "execution_count": 85,
      "outputs": [
        {
          "output_type": "execute_result",
          "data": {
            "text/plain": [
              "5000.0"
            ]
          },
          "metadata": {
            "tags": []
          },
          "execution_count": 85
        }
      ]
    },
    {
      "cell_type": "code",
      "metadata": {
        "id": "YCOCm_6LkuKr",
        "colab_type": "code",
        "colab": {
          "base_uri": "https://localhost:8080/",
          "height": 34
        },
        "outputId": "fa7dbad7-00b6-4b80-b8d6-3503e3c63088"
      },
      "source": [
        "list(range(0, 5500, 500))"
      ],
      "execution_count": 87,
      "outputs": [
        {
          "output_type": "execute_result",
          "data": {
            "text/plain": [
              "[0, 500, 1000, 1500, 2000, 2500, 3000, 3500, 4000, 4500, 5000]"
            ]
          },
          "metadata": {
            "tags": []
          },
          "execution_count": 87
        }
      ]
    },
    {
      "cell_type": "code",
      "metadata": {
        "id": "osyYKhTDgei-",
        "colab_type": "code",
        "colab": {
          "base_uri": "https://localhost:8080/",
          "height": 614
        },
        "outputId": "e9747d54-7cd5-4302-f798-267498b41ee1"
      },
      "source": [
        "cleanupdf.groupby(pd.cut(cleanupdf[\"Pounds\"], range(0, 5500, 500))).count()"
      ],
      "execution_count": 92,
      "outputs": [
        {
          "output_type": "execute_result",
          "data": {
            "text/html": [
              "<div>\n",
              "<style scoped>\n",
              "    .dataframe tbody tr th:only-of-type {\n",
              "        vertical-align: middle;\n",
              "    }\n",
              "\n",
              "    .dataframe tbody tr th {\n",
              "        vertical-align: top;\n",
              "    }\n",
              "\n",
              "    .dataframe thead th {\n",
              "        text-align: right;\n",
              "    }\n",
              "</style>\n",
              "<table border=\"1\" class=\"dataframe\">\n",
              "  <thead>\n",
              "    <tr style=\"text-align: right;\">\n",
              "      <th></th>\n",
              "      <th>County</th>\n",
              "      <th>Location Lat-Long</th>\n",
              "      <th>Cleanup Type</th>\n",
              "      <th>Cleanup Date</th>\n",
              "      <th>Cleanup Site</th>\n",
              "      <th>Adults</th>\n",
              "      <th>Children</th>\n",
              "      <th>People</th>\n",
              "      <th>Pounds</th>\n",
              "      <th>Miles</th>\n",
              "      <th>Bags</th>\n",
              "      <th>Cigarette Butts</th>\n",
              "      <th>Food Wrappers</th>\n",
              "      <th>Take Out/Away Containers (Plastic)</th>\n",
              "      <th>Take Out/Away Containers (Foam)</th>\n",
              "      <th>Bottle Caps (Plastic)</th>\n",
              "      <th>Bottle Caps (Metal)</th>\n",
              "      <th>Lids (Plastic)</th>\n",
              "      <th>Straws, Stirrers</th>\n",
              "      <th>Forks, Knives, Spoons</th>\n",
              "      <th>Beverage Bottles (Plastic)</th>\n",
              "      <th>Beverage Bottles (Glass)</th>\n",
              "      <th>Beverage Cans</th>\n",
              "      <th>Grocery Bags (Plastic)</th>\n",
              "      <th>Other Plastic Bags</th>\n",
              "      <th>Paper Bags</th>\n",
              "      <th>Cups, Plates (Paper)</th>\n",
              "      <th>Cups, Plates (Plastic)</th>\n",
              "      <th>Cups, Plates (Foam)</th>\n",
              "      <th>Fishing Buoys, Pots &amp; Traps</th>\n",
              "      <th>Fishing Net &amp; Pieces</th>\n",
              "      <th>Fishing Line</th>\n",
              "      <th>Rope</th>\n",
              "      <th>6-Pack Holders</th>\n",
              "      <th>Other Plastic/Foam Packaging</th>\n",
              "      <th>Other Plastic Bottles</th>\n",
              "      <th>Strapping Bands</th>\n",
              "      <th>Tobacco Packaging/Wrap</th>\n",
              "      <th>Appliances</th>\n",
              "      <th>Balloons</th>\n",
              "      <th>Cigar Tips</th>\n",
              "      <th>Cigarette Lighters</th>\n",
              "      <th>Construction Materials</th>\n",
              "      <th>Fireworks</th>\n",
              "      <th>Tires</th>\n",
              "      <th>Toys</th>\n",
              "      <th>Condoms</th>\n",
              "      <th>Diapers</th>\n",
              "      <th>Syringes</th>\n",
              "      <th>Tampons/Tampon Applicators</th>\n",
              "      <th>Foam Pieces</th>\n",
              "      <th>Glass Pieces</th>\n",
              "      <th>Plastic Pieces</th>\n",
              "      <th>Clothing, Shoes</th>\n",
              "      <th>Shotgun Shells/Wadding</th>\n",
              "      <th>Light Bulbs/Tubes</th>\n",
              "      <th>Batteries</th>\n",
              "      <th>Cars/Car Parts</th>\n",
              "      <th>55-Gallon Drums</th>\n",
              "      <th>doweek</th>\n",
              "    </tr>\n",
              "    <tr>\n",
              "      <th>Pounds</th>\n",
              "      <th></th>\n",
              "      <th></th>\n",
              "      <th></th>\n",
              "      <th></th>\n",
              "      <th></th>\n",
              "      <th></th>\n",
              "      <th></th>\n",
              "      <th></th>\n",
              "      <th></th>\n",
              "      <th></th>\n",
              "      <th></th>\n",
              "      <th></th>\n",
              "      <th></th>\n",
              "      <th></th>\n",
              "      <th></th>\n",
              "      <th></th>\n",
              "      <th></th>\n",
              "      <th></th>\n",
              "      <th></th>\n",
              "      <th></th>\n",
              "      <th></th>\n",
              "      <th></th>\n",
              "      <th></th>\n",
              "      <th></th>\n",
              "      <th></th>\n",
              "      <th></th>\n",
              "      <th></th>\n",
              "      <th></th>\n",
              "      <th></th>\n",
              "      <th></th>\n",
              "      <th></th>\n",
              "      <th></th>\n",
              "      <th></th>\n",
              "      <th></th>\n",
              "      <th></th>\n",
              "      <th></th>\n",
              "      <th></th>\n",
              "      <th></th>\n",
              "      <th></th>\n",
              "      <th></th>\n",
              "      <th></th>\n",
              "      <th></th>\n",
              "      <th></th>\n",
              "      <th></th>\n",
              "      <th></th>\n",
              "      <th></th>\n",
              "      <th></th>\n",
              "      <th></th>\n",
              "      <th></th>\n",
              "      <th></th>\n",
              "      <th></th>\n",
              "      <th></th>\n",
              "      <th></th>\n",
              "      <th></th>\n",
              "      <th></th>\n",
              "      <th></th>\n",
              "      <th></th>\n",
              "      <th></th>\n",
              "      <th></th>\n",
              "      <th></th>\n",
              "    </tr>\n",
              "  </thead>\n",
              "  <tbody>\n",
              "    <tr>\n",
              "      <th>(0, 500]</th>\n",
              "      <td>395</td>\n",
              "      <td>382</td>\n",
              "      <td>395</td>\n",
              "      <td>395</td>\n",
              "      <td>392</td>\n",
              "      <td>258</td>\n",
              "      <td>258</td>\n",
              "      <td>395</td>\n",
              "      <td>395</td>\n",
              "      <td>395</td>\n",
              "      <td>395</td>\n",
              "      <td>369</td>\n",
              "      <td>374</td>\n",
              "      <td>248</td>\n",
              "      <td>241</td>\n",
              "      <td>376</td>\n",
              "      <td>346</td>\n",
              "      <td>256</td>\n",
              "      <td>371</td>\n",
              "      <td>369</td>\n",
              "      <td>379</td>\n",
              "      <td>373</td>\n",
              "      <td>376</td>\n",
              "      <td>373</td>\n",
              "      <td>254</td>\n",
              "      <td>348</td>\n",
              "      <td>251</td>\n",
              "      <td>250</td>\n",
              "      <td>247</td>\n",
              "      <td>395</td>\n",
              "      <td>302</td>\n",
              "      <td>340</td>\n",
              "      <td>350</td>\n",
              "      <td>293</td>\n",
              "      <td>388</td>\n",
              "      <td>373</td>\n",
              "      <td>330</td>\n",
              "      <td>351</td>\n",
              "      <td>209</td>\n",
              "      <td>347</td>\n",
              "      <td>343</td>\n",
              "      <td>326</td>\n",
              "      <td>395</td>\n",
              "      <td>226</td>\n",
              "      <td>271</td>\n",
              "      <td>238</td>\n",
              "      <td>274</td>\n",
              "      <td>280</td>\n",
              "      <td>224</td>\n",
              "      <td>317</td>\n",
              "      <td>247</td>\n",
              "      <td>242</td>\n",
              "      <td>249</td>\n",
              "      <td>120</td>\n",
              "      <td>107</td>\n",
              "      <td>64</td>\n",
              "      <td>53</td>\n",
              "      <td>65</td>\n",
              "      <td>22</td>\n",
              "      <td>395</td>\n",
              "    </tr>\n",
              "    <tr>\n",
              "      <th>(500, 1000]</th>\n",
              "      <td>30</td>\n",
              "      <td>28</td>\n",
              "      <td>30</td>\n",
              "      <td>30</td>\n",
              "      <td>30</td>\n",
              "      <td>9</td>\n",
              "      <td>9</td>\n",
              "      <td>30</td>\n",
              "      <td>30</td>\n",
              "      <td>30</td>\n",
              "      <td>30</td>\n",
              "      <td>26</td>\n",
              "      <td>27</td>\n",
              "      <td>8</td>\n",
              "      <td>8</td>\n",
              "      <td>27</td>\n",
              "      <td>25</td>\n",
              "      <td>8</td>\n",
              "      <td>25</td>\n",
              "      <td>26</td>\n",
              "      <td>27</td>\n",
              "      <td>26</td>\n",
              "      <td>27</td>\n",
              "      <td>27</td>\n",
              "      <td>8</td>\n",
              "      <td>27</td>\n",
              "      <td>8</td>\n",
              "      <td>8</td>\n",
              "      <td>7</td>\n",
              "      <td>30</td>\n",
              "      <td>21</td>\n",
              "      <td>26</td>\n",
              "      <td>25</td>\n",
              "      <td>24</td>\n",
              "      <td>28</td>\n",
              "      <td>29</td>\n",
              "      <td>23</td>\n",
              "      <td>25</td>\n",
              "      <td>15</td>\n",
              "      <td>25</td>\n",
              "      <td>21</td>\n",
              "      <td>24</td>\n",
              "      <td>30</td>\n",
              "      <td>7</td>\n",
              "      <td>21</td>\n",
              "      <td>23</td>\n",
              "      <td>20</td>\n",
              "      <td>15</td>\n",
              "      <td>17</td>\n",
              "      <td>23</td>\n",
              "      <td>8</td>\n",
              "      <td>8</td>\n",
              "      <td>8</td>\n",
              "      <td>18</td>\n",
              "      <td>18</td>\n",
              "      <td>11</td>\n",
              "      <td>8</td>\n",
              "      <td>15</td>\n",
              "      <td>5</td>\n",
              "      <td>30</td>\n",
              "    </tr>\n",
              "    <tr>\n",
              "      <th>(1000, 1500]</th>\n",
              "      <td>12</td>\n",
              "      <td>11</td>\n",
              "      <td>12</td>\n",
              "      <td>12</td>\n",
              "      <td>12</td>\n",
              "      <td>0</td>\n",
              "      <td>0</td>\n",
              "      <td>12</td>\n",
              "      <td>12</td>\n",
              "      <td>12</td>\n",
              "      <td>12</td>\n",
              "      <td>10</td>\n",
              "      <td>11</td>\n",
              "      <td>0</td>\n",
              "      <td>0</td>\n",
              "      <td>11</td>\n",
              "      <td>9</td>\n",
              "      <td>0</td>\n",
              "      <td>11</td>\n",
              "      <td>11</td>\n",
              "      <td>11</td>\n",
              "      <td>11</td>\n",
              "      <td>11</td>\n",
              "      <td>11</td>\n",
              "      <td>0</td>\n",
              "      <td>11</td>\n",
              "      <td>0</td>\n",
              "      <td>0</td>\n",
              "      <td>0</td>\n",
              "      <td>12</td>\n",
              "      <td>7</td>\n",
              "      <td>9</td>\n",
              "      <td>11</td>\n",
              "      <td>11</td>\n",
              "      <td>12</td>\n",
              "      <td>12</td>\n",
              "      <td>10</td>\n",
              "      <td>11</td>\n",
              "      <td>3</td>\n",
              "      <td>11</td>\n",
              "      <td>10</td>\n",
              "      <td>10</td>\n",
              "      <td>12</td>\n",
              "      <td>0</td>\n",
              "      <td>11</td>\n",
              "      <td>10</td>\n",
              "      <td>9</td>\n",
              "      <td>6</td>\n",
              "      <td>8</td>\n",
              "      <td>10</td>\n",
              "      <td>0</td>\n",
              "      <td>0</td>\n",
              "      <td>0</td>\n",
              "      <td>11</td>\n",
              "      <td>11</td>\n",
              "      <td>10</td>\n",
              "      <td>4</td>\n",
              "      <td>11</td>\n",
              "      <td>4</td>\n",
              "      <td>12</td>\n",
              "    </tr>\n",
              "    <tr>\n",
              "      <th>(1500, 2000]</th>\n",
              "      <td>2</td>\n",
              "      <td>2</td>\n",
              "      <td>2</td>\n",
              "      <td>2</td>\n",
              "      <td>2</td>\n",
              "      <td>0</td>\n",
              "      <td>0</td>\n",
              "      <td>2</td>\n",
              "      <td>2</td>\n",
              "      <td>2</td>\n",
              "      <td>2</td>\n",
              "      <td>2</td>\n",
              "      <td>2</td>\n",
              "      <td>0</td>\n",
              "      <td>0</td>\n",
              "      <td>2</td>\n",
              "      <td>2</td>\n",
              "      <td>0</td>\n",
              "      <td>2</td>\n",
              "      <td>2</td>\n",
              "      <td>2</td>\n",
              "      <td>2</td>\n",
              "      <td>2</td>\n",
              "      <td>2</td>\n",
              "      <td>0</td>\n",
              "      <td>2</td>\n",
              "      <td>0</td>\n",
              "      <td>0</td>\n",
              "      <td>0</td>\n",
              "      <td>2</td>\n",
              "      <td>2</td>\n",
              "      <td>2</td>\n",
              "      <td>2</td>\n",
              "      <td>2</td>\n",
              "      <td>2</td>\n",
              "      <td>2</td>\n",
              "      <td>2</td>\n",
              "      <td>2</td>\n",
              "      <td>0</td>\n",
              "      <td>2</td>\n",
              "      <td>2</td>\n",
              "      <td>2</td>\n",
              "      <td>2</td>\n",
              "      <td>0</td>\n",
              "      <td>2</td>\n",
              "      <td>2</td>\n",
              "      <td>1</td>\n",
              "      <td>2</td>\n",
              "      <td>1</td>\n",
              "      <td>2</td>\n",
              "      <td>0</td>\n",
              "      <td>0</td>\n",
              "      <td>0</td>\n",
              "      <td>2</td>\n",
              "      <td>2</td>\n",
              "      <td>1</td>\n",
              "      <td>2</td>\n",
              "      <td>1</td>\n",
              "      <td>0</td>\n",
              "      <td>2</td>\n",
              "    </tr>\n",
              "    <tr>\n",
              "      <th>(2000, 2500]</th>\n",
              "      <td>3</td>\n",
              "      <td>3</td>\n",
              "      <td>3</td>\n",
              "      <td>3</td>\n",
              "      <td>3</td>\n",
              "      <td>1</td>\n",
              "      <td>1</td>\n",
              "      <td>3</td>\n",
              "      <td>3</td>\n",
              "      <td>3</td>\n",
              "      <td>3</td>\n",
              "      <td>3</td>\n",
              "      <td>3</td>\n",
              "      <td>1</td>\n",
              "      <td>1</td>\n",
              "      <td>3</td>\n",
              "      <td>3</td>\n",
              "      <td>1</td>\n",
              "      <td>3</td>\n",
              "      <td>3</td>\n",
              "      <td>3</td>\n",
              "      <td>3</td>\n",
              "      <td>3</td>\n",
              "      <td>3</td>\n",
              "      <td>1</td>\n",
              "      <td>3</td>\n",
              "      <td>1</td>\n",
              "      <td>1</td>\n",
              "      <td>1</td>\n",
              "      <td>3</td>\n",
              "      <td>3</td>\n",
              "      <td>3</td>\n",
              "      <td>3</td>\n",
              "      <td>3</td>\n",
              "      <td>3</td>\n",
              "      <td>3</td>\n",
              "      <td>2</td>\n",
              "      <td>3</td>\n",
              "      <td>1</td>\n",
              "      <td>3</td>\n",
              "      <td>3</td>\n",
              "      <td>3</td>\n",
              "      <td>3</td>\n",
              "      <td>1</td>\n",
              "      <td>2</td>\n",
              "      <td>2</td>\n",
              "      <td>2</td>\n",
              "      <td>1</td>\n",
              "      <td>2</td>\n",
              "      <td>3</td>\n",
              "      <td>1</td>\n",
              "      <td>1</td>\n",
              "      <td>1</td>\n",
              "      <td>2</td>\n",
              "      <td>1</td>\n",
              "      <td>1</td>\n",
              "      <td>1</td>\n",
              "      <td>2</td>\n",
              "      <td>0</td>\n",
              "      <td>3</td>\n",
              "    </tr>\n",
              "    <tr>\n",
              "      <th>(2500, 3000]</th>\n",
              "      <td>3</td>\n",
              "      <td>3</td>\n",
              "      <td>3</td>\n",
              "      <td>3</td>\n",
              "      <td>3</td>\n",
              "      <td>1</td>\n",
              "      <td>1</td>\n",
              "      <td>3</td>\n",
              "      <td>3</td>\n",
              "      <td>3</td>\n",
              "      <td>3</td>\n",
              "      <td>2</td>\n",
              "      <td>3</td>\n",
              "      <td>1</td>\n",
              "      <td>1</td>\n",
              "      <td>2</td>\n",
              "      <td>3</td>\n",
              "      <td>1</td>\n",
              "      <td>3</td>\n",
              "      <td>3</td>\n",
              "      <td>2</td>\n",
              "      <td>3</td>\n",
              "      <td>3</td>\n",
              "      <td>3</td>\n",
              "      <td>1</td>\n",
              "      <td>3</td>\n",
              "      <td>1</td>\n",
              "      <td>1</td>\n",
              "      <td>1</td>\n",
              "      <td>3</td>\n",
              "      <td>1</td>\n",
              "      <td>2</td>\n",
              "      <td>1</td>\n",
              "      <td>3</td>\n",
              "      <td>3</td>\n",
              "      <td>3</td>\n",
              "      <td>2</td>\n",
              "      <td>3</td>\n",
              "      <td>0</td>\n",
              "      <td>2</td>\n",
              "      <td>3</td>\n",
              "      <td>3</td>\n",
              "      <td>3</td>\n",
              "      <td>0</td>\n",
              "      <td>3</td>\n",
              "      <td>2</td>\n",
              "      <td>2</td>\n",
              "      <td>0</td>\n",
              "      <td>2</td>\n",
              "      <td>2</td>\n",
              "      <td>1</td>\n",
              "      <td>1</td>\n",
              "      <td>1</td>\n",
              "      <td>2</td>\n",
              "      <td>2</td>\n",
              "      <td>2</td>\n",
              "      <td>0</td>\n",
              "      <td>1</td>\n",
              "      <td>1</td>\n",
              "      <td>3</td>\n",
              "    </tr>\n",
              "    <tr>\n",
              "      <th>(3000, 3500]</th>\n",
              "      <td>1</td>\n",
              "      <td>1</td>\n",
              "      <td>1</td>\n",
              "      <td>1</td>\n",
              "      <td>1</td>\n",
              "      <td>0</td>\n",
              "      <td>0</td>\n",
              "      <td>1</td>\n",
              "      <td>1</td>\n",
              "      <td>1</td>\n",
              "      <td>1</td>\n",
              "      <td>1</td>\n",
              "      <td>1</td>\n",
              "      <td>0</td>\n",
              "      <td>0</td>\n",
              "      <td>1</td>\n",
              "      <td>1</td>\n",
              "      <td>0</td>\n",
              "      <td>1</td>\n",
              "      <td>1</td>\n",
              "      <td>1</td>\n",
              "      <td>1</td>\n",
              "      <td>1</td>\n",
              "      <td>1</td>\n",
              "      <td>0</td>\n",
              "      <td>1</td>\n",
              "      <td>0</td>\n",
              "      <td>0</td>\n",
              "      <td>0</td>\n",
              "      <td>1</td>\n",
              "      <td>1</td>\n",
              "      <td>1</td>\n",
              "      <td>1</td>\n",
              "      <td>1</td>\n",
              "      <td>1</td>\n",
              "      <td>1</td>\n",
              "      <td>1</td>\n",
              "      <td>1</td>\n",
              "      <td>1</td>\n",
              "      <td>1</td>\n",
              "      <td>1</td>\n",
              "      <td>1</td>\n",
              "      <td>1</td>\n",
              "      <td>0</td>\n",
              "      <td>1</td>\n",
              "      <td>1</td>\n",
              "      <td>1</td>\n",
              "      <td>0</td>\n",
              "      <td>1</td>\n",
              "      <td>1</td>\n",
              "      <td>0</td>\n",
              "      <td>0</td>\n",
              "      <td>0</td>\n",
              "      <td>1</td>\n",
              "      <td>1</td>\n",
              "      <td>1</td>\n",
              "      <td>1</td>\n",
              "      <td>1</td>\n",
              "      <td>1</td>\n",
              "      <td>1</td>\n",
              "    </tr>\n",
              "    <tr>\n",
              "      <th>(3500, 4000]</th>\n",
              "      <td>1</td>\n",
              "      <td>1</td>\n",
              "      <td>1</td>\n",
              "      <td>1</td>\n",
              "      <td>1</td>\n",
              "      <td>1</td>\n",
              "      <td>1</td>\n",
              "      <td>1</td>\n",
              "      <td>1</td>\n",
              "      <td>1</td>\n",
              "      <td>1</td>\n",
              "      <td>1</td>\n",
              "      <td>1</td>\n",
              "      <td>1</td>\n",
              "      <td>1</td>\n",
              "      <td>1</td>\n",
              "      <td>1</td>\n",
              "      <td>1</td>\n",
              "      <td>1</td>\n",
              "      <td>1</td>\n",
              "      <td>1</td>\n",
              "      <td>1</td>\n",
              "      <td>1</td>\n",
              "      <td>1</td>\n",
              "      <td>1</td>\n",
              "      <td>1</td>\n",
              "      <td>1</td>\n",
              "      <td>1</td>\n",
              "      <td>1</td>\n",
              "      <td>1</td>\n",
              "      <td>1</td>\n",
              "      <td>1</td>\n",
              "      <td>1</td>\n",
              "      <td>1</td>\n",
              "      <td>1</td>\n",
              "      <td>1</td>\n",
              "      <td>1</td>\n",
              "      <td>1</td>\n",
              "      <td>1</td>\n",
              "      <td>1</td>\n",
              "      <td>1</td>\n",
              "      <td>1</td>\n",
              "      <td>1</td>\n",
              "      <td>1</td>\n",
              "      <td>1</td>\n",
              "      <td>1</td>\n",
              "      <td>1</td>\n",
              "      <td>1</td>\n",
              "      <td>1</td>\n",
              "      <td>1</td>\n",
              "      <td>1</td>\n",
              "      <td>1</td>\n",
              "      <td>1</td>\n",
              "      <td>0</td>\n",
              "      <td>0</td>\n",
              "      <td>0</td>\n",
              "      <td>0</td>\n",
              "      <td>0</td>\n",
              "      <td>0</td>\n",
              "      <td>1</td>\n",
              "    </tr>\n",
              "    <tr>\n",
              "      <th>(4000, 4500]</th>\n",
              "      <td>0</td>\n",
              "      <td>0</td>\n",
              "      <td>0</td>\n",
              "      <td>0</td>\n",
              "      <td>0</td>\n",
              "      <td>0</td>\n",
              "      <td>0</td>\n",
              "      <td>0</td>\n",
              "      <td>0</td>\n",
              "      <td>0</td>\n",
              "      <td>0</td>\n",
              "      <td>0</td>\n",
              "      <td>0</td>\n",
              "      <td>0</td>\n",
              "      <td>0</td>\n",
              "      <td>0</td>\n",
              "      <td>0</td>\n",
              "      <td>0</td>\n",
              "      <td>0</td>\n",
              "      <td>0</td>\n",
              "      <td>0</td>\n",
              "      <td>0</td>\n",
              "      <td>0</td>\n",
              "      <td>0</td>\n",
              "      <td>0</td>\n",
              "      <td>0</td>\n",
              "      <td>0</td>\n",
              "      <td>0</td>\n",
              "      <td>0</td>\n",
              "      <td>0</td>\n",
              "      <td>0</td>\n",
              "      <td>0</td>\n",
              "      <td>0</td>\n",
              "      <td>0</td>\n",
              "      <td>0</td>\n",
              "      <td>0</td>\n",
              "      <td>0</td>\n",
              "      <td>0</td>\n",
              "      <td>0</td>\n",
              "      <td>0</td>\n",
              "      <td>0</td>\n",
              "      <td>0</td>\n",
              "      <td>0</td>\n",
              "      <td>0</td>\n",
              "      <td>0</td>\n",
              "      <td>0</td>\n",
              "      <td>0</td>\n",
              "      <td>0</td>\n",
              "      <td>0</td>\n",
              "      <td>0</td>\n",
              "      <td>0</td>\n",
              "      <td>0</td>\n",
              "      <td>0</td>\n",
              "      <td>0</td>\n",
              "      <td>0</td>\n",
              "      <td>0</td>\n",
              "      <td>0</td>\n",
              "      <td>0</td>\n",
              "      <td>0</td>\n",
              "      <td>0</td>\n",
              "    </tr>\n",
              "    <tr>\n",
              "      <th>(4500, 5000]</th>\n",
              "      <td>1</td>\n",
              "      <td>1</td>\n",
              "      <td>1</td>\n",
              "      <td>1</td>\n",
              "      <td>1</td>\n",
              "      <td>0</td>\n",
              "      <td>0</td>\n",
              "      <td>1</td>\n",
              "      <td>1</td>\n",
              "      <td>1</td>\n",
              "      <td>1</td>\n",
              "      <td>1</td>\n",
              "      <td>1</td>\n",
              "      <td>0</td>\n",
              "      <td>0</td>\n",
              "      <td>1</td>\n",
              "      <td>0</td>\n",
              "      <td>0</td>\n",
              "      <td>0</td>\n",
              "      <td>1</td>\n",
              "      <td>1</td>\n",
              "      <td>1</td>\n",
              "      <td>1</td>\n",
              "      <td>1</td>\n",
              "      <td>0</td>\n",
              "      <td>1</td>\n",
              "      <td>0</td>\n",
              "      <td>0</td>\n",
              "      <td>0</td>\n",
              "      <td>1</td>\n",
              "      <td>1</td>\n",
              "      <td>1</td>\n",
              "      <td>1</td>\n",
              "      <td>0</td>\n",
              "      <td>1</td>\n",
              "      <td>1</td>\n",
              "      <td>1</td>\n",
              "      <td>1</td>\n",
              "      <td>0</td>\n",
              "      <td>0</td>\n",
              "      <td>1</td>\n",
              "      <td>1</td>\n",
              "      <td>1</td>\n",
              "      <td>0</td>\n",
              "      <td>0</td>\n",
              "      <td>0</td>\n",
              "      <td>0</td>\n",
              "      <td>1</td>\n",
              "      <td>0</td>\n",
              "      <td>0</td>\n",
              "      <td>0</td>\n",
              "      <td>0</td>\n",
              "      <td>0</td>\n",
              "      <td>1</td>\n",
              "      <td>0</td>\n",
              "      <td>1</td>\n",
              "      <td>1</td>\n",
              "      <td>1</td>\n",
              "      <td>0</td>\n",
              "      <td>1</td>\n",
              "    </tr>\n",
              "  </tbody>\n",
              "</table>\n",
              "</div>"
            ],
            "text/plain": [
              "              County  Location Lat-Long  ...  55-Gallon Drums  doweek\n",
              "Pounds                                   ...                         \n",
              "(0, 500]         395                382  ...               22     395\n",
              "(500, 1000]       30                 28  ...                5      30\n",
              "(1000, 1500]      12                 11  ...                4      12\n",
              "(1500, 2000]       2                  2  ...                0       2\n",
              "(2000, 2500]       3                  3  ...                0       3\n",
              "(2500, 3000]       3                  3  ...                1       3\n",
              "(3000, 3500]       1                  1  ...                1       1\n",
              "(3500, 4000]       1                  1  ...                0       1\n",
              "(4000, 4500]       0                  0  ...                0       0\n",
              "(4500, 5000]       1                  1  ...                0       1\n",
              "\n",
              "[10 rows x 60 columns]"
            ]
          },
          "metadata": {
            "tags": []
          },
          "execution_count": 92
        }
      ]
    },
    {
      "cell_type": "markdown",
      "metadata": {
        "id": "Fo-gYHZxVC31",
        "colab_type": "text"
      },
      "source": [
        "binning by date"
      ]
    },
    {
      "cell_type": "code",
      "metadata": {
        "id": "JMT4j2j0kG35",
        "colab_type": "code",
        "colab": {
          "base_uri": "https://localhost:8080/",
          "height": 85
        },
        "outputId": "e45c1b21-a08c-4c20-9ea3-6a2a5be1bffb"
      },
      "source": [
        "pd.date_range('2007', '2019', freq='1Y')"
      ],
      "execution_count": 235,
      "outputs": [
        {
          "output_type": "execute_result",
          "data": {
            "text/plain": [
              "DatetimeIndex(['2007-12-31', '2008-12-31', '2009-12-31', '2010-12-31',\n",
              "               '2011-12-31', '2012-12-31', '2013-12-31', '2014-12-31',\n",
              "               '2015-12-31', '2016-12-31', '2017-12-31', '2018-12-31'],\n",
              "              dtype='datetime64[ns]', freq='A-DEC')"
            ]
          },
          "metadata": {
            "tags": []
          },
          "execution_count": 235
        }
      ]
    },
    {
      "cell_type": "code",
      "metadata": {
        "id": "Zb1-s_WAl8aP",
        "colab_type": "code",
        "colab": {}
      },
      "source": [
        "drage = pd.date_range('2007', '2019', freq='1Y')"
      ],
      "execution_count": 236,
      "outputs": []
    },
    {
      "cell_type": "code",
      "metadata": {
        "id": "Sx4uKvfOlxCv",
        "colab_type": "code",
        "colab": {
          "base_uri": "https://localhost:8080/",
          "height": 402
        },
        "outputId": "91e769f7-a98c-43d7-9ff1-352d2a870098"
      },
      "source": [
        "cleanupdf.groupby(pd.cut(cleanupdf[\"Cleanup Date\"], drage)).County.count().plot(kind='bar');\n",
        "plt.ylabel(\"number of events per year\");"
      ],
      "execution_count": 237,
      "outputs": [
        {
          "output_type": "display_data",
          "data": {
            "image/png": "[encoded data removed]",
            "text/plain": [
              "<Figure size 432x288 with 1 Axes>"
            ]
          },
          "metadata": {
            "tags": [],
            "needs_background": "light"
          }
        }
      ]
    },
    {
      "cell_type": "code",
      "metadata": {
        "id": "G_bABf3xVPUn",
        "colab_type": "code",
        "colab": {
          "base_uri": "https://localhost:8080/",
          "height": 297
        },
        "outputId": "ac60ab4f-de29-4607-ecbb-d4a515a28184"
      },
      "source": [
        "cleanupdf.groupby(pd.cut(cleanupdf[\"Cleanup Date\"], drage)).County.count().plot(kind='bar');\n",
        "plt.ylabel(\"number of events per year\");\n",
        "plt.xticks(range(11), [\"%d\"%y for y in range(2008, 2018)]);"
      ],
      "execution_count": 240,
      "outputs": [
        {
          "output_type": "display_data",
          "data": {
            "image/png": "[encoded data removed]",
            "text/plain": [
              "<Figure size 432x288 with 1 Axes>"
            ]
          },
          "metadata": {
            "tags": [],
            "needs_background": "light"
          }
        }
      ]
    },
    {
      "cell_type": "code",
      "metadata": {
        "id": "oohpp0k2mCLb",
        "colab_type": "code",
        "colab": {
          "base_uri": "https://localhost:8080/",
          "height": 295
        },
        "outputId": "3f3b75c9-65a0-43c9-d14e-41ab7ec19747"
      },
      "source": [
        "cleanupdf.groupby(pd.cut(cleanupdf[\"Cleanup Date\"], drage)\n",
        ").Pounds.sum().plot(kind='bar');\n",
        "plt.ylabel(\"Pounds of trash collected\");\n",
        "plt.xticks(range(11), [\"%d\"%y for y in range(2008, 2018)]);"
      ],
      "execution_count": 241,
      "outputs": [
        {
          "output_type": "display_data",
          "data": {
            "image/png": "[encoded data removed]",
            "text/plain": [
              "<Figure size 432x288 with 1 Axes>"
            ]
          },
          "metadata": {
            "tags": [],
            "needs_background": "light"
          }
        }
      ]
    },
    {
      "cell_type": "code",
      "metadata": {
        "id": "rX4ekvDpmYmA",
        "colab_type": "code",
        "colab": {
          "base_uri": "https://localhost:8080/",
          "height": 288
        },
        "outputId": "9ff10bca-4f79-48cd-c607-c0e8182b66fe"
      },
      "source": [
        "cleanupdf.Pounds.hist();\n",
        "plt.ylabel(\"number of events by amount of trash collected\");\n",
        "plt.xlabel(\"Pounds of trash\");"
      ],
      "execution_count": 243,
      "outputs": [
        {
          "output_type": "display_data",
          "data": {
            "image/png": "[encoded data removed]",
            "text/plain": [
              "<Figure size 432x288 with 1 Axes>"
            ]
          },
          "metadata": {
            "tags": [],
            "needs_background": "light"
          }
        }
      ]
    },
    {
      "cell_type": "code",
      "metadata": {
        "id": "YYiU5oV8mk8e",
        "colab_type": "code",
        "colab": {
          "base_uri": "https://localhost:8080/",
          "height": 279
        },
        "outputId": "d1e475d8-24bc-473d-8d44-a597a209f652"
      },
      "source": [
        "cleanupdf.People.hist();\n",
        "plt.ylabel(\"number of events by participatoin\");\n",
        "plt.xlabel(\"number of people participating\");"
      ],
      "execution_count": 244,
      "outputs": [
        {
          "output_type": "display_data",
          "data": {
            "image/png": "[encoded data removed]",
            "text/plain": [
              "<Figure size 432x288 with 1 Axes>"
            ]
          },
          "metadata": {
            "tags": [],
            "needs_background": "light"
          }
        }
      ]
    },
    {
      "cell_type": "markdown",
      "metadata": {
        "id": "hAl5pSnVWrhe",
        "colab_type": "text"
      },
      "source": [
        "# explore by county"
      ]
    },
    {
      "cell_type": "code",
      "metadata": {
        "id": "3ii2YBESmxWz",
        "colab_type": "code",
        "colab": {
          "base_uri": "https://localhost:8080/",
          "height": 34
        },
        "outputId": "3a927b12-d8e1-4b1c-92aa-23f01322bbcb"
      },
      "source": [
        "cleanupdf.County.unique()"
      ],
      "execution_count": 249,
      "outputs": [
        {
          "output_type": "execute_result",
          "data": {
            "text/plain": [
              "array(['Kent', 'New Castle', 'Sussex'], dtype=object)"
            ]
          },
          "metadata": {
            "tags": []
          },
          "execution_count": 249
        }
      ]
    },
    {
      "cell_type": "code",
      "metadata": {
        "id": "Qjol5tuAm5W7",
        "colab_type": "code",
        "colab": {}
      },
      "source": [
        "decounties = cleanupdf.County.unique()"
      ],
      "execution_count": 250,
      "outputs": []
    },
    {
      "cell_type": "code",
      "metadata": {
        "id": "YanX1X4snOLy",
        "colab_type": "code",
        "colab": {
          "base_uri": "https://localhost:8080/",
          "height": 221
        },
        "outputId": "889d1392-7be6-4400-af03-2b262fc2be8b"
      },
      "source": [
        "cleanupdf[\"County\"] == \"Kent\""
      ],
      "execution_count": 251,
      "outputs": [
        {
          "output_type": "execute_result",
          "data": {
            "text/plain": [
              "0       True\n",
              "1       True\n",
              "2      False\n",
              "3      False\n",
              "4      False\n",
              "       ...  \n",
              "444     True\n",
              "445     True\n",
              "446    False\n",
              "447    False\n",
              "448     True\n",
              "Name: County, Length: 449, dtype: bool"
            ]
          },
          "metadata": {
            "tags": []
          },
          "execution_count": 251
        }
      ]
    },
    {
      "cell_type": "code",
      "metadata": {
        "id": "sgEMSL0Anfl4",
        "colab_type": "code",
        "colab": {
          "base_uri": "https://localhost:8080/",
          "height": 34
        },
        "outputId": "a2cadb7d-e6ff-4ebd-8857-fe957f7f51e3"
      },
      "source": [
        "cleanupdf[cleanupdf[\"County\"] == \"Kent\"].shape"
      ],
      "execution_count": 252,
      "outputs": [
        {
          "output_type": "execute_result",
          "data": {
            "text/plain": [
              "(128, 60)"
            ]
          },
          "metadata": {
            "tags": []
          },
          "execution_count": 252
        }
      ]
    },
    {
      "cell_type": "code",
      "metadata": {
        "id": "SkZElbw2m9GN",
        "colab_type": "code",
        "colab": {
          "base_uri": "https://localhost:8080/",
          "height": 902
        },
        "outputId": "4a4e1ce4-fe02-4fbc-e434-04bb5d3263e5"
      },
      "source": [
        "for c in decounties:\n",
        "  plt.figure();\n",
        "  df_ = cleanupdf[cleanupdf[\"County\"] == c].groupby(pd.cut(cleanupdf[\"Cleanup Date\"][cleanupdf[\"County\"] == c], \n",
        "                                                     drage)).sum()\n",
        "  df_.plot(x=\"People\", y=\"Pounds\", kind='scatter', title=c);\n"
      ],
      "execution_count": 253,
      "outputs": [
        {
          "output_type": "display_data",
          "data": {
            "text/plain": [
              "<Figure size 432x288 with 0 Axes>"
            ]
          },
          "metadata": {
            "tags": []
          }
        },
        {
          "output_type": "display_data",
          "data": {
            "image/png": "[encoded data removed]",
            "text/plain": [
              "<Figure size 432x288 with 1 Axes>"
            ]
          },
          "metadata": {
            "tags": [],
            "needs_background": "light"
          }
        },
        {
          "output_type": "display_data",
          "data": {
            "text/plain": [
              "<Figure size 432x288 with 0 Axes>"
            ]
          },
          "metadata": {
            "tags": []
          }
        },
        {
          "output_type": "display_data",
          "data": {
            "image/png": "[encoded data removed]",
            "text/plain": [
              "<Figure size 432x288 with 1 Axes>"
            ]
          },
          "metadata": {
            "tags": [],
            "needs_background": "light"
          }
        },
        {
          "output_type": "display_data",
          "data": {
            "text/plain": [
              "<Figure size 432x288 with 0 Axes>"
            ]
          },
          "metadata": {
            "tags": []
          }
        },
        {
          "output_type": "display_data",
          "data": {
            "image/png": "[encoded data removed]",
            "text/plain": [
              "<Figure size 432x288 with 1 Axes>"
            ]
          },
          "metadata": {
            "tags": [],
            "needs_background": "light"
          }
        }
      ]
    },
    {
      "cell_type": "markdown",
      "metadata": {
        "id": "B_uo32ixW_tA",
        "colab_type": "text"
      },
      "source": [
        "fitting simple models to data\n",
        "\n",
        "---\n",
        "\n"
      ]
    },
    {
      "cell_type": "code",
      "metadata": {
        "id": "Ts9qrcGTn7rV",
        "colab_type": "code",
        "colab": {}
      },
      "source": [
        "import statsmodels.formula.api as smf"
      ],
      "execution_count": 254,
      "outputs": []
    },
    {
      "cell_type": "code",
      "metadata": {
        "id": "wNgbZpXroK8b",
        "colab_type": "code",
        "colab": {}
      },
      "source": [
        "#y = ax + b\n",
        "mymodel = smf.ols(formula='Pounds ~ People', data=cleanupdf).fit()"
      ],
      "execution_count": 261,
      "outputs": []
    },
    {
      "cell_type": "code",
      "metadata": {
        "id": "dAsV9RyDpjIb",
        "colab_type": "code",
        "colab": {
          "base_uri": "https://localhost:8080/",
          "height": 296
        },
        "outputId": "417810c0-74c5-40d2-f6fc-9098b93e35d5"
      },
      "source": [
        "plt.plot(cleanupdf[\"People\"], mymodel.predict(cleanupdf[\"People\"]))\n",
        "plt.plot(cleanupdf[\"People\"], cleanupdf[\"Pounds\"], '.', alpha=0.5);\n",
        "plt.xlabel(\"People\")\n",
        "plt.ylabel(\"Pounds\")"
      ],
      "execution_count": 256,
      "outputs": [
        {
          "output_type": "execute_result",
          "data": {
            "text/plain": [
              "Text(0, 0.5, 'Pounds')"
            ]
          },
          "metadata": {
            "tags": []
          },
          "execution_count": 256
        },
        {
          "output_type": "display_data",
          "data": {
            "image/png": "[encoded data removed]",
            "text/plain": [
              "<Figure size 432x288 with 1 Axes>"
            ]
          },
          "metadata": {
            "tags": [],
            "needs_background": "light"
          }
        }
      ]
    },
    {
      "cell_type": "code",
      "metadata": {
        "id": "6NFtzytDqOfl",
        "colab_type": "code",
        "colab": {
          "base_uri": "https://localhost:8080/",
          "height": 444
        },
        "outputId": "c4bf366f-e5d1-4dad-f2c3-3db9dd3d8b3b"
      },
      "source": [
        "mymodel.summary()"
      ],
      "execution_count": 257,
      "outputs": [
        {
          "output_type": "execute_result",
          "data": {
            "text/html": [
              "<table class=\"simpletable\">\n",
              "<caption>OLS Regression Results</caption>\n",
              "<tr>\n",
              "  <th>Dep. Variable:</th>         <td>Pounds</td>      <th>  R-squared:         </th> <td>   0.122</td>\n",
              "</tr>\n",
              "<tr>\n",
              "  <th>Model:</th>                   <td>OLS</td>       <th>  Adj. R-squared:    </th> <td>   0.120</td>\n",
              "</tr>\n",
              "<tr>\n",
              "  <th>Method:</th>             <td>Least Squares</td>  <th>  F-statistic:       </th> <td>   62.09</td>\n",
              "</tr>\n",
              "<tr>\n",
              "  <th>Date:</th>             <td>Fri, 18 Sep 2020</td> <th>  Prob (F-statistic):</th> <td>2.53e-14</td>\n",
              "</tr>\n",
              "<tr>\n",
              "  <th>Time:</th>                 <td>17:55:17</td>     <th>  Log-Likelihood:    </th> <td> -3399.0</td>\n",
              "</tr>\n",
              "<tr>\n",
              "  <th>No. Observations:</th>      <td>   449</td>      <th>  AIC:               </th> <td>   6802.</td>\n",
              "</tr>\n",
              "<tr>\n",
              "  <th>Df Residuals:</th>          <td>   447</td>      <th>  BIC:               </th> <td>   6810.</td>\n",
              "</tr>\n",
              "<tr>\n",
              "  <th>Df Model:</th>              <td>     1</td>      <th>                     </th>     <td> </td>   \n",
              "</tr>\n",
              "<tr>\n",
              "  <th>Covariance Type:</th>      <td>nonrobust</td>    <th>                     </th>     <td> </td>   \n",
              "</tr>\n",
              "</table>\n",
              "<table class=\"simpletable\">\n",
              "<tr>\n",
              "      <td></td>         <th>coef</th>     <th>std err</th>      <th>t</th>      <th>P>|t|</th>  <th>[0.025</th>    <th>0.975]</th>  \n",
              "</tr>\n",
              "<tr>\n",
              "  <th>Intercept</th> <td>   90.8711</td> <td>   33.486</td> <td>    2.714</td> <td> 0.007</td> <td>   25.062</td> <td>  156.681</td>\n",
              "</tr>\n",
              "<tr>\n",
              "  <th>People</th>    <td>    4.6809</td> <td>    0.594</td> <td>    7.879</td> <td> 0.000</td> <td>    3.513</td> <td>    5.848</td>\n",
              "</tr>\n",
              "</table>\n",
              "<table class=\"simpletable\">\n",
              "<tr>\n",
              "  <th>Omnibus:</th>       <td>522.725</td> <th>  Durbin-Watson:     </th> <td>   1.795</td> \n",
              "</tr>\n",
              "<tr>\n",
              "  <th>Prob(Omnibus):</th> <td> 0.000</td>  <th>  Jarque-Bera (JB):  </th> <td>33994.124</td>\n",
              "</tr>\n",
              "<tr>\n",
              "  <th>Skew:</th>          <td> 5.457</td>  <th>  Prob(JB):          </th> <td>    0.00</td> \n",
              "</tr>\n",
              "<tr>\n",
              "  <th>Kurtosis:</th>      <td>44.206</td>  <th>  Cond. No.          </th> <td>    85.1</td> \n",
              "</tr>\n",
              "</table><br/><br/>Warnings:<br/>[1] Standard Errors assume that the covariance matrix of the errors is correctly specified."
            ],
            "text/plain": [
              "<class 'statsmodels.iolib.summary.Summary'>\n",
              "\"\"\"\n",
              "                            OLS Regression Results                            \n",
              "==============================================================================\n",
              "Dep. Variable:                 Pounds   R-squared:                       0.122\n",
              "Model:                            OLS   Adj. R-squared:                  0.120\n",
              "Method:                 Least Squares   F-statistic:                     62.09\n",
              "Date:                Fri, 18 Sep 2020   Prob (F-statistic):           2.53e-14\n",
              "Time:                        17:55:17   Log-Likelihood:                -3399.0\n",
              "No. Observations:                 449   AIC:                             6802.\n",
              "Df Residuals:                     447   BIC:                             6810.\n",
              "Df Model:                           1                                         \n",
              "Covariance Type:            nonrobust                                         \n",
              "==============================================================================\n",
              "                 coef    std err          t      P>|t|      [0.025      0.975]\n",
              "------------------------------------------------------------------------------\n",
              "Intercept     90.8711     33.486      2.714      0.007      25.062     156.681\n",
              "People         4.6809      0.594      7.879      0.000       3.513       5.848\n",
              "==============================================================================\n",
              "Omnibus:                      522.725   Durbin-Watson:                   1.795\n",
              "Prob(Omnibus):                  0.000   Jarque-Bera (JB):            33994.124\n",
              "Skew:                           5.457   Prob(JB):                         0.00\n",
              "Kurtosis:                      44.206   Cond. No.                         85.1\n",
              "==============================================================================\n",
              "\n",
              "Warnings:\n",
              "[1] Standard Errors assume that the covariance matrix of the errors is correctly specified.\n",
              "\"\"\""
            ]
          },
          "metadata": {
            "tags": []
          },
          "execution_count": 257
        }
      ]
    },
    {
      "cell_type": "code",
      "metadata": {
        "id": "utLXW_HSrUPi",
        "colab_type": "code",
        "colab": {}
      },
      "source": [
        "#y = ax**2 + bx + c\n",
        "mymodel2 = smf.ols(formula='Pounds ~ I(People**2) + People', data=cleanupdf).fit()"
      ],
      "execution_count": 262,
      "outputs": []
    },
    {
      "cell_type": "code",
      "metadata": {
        "id": "uWqWS_KQtNfS",
        "colab_type": "code",
        "colab": {
          "base_uri": "https://localhost:8080/",
          "height": 499
        },
        "outputId": "c1d3cdd3-d049-44ac-c507-c44e5aa14c2a"
      },
      "source": [
        "mymodel2.summary()"
      ],
      "execution_count": 259,
      "outputs": [
        {
          "output_type": "execute_result",
          "data": {
            "text/html": [
              "<table class=\"simpletable\">\n",
              "<caption>OLS Regression Results</caption>\n",
              "<tr>\n",
              "  <th>Dep. Variable:</th>         <td>Pounds</td>      <th>  R-squared:         </th> <td>   0.135</td>\n",
              "</tr>\n",
              "<tr>\n",
              "  <th>Model:</th>                   <td>OLS</td>       <th>  Adj. R-squared:    </th> <td>   0.131</td>\n",
              "</tr>\n",
              "<tr>\n",
              "  <th>Method:</th>             <td>Least Squares</td>  <th>  F-statistic:       </th> <td>   34.78</td>\n",
              "</tr>\n",
              "<tr>\n",
              "  <th>Date:</th>             <td>Fri, 18 Sep 2020</td> <th>  Prob (F-statistic):</th> <td>9.22e-15</td>\n",
              "</tr>\n",
              "<tr>\n",
              "  <th>Time:</th>                 <td>17:55:58</td>     <th>  Log-Likelihood:    </th> <td> -3395.7</td>\n",
              "</tr>\n",
              "<tr>\n",
              "  <th>No. Observations:</th>      <td>   449</td>      <th>  AIC:               </th> <td>   6797.</td>\n",
              "</tr>\n",
              "<tr>\n",
              "  <th>Df Residuals:</th>          <td>   446</td>      <th>  BIC:               </th> <td>   6810.</td>\n",
              "</tr>\n",
              "<tr>\n",
              "  <th>Df Model:</th>              <td>     2</td>      <th>                     </th>     <td> </td>   \n",
              "</tr>\n",
              "<tr>\n",
              "  <th>Covariance Type:</th>      <td>nonrobust</td>    <th>                     </th>     <td> </td>   \n",
              "</tr>\n",
              "</table>\n",
              "<table class=\"simpletable\">\n",
              "<tr>\n",
              "         <td></td>           <th>coef</th>     <th>std err</th>      <th>t</th>      <th>P>|t|</th>  <th>[0.025</th>    <th>0.975]</th>  \n",
              "</tr>\n",
              "<tr>\n",
              "  <th>Intercept</th>      <td>  156.3283</td> <td>   41.820</td> <td>    3.738</td> <td> 0.000</td> <td>   74.141</td> <td>  238.516</td>\n",
              "</tr>\n",
              "<tr>\n",
              "  <th>I(People ** 2)</th> <td>    0.0183</td> <td>    0.007</td> <td>    2.584</td> <td> 0.010</td> <td>    0.004</td> <td>    0.032</td>\n",
              "</tr>\n",
              "<tr>\n",
              "  <th>People</th>         <td>    1.7510</td> <td>    1.278</td> <td>    1.370</td> <td> 0.171</td> <td>   -0.761</td> <td>    4.263</td>\n",
              "</tr>\n",
              "</table>\n",
              "<table class=\"simpletable\">\n",
              "<tr>\n",
              "  <th>Omnibus:</th>       <td>527.402</td> <th>  Durbin-Watson:     </th> <td>   1.804</td> \n",
              "</tr>\n",
              "<tr>\n",
              "  <th>Prob(Omnibus):</th> <td> 0.000</td>  <th>  Jarque-Bera (JB):  </th> <td>35005.212</td>\n",
              "</tr>\n",
              "<tr>\n",
              "  <th>Skew:</th>          <td> 5.536</td>  <th>  Prob(JB):          </th> <td>    0.00</td> \n",
              "</tr>\n",
              "<tr>\n",
              "  <th>Kurtosis:</th>      <td>44.815</td>  <th>  Cond. No.          </th> <td>1.41e+04</td> \n",
              "</tr>\n",
              "</table><br/><br/>Warnings:<br/>[1] Standard Errors assume that the covariance matrix of the errors is correctly specified.<br/>[2] The condition number is large, 1.41e+04. This might indicate that there are<br/>strong multicollinearity or other numerical problems."
            ],
            "text/plain": [
              "<class 'statsmodels.iolib.summary.Summary'>\n",
              "\"\"\"\n",
              "                            OLS Regression Results                            \n",
              "==============================================================================\n",
              "Dep. Variable:                 Pounds   R-squared:                       0.135\n",
              "Model:                            OLS   Adj. R-squared:                  0.131\n",
              "Method:                 Least Squares   F-statistic:                     34.78\n",
              "Date:                Fri, 18 Sep 2020   Prob (F-statistic):           9.22e-15\n",
              "Time:                        17:55:58   Log-Likelihood:                -3395.7\n",
              "No. Observations:                 449   AIC:                             6797.\n",
              "Df Residuals:                     446   BIC:                             6810.\n",
              "Df Model:                           2                                         \n",
              "Covariance Type:            nonrobust                                         \n",
              "==================================================================================\n",
              "                     coef    std err          t      P>|t|      [0.025      0.975]\n",
              "----------------------------------------------------------------------------------\n",
              "Intercept        156.3283     41.820      3.738      0.000      74.141     238.516\n",
              "I(People ** 2)     0.0183      0.007      2.584      0.010       0.004       0.032\n",
              "People             1.7510      1.278      1.370      0.171      -0.761       4.263\n",
              "==============================================================================\n",
              "Omnibus:                      527.402   Durbin-Watson:                   1.804\n",
              "Prob(Omnibus):                  0.000   Jarque-Bera (JB):            35005.212\n",
              "Skew:                           5.536   Prob(JB):                         0.00\n",
              "Kurtosis:                      44.815   Cond. No.                     1.41e+04\n",
              "==============================================================================\n",
              "\n",
              "Warnings:\n",
              "[1] Standard Errors assume that the covariance matrix of the errors is correctly specified.\n",
              "[2] The condition number is large, 1.41e+04. This might indicate that there are\n",
              "strong multicollinearity or other numerical problems.\n",
              "\"\"\""
            ]
          },
          "metadata": {
            "tags": []
          },
          "execution_count": 259
        }
      ]
    },
    {
      "cell_type": "code",
      "metadata": {
        "id": "3AJ7JC21tPUF",
        "colab_type": "code",
        "colab": {}
      },
      "source": [
        "#compare models w likelihood ratio test\n",
        "mymodel2.compare_lr_test?"
      ],
      "execution_count": 264,
      "outputs": []
    },
    {
      "cell_type": "code",
      "metadata": {
        "id": "8_AXgF9HXjge",
        "colab_type": "code",
        "colab": {
          "base_uri": "https://localhost:8080/",
          "height": 34
        },
        "outputId": "ac01b2d4-bf91-4d6c-c76d-4334c1b56ea9"
      },
      "source": [
        "# thesecond number is the p-value of ther test\n",
        "mymodel2.compare_lr_test(mymodel)"
      ],
      "execution_count": 265,
      "outputs": [
        {
          "output_type": "execute_result",
          "data": {
            "text/plain": [
              "(6.672919351967721, 0.009788871726509581, 1.0)"
            ]
          },
          "metadata": {
            "tags": []
          },
          "execution_count": 265
        }
      ]
    },
    {
      "cell_type": "code",
      "metadata": {
        "id": "Yl5LK9B9t5qY",
        "colab_type": "code",
        "colab": {
          "base_uri": "https://localhost:8080/",
          "height": 34
        },
        "outputId": "ce3fc7b4-254b-40dc-9259-9ef5ad633af4"
      },
      "source": [
        "#to plot t i create a dataframe with the exogenous variable\n",
        "cleanupdf[\"People\"].max()\n"
      ],
      "execution_count": 144,
      "outputs": [
        {
          "output_type": "execute_result",
          "data": {
            "text/plain": [
              "313"
            ]
          },
          "metadata": {
            "tags": []
          },
          "execution_count": 144
        }
      ]
    },
    {
      "cell_type": "code",
      "metadata": {
        "id": "ni5c6-tUteSU",
        "colab_type": "code",
        "colab": {
          "base_uri": "https://localhost:8080/",
          "height": 419
        },
        "outputId": "8963f311-565e-4bc6-b737-3194133d8725"
      },
      "source": [
        "pd.DataFrame({\"People\": list(range(314))})"
      ],
      "execution_count": 268,
      "outputs": [
        {
          "output_type": "execute_result",
          "data": {
            "text/html": [
              "<div>\n",
              "<style scoped>\n",
              "    .dataframe tbody tr th:only-of-type {\n",
              "        vertical-align: middle;\n",
              "    }\n",
              "\n",
              "    .dataframe tbody tr th {\n",
              "        vertical-align: top;\n",
              "    }\n",
              "\n",
              "    .dataframe thead th {\n",
              "        text-align: right;\n",
              "    }\n",
              "</style>\n",
              "<table border=\"1\" class=\"dataframe\">\n",
              "  <thead>\n",
              "    <tr style=\"text-align: right;\">\n",
              "      <th></th>\n",
              "      <th>People</th>\n",
              "    </tr>\n",
              "  </thead>\n",
              "  <tbody>\n",
              "    <tr>\n",
              "      <th>0</th>\n",
              "      <td>0</td>\n",
              "    </tr>\n",
              "    <tr>\n",
              "      <th>1</th>\n",
              "      <td>1</td>\n",
              "    </tr>\n",
              "    <tr>\n",
              "      <th>2</th>\n",
              "      <td>2</td>\n",
              "    </tr>\n",
              "    <tr>\n",
              "      <th>3</th>\n",
              "      <td>3</td>\n",
              "    </tr>\n",
              "    <tr>\n",
              "      <th>4</th>\n",
              "      <td>4</td>\n",
              "    </tr>\n",
              "    <tr>\n",
              "      <th>...</th>\n",
              "      <td>...</td>\n",
              "    </tr>\n",
              "    <tr>\n",
              "      <th>309</th>\n",
              "      <td>309</td>\n",
              "    </tr>\n",
              "    <tr>\n",
              "      <th>310</th>\n",
              "      <td>310</td>\n",
              "    </tr>\n",
              "    <tr>\n",
              "      <th>311</th>\n",
              "      <td>311</td>\n",
              "    </tr>\n",
              "    <tr>\n",
              "      <th>312</th>\n",
              "      <td>312</td>\n",
              "    </tr>\n",
              "    <tr>\n",
              "      <th>313</th>\n",
              "      <td>313</td>\n",
              "    </tr>\n",
              "  </tbody>\n",
              "</table>\n",
              "<p>314 rows × 1 columns</p>\n",
              "</div>"
            ],
            "text/plain": [
              "     People\n",
              "0         0\n",
              "1         1\n",
              "2         2\n",
              "3         3\n",
              "4         4\n",
              "..      ...\n",
              "309     309\n",
              "310     310\n",
              "311     311\n",
              "312     312\n",
              "313     313\n",
              "\n",
              "[314 rows x 1 columns]"
            ]
          },
          "metadata": {
            "tags": []
          },
          "execution_count": 268
        }
      ]
    },
    {
      "cell_type": "code",
      "metadata": {
        "id": "ckFyjzdItg-4",
        "colab_type": "code",
        "colab": {
          "base_uri": "https://localhost:8080/",
          "height": 279
        },
        "outputId": "4a28b2e3-85b4-4514-b6aa-a70b4df91480"
      },
      "source": [
        "plt.plot(range(313), mymodel2.predict(pd.DataFrame({\"People\":list(range(313))})))\n",
        "plt.plot(cleanupdf[\"People\"], mymodel.predict(cleanupdf[\"People\"]))\n",
        "\n",
        "plt.plot(cleanupdf[\"People\"], cleanupdf[\"Pounds\"], '.', alpha=0.5);\n",
        "plt.xlabel(\"People\")\n",
        "plt.ylabel(\"Pounds\");"
      ],
      "execution_count": 271,
      "outputs": [
        {
          "output_type": "display_data",
          "data": {
            "image/png": "[encoded data removed]",
            "text/plain": [
              "<Figure size 432x288 with 1 Axes>"
            ]
          },
          "metadata": {
            "tags": [],
            "needs_background": "light"
          }
        }
      ]
    },
    {
      "cell_type": "markdown",
      "metadata": {
        "id": "UMnTwNDcYGZ7",
        "colab_type": "text"
      },
      "source": [
        "# quick exploration of numpy indexing"
      ]
    },
    {
      "cell_type": "code",
      "metadata": {
        "id": "85xHXCmxw2oS",
        "colab_type": "code",
        "colab": {
          "base_uri": "https://localhost:8080/",
          "height": 377
        },
        "outputId": "754f936f-d0bc-46a3-da33-c6d921a38786"
      },
      "source": [
        "!wget https://github.com/fedhere/PyBOOT/blob/master/busBusses.npy?raw=true"
      ],
      "execution_count": 270,
      "outputs": [
        {
          "output_type": "stream",
          "text": [
            "--2020-09-18 18:00:42--  https://github.com/fedhere/PyBOOT/blob/master/busBusses.npy?raw=true\n",
            "Resolving github.com (github.com)... 192.30.255.113\n",
            "Connecting to github.com (github.com)|192.30.255.113|:443... connected.\n",
            "HTTP request sent, awaiting response... 302 Found\n",
            "Location: https://github.com/fedhere/PyBOOT/raw/master/busBusses.npy [following]\n",
            "--2020-09-18 18:00:43--  https://github.com/fedhere/PyBOOT/raw/master/busBusses.npy\n",
            "Reusing existing connection to github.com:443.\n",
            "HTTP request sent, awaiting response... 302 Found\n",
            "Location: https://raw.githubusercontent.com/fedhere/PyBOOT/master/busBusses.npy [following]\n",
            "--2020-09-18 18:00:43--  https://raw.githubusercontent.com/fedhere/PyBOOT/master/busBusses.npy\n",
            "Resolving raw.githubusercontent.com (raw.githubusercontent.com)... 151.101.0.133, 151.101.64.133, 151.101.128.133, ...\n",
            "Connecting to raw.githubusercontent.com (raw.githubusercontent.com)|151.101.0.133|:443... connected.\n",
            "HTTP request sent, awaiting response... 200 OK\n",
            "Length: 240 [application/octet-stream]\n",
            "Saving to: ‘busBusses.npy?raw=true.2’\n",
            "\n",
            "busBusses.npy?raw=t 100%[===================>]     240  --.-KB/s    in 0s      \n",
            "\n",
            "2020-09-18 18:00:43 (8.95 MB/s) - ‘busBusses.npy?raw=true.2’ saved [240/240]\n",
            "\n"
          ],
          "name": "stdout"
        }
      ]
    },
    {
      "cell_type": "code",
      "metadata": {
        "id": "v9bQwjI5yFC3",
        "colab_type": "code",
        "colab": {
          "base_uri": "https://localhost:8080/",
          "height": 377
        },
        "outputId": "0c3b9356-9de9-4453-9468-f418ac284597"
      },
      "source": [
        "!wget https://github.com/fedhere/PyBOOT/blob/master/busTimeTable.npy?raw=true"
      ],
      "execution_count": 167,
      "outputs": [
        {
          "output_type": "stream",
          "text": [
            "--2020-09-18 15:15:43--  https://github.com/fedhere/PyBOOT/blob/master/busTimeTable.npy?raw=true\n",
            "Resolving github.com (github.com)... 192.30.255.113\n",
            "Connecting to github.com (github.com)|192.30.255.113|:443... connected.\n",
            "HTTP request sent, awaiting response... 302 Found\n",
            "Location: https://github.com/fedhere/PyBOOT/raw/master/busTimeTable.npy [following]\n",
            "--2020-09-18 15:15:43--  https://github.com/fedhere/PyBOOT/raw/master/busTimeTable.npy\n",
            "Reusing existing connection to github.com:443.\n",
            "HTTP request sent, awaiting response... 302 Found\n",
            "Location: https://raw.githubusercontent.com/fedhere/PyBOOT/master/busTimeTable.npy [following]\n",
            "--2020-09-18 15:15:44--  https://raw.githubusercontent.com/fedhere/PyBOOT/master/busTimeTable.npy\n",
            "Resolving raw.githubusercontent.com (raw.githubusercontent.com)... 151.101.0.133, 151.101.64.133, 151.101.128.133, ...\n",
            "Connecting to raw.githubusercontent.com (raw.githubusercontent.com)|151.101.0.133|:443... connected.\n",
            "HTTP request sent, awaiting response... 200 OK\n",
            "Length: 1680 (1.6K) [application/octet-stream]\n",
            "Saving to: ‘busTimeTable.npy?raw=true.1’\n",
            "\n",
            "busTimeTable.npy?ra 100%[===================>]   1.64K  --.-KB/s    in 0s      \n",
            "\n",
            "2020-09-18 15:15:44 (31.2 MB/s) - ‘busTimeTable.npy?raw=true.1’ saved [1680/1680]\n",
            "\n"
          ],
          "name": "stdout"
        }
      ]
    },
    {
      "cell_type": "code",
      "metadata": {
        "id": "RFTTeGBqyRMK",
        "colab_type": "code",
        "colab": {}
      },
      "source": [
        "import numpy as np"
      ],
      "execution_count": 168,
      "outputs": []
    },
    {
      "cell_type": "code",
      "metadata": {
        "id": "cWJ13hurygSI",
        "colab_type": "code",
        "colab": {
          "base_uri": "https://localhost:8080/",
          "height": 68
        },
        "outputId": "013e1b76-2ced-4405-d2c2-6c4d5a9df13d"
      },
      "source": [
        "ls"
      ],
      "execution_count": 169,
      "outputs": [
        {
          "output_type": "stream",
          "text": [
            "'busBusses.npy?raw=true'    'busTimeTable.npy?raw=true'\n",
            "'busBusses.npy?raw=true.1'  'busTimeTable.npy?raw=true.1'\n",
            " busTimeTable.npy            \u001b[0m\u001b[01;34msample_data\u001b[0m/\n"
          ],
          "name": "stdout"
        }
      ]
    },
    {
      "cell_type": "code",
      "metadata": {
        "id": "G4IR434uyVGe",
        "colab_type": "code",
        "colab": {}
      },
      "source": [
        "# a file containing transit time for busses by bis and hour of the day:\n",
        "#20 busses, 10 times of thre day\n",
        "tt = np.load(\"busTimeTable.npy?raw=true\")"
      ],
      "execution_count": 172,
      "outputs": []
    },
    {
      "cell_type": "code",
      "metadata": {
        "id": "koj_MiJWyl5J",
        "colab_type": "code",
        "colab": {
          "base_uri": "https://localhost:8080/",
          "height": 34
        },
        "outputId": "e8782433-e464-478d-bd53-5425c7564717"
      },
      "source": [
        "tt.shape"
      ],
      "execution_count": 173,
      "outputs": [
        {
          "output_type": "execute_result",
          "data": {
            "text/plain": [
              "(20, 10)"
            ]
          },
          "metadata": {
            "tags": []
          },
          "execution_count": 173
        }
      ]
    },
    {
      "cell_type": "code",
      "metadata": {
        "id": "6yeNC0qAyxAM",
        "colab_type": "code",
        "colab": {}
      },
      "source": [
        "busses = np.load(\"busBusses.npy?raw=true\")"
      ],
      "execution_count": 175,
      "outputs": []
    },
    {
      "cell_type": "code",
      "metadata": {
        "id": "J_D-irBvy3UL",
        "colab_type": "code",
        "colab": {
          "base_uri": "https://localhost:8080/",
          "height": 34
        },
        "outputId": "05bc6fba-c9af-43aa-b981-a1345c166d93"
      },
      "source": [
        "busses.shape"
      ],
      "execution_count": 176,
      "outputs": [
        {
          "output_type": "execute_result",
          "data": {
            "text/plain": [
              "(20,)"
            ]
          },
          "metadata": {
            "tags": []
          },
          "execution_count": 176
        }
      ]
    },
    {
      "cell_type": "code",
      "metadata": {
        "id": "KqHXt0n1y8TA",
        "colab_type": "code",
        "colab": {
          "base_uri": "https://localhost:8080/",
          "height": 51
        },
        "outputId": "327d9edf-03cd-4d82-8d89-92d06906c107"
      },
      "source": [
        "busses"
      ],
      "execution_count": 177,
      "outputs": [
        {
          "output_type": "execute_result",
          "data": {
            "text/plain": [
              "array([ 77,  72,  79,  97,  85,  57,  86,  96,  31,  76,  33,  98, 109,\n",
              "       108,  52,  92,  58,  94,  66, 104])"
            ]
          },
          "metadata": {
            "tags": []
          },
          "execution_count": 177
        }
      ]
    },
    {
      "cell_type": "code",
      "metadata": {
        "id": "uee08pQRzlGw",
        "colab_type": "code",
        "colab": {}
      },
      "source": [
        "hours = np.arange(1, 11)"
      ],
      "execution_count": 273,
      "outputs": []
    },
    {
      "cell_type": "code",
      "metadata": {
        "id": "k778Ox8RzDJM",
        "colab_type": "code",
        "colab": {
          "base_uri": "https://localhost:8080/",
          "height": 751
        },
        "outputId": "13f5d0c1-d236-448e-e115-c83dbea000e2"
      },
      "source": [
        "def printBusTable(times, i):\n",
        "    print(\"{:>3d} \".format(busses[i]), end=\"\")\n",
        "    for j in times[i]:\n",
        "        print(\"{:>7.2f} \".format(j), end=\"\")\n",
        "    print(\"\\n\")\n",
        "\n",
        "print(\"{:>3}\".format(\"\"), end=\"\")\n",
        "\n",
        "for k in range(10):\n",
        "    print(\"{:>4} PM \".format(hours[k]), end=\"\")\n",
        "print(\"\")\n",
        "\n",
        "print(\"{:>3}\".format(\"BUS\"), end=\"\")\n",
        "print(\"\")\n",
        "\n",
        "for k in range(20):\n",
        "    printBusTable(tt, k)"
      ],
      "execution_count": 274,
      "outputs": [
        {
          "output_type": "stream",
          "text": [
            "      1 PM    2 PM    3 PM    4 PM    5 PM    6 PM    7 PM    8 PM    9 PM   10 PM \n",
            "BUS\n",
            " 77   91.83   72.99   96.74   73.41   85.58  101.38   96.98   95.56   77.87   78.38 \n",
            "\n",
            " 72   61.03   60.00   67.86   41.11   53.38   36.92   53.63   55.74   58.57   54.99 \n",
            "\n",
            " 79   60.98   45.56   45.88   66.16   60.03   50.85   45.38   53.81   54.55   60.64 \n",
            "\n",
            " 97   87.99   55.80   81.03   66.19   53.30   67.56   74.38   71.14   87.67   67.10 \n",
            "\n",
            " 85   73.81   79.26   86.31   99.78   90.29   84.38   95.84   84.51   97.12  105.18 \n",
            "\n",
            " 57   77.14   71.12   52.12   73.46   91.37   72.87   68.71   72.43   61.80   72.27 \n",
            "\n",
            " 86   86.31  102.23  113.02   95.70   98.60  114.93  104.41  105.50   93.36   98.78 \n",
            "\n",
            " 96   74.71   80.97   89.16   70.23   81.43   78.39   78.97   72.11   55.52   79.02 \n",
            "\n",
            " 31   77.93   92.78   69.31   61.53   70.65   76.98   73.42   84.09   63.37   67.99 \n",
            "\n",
            " 76   49.24   67.66   61.20   51.40   44.91   68.52   78.97   52.58   53.75   54.37 \n",
            "\n",
            " 33   59.19   70.38   48.61   81.46   64.85   65.33   58.19   61.38   57.04   59.64 \n",
            "\n",
            " 98   75.13  106.12   85.74   85.39   67.69   78.10   85.18   81.00   87.66   86.53 \n",
            "\n",
            "109   63.76   53.37   71.00   77.82   62.04   56.34   68.85   55.82   68.09   72.11 \n",
            "\n",
            "108   15.59   33.19   35.27   30.91   56.01   32.58   46.42   42.83   43.28   49.38 \n",
            "\n",
            " 52   46.17   81.32   75.50   65.69   56.53   56.32   49.76   56.47   65.88   61.13 \n",
            "\n",
            " 92   77.28   76.30   73.31   96.06   89.29   87.50   65.51   85.01   83.02   70.12 \n",
            "\n",
            " 58   60.22   51.25   29.72   47.60   61.08   58.56   40.75   54.98   52.92   44.26 \n",
            "\n",
            " 94   48.79   61.22   60.92   60.84   53.31   53.76   52.21   65.25   18.22   66.65 \n",
            "\n",
            " 66   71.92   80.80   67.86   61.05   58.18   66.40   77.43   74.97   69.20   80.85 \n",
            "\n",
            "104   78.79   89.46   70.65   58.27   68.58   89.97   66.60   65.80   70.80   75.61 \n",
            "\n"
          ],
          "name": "stdout"
        }
      ]
    },
    {
      "cell_type": "code",
      "metadata": {
        "id": "uk9SCQA31Ioz",
        "colab_type": "code",
        "colab": {
          "base_uri": "https://localhost:8080/",
          "height": 51
        },
        "outputId": "beb67d59-16c6-470a-bc11-8b40c1f7d1ad"
      },
      "source": [
        "hours == 2"
      ],
      "execution_count": 277,
      "outputs": [
        {
          "output_type": "execute_result",
          "data": {
            "text/plain": [
              "array([False,  True, False, False, False, False, False, False, False,\n",
              "       False])"
            ]
          },
          "metadata": {
            "tags": []
          },
          "execution_count": 277
        }
      ]
    },
    {
      "cell_type": "code",
      "metadata": {
        "id": "JDcdiw36zG16",
        "colab_type": "code",
        "colab": {
          "base_uri": "https://localhost:8080/",
          "height": 102
        },
        "outputId": "e6ac880f-faa6-4964-8899-1274c2701526"
      },
      "source": [
        "tt.T[hours == 2]"
      ],
      "execution_count": 278,
      "outputs": [
        {
          "output_type": "execute_result",
          "data": {
            "text/plain": [
              "array([[ 72.99278771,  60.00463334,  45.55742203,  55.8021912 ,\n",
              "         79.25914025,  71.12444623, 102.23174241,  80.97147937,\n",
              "         92.77956675,  67.65617269,  70.37804103, 106.12441583,\n",
              "         53.37348145,  33.19279169,  81.31977757,  76.29909699,\n",
              "         51.24633613,  61.22026506,  80.80014634,  89.45851705]])"
            ]
          },
          "metadata": {
            "tags": []
          },
          "execution_count": 278
        }
      ]
    },
    {
      "cell_type": "code",
      "metadata": {
        "id": "aCIzlE71z7e7",
        "colab_type": "code",
        "colab": {
          "base_uri": "https://localhost:8080/",
          "height": 34
        },
        "outputId": "87bdbb3a-73d1-47f1-d4e7-2ddf65df6113"
      },
      "source": [
        "tt.shape"
      ],
      "execution_count": 279,
      "outputs": [
        {
          "output_type": "execute_result",
          "data": {
            "text/plain": [
              "(20, 10)"
            ]
          },
          "metadata": {
            "tags": []
          },
          "execution_count": 279
        }
      ]
    },
    {
      "cell_type": "code",
      "metadata": {
        "id": "jYbSTaQP06VE",
        "colab_type": "code",
        "colab": {
          "base_uri": "https://localhost:8080/",
          "height": 34
        },
        "outputId": "999b63bf-5dff-47f1-fb35-dd3d29ccdc87"
      },
      "source": [
        "tt.T.shape"
      ],
      "execution_count": 280,
      "outputs": [
        {
          "output_type": "execute_result",
          "data": {
            "text/plain": [
              "(10, 20)"
            ]
          },
          "metadata": {
            "tags": []
          },
          "execution_count": 280
        }
      ]
    },
    {
      "cell_type": "code",
      "metadata": {
        "id": "xFP8EPe41Bb5",
        "colab_type": "code",
        "colab": {
          "base_uri": "https://localhost:8080/",
          "height": 34
        },
        "outputId": "479e9910-9795-4252-a1be-f1c7f46b4633"
      },
      "source": [
        "tt[busses == 77].mean()"
      ],
      "execution_count": 281,
      "outputs": [
        {
          "output_type": "execute_result",
          "data": {
            "text/plain": [
              "87.07284963898903"
            ]
          },
          "metadata": {
            "tags": []
          },
          "execution_count": 281
        }
      ]
    },
    {
      "cell_type": "code",
      "metadata": {
        "id": "zAKHzcQj1UvI",
        "colab_type": "code",
        "colab": {
          "base_uri": "https://localhost:8080/",
          "height": 68
        },
        "outputId": "1e83057d-9968-4171-e416-e3e5e309d45f"
      },
      "source": [
        "tt[busses == 77]"
      ],
      "execution_count": 282,
      "outputs": [
        {
          "output_type": "execute_result",
          "data": {
            "text/plain": [
              "array([[ 91.82869011,  72.99278771,  96.74459251,  73.41298391,\n",
              "         85.58215726, 101.38226456,  96.97680737,  95.56072596,\n",
              "         77.87195303,  78.37553397]])"
            ]
          },
          "metadata": {
            "tags": []
          },
          "execution_count": 282
        }
      ]
    },
    {
      "cell_type": "code",
      "metadata": {
        "id": "VW0BlCew1c0k",
        "colab_type": "code",
        "colab": {
          "base_uri": "https://localhost:8080/",
          "height": 34
        },
        "outputId": "b3f71779-2f89-4fe0-a979-c4106a3255b3"
      },
      "source": [
        "tt.T[hours==2].mean()"
      ],
      "execution_count": 284,
      "outputs": [
        {
          "output_type": "execute_result",
          "data": {
            "text/plain": [
              "71.58962255653003"
            ]
          },
          "metadata": {
            "tags": []
          },
          "execution_count": 284
        }
      ]
    },
    {
      "cell_type": "code",
      "metadata": {
        "id": "dhGldjSf1hGs",
        "colab_type": "code",
        "colab": {
          "base_uri": "https://localhost:8080/",
          "height": 102
        },
        "outputId": "da151a24-fcbf-4fbe-9de9-38f74cac26d6"
      },
      "source": [
        "tt.mean(axis=1)"
      ],
      "execution_count": 285,
      "outputs": [
        {
          "output_type": "execute_result",
          "data": {
            "text/plain": [
              "array([ 87.07284964,  54.32223729,  54.38554215,  71.21568138,\n",
              "        89.64702147,  71.33018484, 101.28441894,  76.05122622,\n",
              "        73.80479543,  58.25958501,  62.60818564,  83.85318143,\n",
              "        64.91983233,  38.54594242,  61.47842137,  80.33921739,\n",
              "        50.13357402,  54.11684661,  70.86680243,  73.45362679])"
            ]
          },
          "metadata": {
            "tags": []
          },
          "execution_count": 285
        }
      ]
    },
    {
      "cell_type": "code",
      "metadata": {
        "id": "P3jffRNh1rTX",
        "colab_type": "code",
        "colab": {
          "base_uri": "https://localhost:8080/",
          "height": 51
        },
        "outputId": "d3ffed29-7d55-469c-de4e-7041307fae64"
      },
      "source": [
        "tt.mean(axis=0)"
      ],
      "execution_count": 286,
      "outputs": [
        {
          "output_type": "execute_result",
          "data": {
            "text/plain": [
              "array([66.89079118, 71.58962256, 69.06093555, 68.20293716, 68.35553274,\n",
              "       69.88235848, 69.07994486, 69.5488946 , 65.98370986, 70.24985942])"
            ]
          },
          "metadata": {
            "tags": []
          },
          "execution_count": 286
        }
      ]
    },
    {
      "cell_type": "code",
      "metadata": {
        "id": "E2Tbla2Q10Dx",
        "colab_type": "code",
        "colab": {
          "base_uri": "https://localhost:8080/",
          "height": 34
        },
        "outputId": "aed45d0c-42eb-4436-bcb1-7dc3f1e0945f"
      },
      "source": [
        "tt.mean(axis=0).max()"
      ],
      "execution_count": 287,
      "outputs": [
        {
          "output_type": "execute_result",
          "data": {
            "text/plain": [
              "71.58962255653003"
            ]
          },
          "metadata": {
            "tags": []
          },
          "execution_count": 287
        }
      ]
    },
    {
      "cell_type": "code",
      "metadata": {
        "id": "MYqmgPu81-uM",
        "colab_type": "code",
        "colab": {
          "base_uri": "https://localhost:8080/",
          "height": 34
        },
        "outputId": "4ed7a248-981c-4c98-962a-b35e02c67f57"
      },
      "source": [
        "hours[tt.mean(axis=0) == tt.mean(axis=0).max()]"
      ],
      "execution_count": 288,
      "outputs": [
        {
          "output_type": "execute_result",
          "data": {
            "text/plain": [
              "array([2])"
            ]
          },
          "metadata": {
            "tags": []
          },
          "execution_count": 288
        }
      ]
    },
    {
      "cell_type": "code",
      "metadata": {
        "id": "EYo3dZz42JwS",
        "colab_type": "code",
        "colab": {
          "base_uri": "https://localhost:8080/",
          "height": 1000
        },
        "outputId": "3cfaefa1-9af7-4b31-b004-cf9f3c1a3230"
      },
      "source": [
        "tt"
      ],
      "execution_count": 289,
      "outputs": [
        {
          "output_type": "execute_result",
          "data": {
            "text/plain": [
              "array([[ 91.82869011,  72.99278771,  96.74459251,  73.41298391,\n",
              "         85.58215726, 101.38226456,  96.97680737,  95.56072596,\n",
              "         77.87195303,  78.37553397],\n",
              "       [ 61.03022409,  60.00463334,  67.86228679,  41.10873249,\n",
              "         53.37659575,  36.91790247,  53.62835897,  55.73660035,\n",
              "         58.56814116,  54.98889748],\n",
              "       [ 60.98477297,  45.55742203,  45.88400007,  66.16346096,\n",
              "         60.03163411,  50.85322708,  45.37677315,  53.8142472 ,\n",
              "         54.54569551,  60.64418839],\n",
              "       [ 87.98620643,  55.8021912 ,  81.02751282,  66.19019631,\n",
              "         53.30000683,  67.55780543,  74.38103569,  71.13924744,\n",
              "         87.67477883,  67.09783283],\n",
              "       [ 73.8097995 ,  79.25914025,  86.31085813,  99.77766307,\n",
              "         90.29078454,  84.37561182,  95.84112464,  84.50840611,\n",
              "         97.12166748, 105.17515918],\n",
              "       [ 77.14467806,  71.12444623,  52.12373301,  73.45946947,\n",
              "         91.36942688,  72.86854378,  68.71403738,  72.43112835,\n",
              "         61.79702835,  72.26935691],\n",
              "       [ 86.30704523, 102.23174241, 113.01884237,  95.69827044,\n",
              "         98.59959209, 114.93276158, 104.41133895, 105.50238628,\n",
              "         93.35943062,  98.78277939],\n",
              "       [ 74.71226929,  80.97147937,  89.16214966,  70.2307603 ,\n",
              "         81.4312056 ,  78.3874604 ,  78.96898309,  72.10555491,\n",
              "         55.51923827,  79.02316128],\n",
              "       [ 77.92696605,  92.77956675,  69.3108149 ,  61.53129422,\n",
              "         70.65140894,  76.97932739,  73.41862304,  84.09255185,\n",
              "         63.36670996,  67.99069123],\n",
              "       [ 49.24024409,  67.65617269,  61.19613048,  51.40181978,\n",
              "         44.90729398,  68.52445254,  78.97249561,  52.57678652,\n",
              "         53.74647403,  54.37398039],\n",
              "       [ 59.18999377,  70.37804103,  48.60766952,  81.46181456,\n",
              "         64.85214737,  65.33415395,  58.19399315,  61.38295111,\n",
              "         57.04243639,  59.63865558],\n",
              "       [ 75.12543348, 106.12441583,  85.73822318,  85.38739475,\n",
              "         67.688885  ,  78.10374313,  85.17605977,  80.99901671,\n",
              "         87.65882487,  86.52981761],\n",
              "       [ 63.75814098,  53.37348145,  70.99872588,  77.81639011,\n",
              "         62.0375387 ,  56.34111999,  68.85249945,  55.82441791,\n",
              "         68.08625797,  72.10975084],\n",
              "       [ 15.59478274,  33.19279169,  35.26912395,  30.90715331,\n",
              "         56.00936929,  32.58024267,  46.41792735,  42.82946792,\n",
              "         43.28099373,  49.37757159],\n",
              "       [ 46.16732427,  81.31977757,  75.50469581,  65.69300662,\n",
              "         56.53048576,  56.31828323,  49.76376656,  56.47451759,\n",
              "         65.87847643,  61.13387985],\n",
              "       [ 77.280952  ,  76.29909699,  73.30769388,  96.05834373,\n",
              "         89.29221424,  87.4965901 ,  65.51103779,  85.00879678,\n",
              "         83.01854661,  70.11890182],\n",
              "       [ 60.22412814,  51.24633613,  29.71850033,  47.59939621,\n",
              "         61.07689437,  58.55899776,  40.75295312,  54.98036344,\n",
              "         52.91969315,  44.25847756],\n",
              "       [ 48.79074854,  61.22026506,  60.92437628,  60.83824996,\n",
              "         53.31451393,  53.76179385,  52.20652832,  65.24639906,\n",
              "         18.21655529,  66.6490358 ],\n",
              "       [ 71.92154159,  80.80014634,  67.85942205,  61.04740331,\n",
              "         58.18359773,  66.40353147,  77.43164409,  74.96692462,\n",
              "         69.20014753,  80.85366556],\n",
              "       [ 78.79188234,  89.45851705,  70.64935937,  58.27493978,\n",
              "         68.58490247,  89.96935633,  66.60290963,  65.79740182,\n",
              "         70.80114802,  75.60585109]])"
            ]
          },
          "metadata": {
            "tags": []
          },
          "execution_count": 289
        }
      ]
    },
    {
      "cell_type": "code",
      "metadata": {
        "id": "M3KYqxyb26ZP",
        "colab_type": "code",
        "colab": {
          "base_uri": "https://localhost:8080/",
          "height": 34
        },
        "outputId": "53652c3e-80ae-47a9-a395-ca087e63495f"
      },
      "source": [
        "tt.shape"
      ],
      "execution_count": 290,
      "outputs": [
        {
          "output_type": "execute_result",
          "data": {
            "text/plain": [
              "(20, 10)"
            ]
          },
          "metadata": {
            "tags": []
          },
          "execution_count": 290
        }
      ]
    },
    {
      "cell_type": "code",
      "metadata": {
        "id": "bVRzqlUH2Ze7",
        "colab_type": "code",
        "colab": {
          "base_uri": "https://localhost:8080/",
          "height": 51
        },
        "outputId": "f9e38f86-5056-4cfb-a7c1-0e72526a6b34"
      },
      "source": [
        "for i in range(tt.shape[0]):\n",
        "  if ((tt[i,:] == tt.max()).sum()):\n",
        "    print(\"bus that takes the longest is: \", busses[i])\n",
        "for j in range(tt.shape[1]):\n",
        "  if ((tt[:,j] == tt.max()).sum()):\n",
        "    print(\"the slowest time for this bus is: \", hours[j])\n"
      ],
      "execution_count": 291,
      "outputs": [
        {
          "output_type": "stream",
          "text": [
            "bus that takes the longest is:  86\n",
            "the slowest time for this bus is:  6\n"
          ],
          "name": "stdout"
        }
      ]
    },
    {
      "cell_type": "code",
      "metadata": {
        "id": "G1-J37oe2jLR",
        "colab_type": "code",
        "colab": {
          "base_uri": "https://localhost:8080/",
          "height": 34
        },
        "outputId": "20408964-bfb4-4b96-97a5-935a648a7041"
      },
      "source": [
        "np.where(tt == tt.max())"
      ],
      "execution_count": 292,
      "outputs": [
        {
          "output_type": "execute_result",
          "data": {
            "text/plain": [
              "(array([6]), array([5]))"
            ]
          },
          "metadata": {
            "tags": []
          },
          "execution_count": 292
        }
      ]
    },
    {
      "cell_type": "code",
      "metadata": {
        "id": "TJjPEtej3sQy",
        "colab_type": "code",
        "colab": {
          "base_uri": "https://localhost:8080/",
          "height": 34
        },
        "outputId": "140c2731-8075-44fa-ecdf-d2a75a36a9e8"
      },
      "source": [
        "tt[np.where(tt == tt.max())]"
      ],
      "execution_count": 293,
      "outputs": [
        {
          "output_type": "execute_result",
          "data": {
            "text/plain": [
              "array([114.93276158])"
            ]
          },
          "metadata": {
            "tags": []
          },
          "execution_count": 293
        }
      ]
    },
    {
      "cell_type": "code",
      "metadata": {
        "id": "DLe0ikB13xY7",
        "colab_type": "code",
        "colab": {
          "base_uri": "https://localhost:8080/",
          "height": 34
        },
        "outputId": "88ae63e5-8cad-408c-f80a-847e7a37b411"
      },
      "source": [
        "busses[np.where(tt == tt.max())[0]]"
      ],
      "execution_count": 294,
      "outputs": [
        {
          "output_type": "execute_result",
          "data": {
            "text/plain": [
              "array([86])"
            ]
          },
          "metadata": {
            "tags": []
          },
          "execution_count": 294
        }
      ]
    },
    {
      "cell_type": "code",
      "metadata": {
        "id": "pgxuIBYW34Ur",
        "colab_type": "code",
        "colab": {
          "base_uri": "https://localhost:8080/",
          "height": 34
        },
        "outputId": "402f2326-b60a-4ffa-ad26-9baca2e94348"
      },
      "source": [
        "hours[np.where(tt == tt.max())[1]]"
      ],
      "execution_count": 295,
      "outputs": [
        {
          "output_type": "execute_result",
          "data": {
            "text/plain": [
              "array([6])"
            ]
          },
          "metadata": {
            "tags": []
          },
          "execution_count": 295
        }
      ]
    },
    {
      "cell_type": "code",
      "metadata": {
        "id": "Ff3rWCSu39tY",
        "colab_type": "code",
        "colab": {}
      },
      "source": [
        ""
      ],
      "execution_count": null,
      "outputs": []
    }
  ]
}
