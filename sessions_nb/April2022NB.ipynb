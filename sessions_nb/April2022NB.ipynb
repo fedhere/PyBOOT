{
  "cells": [
    {
      "cell_type": "markdown",
      "metadata": {
        "id": "view-in-github",
        "colab_type": "text"
      },
      "source": [
        "<a href=\"https://colab.research.google.com/github/fedhere/PyBOOT/blob/master/sessions_nb/April2022NB.ipynb\" target=\"_parent\"><img src=\"https://colab.research.google.com/assets/colab-badge.svg\" alt=\"Open In Colab\"/></a>"
      ]
    },
    {
      "cell_type": "markdown",
      "metadata": {
        "id": "BBLLrdm-DiRx"
      },
      "source": [
        "# This is the raw version  of the notebook written together in class\n",
        "\n",
        "#Vero Petit kindly annotated is as we were going along so this vertion https://colab.research.google.com/drive/1TiE5ygRS5q-QYqjR4rfuQxnjbtnlPaia?usp=sharing it much better!"
      ]
    },
    {
      "cell_type": "code",
      "execution_count": null,
      "metadata": {
        "colab": {
          "base_uri": "https://localhost:8080/"
        },
        "id": "DerH5XOrdU1P",
        "outputId": "f48ca8ad-f045-4ed3-9fd2-ee98195d3a9b"
      },
      "outputs": [
        {
          "name": "stdout",
          "output_type": "stream",
          "text": [
            "Hello World\n"
          ]
        }
      ],
      "source": [
        "print (\"Hello World\")"
      ]
    },
    {
      "cell_type": "code",
      "execution_count": null,
      "metadata": {
        "id": "_JP0-r7Ae0Iq"
      },
      "outputs": [],
      "source": [
        "stringVar = \"Hello\""
      ]
    },
    {
      "cell_type": "code",
      "execution_count": null,
      "metadata": {
        "colab": {
          "base_uri": "https://localhost:8080/"
        },
        "id": "a2jHG_3qfqXP",
        "outputId": "a22b6123-ba3e-4d1f-f1ff-5a798e9ca5ce"
      },
      "outputs": [
        {
          "data": {
            "text/plain": [
              "str"
            ]
          },
          "execution_count": 3,
          "metadata": {},
          "output_type": "execute_result"
        }
      ],
      "source": [
        "type(stringVar)"
      ]
    },
    {
      "cell_type": "code",
      "execution_count": null,
      "metadata": {
        "id": "yR3vI7w0f8un"
      },
      "outputs": [],
      "source": [
        "intVar = 3"
      ]
    },
    {
      "cell_type": "code",
      "execution_count": null,
      "metadata": {
        "colab": {
          "base_uri": "https://localhost:8080/"
        },
        "id": "5gHMgW0fgBX9",
        "outputId": "0618078b-c735-426a-a4c3-fa8a1ce651e5"
      },
      "outputs": [
        {
          "data": {
            "text/plain": [
              "int"
            ]
          },
          "execution_count": 5,
          "metadata": {},
          "output_type": "execute_result"
        }
      ],
      "source": [
        "type(intVar)"
      ]
    },
    {
      "cell_type": "code",
      "execution_count": null,
      "metadata": {
        "id": "k-EWSu3jgDuW"
      },
      "outputs": [],
      "source": [
        "floatVar = 3."
      ]
    },
    {
      "cell_type": "code",
      "execution_count": null,
      "metadata": {
        "colab": {
          "base_uri": "https://localhost:8080/"
        },
        "id": "xeCSgngygJfg",
        "outputId": "e89d90ed-9baf-4349-969a-4ec131cb346f"
      },
      "outputs": [
        {
          "data": {
            "text/plain": [
              "float"
            ]
          },
          "execution_count": 7,
          "metadata": {},
          "output_type": "execute_result"
        }
      ],
      "source": [
        "type(floatVar)"
      ]
    },
    {
      "cell_type": "code",
      "execution_count": null,
      "metadata": {
        "id": "eMMgFrtagLgz"
      },
      "outputs": [],
      "source": [
        "intVar2 = 5"
      ]
    },
    {
      "cell_type": "code",
      "execution_count": null,
      "metadata": {
        "colab": {
          "base_uri": "https://localhost:8080/"
        },
        "id": "xK0LKz_UgSav",
        "outputId": "17ee228f-e6bb-4584-ae13-f181df18405a"
      },
      "outputs": [
        {
          "data": {
            "text/plain": [
              "9.0"
            ]
          },
          "execution_count": 9,
          "metadata": {},
          "output_type": "execute_result"
        }
      ],
      "source": [
        "intVar * floatVar"
      ]
    },
    {
      "cell_type": "code",
      "execution_count": null,
      "metadata": {
        "colab": {
          "base_uri": "https://localhost:8080/",
          "height": 35
        },
        "id": "ubiIoThagUFq",
        "outputId": "9897adb7-0a88-48f4-b51d-eb3bf5b63450"
      },
      "outputs": [
        {
          "data": {
            "application/vnd.google.colaboratory.intrinsic+json": {
              "type": "string"
            },
            "text/plain": [
              "'HelloHelloHello'"
            ]
          },
          "execution_count": 10,
          "metadata": {},
          "output_type": "execute_result"
        }
      ],
      "source": [
        "stringVar * intVar"
      ]
    },
    {
      "cell_type": "code",
      "execution_count": null,
      "metadata": {
        "colab": {
          "base_uri": "https://localhost:8080/",
          "height": 35
        },
        "id": "uId77yfNgrDT",
        "outputId": "80627714-0ac0-42a4-b636-340b07d9f01f"
      },
      "outputs": [
        {
          "data": {
            "application/vnd.google.colaboratory.intrinsic+json": {
              "type": "string"
            },
            "text/plain": [
              "'Hello'"
            ]
          },
          "execution_count": 11,
          "metadata": {},
          "output_type": "execute_result"
        }
      ],
      "source": [
        "stringVar"
      ]
    },
    {
      "cell_type": "code",
      "execution_count": null,
      "metadata": {
        "id": "ntpm3ZcchLPq"
      },
      "outputs": [],
      "source": [
        "stringVarLow = stringVar.lower()"
      ]
    },
    {
      "cell_type": "code",
      "execution_count": null,
      "metadata": {
        "colab": {
          "base_uri": "https://localhost:8080/"
        },
        "id": "vZ2FiKMDhvUr",
        "outputId": "ea32a3e5-5a1c-4f13-95af-1fa63605784e"
      },
      "outputs": [
        {
          "data": {
            "text/plain": [
              "True"
            ]
          },
          "execution_count": 13,
          "metadata": {},
          "output_type": "execute_result"
        }
      ],
      "source": [
        "stringVar.lower() == stringVarLow.lower()"
      ]
    },
    {
      "cell_type": "code",
      "execution_count": null,
      "metadata": {
        "colab": {
          "base_uri": "https://localhost:8080/",
          "height": 240
        },
        "id": "qMLfQJ6Xh4zr",
        "outputId": "296a856c-35b3-40e3-db61-289c8a18bf5b"
      },
      "outputs": [
        {
          "ename": "ValueError",
          "evalue": "ignored",
          "output_type": "error",
          "traceback": [
            "\u001b[0;31m---------------------------------------------------------------------------\u001b[0m",
            "\u001b[0;31mValueError\u001b[0m                                Traceback (most recent call last)",
            "\u001b[0;32m<ipython-input-14-3b1396bf0459>\u001b[0m in \u001b[0;36m<module>\u001b[0;34m()\u001b[0m\n\u001b[1;32m      1\u001b[0m \u001b[0mstringVar\u001b[0m\u001b[0;34m.\u001b[0m\u001b[0mlower\u001b[0m\u001b[0;34m(\u001b[0m\u001b[0;34m)\u001b[0m \u001b[0;34m==\u001b[0m \u001b[0mstringVarLow\u001b[0m\u001b[0;34m.\u001b[0m\u001b[0mlower\u001b[0m\u001b[0;34m(\u001b[0m\u001b[0;34m)\u001b[0m\u001b[0;34m\u001b[0m\u001b[0;34m\u001b[0m\u001b[0m\n\u001b[0;32m----> 2\u001b[0;31m \u001b[0mint\u001b[0m\u001b[0;34m(\u001b[0m\u001b[0;36m3\u001b[0m \u001b[0;34m*\u001b[0m \u001b[0mstringVar\u001b[0m\u001b[0;34m)\u001b[0m\u001b[0;34m\u001b[0m\u001b[0;34m\u001b[0m\u001b[0m\n\u001b[0m\u001b[1;32m      3\u001b[0m \u001b[0mstringVarLow\u001b[0m \u001b[0;34m=\u001b[0m \u001b[0mstringVar\u001b[0m\u001b[0;34m.\u001b[0m\u001b[0mlower\u001b[0m\u001b[0;34m(\u001b[0m\u001b[0;34m)\u001b[0m\u001b[0;34m\u001b[0m\u001b[0;34m\u001b[0m\u001b[0m\n",
            "\u001b[0;31mValueError\u001b[0m: invalid literal for int() with base 10: 'HelloHelloHello'"
          ]
        }
      ],
      "source": [
        "stringVar.lower() == stringVarLow.lower()\n",
        "int(3 * stringVar)\n",
        "stringVarLow = stringVar.lower()"
      ]
    },
    {
      "cell_type": "code",
      "execution_count": null,
      "metadata": {
        "colab": {
          "base_uri": "https://localhost:8080/",
          "height": 35
        },
        "id": "DNkla01Nih0k",
        "outputId": "89ef596d-ecd9-485f-8c47-d088c8f8680a"
      },
      "outputs": [
        {
          "data": {
            "application/vnd.google.colaboratory.intrinsic+json": {
              "type": "string"
            },
            "text/plain": [
              "'Hel'"
            ]
          },
          "execution_count": 15,
          "metadata": {},
          "output_type": "execute_result"
        }
      ],
      "source": [
        "stringVar[0:3]"
      ]
    },
    {
      "cell_type": "code",
      "execution_count": null,
      "metadata": {
        "colab": {
          "base_uri": "https://localhost:8080/"
        },
        "id": "ldCiQSzkkPPj",
        "outputId": "a9df93d9-b820-4fe6-b076-03d3a67937ea"
      },
      "outputs": [
        {
          "data": {
            "text/plain": [
              "False"
            ]
          },
          "execution_count": 16,
          "metadata": {},
          "output_type": "execute_result"
        }
      ],
      "source": [
        "(stringVar[2] == 'H') "
      ]
    },
    {
      "cell_type": "code",
      "execution_count": null,
      "metadata": {
        "colab": {
          "base_uri": "https://localhost:8080/"
        },
        "id": "6XHV8uCQlzma",
        "outputId": "150449fa-93c4-4f66-b2d9-7e61ce01366b"
      },
      "outputs": [
        {
          "data": {
            "text/plain": [
              "True"
            ]
          },
          "execution_count": 17,
          "metadata": {},
          "output_type": "execute_result"
        }
      ],
      "source": [
        "\"H\" in stringVar"
      ]
    },
    {
      "cell_type": "code",
      "execution_count": null,
      "metadata": {
        "colab": {
          "base_uri": "https://localhost:8080/"
        },
        "id": "SZSSHYgMmLSE",
        "outputId": "6fe06fa3-dd36-4ca3-f85b-5836254aac8c"
      },
      "outputs": [
        {
          "name": "stdout",
          "output_type": "stream",
          "text": [
            "Good start\n"
          ]
        }
      ],
      "source": [
        "if (stringVar[0] == 'H'): \n",
        "  # we are here\n",
        "  if (stringVar[1:]) == \"elo\":\n",
        "    print (\"that is the word\")\n",
        "    print (\"Excellent Job\")\n",
        "  else:\n",
        "    print (\"Good start\")\n",
        "else:\n",
        "  print (\"nope not the word\")"
      ]
    },
    {
      "cell_type": "code",
      "execution_count": null,
      "metadata": {
        "id": "0phrjx-HmjRl"
      },
      "outputs": [],
      "source": [
        "WORD = \"STAIR\"\n",
        "\n",
        "#make code block into a function\n",
        "def pywordle(guess, word=WORD):\n",
        "  result = list(\".....\")\n",
        "  #result = ['.'] * 5\n",
        "\n",
        "  # deal with wrong length firts\n",
        "  if not (len(WORD) == len(guess)):\n",
        "    print (\"wrong length\")\n",
        "  else:\n",
        "    guess = guess.upper()\n",
        "    print (\"correct length\")\n",
        "    #check if this is the right guess\n",
        "\n",
        "    if WORD == guess:\n",
        "      print (\"You did it!\")\n",
        "    else: \n",
        "      for i in range(len(WORD)):\n",
        "        if WORD[i] == guess[i] :\n",
        "          result[i] = WORD[i]\n",
        "        elif guess[i] in WORD:\n",
        "          result[i] = \"!\"\n",
        "    print(list(guess))\n",
        "    print (result)\n",
        "  "
      ]
    },
    {
      "cell_type": "code",
      "execution_count": null,
      "metadata": {
        "colab": {
          "base_uri": "https://localhost:8080/"
        },
        "id": "lsgIU6El4rXo",
        "outputId": "db935bf2-3ca4-4105-cd62-080f2850a38b"
      },
      "outputs": [
        {
          "name": "stdout",
          "output_type": "stream",
          "text": [
            "correct length\n",
            "['R', 'A', 'T', 'E', 'S']\n",
            "['!', '!', '!', '.', '!']\n"
          ]
        }
      ],
      "source": [
        "pywordle(\"rates\")"
      ]
    },
    {
      "cell_type": "markdown",
      "metadata": {
        "id": "iHSP9zez3vKx"
      },
      "source": [
        "##### NON NATIVE VARIABLE"
      ]
    },
    {
      "cell_type": "code",
      "execution_count": null,
      "metadata": {
        "id": "nWGIfmL85X3-"
      },
      "outputs": [],
      "source": [
        "import numpy as np"
      ]
    },
    {
      "cell_type": "code",
      "execution_count": null,
      "metadata": {
        "id": "AYgw8eDE5uFD"
      },
      "outputs": [],
      "source": [
        "arVar = np.array([1,2,3,4,5.])"
      ]
    },
    {
      "cell_type": "code",
      "execution_count": null,
      "metadata": {
        "colab": {
          "base_uri": "https://localhost:8080/"
        },
        "id": "Ci5jFHIF6Snb",
        "outputId": "37a78828-bb92-4ce7-dd87-976d4bbbbb07"
      },
      "outputs": [
        {
          "data": {
            "text/plain": [
              "3.0"
            ]
          },
          "execution_count": 23,
          "metadata": {},
          "output_type": "execute_result"
        }
      ],
      "source": [
        "np.mean(arVar)"
      ]
    },
    {
      "cell_type": "code",
      "execution_count": null,
      "metadata": {
        "colab": {
          "base_uri": "https://localhost:8080/",
          "height": 204
        },
        "id": "fAMkWt_r65-E",
        "outputId": "a6269155-37fe-4169-f581-d144f90df362"
      },
      "outputs": [
        {
          "ename": "NameError",
          "evalue": "ignored",
          "output_type": "error",
          "traceback": [
            "\u001b[0;31m---------------------------------------------------------------------------\u001b[0m",
            "\u001b[0;31mNameError\u001b[0m                                 Traceback (most recent call last)",
            "\u001b[0;32m<ipython-input-24-d518333d1677>\u001b[0m in \u001b[0;36m<module>\u001b[0;34m()\u001b[0m\n\u001b[0;32m----> 1\u001b[0;31m \u001b[0mresult\u001b[0m \u001b[0;34m*\u001b[0m \u001b[0;36m2\u001b[0m\u001b[0;34m\u001b[0m\u001b[0;34m\u001b[0m\u001b[0m\n\u001b[0m",
            "\u001b[0;31mNameError\u001b[0m: name 'result' is not defined"
          ]
        }
      ],
      "source": [
        "result * 2"
      ]
    },
    {
      "cell_type": "code",
      "execution_count": null,
      "metadata": {
        "colab": {
          "base_uri": "https://localhost:8080/"
        },
        "id": "jHS1lPSk6T44",
        "outputId": "e3c17168-bebd-4f55-a176-0c1ed5eb8fb0"
      },
      "outputs": [
        {
          "data": {
            "text/plain": [
              "array([1., 2., 3., 4., 5.])"
            ]
          },
          "execution_count": 25,
          "metadata": {},
          "output_type": "execute_result"
        }
      ],
      "source": [
        "arVar\n"
      ]
    },
    {
      "cell_type": "code",
      "execution_count": null,
      "metadata": {
        "id": "dEdi5tCR7AYb"
      },
      "outputs": [],
      "source": [
        "arVar2 = arVar * 2"
      ]
    },
    {
      "cell_type": "code",
      "execution_count": null,
      "metadata": {
        "colab": {
          "base_uri": "https://localhost:8080/"
        },
        "id": "RZf87xrS7DiT",
        "outputId": "2fbf7f9e-2459-446c-85fd-b35acbfd4ec0"
      },
      "outputs": [
        {
          "data": {
            "text/plain": [
              "array([ 2.,  4.,  6.,  8., 10.])"
            ]
          },
          "execution_count": 27,
          "metadata": {},
          "output_type": "execute_result"
        }
      ],
      "source": [
        "arVar2"
      ]
    },
    {
      "cell_type": "code",
      "execution_count": null,
      "metadata": {
        "colab": {
          "base_uri": "https://localhost:8080/"
        },
        "id": "hJe-iiWb7E4M",
        "outputId": "229cf3ae-b2e9-4ae3-d7a9-73229bad6757"
      },
      "outputs": [
        {
          "data": {
            "text/plain": [
              "array([ 3.,  6.,  9., 12., 15.])"
            ]
          },
          "execution_count": 28,
          "metadata": {},
          "output_type": "execute_result"
        }
      ],
      "source": [
        "arVar + arVar2"
      ]
    },
    {
      "cell_type": "code",
      "execution_count": null,
      "metadata": {
        "colab": {
          "base_uri": "https://localhost:8080/",
          "height": 222
        },
        "id": "ouU5wh6F7OXl",
        "outputId": "8e9efa1c-4c2b-4c1c-b947-eeab0c6ffe68"
      },
      "outputs": [
        {
          "ename": "ValueError",
          "evalue": "ignored",
          "output_type": "error",
          "traceback": [
            "\u001b[0;31m---------------------------------------------------------------------------\u001b[0m",
            "\u001b[0;31mValueError\u001b[0m                                Traceback (most recent call last)",
            "\u001b[0;32m<ipython-input-29-b5eb3979f299>\u001b[0m in \u001b[0;36m<module>\u001b[0;34m()\u001b[0m\n\u001b[1;32m      1\u001b[0m \u001b[0marVar3\u001b[0m \u001b[0;34m=\u001b[0m \u001b[0mnp\u001b[0m\u001b[0;34m.\u001b[0m\u001b[0marray\u001b[0m\u001b[0;34m(\u001b[0m\u001b[0;34m[\u001b[0m\u001b[0;36m1\u001b[0m\u001b[0;34m,\u001b[0m\u001b[0;36m2\u001b[0m\u001b[0;34m,\u001b[0m\u001b[0;36m3\u001b[0m\u001b[0;34m]\u001b[0m\u001b[0;34m)\u001b[0m\u001b[0;34m\u001b[0m\u001b[0;34m\u001b[0m\u001b[0m\n\u001b[0;32m----> 2\u001b[0;31m \u001b[0marVar3\u001b[0m \u001b[0;34m+\u001b[0m \u001b[0marVar\u001b[0m\u001b[0;34m\u001b[0m\u001b[0;34m\u001b[0m\u001b[0m\n\u001b[0m",
            "\u001b[0;31mValueError\u001b[0m: operands could not be broadcast together with shapes (3,) (5,) "
          ]
        }
      ],
      "source": [
        "arVar3 = np.array([1,2,3])\n",
        "arVar3 + arVar"
      ]
    },
    {
      "cell_type": "code",
      "execution_count": null,
      "metadata": {
        "id": "L6adxNVz8FQZ"
      },
      "outputs": [],
      "source": [
        "arVar5 = np.arange(10).reshape((5, 2))"
      ]
    },
    {
      "cell_type": "code",
      "execution_count": null,
      "metadata": {
        "colab": {
          "base_uri": "https://localhost:8080/"
        },
        "id": "Iox6JgOZ7et-",
        "outputId": "d4645da3-0363-4ca8-db85-49712a769fa9"
      },
      "outputs": [
        {
          "data": {
            "text/plain": [
              "array([0.5, 2.5, 4.5, 6.5, 8.5])"
            ]
          },
          "execution_count": 31,
          "metadata": {},
          "output_type": "execute_result"
        }
      ],
      "source": [
        "np.arange(10).reshape((5, 2)).mean(axis=1)"
      ]
    },
    {
      "cell_type": "code",
      "execution_count": null,
      "metadata": {
        "colab": {
          "base_uri": "https://localhost:8080/"
        },
        "id": "Fmq8L4IK7ieu",
        "outputId": "1d2b9f4d-c2cd-4dc2-cefb-e74a49607b34"
      },
      "outputs": [
        {
          "data": {
            "text/plain": [
              "(5, 2)"
            ]
          },
          "execution_count": 32,
          "metadata": {},
          "output_type": "execute_result"
        }
      ],
      "source": [
        "arVar5.shape"
      ]
    },
    {
      "cell_type": "code",
      "execution_count": null,
      "metadata": {
        "colab": {
          "base_uri": "https://localhost:8080/"
        },
        "id": "0pIl-4sH8XPJ",
        "outputId": "b275c2a7-fce2-4419-bdaf-17520366a4e8"
      },
      "outputs": [
        {
          "data": {
            "text/plain": [
              "array([[0, 1],\n",
              "       [2, 3]])"
            ]
          },
          "execution_count": 33,
          "metadata": {},
          "output_type": "execute_result"
        }
      ],
      "source": [
        "arVar5[:2]"
      ]
    },
    {
      "cell_type": "code",
      "execution_count": null,
      "metadata": {
        "colab": {
          "base_uri": "https://localhost:8080/"
        },
        "id": "g6sDMt8N8k2M",
        "outputId": "1debed43-06b7-47bc-90f3-e0408476b5b1"
      },
      "outputs": [
        {
          "data": {
            "text/plain": [
              "array([1, 3])"
            ]
          },
          "execution_count": 34,
          "metadata": {},
          "output_type": "execute_result"
        }
      ],
      "source": [
        "arVar5[:2, 1]"
      ]
    },
    {
      "cell_type": "markdown",
      "metadata": {
        "id": "6Dswnw0Y9KAF"
      },
      "source": [
        "# ONE MORE NON NATIVE DATA TYPE"
      ]
    },
    {
      "cell_type": "code",
      "execution_count": null,
      "metadata": {
        "id": "SbMV5fz88shd"
      },
      "outputs": [],
      "source": [
        "import pandas as pd"
      ]
    },
    {
      "cell_type": "code",
      "execution_count": null,
      "metadata": {
        "colab": {
          "base_uri": "https://localhost:8080/"
        },
        "id": "VDDXx-Sd9Wvt",
        "outputId": "f488a7ea-0e99-4177-ae15-e4a0771a3ee9"
      },
      "outputs": [
        {
          "name": "stderr",
          "output_type": "stream",
          "text": [
            "/usr/local/lib/python3.7/dist-packages/pandas/util/_decorators.py:311: ParserWarning: Falling back to the 'python' engine because the 'c' engine does not support regex separators (separators > 1 char and different from '\\s+' are interpreted as regex); you can avoid this warning by specifying engine='python'.\n",
            "  return func(*args, **kwargs)\n"
          ]
        }
      ],
      "source": [
        "movie = pd.read_csv(\"https://raw.githubusercontent.com/fedhere/PyBOOT/master/movies.dat\",\n",
        "          sep=\"::\", header=None, names=[\"id\", \"Movie Name\", \"genre\"])"
      ]
    },
    {
      "cell_type": "code",
      "execution_count": null,
      "metadata": {
        "colab": {
          "base_uri": "https://localhost:8080/",
          "height": 336
        },
        "id": "vuXlhciY-Pxj",
        "outputId": "ffcf1a4f-a3f4-4e8f-d116-892b6cda540b"
      },
      "outputs": [
        {
          "data": {
            "text/plain": [
              "array([[<matplotlib.axes._subplots.AxesSubplot object at 0x7f34f2faf5d0>]],\n",
              "      dtype=object)"
            ]
          },
          "execution_count": 37,
          "metadata": {},
          "output_type": "execute_result"
        },
        {
          "data": {
            "image/png": "[encoded data removed]",
            "text/plain": [
              "<Figure size 432x288 with 1 Axes>"
            ]
          },
          "metadata": {},
          "output_type": "display_data"
        }
      ],
      "source": [
        "movie.groupby(\"genre\").count()[[\"id\"]].hist()"
      ]
    },
    {
      "cell_type": "code",
      "execution_count": null,
      "metadata": {
        "colab": {
          "base_uri": "https://localhost:8080/",
          "height": 143
        },
        "id": "PERXt7rH_gyZ",
        "outputId": "c8c0561d-8fad-4b6d-84ec-801a43bd131c"
      },
      "outputs": [
        {
          "data": {
            "text/html": [
              "\n",
              "  <div id=\"df-764dc90e-5c0e-4835-8c06-6768253cbf2f\">\n",
              "    <div class=\"colab-df-container\">\n",
              "      <div>\n",
              "<style scoped>\n",
              "    .dataframe tbody tr th:only-of-type {\n",
              "        vertical-align: middle;\n",
              "    }\n",
              "\n",
              "    .dataframe tbody tr th {\n",
              "        vertical-align: top;\n",
              "    }\n",
              "\n",
              "    .dataframe thead th {\n",
              "        text-align: right;\n",
              "    }\n",
              "</style>\n",
              "<table border=\"1\" class=\"dataframe\">\n",
              "  <thead>\n",
              "    <tr style=\"text-align: right;\">\n",
              "      <th></th>\n",
              "      <th>id</th>\n",
              "      <th>Movie Name</th>\n",
              "    </tr>\n",
              "    <tr>\n",
              "      <th>genre</th>\n",
              "      <th></th>\n",
              "      <th></th>\n",
              "    </tr>\n",
              "  </thead>\n",
              "  <tbody>\n",
              "    <tr>\n",
              "      <th>Comedy</th>\n",
              "      <td>521</td>\n",
              "      <td>521</td>\n",
              "    </tr>\n",
              "    <tr>\n",
              "      <th>Drama</th>\n",
              "      <td>843</td>\n",
              "      <td>843</td>\n",
              "    </tr>\n",
              "  </tbody>\n",
              "</table>\n",
              "</div>\n",
              "      <button class=\"colab-df-convert\" onclick=\"convertToInteractive('df-764dc90e-5c0e-4835-8c06-6768253cbf2f')\"\n",
              "              title=\"Convert this dataframe to an interactive table.\"\n",
              "              style=\"display:none;\">\n",
              "        \n",
              "  <svg xmlns=\"http://www.w3.org/2000/svg\" height=\"24px\"viewBox=\"0 0 24 24\"\n",
              "       width=\"24px\">\n",
              "    <path d=\"M0 0h24v24H0V0z\" fill=\"none\"/>\n",
              "    <path d=\"M18.56 5.44l.94 2.06.94-2.06 2.06-.94-2.06-.94-.94-2.06-.94 2.06-2.06.94zm-11 1L8.5 8.5l.94-2.06 2.06-.94-2.06-.94L8.5 2.5l-.94 2.06-2.06.94zm10 10l.94 2.06.94-2.06 2.06-.94-2.06-.94-.94-2.06-.94 2.06-2.06.94z\"/><path d=\"M17.41 7.96l-1.37-1.37c-.4-.4-.92-.59-1.43-.59-.52 0-1.04.2-1.43.59L10.3 9.45l-7.72 7.72c-.78.78-.78 2.05 0 2.83L4 21.41c.39.39.9.59 1.41.59.51 0 1.02-.2 1.41-.59l7.78-7.78 2.81-2.81c.8-.78.8-2.07 0-2.86zM5.41 20L4 18.59l7.72-7.72 1.47 1.35L5.41 20z\"/>\n",
              "  </svg>\n",
              "      </button>\n",
              "      \n",
              "  <style>\n",
              "    .colab-df-container {\n",
              "      display:flex;\n",
              "      flex-wrap:wrap;\n",
              "      gap: 12px;\n",
              "    }\n",
              "\n",
              "    .colab-df-convert {\n",
              "      background-color: #E8F0FE;\n",
              "      border: none;\n",
              "      border-radius: 50%;\n",
              "      cursor: pointer;\n",
              "      display: none;\n",
              "      fill: #1967D2;\n",
              "      height: 32px;\n",
              "      padding: 0 0 0 0;\n",
              "      width: 32px;\n",
              "    }\n",
              "\n",
              "    .colab-df-convert:hover {\n",
              "      background-color: #E2EBFA;\n",
              "      box-shadow: 0px 1px 2px rgba(60, 64, 67, 0.3), 0px 1px 3px 1px rgba(60, 64, 67, 0.15);\n",
              "      fill: #174EA6;\n",
              "    }\n",
              "\n",
              "    [theme=dark] .colab-df-convert {\n",
              "      background-color: #3B4455;\n",
              "      fill: #D2E3FC;\n",
              "    }\n",
              "\n",
              "    [theme=dark] .colab-df-convert:hover {\n",
              "      background-color: #434B5C;\n",
              "      box-shadow: 0px 1px 3px 1px rgba(0, 0, 0, 0.15);\n",
              "      filter: drop-shadow(0px 1px 2px rgba(0, 0, 0, 0.3));\n",
              "      fill: #FFFFFF;\n",
              "    }\n",
              "  </style>\n",
              "\n",
              "      <script>\n",
              "        const buttonEl =\n",
              "          document.querySelector('#df-764dc90e-5c0e-4835-8c06-6768253cbf2f button.colab-df-convert');\n",
              "        buttonEl.style.display =\n",
              "          google.colab.kernel.accessAllowed ? 'block' : 'none';\n",
              "\n",
              "        async function convertToInteractive(key) {\n",
              "          const element = document.querySelector('#df-764dc90e-5c0e-4835-8c06-6768253cbf2f');\n",
              "          const dataTable =\n",
              "            await google.colab.kernel.invokeFunction('convertToInteractive',\n",
              "                                                     [key], {});\n",
              "          if (!dataTable) return;\n",
              "\n",
              "          const docLinkHtml = 'Like what you see? Visit the ' +\n",
              "            '<a target=\"_blank\" href=https://colab.research.google.com/notebooks/data_table.ipynb>data table notebook</a>'\n",
              "            + ' to learn more about interactive tables.';\n",
              "          element.innerHTML = '';\n",
              "          dataTable['output_type'] = 'display_data';\n",
              "          await google.colab.output.renderOutput(dataTable, element);\n",
              "          const docLink = document.createElement('div');\n",
              "          docLink.innerHTML = docLinkHtml;\n",
              "          element.appendChild(docLink);\n",
              "        }\n",
              "      </script>\n",
              "    </div>\n",
              "  </div>\n",
              "  "
            ],
            "text/plain": [
              "         id  Movie Name\n",
              "genre                  \n",
              "Comedy  521         521\n",
              "Drama   843         843"
            ]
          },
          "execution_count": 38,
          "metadata": {},
          "output_type": "execute_result"
        }
      ],
      "source": [
        "df_ = movie.groupby(\"genre\").count()\n",
        "df_[df_[\"id\"] > 500]"
      ]
    },
    {
      "cell_type": "code",
      "execution_count": null,
      "metadata": {
        "colab": {
          "base_uri": "https://localhost:8080/"
        },
        "id": "TrhR5-IlBPyQ",
        "outputId": "9af4d392-8c70-45c8-ad0d-99a92e701aa5"
      },
      "outputs": [
        {
          "data": {
            "text/plain": [
              "array([521, 843])"
            ]
          },
          "execution_count": 39,
          "metadata": {},
          "output_type": "execute_result"
        }
      ],
      "source": [
        "df_[df_[\"id\"] > 500][\"Movie Name\"].values"
      ]
    },
    {
      "cell_type": "code",
      "execution_count": null,
      "metadata": {
        "colab": {
          "base_uri": "https://localhost:8080/",
          "height": 467
        },
        "id": "t6QHkYWxCD7c",
        "outputId": "a0a1d47e-de8b-4b17-f530-4f71a46ddac6"
      },
      "outputs": [
        {
          "data": {
            "text/html": [
              "\n",
              "  <div id=\"df-420569db-e674-4600-9dff-07231268e06e\">\n",
              "    <div class=\"colab-df-container\">\n",
              "      <div>\n",
              "<style scoped>\n",
              "    .dataframe tbody tr th:only-of-type {\n",
              "        vertical-align: middle;\n",
              "    }\n",
              "\n",
              "    .dataframe tbody tr th {\n",
              "        vertical-align: top;\n",
              "    }\n",
              "\n",
              "    .dataframe thead th {\n",
              "        text-align: right;\n",
              "    }\n",
              "</style>\n",
              "<table border=\"1\" class=\"dataframe\">\n",
              "  <thead>\n",
              "    <tr style=\"text-align: right;\">\n",
              "      <th></th>\n",
              "      <th>id</th>\n",
              "      <th>Movie Name</th>\n",
              "      <th>genre</th>\n",
              "    </tr>\n",
              "  </thead>\n",
              "  <tbody>\n",
              "    <tr>\n",
              "      <th>0</th>\n",
              "      <td>1</td>\n",
              "      <td>Toy Story (1995)</td>\n",
              "      <td>Animation|Children's|Comedy</td>\n",
              "    </tr>\n",
              "    <tr>\n",
              "      <th>2</th>\n",
              "      <td>3</td>\n",
              "      <td>Grumpier Old Men (1995)</td>\n",
              "      <td>Comedy|Romance</td>\n",
              "    </tr>\n",
              "    <tr>\n",
              "      <th>3</th>\n",
              "      <td>4</td>\n",
              "      <td>Waiting to Exhale (1995)</td>\n",
              "      <td>Comedy|Drama</td>\n",
              "    </tr>\n",
              "    <tr>\n",
              "      <th>4</th>\n",
              "      <td>5</td>\n",
              "      <td>Father of the Bride Part II (1995)</td>\n",
              "      <td>Comedy</td>\n",
              "    </tr>\n",
              "    <tr>\n",
              "      <th>6</th>\n",
              "      <td>7</td>\n",
              "      <td>Sabrina (1995)</td>\n",
              "      <td>Comedy|Romance</td>\n",
              "    </tr>\n",
              "    <tr>\n",
              "      <th>...</th>\n",
              "      <td>...</td>\n",
              "      <td>...</td>\n",
              "      <td>...</td>\n",
              "    </tr>\n",
              "    <tr>\n",
              "      <th>3858</th>\n",
              "      <td>3928</td>\n",
              "      <td>Abbott and Costello Meet Frankenstein (1948)</td>\n",
              "      <td>Comedy|Horror</td>\n",
              "    </tr>\n",
              "    <tr>\n",
              "      <th>3859</th>\n",
              "      <td>3929</td>\n",
              "      <td>Bank Dick, The (1940)</td>\n",
              "      <td>Comedy</td>\n",
              "    </tr>\n",
              "    <tr>\n",
              "      <th>3873</th>\n",
              "      <td>3943</td>\n",
              "      <td>Bamboozled (2000)</td>\n",
              "      <td>Comedy</td>\n",
              "    </tr>\n",
              "    <tr>\n",
              "      <th>3874</th>\n",
              "      <td>3944</td>\n",
              "      <td>Bootmen (2000)</td>\n",
              "      <td>Comedy|Drama</td>\n",
              "    </tr>\n",
              "    <tr>\n",
              "      <th>3878</th>\n",
              "      <td>3948</td>\n",
              "      <td>Meet the Parents (2000)</td>\n",
              "      <td>Comedy</td>\n",
              "    </tr>\n",
              "  </tbody>\n",
              "</table>\n",
              "<p>1200 rows × 3 columns</p>\n",
              "</div>\n",
              "      <button class=\"colab-df-convert\" onclick=\"convertToInteractive('df-420569db-e674-4600-9dff-07231268e06e')\"\n",
              "              title=\"Convert this dataframe to an interactive table.\"\n",
              "              style=\"display:none;\">\n",
              "        \n",
              "  <svg xmlns=\"http://www.w3.org/2000/svg\" height=\"24px\"viewBox=\"0 0 24 24\"\n",
              "       width=\"24px\">\n",
              "    <path d=\"M0 0h24v24H0V0z\" fill=\"none\"/>\n",
              "    <path d=\"M18.56 5.44l.94 2.06.94-2.06 2.06-.94-2.06-.94-.94-2.06-.94 2.06-2.06.94zm-11 1L8.5 8.5l.94-2.06 2.06-.94-2.06-.94L8.5 2.5l-.94 2.06-2.06.94zm10 10l.94 2.06.94-2.06 2.06-.94-2.06-.94-.94-2.06-.94 2.06-2.06.94z\"/><path d=\"M17.41 7.96l-1.37-1.37c-.4-.4-.92-.59-1.43-.59-.52 0-1.04.2-1.43.59L10.3 9.45l-7.72 7.72c-.78.78-.78 2.05 0 2.83L4 21.41c.39.39.9.59 1.41.59.51 0 1.02-.2 1.41-.59l7.78-7.78 2.81-2.81c.8-.78.8-2.07 0-2.86zM5.41 20L4 18.59l7.72-7.72 1.47 1.35L5.41 20z\"/>\n",
              "  </svg>\n",
              "      </button>\n",
              "      \n",
              "  <style>\n",
              "    .colab-df-container {\n",
              "      display:flex;\n",
              "      flex-wrap:wrap;\n",
              "      gap: 12px;\n",
              "    }\n",
              "\n",
              "    .colab-df-convert {\n",
              "      background-color: #E8F0FE;\n",
              "      border: none;\n",
              "      border-radius: 50%;\n",
              "      cursor: pointer;\n",
              "      display: none;\n",
              "      fill: #1967D2;\n",
              "      height: 32px;\n",
              "      padding: 0 0 0 0;\n",
              "      width: 32px;\n",
              "    }\n",
              "\n",
              "    .colab-df-convert:hover {\n",
              "      background-color: #E2EBFA;\n",
              "      box-shadow: 0px 1px 2px rgba(60, 64, 67, 0.3), 0px 1px 3px 1px rgba(60, 64, 67, 0.15);\n",
              "      fill: #174EA6;\n",
              "    }\n",
              "\n",
              "    [theme=dark] .colab-df-convert {\n",
              "      background-color: #3B4455;\n",
              "      fill: #D2E3FC;\n",
              "    }\n",
              "\n",
              "    [theme=dark] .colab-df-convert:hover {\n",
              "      background-color: #434B5C;\n",
              "      box-shadow: 0px 1px 3px 1px rgba(0, 0, 0, 0.15);\n",
              "      filter: drop-shadow(0px 1px 2px rgba(0, 0, 0, 0.3));\n",
              "      fill: #FFFFFF;\n",
              "    }\n",
              "  </style>\n",
              "\n",
              "      <script>\n",
              "        const buttonEl =\n",
              "          document.querySelector('#df-420569db-e674-4600-9dff-07231268e06e button.colab-df-convert');\n",
              "        buttonEl.style.display =\n",
              "          google.colab.kernel.accessAllowed ? 'block' : 'none';\n",
              "\n",
              "        async function convertToInteractive(key) {\n",
              "          const element = document.querySelector('#df-420569db-e674-4600-9dff-07231268e06e');\n",
              "          const dataTable =\n",
              "            await google.colab.kernel.invokeFunction('convertToInteractive',\n",
              "                                                     [key], {});\n",
              "          if (!dataTable) return;\n",
              "\n",
              "          const docLinkHtml = 'Like what you see? Visit the ' +\n",
              "            '<a target=\"_blank\" href=https://colab.research.google.com/notebooks/data_table.ipynb>data table notebook</a>'\n",
              "            + ' to learn more about interactive tables.';\n",
              "          element.innerHTML = '';\n",
              "          dataTable['output_type'] = 'display_data';\n",
              "          await google.colab.output.renderOutput(dataTable, element);\n",
              "          const docLink = document.createElement('div');\n",
              "          docLink.innerHTML = docLinkHtml;\n",
              "          element.appendChild(docLink);\n",
              "        }\n",
              "      </script>\n",
              "    </div>\n",
              "  </div>\n",
              "  "
            ],
            "text/plain": [
              "        id                                    Movie Name  \\\n",
              "0        1                              Toy Story (1995)   \n",
              "2        3                       Grumpier Old Men (1995)   \n",
              "3        4                      Waiting to Exhale (1995)   \n",
              "4        5            Father of the Bride Part II (1995)   \n",
              "6        7                                Sabrina (1995)   \n",
              "...    ...                                           ...   \n",
              "3858  3928  Abbott and Costello Meet Frankenstein (1948)   \n",
              "3859  3929                         Bank Dick, The (1940)   \n",
              "3873  3943                             Bamboozled (2000)   \n",
              "3874  3944                                Bootmen (2000)   \n",
              "3878  3948                       Meet the Parents (2000)   \n",
              "\n",
              "                            genre  \n",
              "0     Animation|Children's|Comedy  \n",
              "2                  Comedy|Romance  \n",
              "3                    Comedy|Drama  \n",
              "4                          Comedy  \n",
              "6                  Comedy|Romance  \n",
              "...                           ...  \n",
              "3858                Comedy|Horror  \n",
              "3859                       Comedy  \n",
              "3873                       Comedy  \n",
              "3874                 Comedy|Drama  \n",
              "3878                       Comedy  \n",
              "\n",
              "[1200 rows x 3 columns]"
            ]
          },
          "execution_count": 40,
          "metadata": {},
          "output_type": "execute_result"
        }
      ],
      "source": [
        "movie.loc[[i for i in range(len(movie.index)) if \"Comedy\" in movie.loc[i,\"genre\"]]]"
      ]
    },
    {
      "cell_type": "code",
      "execution_count": null,
      "metadata": {
        "colab": {
          "base_uri": "https://localhost:8080/"
        },
        "id": "cb8TzPqsCxS3",
        "outputId": "8dc63dd4-0540-4acd-e5d8-c3a74adae0e9"
      },
      "outputs": [
        {
          "data": {
            "text/plain": [
              "[0,\n",
              " 2,\n",
              " 3,\n",
              " 4,\n",
              " 6,\n",
              " 10,\n",
              " 11,\n",
              " 18,\n",
              " 20,\n",
              " 33,\n",
              " 37,\n",
              " 38,\n",
              " 44,\n",
              " 51,\n",
              " 53,\n",
              " 62,\n",
              " 63,\n",
              " 64,\n",
              " 67,\n",
              " 68,\n",
              " 69,\n",
              " 71,\n",
              " 74,\n",
              " 83,\n",
              " 86,\n",
              " 87,\n",
              " 91,\n",
              " 94,\n",
              " 99,\n",
              " 100,\n",
              " 102,\n",
              " 104,\n",
              " 105,\n",
              " 107,\n",
              " 113,\n",
              " 116,\n",
              " 117,\n",
              " 120,\n",
              " 123,\n",
              " 127,\n",
              " 131,\n",
              " 133,\n",
              " 139,\n",
              " 142,\n",
              " 151,\n",
              " 154,\n",
              " 155,\n",
              " 164,\n",
              " 169,\n",
              " 172,\n",
              " 174,\n",
              " 176,\n",
              " 178,\n",
              " 184,\n",
              " 185,\n",
              " 187,\n",
              " 193,\n",
              " 201,\n",
              " 203,\n",
              " 210,\n",
              " 214,\n",
              " 216,\n",
              " 220,\n",
              " 221,\n",
              " 225,\n",
              " 228,\n",
              " 229,\n",
              " 231,\n",
              " 232,\n",
              " 233,\n",
              " 234,\n",
              " 236,\n",
              " 240,\n",
              " 245,\n",
              " 247,\n",
              " 249,\n",
              " 252,\n",
              " 253,\n",
              " 255,\n",
              " 264,\n",
              " 271,\n",
              " 272,\n",
              " 273,\n",
              " 275,\n",
              " 284,\n",
              " 286,\n",
              " 291,\n",
              " 292,\n",
              " 295,\n",
              " 301,\n",
              " 302,\n",
              " 307,\n",
              " 309,\n",
              " 314,\n",
              " 319,\n",
              " 320,\n",
              " 321,\n",
              " 323,\n",
              " 326,\n",
              " 329,\n",
              " 335,\n",
              " 338,\n",
              " 340,\n",
              " 341,\n",
              " 344,\n",
              " 347,\n",
              " 348,\n",
              " 351,\n",
              " 352,\n",
              " 353,\n",
              " 355,\n",
              " 356,\n",
              " 363,\n",
              " 364,\n",
              " 366,\n",
              " 367,\n",
              " 368,\n",
              " 370,\n",
              " 374,\n",
              " 376,\n",
              " 383,\n",
              " 386,\n",
              " 398,\n",
              " 399,\n",
              " 406,\n",
              " 407,\n",
              " 409,\n",
              " 410,\n",
              " 411,\n",
              " 413,\n",
              " 415,\n",
              " 416,\n",
              " 425,\n",
              " 428,\n",
              " 429,\n",
              " 431,\n",
              " 433,\n",
              " 434,\n",
              " 436,\n",
              " 437,\n",
              " 440,\n",
              " 441,\n",
              " 443,\n",
              " 445,\n",
              " 446,\n",
              " 449,\n",
              " 456,\n",
              " 462,\n",
              " 463,\n",
              " 464,\n",
              " 466,\n",
              " 467,\n",
              " 468,\n",
              " 469,\n",
              " 472,\n",
              " 474,\n",
              " 481,\n",
              " 482,\n",
              " 483,\n",
              " 485,\n",
              " 488,\n",
              " 492,\n",
              " 493,\n",
              " 495,\n",
              " 496,\n",
              " 501,\n",
              " 509,\n",
              " 510,\n",
              " 512,\n",
              " 514,\n",
              " 516,\n",
              " 528,\n",
              " 533,\n",
              " 535,\n",
              " 538,\n",
              " 539,\n",
              " 546,\n",
              " 547,\n",
              " 548,\n",
              " 555,\n",
              " 558,\n",
              " 560,\n",
              " 562,\n",
              " 564,\n",
              " 565,\n",
              " 566,\n",
              " 570,\n",
              " 571,\n",
              " 572,\n",
              " 578,\n",
              " 579,\n",
              " 581,\n",
              " 582,\n",
              " 583,\n",
              " 584,\n",
              " 593,\n",
              " 594,\n",
              " 599,\n",
              " 608,\n",
              " 614,\n",
              " 615,\n",
              " 621,\n",
              " 628,\n",
              " 629,\n",
              " 630,\n",
              " 632,\n",
              " 634,\n",
              " 636,\n",
              " 638,\n",
              " 639,\n",
              " 643,\n",
              " 645,\n",
              " 649,\n",
              " 650,\n",
              " 651,\n",
              " 657,\n",
              " 658,\n",
              " 665,\n",
              " 667,\n",
              " 680,\n",
              " 682,\n",
              " 691,\n",
              " 696,\n",
              " 699,\n",
              " 701,\n",
              " 708,\n",
              " 709,\n",
              " 710,\n",
              " 716,\n",
              " 719,\n",
              " 725,\n",
              " 726,\n",
              " 730,\n",
              " 733,\n",
              " 735,\n",
              " 737,\n",
              " 741,\n",
              " 742,\n",
              " 743,\n",
              " 752,\n",
              " 755,\n",
              " 761,\n",
              " 762,\n",
              " 766,\n",
              " 774,\n",
              " 775,\n",
              " 778,\n",
              " 784,\n",
              " 787,\n",
              " 789,\n",
              " 791,\n",
              " 794,\n",
              " 797,\n",
              " 800,\n",
              " 801,\n",
              " 803,\n",
              " 807,\n",
              " 808,\n",
              " 814,\n",
              " 818,\n",
              " 819,\n",
              " 822,\n",
              " 823,\n",
              " 826,\n",
              " 827,\n",
              " 829,\n",
              " 836,\n",
              " 841,\n",
              " 845,\n",
              " 849,\n",
              " 852,\n",
              " 853,\n",
              " 856,\n",
              " 857,\n",
              " 859,\n",
              " 860,\n",
              " 870,\n",
              " 880,\n",
              " 886,\n",
              " 889,\n",
              " 893,\n",
              " 895,\n",
              " 897,\n",
              " 898,\n",
              " 899,\n",
              " 903,\n",
              " 904,\n",
              " 909,\n",
              " 915,\n",
              " 921,\n",
              " 922,\n",
              " 923,\n",
              " 924,\n",
              " 925,\n",
              " 927,\n",
              " 933,\n",
              " 934,\n",
              " 935,\n",
              " 939,\n",
              " 940,\n",
              " 943,\n",
              " 946,\n",
              " 958,\n",
              " 963,\n",
              " 972,\n",
              " 976,\n",
              " 988,\n",
              " 989,\n",
              " 992,\n",
              " 994,\n",
              " 997,\n",
              " 998,\n",
              " 1001,\n",
              " 1003,\n",
              " 1005,\n",
              " 1007,\n",
              " 1008,\n",
              " 1015,\n",
              " 1029,\n",
              " 1032,\n",
              " 1043,\n",
              " 1046,\n",
              " 1050,\n",
              " 1052,\n",
              " 1053,\n",
              " 1058,\n",
              " 1059,\n",
              " 1061,\n",
              " 1062,\n",
              " 1063,\n",
              " 1064,\n",
              " 1065,\n",
              " 1067,\n",
              " 1075,\n",
              " 1082,\n",
              " 1091,\n",
              " 1097,\n",
              " 1099,\n",
              " 1109,\n",
              " 1110,\n",
              " 1117,\n",
              " 1119,\n",
              " 1120,\n",
              " 1127,\n",
              " 1130,\n",
              " 1132,\n",
              " 1135,\n",
              " 1142,\n",
              " 1144,\n",
              " 1146,\n",
              " 1150,\n",
              " 1151,\n",
              " 1155,\n",
              " 1156,\n",
              " 1158,\n",
              " 1159,\n",
              " 1164,\n",
              " 1167,\n",
              " 1171,\n",
              " 1177,\n",
              " 1179,\n",
              " 1184,\n",
              " 1193,\n",
              " 1197,\n",
              " 1202,\n",
              " 1205,\n",
              " 1208,\n",
              " 1211,\n",
              " 1215,\n",
              " 1216,\n",
              " 1217,\n",
              " 1219,\n",
              " 1221,\n",
              " 1223,\n",
              " 1224,\n",
              " 1235,\n",
              " 1236,\n",
              " 1237,\n",
              " 1239,\n",
              " 1241,\n",
              " 1245,\n",
              " 1249,\n",
              " 1250,\n",
              " 1253,\n",
              " 1256,\n",
              " 1258,\n",
              " 1259,\n",
              " 1261,\n",
              " 1265,\n",
              " 1268,\n",
              " 1272,\n",
              " 1274,\n",
              " 1277,\n",
              " 1284,\n",
              " 1287,\n",
              " 1288,\n",
              " 1291,\n",
              " 1297,\n",
              " 1298,\n",
              " 1310,\n",
              " 1332,\n",
              " 1338,\n",
              " 1346,\n",
              " 1356,\n",
              " 1357,\n",
              " 1358,\n",
              " 1359,\n",
              " 1360,\n",
              " 1369,\n",
              " 1370,\n",
              " 1371,\n",
              " 1373,\n",
              " 1374,\n",
              " 1382,\n",
              " 1386,\n",
              " 1387,\n",
              " 1391,\n",
              " 1401,\n",
              " 1407,\n",
              " 1409,\n",
              " 1411,\n",
              " 1414,\n",
              " 1415,\n",
              " 1416,\n",
              " 1419,\n",
              " 1420,\n",
              " 1421,\n",
              " 1424,\n",
              " 1426,\n",
              " 1427,\n",
              " 1428,\n",
              " 1429,\n",
              " 1430,\n",
              " 1433,\n",
              " 1434,\n",
              " 1436,\n",
              " 1440,\n",
              " 1441,\n",
              " 1445,\n",
              " 1446,\n",
              " 1448,\n",
              " 1452,\n",
              " 1455,\n",
              " 1460,\n",
              " 1462,\n",
              " 1468,\n",
              " 1471,\n",
              " 1477,\n",
              " 1478,\n",
              " 1481,\n",
              " 1482,\n",
              " 1490,\n",
              " 1492,\n",
              " 1495,\n",
              " 1499,\n",
              " 1501,\n",
              " 1502,\n",
              " 1503,\n",
              " 1507,\n",
              " 1511,\n",
              " 1514,\n",
              " 1519,\n",
              " 1521,\n",
              " 1524,\n",
              " 1525,\n",
              " 1526,\n",
              " 1529,\n",
              " 1531,\n",
              " 1539,\n",
              " 1540,\n",
              " 1544,\n",
              " 1547,\n",
              " 1551,\n",
              " 1552,\n",
              " 1561,\n",
              " 1563,\n",
              " 1570,\n",
              " 1572,\n",
              " 1579,\n",
              " 1586,\n",
              " 1587,\n",
              " 1589,\n",
              " 1594,\n",
              " 1595,\n",
              " 1596,\n",
              " 1600,\n",
              " 1602,\n",
              " 1617,\n",
              " 1619,\n",
              " 1631,\n",
              " 1633,\n",
              " 1643,\n",
              " 1651,\n",
              " 1653,\n",
              " 1654,\n",
              " 1655,\n",
              " 1659,\n",
              " 1663,\n",
              " 1664,\n",
              " 1674,\n",
              " 1682,\n",
              " 1683,\n",
              " 1685,\n",
              " 1687,\n",
              " 1694,\n",
              " 1695,\n",
              " 1700,\n",
              " 1707,\n",
              " 1709,\n",
              " 1716,\n",
              " 1718,\n",
              " 1720,\n",
              " 1724,\n",
              " 1726,\n",
              " 1733,\n",
              " 1734,\n",
              " 1743,\n",
              " 1745,\n",
              " 1748,\n",
              " 1751,\n",
              " 1752,\n",
              " 1755,\n",
              " 1756,\n",
              " 1757,\n",
              " 1760,\n",
              " 1762,\n",
              " 1769,\n",
              " 1770,\n",
              " 1774,\n",
              " 1776,\n",
              " 1779,\n",
              " 1784,\n",
              " 1785,\n",
              " 1786,\n",
              " 1788,\n",
              " 1789,\n",
              " 1792,\n",
              " 1794,\n",
              " 1795,\n",
              " 1797,\n",
              " 1801,\n",
              " 1802,\n",
              " 1805,\n",
              " 1806,\n",
              " 1809,\n",
              " 1814,\n",
              " 1815,\n",
              " 1816,\n",
              " 1817,\n",
              " 1818,\n",
              " 1819,\n",
              " 1825,\n",
              " 1826,\n",
              " 1827,\n",
              " 1834,\n",
              " 1835,\n",
              " 1837,\n",
              " 1841,\n",
              " 1842,\n",
              " 1845,\n",
              " 1847,\n",
              " 1849,\n",
              " 1850,\n",
              " 1854,\n",
              " 1865,\n",
              " 1868,\n",
              " 1879,\n",
              " 1889,\n",
              " 1894,\n",
              " 1896,\n",
              " 1897,\n",
              " 1899,\n",
              " 1931,\n",
              " 1932,\n",
              " 1933,\n",
              " 1934,\n",
              " 1935,\n",
              " 1938,\n",
              " 1942,\n",
              " 1943,\n",
              " 1945,\n",
              " 1946,\n",
              " 1947,\n",
              " 1958,\n",
              " 1960,\n",
              " 1962,\n",
              " 1963,\n",
              " 1966,\n",
              " 1967,\n",
              " 1968,\n",
              " 1969,\n",
              " 1971,\n",
              " 1972,\n",
              " 1973,\n",
              " 1975,\n",
              " 1980,\n",
              " 1981,\n",
              " 1982,\n",
              " 1983,\n",
              " 1984,\n",
              " 1985,\n",
              " 1986,\n",
              " 1991,\n",
              " 1995,\n",
              " 1996,\n",
              " 2003,\n",
              " 2004,\n",
              " 2009,\n",
              " 2011,\n",
              " 2012,\n",
              " 2013,\n",
              " 2019,\n",
              " 2026,\n",
              " 2029,\n",
              " 2031,\n",
              " 2033,\n",
              " 2039,\n",
              " 2040,\n",
              " 2041,\n",
              " 2042,\n",
              " 2055,\n",
              " 2059,\n",
              " 2064,\n",
              " 2065,\n",
              " 2067,\n",
              " 2072,\n",
              " 2073,\n",
              " 2075,\n",
              " 2076,\n",
              " 2079,\n",
              " 2080,\n",
              " 2081,\n",
              " 2082,\n",
              " 2083,\n",
              " 2086,\n",
              " 2087,\n",
              " 2094,\n",
              " 2100,\n",
              " 2101,\n",
              " 2102,\n",
              " 2103,\n",
              " 2105,\n",
              " 2108,\n",
              " 2122,\n",
              " 2126,\n",
              " 2136,\n",
              " 2139,\n",
              " 2144,\n",
              " 2146,\n",
              " 2148,\n",
              " 2153,\n",
              " 2154,\n",
              " 2161,\n",
              " 2169,\n",
              " 2170,\n",
              " 2172,\n",
              " 2174,\n",
              " 2175,\n",
              " 2176,\n",
              " 2177,\n",
              " 2178,\n",
              " 2179,\n",
              " 2180,\n",
              " 2182,\n",
              " 2183,\n",
              " 2184,\n",
              " 2186,\n",
              " 2188,\n",
              " 2190,\n",
              " 2192,\n",
              " 2193,\n",
              " 2196,\n",
              " 2197,\n",
              " 2213,\n",
              " 2217,\n",
              " 2220,\n",
              " 2221,\n",
              " 2226,\n",
              " 2227,\n",
              " 2230,\n",
              " 2231,\n",
              " 2232,\n",
              " 2233,\n",
              " 2237,\n",
              " 2248,\n",
              " 2249,\n",
              " 2250,\n",
              " 2252,\n",
              " 2255,\n",
              " 2256,\n",
              " 2262,\n",
              " 2266,\n",
              " 2270,\n",
              " 2273,\n",
              " 2280,\n",
              " 2281,\n",
              " 2283,\n",
              " 2285,\n",
              " 2286,\n",
              " 2287,\n",
              " 2290,\n",
              " 2292,\n",
              " 2300,\n",
              " 2302,\n",
              " 2303,\n",
              " 2305,\n",
              " 2306,\n",
              " 2309,\n",
              " 2310,\n",
              " 2311,\n",
              " 2312,\n",
              " 2313,\n",
              " 2314,\n",
              " 2315,\n",
              " 2316,\n",
              " 2318,\n",
              " 2321,\n",
              " 2323,\n",
              " 2326,\n",
              " 2327,\n",
              " 2336,\n",
              " 2337,\n",
              " 2338,\n",
              " 2339,\n",
              " 2344,\n",
              " 2347,\n",
              " 2348,\n",
              " 2349,\n",
              " 2354,\n",
              " 2355,\n",
              " 2357,\n",
              " 2362,\n",
              " 2367,\n",
              " 2375,\n",
              " 2378,\n",
              " 2388,\n",
              " 2389,\n",
              " 2394,\n",
              " 2399,\n",
              " 2400,\n",
              " 2401,\n",
              " 2402,\n",
              " 2403,\n",
              " 2404,\n",
              " 2409,\n",
              " 2413,\n",
              " 2414,\n",
              " 2415,\n",
              " 2416,\n",
              " 2418,\n",
              " 2422,\n",
              " 2423,\n",
              " 2427,\n",
              " 2429,\n",
              " 2430,\n",
              " 2431,\n",
              " 2433,\n",
              " 2435,\n",
              " 2437,\n",
              " 2438,\n",
              " 2440,\n",
              " 2441,\n",
              " 2449,\n",
              " 2470,\n",
              " 2473,\n",
              " 2474,\n",
              " 2476,\n",
              " 2483,\n",
              " 2486,\n",
              " 2487,\n",
              " 2489,\n",
              " 2498,\n",
              " 2503,\n",
              " 2505,\n",
              " 2508,\n",
              " 2512,\n",
              " 2513,\n",
              " 2515,\n",
              " 2517,\n",
              " 2518,\n",
              " 2520,\n",
              " 2522,\n",
              " 2524,\n",
              " 2527,\n",
              " 2528,\n",
              " 2529,\n",
              " 2530,\n",
              " 2532,\n",
              " 2537,\n",
              " 2549,\n",
              " 2553,\n",
              " 2554,\n",
              " 2557,\n",
              " 2560,\n",
              " 2562,\n",
              " 2588,\n",
              " 2590,\n",
              " 2602,\n",
              " 2606,\n",
              " 2612,\n",
              " 2614,\n",
              " 2615,\n",
              " 2616,\n",
              " 2621,\n",
              " 2625,\n",
              " 2627,\n",
              " 2628,\n",
              " 2630,\n",
              " 2631,\n",
              " 2637,\n",
              " 2640,\n",
              " 2646,\n",
              " 2647,\n",
              " 2648,\n",
              " 2649,\n",
              " 2651,\n",
              " 2654,\n",
              " 2655,\n",
              " 2664,\n",
              " 2666,\n",
              " 2667,\n",
              " 2669,\n",
              " 2673,\n",
              " 2677,\n",
              " 2678,\n",
              " 2681,\n",
              " 2682,\n",
              " 2683,\n",
              " 2690,\n",
              " 2696,\n",
              " 2697,\n",
              " 2698,\n",
              " 2699,\n",
              " 2701,\n",
              " 2703,\n",
              " 2705,\n",
              " 2710,\n",
              " 2711,\n",
              " 2717,\n",
              " 2719,\n",
              " 2722,\n",
              " 2723,\n",
              " 2724,\n",
              " 2725,\n",
              " 2726,\n",
              " 2727,\n",
              " 2728,\n",
              " 2729,\n",
              " 2730,\n",
              " 2735,\n",
              " 2736,\n",
              " 2737,\n",
              " 2740,\n",
              " 2742,\n",
              " 2759,\n",
              " 2760,\n",
              " 2765,\n",
              " 2767,\n",
              " 2768,\n",
              " 2769,\n",
              " 2774,\n",
              " 2780,\n",
              " 2789,\n",
              " 2791,\n",
              " 2792,\n",
              " 2794,\n",
              " 2795,\n",
              " 2796,\n",
              " 2798,\n",
              " 2801,\n",
              " 2805,\n",
              " 2810,\n",
              " 2811,\n",
              " 2814,\n",
              " 2815,\n",
              " 2817,\n",
              " 2819,\n",
              " 2820,\n",
              " 2822,\n",
              " 2828,\n",
              " 2838,\n",
              " 2844,\n",
              " 2845,\n",
              " 2846,\n",
              " 2849,\n",
              " 2854,\n",
              " 2855,\n",
              " 2857,\n",
              " 2866,\n",
              " 2867,\n",
              " 2868,\n",
              " 2877,\n",
              " 2884,\n",
              " 2892,\n",
              " 2893,\n",
              " 2904,\n",
              " 2908,\n",
              " 2909,\n",
              " 2928,\n",
              " 2930,\n",
              " 2934,\n",
              " 2935,\n",
              " 2943,\n",
              " 2944,\n",
              " 2945,\n",
              " 2953,\n",
              " 2954,\n",
              " 2959,\n",
              " 2961,\n",
              " 2962,\n",
              " 2964,\n",
              " 2966,\n",
              " 2968,\n",
              " 2970,\n",
              " 2971,\n",
              " 2972,\n",
              " 2973,\n",
              " 2974,\n",
              " 2976,\n",
              " 2977,\n",
              " 2979,\n",
              " 2980,\n",
              " 2983,\n",
              " 2988,\n",
              " 2991,\n",
              " 2992,\n",
              " 2998,\n",
              " 3001,\n",
              " 3003,\n",
              " 3007,\n",
              " 3014,\n",
              " 3017,\n",
              " 3018,\n",
              " 3019,\n",
              " 3027,\n",
              " 3028,\n",
              " 3030,\n",
              " 3035,\n",
              " 3039,\n",
              " 3045,\n",
              " 3051,\n",
              " 3054,\n",
              " 3055,\n",
              " 3060,\n",
              " 3061,\n",
              " 3062,\n",
              " 3063,\n",
              " 3064,\n",
              " 3071,\n",
              " 3075,\n",
              " 3077,\n",
              " 3087,\n",
              " 3088,\n",
              " 3093,\n",
              " 3105,\n",
              " 3106,\n",
              " 3108,\n",
              " 3111,\n",
              " 3115,\n",
              " 3120,\n",
              " 3130,\n",
              " 3131,\n",
              " 3139,\n",
              " 3141,\n",
              " 3156,\n",
              " 3158,\n",
              " 3159,\n",
              " 3162,\n",
              " 3163,\n",
              " 3164,\n",
              " 3165,\n",
              " 3166,\n",
              " 3170,\n",
              " 3171,\n",
              " 3172,\n",
              " 3173,\n",
              " 3174,\n",
              " 3175,\n",
              " 3178,\n",
              " 3179,\n",
              " 3184,\n",
              " 3185,\n",
              " 3186,\n",
              " 3189,\n",
              " 3192,\n",
              " 3194,\n",
              " 3195,\n",
              " 3197,\n",
              " 3199,\n",
              " 3206,\n",
              " 3207,\n",
              " 3213,\n",
              " 3215,\n",
              " 3217,\n",
              " 3221,\n",
              " 3230,\n",
              " 3232,\n",
              " 3233,\n",
              " 3237,\n",
              " 3238,\n",
              " ...]"
            ]
          },
          "execution_count": 41,
          "metadata": {},
          "output_type": "execute_result"
        }
      ],
      "source": [
        "[i for i in range(len(movie.index)) if \"Comedy\" in movie.loc[i,\"genre\"]]"
      ]
    },
    {
      "cell_type": "code",
      "execution_count": null,
      "metadata": {
        "colab": {
          "base_uri": "https://localhost:8080/",
          "height": 35
        },
        "id": "6YRxY7UNDHBM",
        "outputId": "86fa8d60-d3ba-4bf7-e610-f747e64d2f15"
      },
      "outputs": [
        {
          "data": {
            "application/vnd.google.colaboratory.intrinsic+json": {
              "type": "string"
            },
            "text/plain": [
              "'/content'"
            ]
          },
          "execution_count": 84,
          "metadata": {},
          "output_type": "execute_result"
        }
      ],
      "source": [
        "pwd"
      ]
    },
    {
      "cell_type": "code",
      "execution_count": null,
      "metadata": {
        "colab": {
          "base_uri": "https://localhost:8080/"
        },
        "id": "I5Gi0Za9wUG9",
        "outputId": "acf5e13c-92a9-4dfa-d7f0-6314e179be8a"
      },
      "outputs": [
        {
          "output_type": "stream",
          "name": "stdout",
          "text": [
            "--2022-05-02 17:30:39--  https://raw.githubusercontent.com/fedhere/PyBOOT/master/exercises/pywordle.py\n",
            "Resolving raw.githubusercontent.com (raw.githubusercontent.com)... 185.199.108.133, 185.199.109.133, 185.199.110.133, ...\n",
            "Connecting to raw.githubusercontent.com (raw.githubusercontent.com)|185.199.108.133|:443... connected.\n",
            "HTTP request sent, awaiting response... 200 OK\n",
            "Length: 1298 (1.3K) [text/plain]\n",
            "Saving to: ‘pywordle.py.1’\n",
            "\n",
            "\rpywordle.py.1         0%[                    ]       0  --.-KB/s               \rpywordle.py.1       100%[===================>]   1.27K  --.-KB/s    in 0s      \n",
            "\n",
            "2022-05-02 17:30:39 (9.49 MB/s) - ‘pywordle.py.1’ saved [1298/1298]\n",
            "\n",
            "--2022-05-02 17:30:40--  https://raw.githubusercontent.com/fedhere/PyBOOT/master/exercises/wordle.py\n",
            "Resolving raw.githubusercontent.com (raw.githubusercontent.com)... 185.199.108.133, 185.199.109.133, 185.199.110.133, ...\n",
            "Connecting to raw.githubusercontent.com (raw.githubusercontent.com)|185.199.108.133|:443... connected.\n",
            "HTTP request sent, awaiting response... 200 OK\n",
            "Length: 15 [text/plain]\n",
            "Saving to: ‘wordle.py.4’\n",
            "\n",
            "wordle.py.4         100%[===================>]      15  --.-KB/s    in 0s      \n",
            "\n",
            "2022-05-02 17:30:40 (726 KB/s) - ‘wordle.py.4’ saved [15/15]\n",
            "\n"
          ]
        }
      ],
      "source": [
        "!wget https://raw.githubusercontent.com/fedhere/PyBOOT/master/exercises/pywordle.py\n",
        "!wget https://raw.githubusercontent.com/fedhere/PyBOOT/master/exercises/wordle.py"
      ]
    },
    {
      "cell_type": "code",
      "execution_count": null,
      "metadata": {
        "colab": {
          "base_uri": "https://localhost:8080/"
        },
        "id": "aRsCjj9Xx2KA",
        "outputId": "1e12a7aa-ce6e-44d6-96e6-8a9062c9f459"
      },
      "outputs": [
        {
          "output_type": "stream",
          "name": "stdout",
          "text": [
            "--2022-05-02 17:29:35--  https://raw.githubusercontent.com/fedhere/PyBOOT/master/exercises/wordle.py\n",
            "Resolving raw.githubusercontent.com (raw.githubusercontent.com)... 185.199.108.133, 185.199.109.133, 185.199.110.133, ...\n",
            "Connecting to raw.githubusercontent.com (raw.githubusercontent.com)|185.199.108.133|:443... connected.\n",
            "HTTP request sent, awaiting response... 200 OK\n",
            "Length: 15 [text/plain]\n",
            "Saving to: ‘wordle.py.3’\n",
            "\n",
            "\rwordle.py.3           0%[                    ]       0  --.-KB/s               \rwordle.py.3         100%[===================>]      15  --.-KB/s    in 0s      \n",
            "\n",
            "2022-05-02 17:29:35 (570 KB/s) - ‘wordle.py.3’ saved [15/15]\n",
            "\n"
          ]
        }
      ],
      "source": [
        ""
      ]
    },
    {
      "cell_type": "code",
      "execution_count": null,
      "metadata": {
        "colab": {
          "base_uri": "https://localhost:8080/"
        },
        "id": "XM938rwOx65e",
        "outputId": "4c6a5add-a69d-410f-e03c-7e413a926df5"
      },
      "outputs": [
        {
          "output_type": "execute_result",
          "data": {
            "text/plain": [
              "<module 'pywordle' from '/content/pywordle.py'>"
            ]
          },
          "metadata": {},
          "execution_count": 90
        }
      ],
      "source": [
        "import pywordle as wdl\n",
        "#import importlib\n",
        "#importlib.reload(wdl)"
      ]
    },
    {
      "cell_type": "code",
      "execution_count": null,
      "metadata": {
        "id": "2VuBXJgKx9iH"
      },
      "outputs": [],
      "source": [
        "wdl?"
      ]
    },
    {
      "cell_type": "code",
      "execution_count": null,
      "metadata": {
        "id": "V87_LAAgx-vD"
      },
      "outputs": [],
      "source": [
        "wdl.comparestrings?"
      ]
    }
  ],
  "metadata": {
    "colab": {
      "name": "April2022NB.ipynb",
      "provenance": [],
      "mount_file_id": "1xDPHvmXyDsDWhOynZDzTytDdk1SIQHw3",
      "authorship_tag": "ABX9TyOH+ZwaVqjqVUAt3cJwjrmg",
      "include_colab_link": true
    },
    "kernelspec": {
      "display_name": "Python 3",
      "name": "python3"
    },
    "language_info": {
      "name": "python"
    }
  },
  "nbformat": 4,
  "nbformat_minor": 0
}